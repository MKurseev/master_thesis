{
 "cells": [
  {
   "cell_type": "code",
   "execution_count": 1,
   "metadata": {},
   "outputs": [],
   "source": [
    "import glob\n",
    "import os\n",
    "import pandas as pd\n",
    "\n",
    "from bs4 import BeautifulSoup"
   ]
  },
  {
   "cell_type": "code",
   "execution_count": 2,
   "metadata": {},
   "outputs": [],
   "source": [
    "def cut_question(q):\n",
    "    \"\"\"\n",
    "    Удаляет ответы из вопроса\n",
    "    \"\"\"\n",
    "    if '\\n' in q:\n",
    "        end = q.find('\\n')\n",
    "        return q[:end]\n",
    "    else:\n",
    "        for symb in ['[F.]','[T.]','[F]','[T]','(False)','(True)', '(True0']:\n",
    "            if q.find(symb) != -1:\n",
    "                end = q.find(symb) \n",
    "                return q[:end]"
   ]
  },
  {
   "cell_type": "code",
   "execution_count": 8,
   "metadata": {
    "scrolled": false
   },
   "outputs": [],
   "source": [
    "survey_fcasts = pd.DataFrame()\n",
    "\n",
    "file_type = 'csv'\n",
    "seperator =','\n",
    "\n",
    "for f in glob.glob(\"*.\" + file_type):\n",
    "    data = pd.read_csv(f, sep=seperator, low_memory=False, encoding='ISO-8859-1')\n",
    "    survey_fcasts = pd.concat([survey_fcasts, data])\n",
    "    \n",
    "\n",
    "ifps = pd.read_csv('ifps.csv', sep=seperator, encoding='ISO-8859-1')"
   ]
  },
  {
   "cell_type": "code",
   "execution_count": 9,
   "metadata": {},
   "outputs": [
    {
     "data": {
      "text/plain": [
       "(3144077, 28)"
      ]
     },
     "execution_count": 9,
     "metadata": {},
     "output_type": "execute_result"
    }
   ],
   "source": [
    "survey_fcasts.shape"
   ]
  },
  {
   "cell_type": "code",
   "execution_count": 10,
   "metadata": {},
   "outputs": [
    {
     "data": {
      "text/html": [
       "<div>\n",
       "<style scoped>\n",
       "    .dataframe tbody tr th:only-of-type {\n",
       "        vertical-align: middle;\n",
       "    }\n",
       "\n",
       "    .dataframe tbody tr th {\n",
       "        vertical-align: top;\n",
       "    }\n",
       "\n",
       "    .dataframe thead th {\n",
       "        text-align: right;\n",
       "    }\n",
       "</style>\n",
       "<table border=\"1\" class=\"dataframe\">\n",
       "  <thead>\n",
       "    <tr style=\"text-align: right;\">\n",
       "      <th></th>\n",
       "      <th>ifp_id</th>\n",
       "      <th>q_type</th>\n",
       "      <th>q_text</th>\n",
       "      <th>q_desc</th>\n",
       "      <th>q_status</th>\n",
       "      <th>date_start</th>\n",
       "      <th>date_suspend</th>\n",
       "      <th>date_to_close</th>\n",
       "      <th>date_closed</th>\n",
       "      <th>outcome</th>\n",
       "      <th>...</th>\n",
       "      <th>user_id</th>\n",
       "      <th>forecast_id</th>\n",
       "      <th>fcast_type</th>\n",
       "      <th>answer_option</th>\n",
       "      <th>value</th>\n",
       "      <th>fcast_date</th>\n",
       "      <th>expertise</th>\n",
       "      <th>viewtime</th>\n",
       "      <th>year</th>\n",
       "      <th>timestamp</th>\n",
       "    </tr>\n",
       "  </thead>\n",
       "  <tbody>\n",
       "    <tr>\n",
       "      <th>0</th>\n",
       "      <td>1001-0</td>\n",
       "      <td>0.0</td>\n",
       "      <td>Will the Six-Party talks (among the US, North ...</td>\n",
       "      <td>'In' refers to any time during the remainder o...</td>\n",
       "      <td>closed</td>\n",
       "      <td>9/1/11</td>\n",
       "      <td>12/30/11 0:00</td>\n",
       "      <td>12/31/11</td>\n",
       "      <td>1/2/12</td>\n",
       "      <td>b</td>\n",
       "      <td>...</td>\n",
       "      <td>NaN</td>\n",
       "      <td>NaN</td>\n",
       "      <td>NaN</td>\n",
       "      <td>NaN</td>\n",
       "      <td>NaN</td>\n",
       "      <td>NaN</td>\n",
       "      <td>NaN</td>\n",
       "      <td>NaN</td>\n",
       "      <td>NaN</td>\n",
       "      <td>NaN</td>\n",
       "    </tr>\n",
       "    <tr>\n",
       "      <th>1</th>\n",
       "      <td>1002-0</td>\n",
       "      <td>0.0</td>\n",
       "      <td>Who will be inaugurated as President of Russia...</td>\n",
       "      <td>'In' refers to any time during the 2012 calend...</td>\n",
       "      <td>closed</td>\n",
       "      <td>9/1/11</td>\n",
       "      <td>5/14/12 0:00</td>\n",
       "      <td>5/15/12</td>\n",
       "      <td>5/6/12</td>\n",
       "      <td>b</td>\n",
       "      <td>...</td>\n",
       "      <td>NaN</td>\n",
       "      <td>NaN</td>\n",
       "      <td>NaN</td>\n",
       "      <td>NaN</td>\n",
       "      <td>NaN</td>\n",
       "      <td>NaN</td>\n",
       "      <td>NaN</td>\n",
       "      <td>NaN</td>\n",
       "      <td>NaN</td>\n",
       "      <td>NaN</td>\n",
       "    </tr>\n",
       "  </tbody>\n",
       "</table>\n",
       "<p>2 rows × 28 columns</p>\n",
       "</div>"
      ],
      "text/plain": [
       "   ifp_id  q_type                                             q_text  \\\n",
       "0  1001-0     0.0  Will the Six-Party talks (among the US, North ...   \n",
       "1  1002-0     0.0  Who will be inaugurated as President of Russia...   \n",
       "\n",
       "                                              q_desc q_status date_start  \\\n",
       "0  'In' refers to any time during the remainder o...   closed     9/1/11   \n",
       "1  'In' refers to any time during the 2012 calend...   closed     9/1/11   \n",
       "\n",
       "    date_suspend date_to_close date_closed outcome  ... user_id  forecast_id  \\\n",
       "0  12/30/11 0:00      12/31/11      1/2/12       b  ...     NaN          NaN   \n",
       "1   5/14/12 0:00       5/15/12      5/6/12       b  ...     NaN          NaN   \n",
       "\n",
       "   fcast_type answer_option value  fcast_date expertise  viewtime  year  \\\n",
       "0         NaN           NaN   NaN         NaN       NaN       NaN   NaN   \n",
       "1         NaN           NaN   NaN         NaN       NaN       NaN   NaN   \n",
       "\n",
       "   timestamp  \n",
       "0        NaN  \n",
       "1        NaN  \n",
       "\n",
       "[2 rows x 28 columns]"
      ]
     },
     "execution_count": 10,
     "metadata": {},
     "output_type": "execute_result"
    }
   ],
   "source": [
    "survey_fcasts.head(2)"
   ]
  },
  {
   "cell_type": "code",
   "execution_count": 11,
   "metadata": {},
   "outputs": [
    {
     "data": {
      "text/plain": [
       "(617, 14)"
      ]
     },
     "execution_count": 11,
     "metadata": {},
     "output_type": "execute_result"
    }
   ],
   "source": [
    "ifps.shape"
   ]
  },
  {
   "cell_type": "code",
   "execution_count": 12,
   "metadata": {},
   "outputs": [
    {
     "data": {
      "text/html": [
       "<div>\n",
       "<style scoped>\n",
       "    .dataframe tbody tr th:only-of-type {\n",
       "        vertical-align: middle;\n",
       "    }\n",
       "\n",
       "    .dataframe tbody tr th {\n",
       "        vertical-align: top;\n",
       "    }\n",
       "\n",
       "    .dataframe thead th {\n",
       "        text-align: right;\n",
       "    }\n",
       "</style>\n",
       "<table border=\"1\" class=\"dataframe\">\n",
       "  <thead>\n",
       "    <tr style=\"text-align: right;\">\n",
       "      <th></th>\n",
       "      <th>ifp_id</th>\n",
       "      <th>q_type</th>\n",
       "      <th>q_text</th>\n",
       "      <th>q_desc</th>\n",
       "      <th>q_status</th>\n",
       "      <th>date_start</th>\n",
       "      <th>date_suspend</th>\n",
       "      <th>date_to_close</th>\n",
       "      <th>date_closed</th>\n",
       "      <th>outcome</th>\n",
       "      <th>short_title</th>\n",
       "      <th>days_open</th>\n",
       "      <th>n_opts</th>\n",
       "      <th>options</th>\n",
       "    </tr>\n",
       "  </thead>\n",
       "  <tbody>\n",
       "    <tr>\n",
       "      <th>0</th>\n",
       "      <td>1001-0</td>\n",
       "      <td>0</td>\n",
       "      <td>Will the Six-Party talks (among the US, North ...</td>\n",
       "      <td>'In' refers to any time during the remainder o...</td>\n",
       "      <td>closed</td>\n",
       "      <td>9/1/11</td>\n",
       "      <td>12/30/11 0:00</td>\n",
       "      <td>12/31/11</td>\n",
       "      <td>1/2/12</td>\n",
       "      <td>b</td>\n",
       "      <td>Six-party talks resume</td>\n",
       "      <td>123.0</td>\n",
       "      <td>2</td>\n",
       "      <td>(a) Yes, (b) No</td>\n",
       "    </tr>\n",
       "    <tr>\n",
       "      <th>1</th>\n",
       "      <td>1002-0</td>\n",
       "      <td>0</td>\n",
       "      <td>Who will be inaugurated as President of Russia...</td>\n",
       "      <td>'In' refers to any time during the 2012 calend...</td>\n",
       "      <td>closed</td>\n",
       "      <td>9/1/11</td>\n",
       "      <td>5/14/12 0:00</td>\n",
       "      <td>5/15/12</td>\n",
       "      <td>5/6/12</td>\n",
       "      <td>b</td>\n",
       "      <td>president of Russia</td>\n",
       "      <td>248.0</td>\n",
       "      <td>3</td>\n",
       "      <td>(a) Medvedev, (b) Putin, (c) Neither</td>\n",
       "    </tr>\n",
       "  </tbody>\n",
       "</table>\n",
       "</div>"
      ],
      "text/plain": [
       "   ifp_id  q_type                                             q_text  \\\n",
       "0  1001-0       0  Will the Six-Party talks (among the US, North ...   \n",
       "1  1002-0       0  Who will be inaugurated as President of Russia...   \n",
       "\n",
       "                                              q_desc q_status date_start  \\\n",
       "0  'In' refers to any time during the remainder o...   closed     9/1/11   \n",
       "1  'In' refers to any time during the 2012 calend...   closed     9/1/11   \n",
       "\n",
       "    date_suspend date_to_close date_closed outcome             short_title  \\\n",
       "0  12/30/11 0:00      12/31/11      1/2/12       b  Six-party talks resume   \n",
       "1   5/14/12 0:00       5/15/12      5/6/12       b     president of Russia   \n",
       "\n",
       "   days_open  n_opts                               options  \n",
       "0      123.0       2                       (a) Yes, (b) No  \n",
       "1      248.0       3  (a) Medvedev, (b) Putin, (c) Neither  "
      ]
     },
     "execution_count": 12,
     "metadata": {},
     "output_type": "execute_result"
    }
   ],
   "source": [
    "ifps.head(2)"
   ]
  },
  {
   "cell_type": "markdown",
   "metadata": {},
   "source": [
    "### Другой файл, к нему readme есть"
   ]
  },
  {
   "cell_type": "code",
   "execution_count": 14,
   "metadata": {},
   "outputs": [
    {
     "data": {
      "text/plain": [
       "(14001, 1539)"
      ]
     },
     "execution_count": 14,
     "metadata": {},
     "output_type": "execute_result"
    }
   ],
   "source": [
    "all_individual_differences = pd.read_csv('all_individual_differences.csv', encoding='ISO-8859-1', low_memory=False)\n",
    "all_individual_differences.user_id = all_individual_differences.user_id.fillna(-1).astype(int)\n",
    "\n",
    "all_individual_differences.shape"
   ]
  },
  {
   "cell_type": "code",
   "execution_count": 15,
   "metadata": {},
   "outputs": [
    {
     "data": {
      "text/html": [
       "<div>\n",
       "<style scoped>\n",
       "    .dataframe tbody tr th:only-of-type {\n",
       "        vertical-align: middle;\n",
       "    }\n",
       "\n",
       "    .dataframe tbody tr th {\n",
       "        vertical-align: top;\n",
       "    }\n",
       "\n",
       "    .dataframe thead th {\n",
       "        text-align: right;\n",
       "    }\n",
       "</style>\n",
       "<table border=\"1\" class=\"dataframe\">\n",
       "  <thead>\n",
       "    <tr style=\"text-align: right;\">\n",
       "      <th></th>\n",
       "      <th>user_id</th>\n",
       "      <th>userid_yr4</th>\n",
       "      <th>gender_yr123</th>\n",
       "      <th>gender_yr4</th>\n",
       "      <th>ed_yr12</th>\n",
       "      <th>ed_yr3</th>\n",
       "      <th>ed_yr4</th>\n",
       "      <th>citizen_yr123</th>\n",
       "      <th>citizen_yr4</th>\n",
       "      <th>workhours_yr3</th>\n",
       "      <th>...</th>\n",
       "      <th>motivation_3</th>\n",
       "      <th>motivation_4</th>\n",
       "      <th>motivation_5</th>\n",
       "      <th>motivation_6</th>\n",
       "      <th>motivation_7</th>\n",
       "      <th>motivation_8</th>\n",
       "      <th>motivation_intrinsic_score</th>\n",
       "      <th>motivation_prosocial_score</th>\n",
       "      <th>motivation_extrinsic_score</th>\n",
       "      <th>age</th>\n",
       "    </tr>\n",
       "  </thead>\n",
       "  <tbody>\n",
       "    <tr>\n",
       "      <th>0</th>\n",
       "      <td>3</td>\n",
       "      <td>NaN</td>\n",
       "      <td>1.0</td>\n",
       "      <td>NaN</td>\n",
       "      <td>2.0</td>\n",
       "      <td>NaN</td>\n",
       "      <td>NaN</td>\n",
       "      <td>1.0</td>\n",
       "      <td>NaN</td>\n",
       "      <td>NaN</td>\n",
       "      <td>...</td>\n",
       "      <td>NaN</td>\n",
       "      <td>NaN</td>\n",
       "      <td>NaN</td>\n",
       "      <td>NaN</td>\n",
       "      <td>NaN</td>\n",
       "      <td>NaN</td>\n",
       "      <td>NaN</td>\n",
       "      <td>NaN</td>\n",
       "      <td>NaN</td>\n",
       "      <td>25-29</td>\n",
       "    </tr>\n",
       "    <tr>\n",
       "      <th>1</th>\n",
       "      <td>5</td>\n",
       "      <td>NaN</td>\n",
       "      <td>1.0</td>\n",
       "      <td>NaN</td>\n",
       "      <td>2.0</td>\n",
       "      <td>NaN</td>\n",
       "      <td>NaN</td>\n",
       "      <td>1.0</td>\n",
       "      <td>NaN</td>\n",
       "      <td>NaN</td>\n",
       "      <td>...</td>\n",
       "      <td>NaN</td>\n",
       "      <td>NaN</td>\n",
       "      <td>NaN</td>\n",
       "      <td>NaN</td>\n",
       "      <td>NaN</td>\n",
       "      <td>NaN</td>\n",
       "      <td>NaN</td>\n",
       "      <td>NaN</td>\n",
       "      <td>NaN</td>\n",
       "      <td>50-54</td>\n",
       "    </tr>\n",
       "    <tr>\n",
       "      <th>2</th>\n",
       "      <td>6</td>\n",
       "      <td>NaN</td>\n",
       "      <td>1.0</td>\n",
       "      <td>NaN</td>\n",
       "      <td>1.0</td>\n",
       "      <td>4.0</td>\n",
       "      <td>NaN</td>\n",
       "      <td>1.0</td>\n",
       "      <td>NaN</td>\n",
       "      <td>1.0</td>\n",
       "      <td>...</td>\n",
       "      <td>NaN</td>\n",
       "      <td>NaN</td>\n",
       "      <td>NaN</td>\n",
       "      <td>NaN</td>\n",
       "      <td>NaN</td>\n",
       "      <td>NaN</td>\n",
       "      <td>NaN</td>\n",
       "      <td>NaN</td>\n",
       "      <td>NaN</td>\n",
       "      <td>70-74</td>\n",
       "    </tr>\n",
       "    <tr>\n",
       "      <th>3</th>\n",
       "      <td>10</td>\n",
       "      <td>NaN</td>\n",
       "      <td>1.0</td>\n",
       "      <td>NaN</td>\n",
       "      <td>3.0</td>\n",
       "      <td>NaN</td>\n",
       "      <td>NaN</td>\n",
       "      <td>1.0</td>\n",
       "      <td>NaN</td>\n",
       "      <td>NaN</td>\n",
       "      <td>...</td>\n",
       "      <td>NaN</td>\n",
       "      <td>NaN</td>\n",
       "      <td>NaN</td>\n",
       "      <td>NaN</td>\n",
       "      <td>NaN</td>\n",
       "      <td>NaN</td>\n",
       "      <td>NaN</td>\n",
       "      <td>NaN</td>\n",
       "      <td>NaN</td>\n",
       "      <td>35-39</td>\n",
       "    </tr>\n",
       "    <tr>\n",
       "      <th>4</th>\n",
       "      <td>14</td>\n",
       "      <td>NaN</td>\n",
       "      <td>0.0</td>\n",
       "      <td>NaN</td>\n",
       "      <td>3.0</td>\n",
       "      <td>NaN</td>\n",
       "      <td>NaN</td>\n",
       "      <td>1.0</td>\n",
       "      <td>NaN</td>\n",
       "      <td>NaN</td>\n",
       "      <td>...</td>\n",
       "      <td>NaN</td>\n",
       "      <td>NaN</td>\n",
       "      <td>NaN</td>\n",
       "      <td>NaN</td>\n",
       "      <td>NaN</td>\n",
       "      <td>NaN</td>\n",
       "      <td>NaN</td>\n",
       "      <td>NaN</td>\n",
       "      <td>NaN</td>\n",
       "      <td>55-59</td>\n",
       "    </tr>\n",
       "  </tbody>\n",
       "</table>\n",
       "<p>5 rows × 1539 columns</p>\n",
       "</div>"
      ],
      "text/plain": [
       "   user_id  userid_yr4  gender_yr123  gender_yr4  ed_yr12  ed_yr3  ed_yr4  \\\n",
       "0        3         NaN           1.0         NaN      2.0     NaN     NaN   \n",
       "1        5         NaN           1.0         NaN      2.0     NaN     NaN   \n",
       "2        6         NaN           1.0         NaN      1.0     4.0     NaN   \n",
       "3       10         NaN           1.0         NaN      3.0     NaN     NaN   \n",
       "4       14         NaN           0.0         NaN      3.0     NaN     NaN   \n",
       "\n",
       "   citizen_yr123  citizen_yr4  workhours_yr3  ...  motivation_3  motivation_4  \\\n",
       "0            1.0          NaN            NaN  ...           NaN           NaN   \n",
       "1            1.0          NaN            NaN  ...           NaN           NaN   \n",
       "2            1.0          NaN            1.0  ...           NaN           NaN   \n",
       "3            1.0          NaN            NaN  ...           NaN           NaN   \n",
       "4            1.0          NaN            NaN  ...           NaN           NaN   \n",
       "\n",
       "   motivation_5  motivation_6  motivation_7 motivation_8  \\\n",
       "0           NaN           NaN           NaN          NaN   \n",
       "1           NaN           NaN           NaN          NaN   \n",
       "2           NaN           NaN           NaN          NaN   \n",
       "3           NaN           NaN           NaN          NaN   \n",
       "4           NaN           NaN           NaN          NaN   \n",
       "\n",
       "  motivation_intrinsic_score  motivation_prosocial_score  \\\n",
       "0                        NaN                         NaN   \n",
       "1                        NaN                         NaN   \n",
       "2                        NaN                         NaN   \n",
       "3                        NaN                         NaN   \n",
       "4                        NaN                         NaN   \n",
       "\n",
       "   motivation_extrinsic_score    age  \n",
       "0                         NaN  25-29  \n",
       "1                         NaN  50-54  \n",
       "2                         NaN  70-74  \n",
       "3                         NaN  35-39  \n",
       "4                         NaN  55-59  \n",
       "\n",
       "[5 rows x 1539 columns]"
      ]
     },
     "execution_count": 15,
     "metadata": {},
     "output_type": "execute_result"
    }
   ],
   "source": [
    "all_individual_differences.head()"
   ]
  },
  {
   "cell_type": "markdown",
   "metadata": {},
   "source": [
    "## Вытаскиваем вопросы и ответы:"
   ]
  },
  {
   "cell_type": "code",
   "execution_count": 16,
   "metadata": {},
   "outputs": [],
   "source": [
    "def get_questions(data : pd.DataFrame, q_col: str) -> pd.DataFrame:\n",
    "    \"\"\"\n",
    "    Создает df с вопросами\n",
    "    \"\"\"\n",
    "    q_num     = list(map(lambda q: q[:4], data[q_col].unique()))\n",
    "    questions = list(map(lambda q: q[7:], data[q_col].unique()))\n",
    "\n",
    "    questions = pd.DataFrame(zip(q_num, questions), columns=['number','questions'])\n",
    "    \n",
    "    return questions"
   ]
  },
  {
   "cell_type": "code",
   "execution_count": 17,
   "metadata": {},
   "outputs": [
    {
     "data": {
      "text/plain": [
       "('Will the Six-Party talks (among the US, North Korea, South Korea, Russia, China, and Japan) formally resume in 2011?',\n",
       " 'Will **national military force(s) from one or more countries *intervene in Syria **before 1 December 2014?',\n",
       " 'When will Mariano Rajoy vacate the office of Prime Minister of Spain?')"
      ]
     },
     "execution_count": 17,
     "metadata": {},
     "output_type": "execute_result"
    }
   ],
   "source": [
    "q_ifps = pd.DataFrame(ifps['q_text'].unique(), columns=['questions'])\n",
    "\n",
    "\n",
    "# show some of them\n",
    "(\n",
    "q_ifps.questions[0], \n",
    "q_ifps.questions[391], \n",
    "q_ifps.questions[200] \n",
    ")"
   ]
  },
  {
   "cell_type": "markdown",
   "metadata": {},
   "source": [
    "___\n",
    "___"
   ]
  },
  {
   "cell_type": "code",
   "execution_count": 18,
   "metadata": {},
   "outputs": [],
   "source": [
    "with open('all_individual_differences.README.html', encoding='ISO-8859-1') as f:\n",
    "    soup = BeautifulSoup(f.read(), 'lxml')"
   ]
  },
  {
   "cell_type": "code",
   "execution_count": 19,
   "metadata": {},
   "outputs": [],
   "source": [
    "all_questions = []\n",
    "q_topics = soup.find_all('ol')\n",
    "\n",
    "for topic in q_topics:\n",
    "    for question in topic.find_all('li'):\n",
    "        all_questions.append(question.text)\\\n",
    "\n",
    "ques = pd.DataFrame(all_questions, columns=['questions'])\n",
    "        \n",
    "# Political Knowledge - True/False\n",
    "year_1_items = ques.questions[:34]\n",
    "year_2_items = ques.questions[35:85]\n",
    "year_3_items = ques.questions[85:140]\n",
    "\n",
    "# Political Knowledge - Multiple Choice\n",
    "# удалить после /n все, 211 - 275 ответы\n",
    "year_3_4_multiple = []\n",
    "for i in range(140,215,5):\n",
    "    year_3_4_multiple.append(ques.questions[i])\n",
    "\n",
    "    \n",
    "# По 8 вопросов на тему\n",
    "# China questions\n",
    "china_questions = []\n",
    "start = 275\n",
    "for i in range(start, start + 40,5):\n",
    "    china_questions.append(ques.questions[i])\n",
    "\n",
    "    \n",
    "# Global Economy questions\n",
    "economy_questions = []\n",
    "start = 347\n",
    "for i in range(start, start + 40,5):\n",
    "    economy_questions.append(ques.questions[i])\n",
    "\n",
    "    \n",
    "# Irac questions\n",
    "irac_questions = []\n",
    "start = 419\n",
    "for i in range(start, start + 40,5):\n",
    "    irac_questions.append(ques.questions[i])\n",
    "\n",
    "\n",
    "# Russia questions\n",
    "russia_questions = []\n",
    "start = 491\n",
    "for i in range(start, start + 40,5):\n",
    "    russia_questions.append(ques.questions[i])\n",
    "\n",
    "\n",
    "# General Political Knowledge\n",
    "general_political_questions = [ques.questions[564]]\n",
    "start = 568\n",
    "for i in range(start, start + 70,5):\n",
    "    general_political_questions.append(ques.questions[i])\n",
    "\n",
    "    \n",
    "# Financial Literacy\n",
    "financial_questions = []\n",
    "for num in [697, 702, 707, 713, 717]:\n",
    "    financial_questions.append(ques.questions[num])"
   ]
  },
  {
   "cell_type": "code",
   "execution_count": 20,
   "metadata": {},
   "outputs": [],
   "source": [
    "all_questions_present = year_3_4_multiple + china_questions + economy_questions +\\\n",
    "                irac_questions + russia_questions +\\\n",
    "                general_political_questions + financial_questions +\\\n",
    "                year_1_items.to_list() + year_2_items.to_list() + year_3_items.to_list()\n",
    "\n",
    "all_questions_present = pd.DataFrame(all_questions_present, columns=['questions'])\n",
    "all_questions_present.questions = all_questions_present.questions.apply(lambda q: cut_question(q))"
   ]
  },
  {
   "cell_type": "markdown",
   "metadata": {},
   "source": [
    "**Оъединим вопросы про будущее и про понимание**"
   ]
  },
  {
   "cell_type": "code",
   "execution_count": 21,
   "metadata": {},
   "outputs": [
    {
     "data": {
      "text/html": [
       "<div>\n",
       "<style scoped>\n",
       "    .dataframe tbody tr th:only-of-type {\n",
       "        vertical-align: middle;\n",
       "    }\n",
       "\n",
       "    .dataframe tbody tr th {\n",
       "        vertical-align: top;\n",
       "    }\n",
       "\n",
       "    .dataframe thead th {\n",
       "        text-align: right;\n",
       "    }\n",
       "</style>\n",
       "<table border=\"1\" class=\"dataframe\">\n",
       "  <thead>\n",
       "    <tr style=\"text-align: right;\">\n",
       "      <th></th>\n",
       "      <th>questions</th>\n",
       "    </tr>\n",
       "  </thead>\n",
       "  <tbody>\n",
       "    <tr>\n",
       "      <th>56</th>\n",
       "      <td>Who is the U.S. National Security Adviser?</td>\n",
       "    </tr>\n",
       "    <tr>\n",
       "      <th>105</th>\n",
       "      <td>Switzerland is a member of the European Union.</td>\n",
       "    </tr>\n",
       "    <tr>\n",
       "      <th>2</th>\n",
       "      <td>What country did Kosovo seek independence from?</td>\n",
       "    </tr>\n",
       "  </tbody>\n",
       "</table>\n",
       "</div>"
      ],
      "text/plain": [
       "                                           questions\n",
       "56        Who is the U.S. National Security Adviser?\n",
       "105  Switzerland is a member of the European Union. \n",
       "2    What country did Kosovo seek independence from?"
      ]
     },
     "execution_count": 21,
     "metadata": {},
     "output_type": "execute_result"
    }
   ],
   "source": [
    "all_questions = pd.concat([all_questions_present, q_ifps]).reset_index(drop=True)\n",
    "all_questions.iloc[[56,105,2],:]"
   ]
  },
  {
   "cell_type": "code",
   "execution_count": 22,
   "metadata": {},
   "outputs": [
    {
     "name": "stdout",
     "output_type": "stream",
     "text": [
      "Всего вопросов доступно : 733\n"
     ]
    }
   ],
   "source": [
    "print(f'Всего вопросов доступно : {all_questions.shape[0]}')"
   ]
  },
  {
   "cell_type": "code",
   "execution_count": null,
   "metadata": {},
   "outputs": [],
   "source": []
  }
 ],
 "metadata": {
  "kernelspec": {
   "display_name": "Python 3 (ipykernel)",
   "language": "python",
   "name": "python3"
  },
  "language_info": {
   "codemirror_mode": {
    "name": "ipython",
    "version": 3
   },
   "file_extension": ".py",
   "mimetype": "text/x-python",
   "name": "python",
   "nbconvert_exporter": "python",
   "pygments_lexer": "ipython3",
   "version": "3.8.11"
  }
 },
 "nbformat": 4,
 "nbformat_minor": 4
}
