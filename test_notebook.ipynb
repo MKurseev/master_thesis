{
 "cells": [
  {
   "cell_type": "code",
   "execution_count": 1,
   "metadata": {},
   "outputs": [],
   "source": [
    "import glob\n",
    "import os\n",
    "import pandas as pd\n",
    "\n",
    "from bs4 import BeautifulSoup"
   ]
  },
  {
   "cell_type": "markdown",
   "metadata": {},
   "source": [
    "## Какие-то файлы формата `.csv`"
   ]
  },
  {
   "cell_type": "code",
   "execution_count": 2,
   "metadata": {},
   "outputs": [],
   "source": [
    "def cut_question(q):\n",
    "    \"\"\"\n",
    "    Удаляет ответы из вопроса\n",
    "    \"\"\"\n",
    "    if '\\n' in q:\n",
    "        end = q.find('\\n')\n",
    "        return q[:end]\n",
    "    else:\n",
    "        for symb in ['[F.]','[T.]','[F]','[T]','(False)','(True)', '(True0']:\n",
    "            if q.find(symb) != -1:\n",
    "                end = q.find(symb) \n",
    "                return q[:end]"
   ]
  },
  {
   "cell_type": "code",
   "execution_count": 3,
   "metadata": {
    "scrolled": false
   },
   "outputs": [],
   "source": [
    "folder_name = 'dataverse_files_2'\n",
    "file_type = 'csv'\n",
    "seperator =','\n",
    "\n",
    "survey_fcasts = pd.DataFrame()\n",
    "pm_transactions = pd.DataFrame()\n",
    "\n",
    "for f in glob.glob(folder_name + \"/*.\"+file_type):\n",
    "    data = pd.read_csv(f, sep=seperator, low_memory=False, encoding='ISO-8859-1')\n",
    "    \n",
    "    if f[18:31] == 'survey_fcasts':\n",
    "        survey_fcasts = pd.concat([survey_fcasts, data])\n",
    "    elif f[18:33] == 'pm_transactions':\n",
    "        pm_transactions = pd.concat([pm_transactions, data])"
   ]
  },
  {
   "cell_type": "code",
   "execution_count": 4,
   "metadata": {},
   "outputs": [
    {
     "data": {
      "text/plain": [
       "(3143460, 16)"
      ]
     },
     "execution_count": 4,
     "metadata": {},
     "output_type": "execute_result"
    }
   ],
   "source": [
    "survey_fcasts.shape"
   ]
  },
  {
   "cell_type": "code",
   "execution_count": 5,
   "metadata": {},
   "outputs": [
    {
     "data": {
      "text/html": [
       "<div>\n",
       "<style scoped>\n",
       "    .dataframe tbody tr th:only-of-type {\n",
       "        vertical-align: middle;\n",
       "    }\n",
       "\n",
       "    .dataframe tbody tr th {\n",
       "        vertical-align: top;\n",
       "    }\n",
       "\n",
       "    .dataframe thead th {\n",
       "        text-align: right;\n",
       "    }\n",
       "</style>\n",
       "<table border=\"1\" class=\"dataframe\">\n",
       "  <thead>\n",
       "    <tr style=\"text-align: right;\">\n",
       "      <th></th>\n",
       "      <th>ifp_id</th>\n",
       "      <th>ctt</th>\n",
       "      <th>cond</th>\n",
       "      <th>training</th>\n",
       "      <th>team</th>\n",
       "      <th>user_id</th>\n",
       "      <th>forecast_id</th>\n",
       "      <th>fcast_type</th>\n",
       "      <th>answer_option</th>\n",
       "      <th>value</th>\n",
       "      <th>fcast_date</th>\n",
       "      <th>expertise</th>\n",
       "      <th>q_status</th>\n",
       "      <th>viewtime</th>\n",
       "      <th>year</th>\n",
       "      <th>timestamp</th>\n",
       "    </tr>\n",
       "  </thead>\n",
       "  <tbody>\n",
       "    <tr>\n",
       "      <th>0</th>\n",
       "      <td>1244-0</td>\n",
       "      <td>5s3</td>\n",
       "      <td>5</td>\n",
       "      <td>s</td>\n",
       "      <td>3.0</td>\n",
       "      <td>3304.0</td>\n",
       "      <td>600001.0</td>\n",
       "      <td>1</td>\n",
       "      <td>a</td>\n",
       "      <td>0.01</td>\n",
       "      <td>2014-07-30</td>\n",
       "      <td>NaN</td>\n",
       "      <td>closed</td>\n",
       "      <td>60.0</td>\n",
       "      <td>4</td>\n",
       "      <td>2014-07-30 10:04:51</td>\n",
       "    </tr>\n",
       "    <tr>\n",
       "      <th>1</th>\n",
       "      <td>1244-0</td>\n",
       "      <td>5s3</td>\n",
       "      <td>5</td>\n",
       "      <td>s</td>\n",
       "      <td>3.0</td>\n",
       "      <td>3304.0</td>\n",
       "      <td>600001.0</td>\n",
       "      <td>1</td>\n",
       "      <td>b</td>\n",
       "      <td>0.99</td>\n",
       "      <td>2014-07-30</td>\n",
       "      <td>NaN</td>\n",
       "      <td>closed</td>\n",
       "      <td>60.0</td>\n",
       "      <td>4</td>\n",
       "      <td>2014-07-30 10:04:51</td>\n",
       "    </tr>\n",
       "  </tbody>\n",
       "</table>\n",
       "</div>"
      ],
      "text/plain": [
       "   ifp_id  ctt  cond training  team  user_id  forecast_id  fcast_type  \\\n",
       "0  1244-0  5s3     5        s   3.0   3304.0     600001.0           1   \n",
       "1  1244-0  5s3     5        s   3.0   3304.0     600001.0           1   \n",
       "\n",
       "  answer_option  value  fcast_date  expertise q_status  viewtime  year  \\\n",
       "0             a   0.01  2014-07-30        NaN   closed      60.0     4   \n",
       "1             b   0.99  2014-07-30        NaN   closed      60.0     4   \n",
       "\n",
       "             timestamp  \n",
       "0  2014-07-30 10:04:51  \n",
       "1  2014-07-30 10:04:51  "
      ]
     },
     "execution_count": 5,
     "metadata": {},
     "output_type": "execute_result"
    }
   ],
   "source": [
    "survey_fcasts.head(2)"
   ]
  },
  {
   "cell_type": "code",
   "execution_count": 6,
   "metadata": {},
   "outputs": [
    {
     "data": {
      "text/plain": [
       "(654764, 46)"
      ]
     },
     "execution_count": 6,
     "metadata": {},
     "output_type": "execute_result"
    }
   ],
   "source": [
    "pm_transactions.shape"
   ]
  },
  {
   "cell_type": "code",
   "execution_count": 7,
   "metadata": {},
   "outputs": [
    {
     "data": {
      "text/html": [
       "<div>\n",
       "<style scoped>\n",
       "    .dataframe tbody tr th:only-of-type {\n",
       "        vertical-align: middle;\n",
       "    }\n",
       "\n",
       "    .dataframe tbody tr th {\n",
       "        vertical-align: top;\n",
       "    }\n",
       "\n",
       "    .dataframe thead th {\n",
       "        text-align: right;\n",
       "    }\n",
       "</style>\n",
       "<table border=\"1\" class=\"dataframe\">\n",
       "  <thead>\n",
       "    <tr style=\"text-align: right;\">\n",
       "      <th></th>\n",
       "      <th>timestamp</th>\n",
       "      <th>IFPID</th>\n",
       "      <th>Outcome</th>\n",
       "      <th>User.ID</th>\n",
       "      <th>Op.Type</th>\n",
       "      <th>Order.ID</th>\n",
       "      <th>isBuy</th>\n",
       "      <th>isLong</th>\n",
       "      <th>With.MM</th>\n",
       "      <th>By.Agent</th>\n",
       "      <th>...</th>\n",
       "      <th>type</th>\n",
       "      <th>quantity</th>\n",
       "      <th>spent</th>\n",
       "      <th>created.at</th>\n",
       "      <th>filled.at</th>\n",
       "      <th>price_before</th>\n",
       "      <th>price_after</th>\n",
       "      <th>probability_estimate</th>\n",
       "      <th>gjp.user.id</th>\n",
       "      <th>Team</th>\n",
       "    </tr>\n",
       "  </thead>\n",
       "  <tbody>\n",
       "    <tr>\n",
       "      <th>0</th>\n",
       "      <td>2013-07-31 09:42:02</td>\n",
       "      <td>1210.0</td>\n",
       "      <td>b</td>\n",
       "      <td>4184.0</td>\n",
       "      <td>orderCreate</td>\n",
       "      <td>1.0</td>\n",
       "      <td>True</td>\n",
       "      <td>False</td>\n",
       "      <td>NaN</td>\n",
       "      <td>False</td>\n",
       "      <td>...</td>\n",
       "      <td>NaN</td>\n",
       "      <td>NaN</td>\n",
       "      <td>NaN</td>\n",
       "      <td>NaN</td>\n",
       "      <td>NaN</td>\n",
       "      <td>NaN</td>\n",
       "      <td>NaN</td>\n",
       "      <td>NaN</td>\n",
       "      <td>NaN</td>\n",
       "      <td>NaN</td>\n",
       "    </tr>\n",
       "    <tr>\n",
       "      <th>1</th>\n",
       "      <td>2013-07-31 09:44:41</td>\n",
       "      <td>1216.0</td>\n",
       "      <td>a</td>\n",
       "      <td>4184.0</td>\n",
       "      <td>orderCreate</td>\n",
       "      <td>2.0</td>\n",
       "      <td>True</td>\n",
       "      <td>False</td>\n",
       "      <td>NaN</td>\n",
       "      <td>False</td>\n",
       "      <td>...</td>\n",
       "      <td>NaN</td>\n",
       "      <td>NaN</td>\n",
       "      <td>NaN</td>\n",
       "      <td>NaN</td>\n",
       "      <td>NaN</td>\n",
       "      <td>NaN</td>\n",
       "      <td>NaN</td>\n",
       "      <td>NaN</td>\n",
       "      <td>NaN</td>\n",
       "      <td>NaN</td>\n",
       "    </tr>\n",
       "  </tbody>\n",
       "</table>\n",
       "<p>2 rows × 46 columns</p>\n",
       "</div>"
      ],
      "text/plain": [
       "             timestamp   IFPID Outcome  User.ID      Op.Type  Order.ID isBuy  \\\n",
       "0  2013-07-31 09:42:02  1210.0       b   4184.0  orderCreate       1.0  True   \n",
       "1  2013-07-31 09:44:41  1216.0       a   4184.0  orderCreate       2.0  True   \n",
       "\n",
       "  isLong  With.MM By.Agent  ...  type  quantity  spent  created.at  filled.at  \\\n",
       "0  False      NaN    False  ...   NaN       NaN    NaN         NaN        NaN   \n",
       "1  False      NaN    False  ...   NaN       NaN    NaN         NaN        NaN   \n",
       "\n",
       "   price_before  price_after  probability_estimate  gjp.user.id  Team  \n",
       "0           NaN          NaN                   NaN          NaN   NaN  \n",
       "1           NaN          NaN                   NaN          NaN   NaN  \n",
       "\n",
       "[2 rows x 46 columns]"
      ]
     },
     "execution_count": 7,
     "metadata": {},
     "output_type": "execute_result"
    }
   ],
   "source": [
    "pm_transactions.head(2)"
   ]
  },
  {
   "cell_type": "markdown",
   "metadata": {},
   "source": [
    "---\n",
    "---"
   ]
  },
  {
   "cell_type": "code",
   "execution_count": 8,
   "metadata": {
    "scrolled": false
   },
   "outputs": [],
   "source": [
    "folder_name = 'dataverse_files'\n",
    "file_type = 'csv'\n",
    "seperator =','\n",
    "\n",
    "batch_orders = pd.DataFrame()\n",
    "transaction = pd.DataFrame()\n",
    "\n",
    "for f in glob.glob(folder_name + \"/*.\"+file_type):\n",
    "    if f[16:] == 'ifps.csv':\n",
    "        ifps = pd.read_csv(f, sep=seperator, encoding='ISO-8859-1')\n",
    "    else:\n",
    "        data = pd.read_csv(f, sep=seperator)\n",
    "\n",
    "    if f[16:30] == 'pm_transaction':\n",
    "        transaction = pd.concat([transaction, data])\n",
    "    elif f[16:30] == 'pm_batch_order':\n",
    "        batch_orders = pd.concat([batch_orders, data])"
   ]
  },
  {
   "cell_type": "code",
   "execution_count": 9,
   "metadata": {},
   "outputs": [
    {
     "data": {
      "text/plain": [
       "(203776, 13)"
      ]
     },
     "execution_count": 9,
     "metadata": {},
     "output_type": "execute_result"
    }
   ],
   "source": [
    "transaction.shape"
   ]
  },
  {
   "cell_type": "code",
   "execution_count": 10,
   "metadata": {},
   "outputs": [
    {
     "data": {
      "text/html": [
       "<div>\n",
       "<style scoped>\n",
       "    .dataframe tbody tr th:only-of-type {\n",
       "        vertical-align: middle;\n",
       "    }\n",
       "\n",
       "    .dataframe tbody tr th {\n",
       "        vertical-align: top;\n",
       "    }\n",
       "\n",
       "    .dataframe thead th {\n",
       "        text-align: right;\n",
       "    }\n",
       "</style>\n",
       "<table border=\"1\" class=\"dataframe\">\n",
       "  <thead>\n",
       "    <tr style=\"text-align: right;\">\n",
       "      <th></th>\n",
       "      <th>Trade.ID</th>\n",
       "      <th>Market.Name</th>\n",
       "      <th>Stock.Name</th>\n",
       "      <th>Trade.Type</th>\n",
       "      <th>Quantity</th>\n",
       "      <th>Spent</th>\n",
       "      <th>Created.At</th>\n",
       "      <th>Filled.At</th>\n",
       "      <th>Price.Before</th>\n",
       "      <th>Price.After</th>\n",
       "      <th>Probability.Estimate</th>\n",
       "      <th>GJP.User.ID</th>\n",
       "      <th>GJP.Team.ID</th>\n",
       "    </tr>\n",
       "  </thead>\n",
       "  <tbody>\n",
       "    <tr>\n",
       "      <th>0</th>\n",
       "      <td>7873</td>\n",
       "      <td>1383 - Who will win the April 2014 presidentia...</td>\n",
       "      <td>Abdullah Abdullah</td>\n",
       "      <td>Buy</td>\n",
       "      <td>90</td>\n",
       "      <td>4902.84</td>\n",
       "      <td>8/20/14 0:08</td>\n",
       "      <td>8/20/14 0:08</td>\n",
       "      <td>50.00%</td>\n",
       "      <td>58.91%</td>\n",
       "      <td>75.00%</td>\n",
       "      <td>21021</td>\n",
       "      <td>NaN</td>\n",
       "    </tr>\n",
       "    <tr>\n",
       "      <th>1</th>\n",
       "      <td>7875</td>\n",
       "      <td>1244 - Will India and/or Brazil become a perma...</td>\n",
       "      <td>Yes</td>\n",
       "      <td>Sell</td>\n",
       "      <td>30</td>\n",
       "      <td>-1455.02</td>\n",
       "      <td>8/20/14 0:10</td>\n",
       "      <td>8/20/14 0:10</td>\n",
       "      <td>50.00%</td>\n",
       "      <td>47.01%</td>\n",
       "      <td>15.00%</td>\n",
       "      <td>21021</td>\n",
       "      <td>NaN</td>\n",
       "    </tr>\n",
       "  </tbody>\n",
       "</table>\n",
       "</div>"
      ],
      "text/plain": [
       "   Trade.ID                                        Market.Name  \\\n",
       "0      7873  1383 - Who will win the April 2014 presidentia...   \n",
       "1      7875  1244 - Will India and/or Brazil become a perma...   \n",
       "\n",
       "          Stock.Name Trade.Type  Quantity    Spent    Created.At  \\\n",
       "0  Abdullah Abdullah        Buy        90  4902.84  8/20/14 0:08   \n",
       "1                Yes       Sell        30 -1455.02  8/20/14 0:10   \n",
       "\n",
       "      Filled.At Price.Before Price.After Probability.Estimate  GJP.User.ID  \\\n",
       "0  8/20/14 0:08       50.00%      58.91%               75.00%        21021   \n",
       "1  8/20/14 0:10       50.00%      47.01%               15.00%        21021   \n",
       "\n",
       "   GJP.Team.ID  \n",
       "0          NaN  \n",
       "1          NaN  "
      ]
     },
     "execution_count": 10,
     "metadata": {},
     "output_type": "execute_result"
    }
   ],
   "source": [
    "transaction.head(2)"
   ]
  },
  {
   "cell_type": "code",
   "execution_count": 11,
   "metadata": {},
   "outputs": [
    {
     "data": {
      "text/plain": [
       "(17461, 10)"
      ]
     },
     "execution_count": 11,
     "metadata": {},
     "output_type": "execute_result"
    }
   ],
   "source": [
    "batch_orders.shape"
   ]
  },
  {
   "cell_type": "code",
   "execution_count": 12,
   "metadata": {},
   "outputs": [
    {
     "data": {
      "text/html": [
       "<div>\n",
       "<style scoped>\n",
       "    .dataframe tbody tr th:only-of-type {\n",
       "        vertical-align: middle;\n",
       "    }\n",
       "\n",
       "    .dataframe tbody tr th {\n",
       "        vertical-align: top;\n",
       "    }\n",
       "\n",
       "    .dataframe thead th {\n",
       "        text-align: right;\n",
       "    }\n",
       "</style>\n",
       "<table border=\"1\" class=\"dataframe\">\n",
       "  <thead>\n",
       "    <tr style=\"text-align: right;\">\n",
       "      <th></th>\n",
       "      <th>Batch.Order.ID</th>\n",
       "      <th>Market.Name</th>\n",
       "      <th>Stock.Name</th>\n",
       "      <th>Order.Type</th>\n",
       "      <th>Price</th>\n",
       "      <th>Quantity</th>\n",
       "      <th>Created.At</th>\n",
       "      <th>Quantity.Filled</th>\n",
       "      <th>GJP.User.ID</th>\n",
       "      <th>GJP.Team.ID</th>\n",
       "    </tr>\n",
       "  </thead>\n",
       "  <tbody>\n",
       "    <tr>\n",
       "      <th>0</th>\n",
       "      <td>741</td>\n",
       "      <td>1360 - What will be the outcome of Mohammed Mo...</td>\n",
       "      <td>A guilty verdict and a death sentence</td>\n",
       "      <td>sell</td>\n",
       "      <td>80</td>\n",
       "      <td>100</td>\n",
       "      <td>8/20/14 0:07</td>\n",
       "      <td>0</td>\n",
       "      <td>13351</td>\n",
       "      <td>NaN</td>\n",
       "    </tr>\n",
       "    <tr>\n",
       "      <th>1</th>\n",
       "      <td>742</td>\n",
       "      <td>1399 - Will a referendum on Quebec's affiliati...</td>\n",
       "      <td>If Parti Quebecois does not hold a majority of...</td>\n",
       "      <td>sell</td>\n",
       "      <td>30</td>\n",
       "      <td>100</td>\n",
       "      <td>8/20/14 0:09</td>\n",
       "      <td>0</td>\n",
       "      <td>13351</td>\n",
       "      <td>NaN</td>\n",
       "    </tr>\n",
       "    <tr>\n",
       "      <th>2</th>\n",
       "      <td>743</td>\n",
       "      <td>1394 - Before 31 December 2014, will China *se...</td>\n",
       "      <td>Yes</td>\n",
       "      <td>sell</td>\n",
       "      <td>30</td>\n",
       "      <td>100</td>\n",
       "      <td>8/20/14 0:10</td>\n",
       "      <td>0</td>\n",
       "      <td>13351</td>\n",
       "      <td>NaN</td>\n",
       "    </tr>\n",
       "    <tr>\n",
       "      <th>3</th>\n",
       "      <td>748</td>\n",
       "      <td>1360 - What will be the outcome of Mohammed Mo...</td>\n",
       "      <td>A guilty verdict and a death sentence</td>\n",
       "      <td>sell</td>\n",
       "      <td>70</td>\n",
       "      <td>100</td>\n",
       "      <td>8/20/14 0:20</td>\n",
       "      <td>0</td>\n",
       "      <td>13351</td>\n",
       "      <td>NaN</td>\n",
       "    </tr>\n",
       "    <tr>\n",
       "      <th>4</th>\n",
       "      <td>752</td>\n",
       "      <td>1394 - Before 31 December 2014, will China *se...</td>\n",
       "      <td>Yes</td>\n",
       "      <td>sell</td>\n",
       "      <td>30</td>\n",
       "      <td>100</td>\n",
       "      <td>8/20/14 0:26</td>\n",
       "      <td>0</td>\n",
       "      <td>13351</td>\n",
       "      <td>NaN</td>\n",
       "    </tr>\n",
       "  </tbody>\n",
       "</table>\n",
       "</div>"
      ],
      "text/plain": [
       "   Batch.Order.ID                                        Market.Name  \\\n",
       "0             741  1360 - What will be the outcome of Mohammed Mo...   \n",
       "1             742  1399 - Will a referendum on Quebec's affiliati...   \n",
       "2             743  1394 - Before 31 December 2014, will China *se...   \n",
       "3             748  1360 - What will be the outcome of Mohammed Mo...   \n",
       "4             752  1394 - Before 31 December 2014, will China *se...   \n",
       "\n",
       "                                          Stock.Name Order.Type  Price  \\\n",
       "0              A guilty verdict and a death sentence       sell     80   \n",
       "1  If Parti Quebecois does not hold a majority of...       sell     30   \n",
       "2                                                Yes       sell     30   \n",
       "3              A guilty verdict and a death sentence       sell     70   \n",
       "4                                                Yes       sell     30   \n",
       "\n",
       "   Quantity    Created.At  Quantity.Filled  GJP.User.ID  GJP.Team.ID  \n",
       "0       100  8/20/14 0:07                0        13351          NaN  \n",
       "1       100  8/20/14 0:09                0        13351          NaN  \n",
       "2       100  8/20/14 0:10                0        13351          NaN  \n",
       "3       100  8/20/14 0:20                0        13351          NaN  \n",
       "4       100  8/20/14 0:26                0        13351          NaN  "
      ]
     },
     "execution_count": 12,
     "metadata": {},
     "output_type": "execute_result"
    }
   ],
   "source": [
    "batch_orders.head()"
   ]
  },
  {
   "cell_type": "code",
   "execution_count": 13,
   "metadata": {},
   "outputs": [
    {
     "data": {
      "text/plain": [
       "(617, 14)"
      ]
     },
     "execution_count": 13,
     "metadata": {},
     "output_type": "execute_result"
    }
   ],
   "source": [
    "ifps.shape"
   ]
  },
  {
   "cell_type": "code",
   "execution_count": 14,
   "metadata": {},
   "outputs": [
    {
     "data": {
      "text/html": [
       "<div>\n",
       "<style scoped>\n",
       "    .dataframe tbody tr th:only-of-type {\n",
       "        vertical-align: middle;\n",
       "    }\n",
       "\n",
       "    .dataframe tbody tr th {\n",
       "        vertical-align: top;\n",
       "    }\n",
       "\n",
       "    .dataframe thead th {\n",
       "        text-align: right;\n",
       "    }\n",
       "</style>\n",
       "<table border=\"1\" class=\"dataframe\">\n",
       "  <thead>\n",
       "    <tr style=\"text-align: right;\">\n",
       "      <th></th>\n",
       "      <th>ifp_id</th>\n",
       "      <th>q_type</th>\n",
       "      <th>q_text</th>\n",
       "      <th>q_desc</th>\n",
       "      <th>q_status</th>\n",
       "      <th>date_start</th>\n",
       "      <th>date_suspend</th>\n",
       "      <th>date_to_close</th>\n",
       "      <th>date_closed</th>\n",
       "      <th>outcome</th>\n",
       "      <th>short_title</th>\n",
       "      <th>days_open</th>\n",
       "      <th>n_opts</th>\n",
       "      <th>options</th>\n",
       "    </tr>\n",
       "  </thead>\n",
       "  <tbody>\n",
       "    <tr>\n",
       "      <th>0</th>\n",
       "      <td>1001-0</td>\n",
       "      <td>0</td>\n",
       "      <td>Will the Six-Party talks (among the US, North ...</td>\n",
       "      <td>'In' refers to any time during the remainder o...</td>\n",
       "      <td>closed</td>\n",
       "      <td>9/1/11</td>\n",
       "      <td>12/30/11 0:00</td>\n",
       "      <td>12/31/11</td>\n",
       "      <td>1/2/12</td>\n",
       "      <td>b</td>\n",
       "      <td>Six-party talks resume</td>\n",
       "      <td>123.0</td>\n",
       "      <td>2</td>\n",
       "      <td>(a) Yes, (b) No</td>\n",
       "    </tr>\n",
       "    <tr>\n",
       "      <th>1</th>\n",
       "      <td>1002-0</td>\n",
       "      <td>0</td>\n",
       "      <td>Who will be inaugurated as President of Russia...</td>\n",
       "      <td>'In' refers to any time during the 2012 calend...</td>\n",
       "      <td>closed</td>\n",
       "      <td>9/1/11</td>\n",
       "      <td>5/14/12 0:00</td>\n",
       "      <td>5/15/12</td>\n",
       "      <td>5/6/12</td>\n",
       "      <td>b</td>\n",
       "      <td>president of Russia</td>\n",
       "      <td>248.0</td>\n",
       "      <td>3</td>\n",
       "      <td>(a) Medvedev, (b) Putin, (c) Neither</td>\n",
       "    </tr>\n",
       "  </tbody>\n",
       "</table>\n",
       "</div>"
      ],
      "text/plain": [
       "   ifp_id  q_type                                             q_text  \\\n",
       "0  1001-0       0  Will the Six-Party talks (among the US, North ...   \n",
       "1  1002-0       0  Who will be inaugurated as President of Russia...   \n",
       "\n",
       "                                              q_desc q_status date_start  \\\n",
       "0  'In' refers to any time during the remainder o...   closed     9/1/11   \n",
       "1  'In' refers to any time during the 2012 calend...   closed     9/1/11   \n",
       "\n",
       "    date_suspend date_to_close date_closed outcome             short_title  \\\n",
       "0  12/30/11 0:00      12/31/11      1/2/12       b  Six-party talks resume   \n",
       "1   5/14/12 0:00       5/15/12      5/6/12       b     president of Russia   \n",
       "\n",
       "   days_open  n_opts                               options  \n",
       "0      123.0       2                       (a) Yes, (b) No  \n",
       "1      248.0       3  (a) Medvedev, (b) Putin, (c) Neither  "
      ]
     },
     "execution_count": 14,
     "metadata": {},
     "output_type": "execute_result"
    }
   ],
   "source": [
    "ifps.head(2)"
   ]
  },
  {
   "cell_type": "markdown",
   "metadata": {},
   "source": [
    "### Другой файл, к нему readme есть"
   ]
  },
  {
   "cell_type": "code",
   "execution_count": 15,
   "metadata": {},
   "outputs": [
    {
     "data": {
      "text/plain": [
       "(14001, 1539)"
      ]
     },
     "execution_count": 15,
     "metadata": {},
     "output_type": "execute_result"
    }
   ],
   "source": [
    "all_individual_differences = pd.read_csv('all_individual_differences.csv', encoding='ISO-8859-1', low_memory=False)\n",
    "all_individual_differences.user_id = all_individual_differences.user_id.fillna(-1).astype(int)\n",
    "\n",
    "all_individual_differences.shape"
   ]
  },
  {
   "cell_type": "code",
   "execution_count": 16,
   "metadata": {},
   "outputs": [
    {
     "data": {
      "text/html": [
       "<div>\n",
       "<style scoped>\n",
       "    .dataframe tbody tr th:only-of-type {\n",
       "        vertical-align: middle;\n",
       "    }\n",
       "\n",
       "    .dataframe tbody tr th {\n",
       "        vertical-align: top;\n",
       "    }\n",
       "\n",
       "    .dataframe thead th {\n",
       "        text-align: right;\n",
       "    }\n",
       "</style>\n",
       "<table border=\"1\" class=\"dataframe\">\n",
       "  <thead>\n",
       "    <tr style=\"text-align: right;\">\n",
       "      <th></th>\n",
       "      <th>user_id</th>\n",
       "      <th>userid_yr4</th>\n",
       "      <th>gender_yr123</th>\n",
       "      <th>gender_yr4</th>\n",
       "      <th>ed_yr12</th>\n",
       "      <th>ed_yr3</th>\n",
       "      <th>ed_yr4</th>\n",
       "      <th>citizen_yr123</th>\n",
       "      <th>citizen_yr4</th>\n",
       "      <th>workhours_yr3</th>\n",
       "      <th>...</th>\n",
       "      <th>motivation_3</th>\n",
       "      <th>motivation_4</th>\n",
       "      <th>motivation_5</th>\n",
       "      <th>motivation_6</th>\n",
       "      <th>motivation_7</th>\n",
       "      <th>motivation_8</th>\n",
       "      <th>motivation_intrinsic_score</th>\n",
       "      <th>motivation_prosocial_score</th>\n",
       "      <th>motivation_extrinsic_score</th>\n",
       "      <th>age</th>\n",
       "    </tr>\n",
       "  </thead>\n",
       "  <tbody>\n",
       "    <tr>\n",
       "      <th>0</th>\n",
       "      <td>3</td>\n",
       "      <td>NaN</td>\n",
       "      <td>1.0</td>\n",
       "      <td>NaN</td>\n",
       "      <td>2.0</td>\n",
       "      <td>NaN</td>\n",
       "      <td>NaN</td>\n",
       "      <td>1.0</td>\n",
       "      <td>NaN</td>\n",
       "      <td>NaN</td>\n",
       "      <td>...</td>\n",
       "      <td>NaN</td>\n",
       "      <td>NaN</td>\n",
       "      <td>NaN</td>\n",
       "      <td>NaN</td>\n",
       "      <td>NaN</td>\n",
       "      <td>NaN</td>\n",
       "      <td>NaN</td>\n",
       "      <td>NaN</td>\n",
       "      <td>NaN</td>\n",
       "      <td>25-29</td>\n",
       "    </tr>\n",
       "    <tr>\n",
       "      <th>1</th>\n",
       "      <td>5</td>\n",
       "      <td>NaN</td>\n",
       "      <td>1.0</td>\n",
       "      <td>NaN</td>\n",
       "      <td>2.0</td>\n",
       "      <td>NaN</td>\n",
       "      <td>NaN</td>\n",
       "      <td>1.0</td>\n",
       "      <td>NaN</td>\n",
       "      <td>NaN</td>\n",
       "      <td>...</td>\n",
       "      <td>NaN</td>\n",
       "      <td>NaN</td>\n",
       "      <td>NaN</td>\n",
       "      <td>NaN</td>\n",
       "      <td>NaN</td>\n",
       "      <td>NaN</td>\n",
       "      <td>NaN</td>\n",
       "      <td>NaN</td>\n",
       "      <td>NaN</td>\n",
       "      <td>50-54</td>\n",
       "    </tr>\n",
       "    <tr>\n",
       "      <th>2</th>\n",
       "      <td>6</td>\n",
       "      <td>NaN</td>\n",
       "      <td>1.0</td>\n",
       "      <td>NaN</td>\n",
       "      <td>1.0</td>\n",
       "      <td>4.0</td>\n",
       "      <td>NaN</td>\n",
       "      <td>1.0</td>\n",
       "      <td>NaN</td>\n",
       "      <td>1.0</td>\n",
       "      <td>...</td>\n",
       "      <td>NaN</td>\n",
       "      <td>NaN</td>\n",
       "      <td>NaN</td>\n",
       "      <td>NaN</td>\n",
       "      <td>NaN</td>\n",
       "      <td>NaN</td>\n",
       "      <td>NaN</td>\n",
       "      <td>NaN</td>\n",
       "      <td>NaN</td>\n",
       "      <td>70-74</td>\n",
       "    </tr>\n",
       "    <tr>\n",
       "      <th>3</th>\n",
       "      <td>10</td>\n",
       "      <td>NaN</td>\n",
       "      <td>1.0</td>\n",
       "      <td>NaN</td>\n",
       "      <td>3.0</td>\n",
       "      <td>NaN</td>\n",
       "      <td>NaN</td>\n",
       "      <td>1.0</td>\n",
       "      <td>NaN</td>\n",
       "      <td>NaN</td>\n",
       "      <td>...</td>\n",
       "      <td>NaN</td>\n",
       "      <td>NaN</td>\n",
       "      <td>NaN</td>\n",
       "      <td>NaN</td>\n",
       "      <td>NaN</td>\n",
       "      <td>NaN</td>\n",
       "      <td>NaN</td>\n",
       "      <td>NaN</td>\n",
       "      <td>NaN</td>\n",
       "      <td>35-39</td>\n",
       "    </tr>\n",
       "    <tr>\n",
       "      <th>4</th>\n",
       "      <td>14</td>\n",
       "      <td>NaN</td>\n",
       "      <td>0.0</td>\n",
       "      <td>NaN</td>\n",
       "      <td>3.0</td>\n",
       "      <td>NaN</td>\n",
       "      <td>NaN</td>\n",
       "      <td>1.0</td>\n",
       "      <td>NaN</td>\n",
       "      <td>NaN</td>\n",
       "      <td>...</td>\n",
       "      <td>NaN</td>\n",
       "      <td>NaN</td>\n",
       "      <td>NaN</td>\n",
       "      <td>NaN</td>\n",
       "      <td>NaN</td>\n",
       "      <td>NaN</td>\n",
       "      <td>NaN</td>\n",
       "      <td>NaN</td>\n",
       "      <td>NaN</td>\n",
       "      <td>55-59</td>\n",
       "    </tr>\n",
       "  </tbody>\n",
       "</table>\n",
       "<p>5 rows × 1539 columns</p>\n",
       "</div>"
      ],
      "text/plain": [
       "   user_id  userid_yr4  gender_yr123  gender_yr4  ed_yr12  ed_yr3  ed_yr4  \\\n",
       "0        3         NaN           1.0         NaN      2.0     NaN     NaN   \n",
       "1        5         NaN           1.0         NaN      2.0     NaN     NaN   \n",
       "2        6         NaN           1.0         NaN      1.0     4.0     NaN   \n",
       "3       10         NaN           1.0         NaN      3.0     NaN     NaN   \n",
       "4       14         NaN           0.0         NaN      3.0     NaN     NaN   \n",
       "\n",
       "   citizen_yr123  citizen_yr4  workhours_yr3  ...  motivation_3  motivation_4  \\\n",
       "0            1.0          NaN            NaN  ...           NaN           NaN   \n",
       "1            1.0          NaN            NaN  ...           NaN           NaN   \n",
       "2            1.0          NaN            1.0  ...           NaN           NaN   \n",
       "3            1.0          NaN            NaN  ...           NaN           NaN   \n",
       "4            1.0          NaN            NaN  ...           NaN           NaN   \n",
       "\n",
       "   motivation_5  motivation_6  motivation_7 motivation_8  \\\n",
       "0           NaN           NaN           NaN          NaN   \n",
       "1           NaN           NaN           NaN          NaN   \n",
       "2           NaN           NaN           NaN          NaN   \n",
       "3           NaN           NaN           NaN          NaN   \n",
       "4           NaN           NaN           NaN          NaN   \n",
       "\n",
       "  motivation_intrinsic_score  motivation_prosocial_score  \\\n",
       "0                        NaN                         NaN   \n",
       "1                        NaN                         NaN   \n",
       "2                        NaN                         NaN   \n",
       "3                        NaN                         NaN   \n",
       "4                        NaN                         NaN   \n",
       "\n",
       "   motivation_extrinsic_score    age  \n",
       "0                         NaN  25-29  \n",
       "1                         NaN  50-54  \n",
       "2                         NaN  70-74  \n",
       "3                         NaN  35-39  \n",
       "4                         NaN  55-59  \n",
       "\n",
       "[5 rows x 1539 columns]"
      ]
     },
     "execution_count": 16,
     "metadata": {},
     "output_type": "execute_result"
    }
   ],
   "source": [
    "all_individual_differences.head()"
   ]
  },
  {
   "cell_type": "markdown",
   "metadata": {},
   "source": [
    "## Вытаскиваем вопросы и ответы:"
   ]
  },
  {
   "cell_type": "code",
   "execution_count": 17,
   "metadata": {},
   "outputs": [],
   "source": [
    "def get_questions(data : pd.DataFrame, q_col: str) -> pd.DataFrame:\n",
    "    \"\"\"\n",
    "    Создает df с вопросами\n",
    "    \"\"\"\n",
    "    q_num     = list(map(lambda q: q[:4], data[q_col].unique()))\n",
    "    questions = list(map(lambda q: q[7:], data[q_col].unique()))\n",
    "\n",
    "    questions = pd.DataFrame(zip(q_num, questions), columns=['number','questions'])\n",
    "    \n",
    "    return questions"
   ]
  },
  {
   "cell_type": "code",
   "execution_count": 18,
   "metadata": {},
   "outputs": [
    {
     "data": {
      "text/plain": [
       "('Who will win the April 2014 presidential elections in Afghanistan?',\n",
       " 'Will any country officially announce its intention to withdraw* from the Eurozone before 1 April 2013?',\n",
       " 'Will there be a **lethal confrontation between Chinese and Indian **national military forces **before 1 June 2015?')"
      ]
     },
     "execution_count": 18,
     "metadata": {},
     "output_type": "execute_result"
    }
   ],
   "source": [
    "q_transaction = get_questions(transaction, 'Market.Name')\n",
    "q_batch_orders = get_questions(batch_orders, 'Market.Name')\n",
    "q_ifps = pd.DataFrame(ifps['q_text'].unique(), columns=['questions'])\n",
    "\n",
    "\n",
    "all_questions_future = pd.concat([q_transaction.questions, \n",
    "                                  q_batch_orders.questions, \n",
    "                                  q_ifps.questions]).reset_index(drop=True)\n",
    "all_questions_future = pd.DataFrame(all_questions_future)\n",
    "\n",
    "# show some of them\n",
    "(\n",
    "all_questions_future.questions[0], \n",
    "all_questions_future.questions[391], \n",
    "all_questions_future.questions[765] \n",
    ")"
   ]
  },
  {
   "cell_type": "markdown",
   "metadata": {},
   "source": [
    "___\n",
    "___"
   ]
  },
  {
   "cell_type": "code",
   "execution_count": 19,
   "metadata": {},
   "outputs": [],
   "source": [
    "with open('all_individual_differences.README.html', encoding='ISO-8859-1') as f:\n",
    "    soup = BeautifulSoup(f.read(), 'lxml')"
   ]
  },
  {
   "cell_type": "code",
   "execution_count": 20,
   "metadata": {},
   "outputs": [],
   "source": [
    "all_questions = []\n",
    "q_topics = soup.find_all('ol')\n",
    "\n",
    "for topic in q_topics:\n",
    "    for question in topic.find_all('li'):\n",
    "        all_questions.append(question.text)\\\n",
    "\n",
    "ques = pd.DataFrame(all_questions, columns=['questions'])\n",
    "        \n",
    "# Political Knowledge - True/False\n",
    "year_1_items = ques.questions[:34]\n",
    "year_2_items = ques.questions[35:85]\n",
    "year_3_items = ques.questions[85:140]\n",
    "\n",
    "# Political Knowledge - Multiple Choice\n",
    "# удалить после /n все, 211 - 275 ответы\n",
    "year_3_4_multiple = []\n",
    "for i in range(140,215,5):\n",
    "    year_3_4_multiple.append(ques.questions[i])\n",
    "\n",
    "    \n",
    "# По 8 вопросов на тему\n",
    "# China questions\n",
    "china_questions = []\n",
    "start = 275\n",
    "for i in range(start, start + 40,5):\n",
    "    china_questions.append(ques.questions[i])\n",
    "\n",
    "    \n",
    "# Global Economy questions\n",
    "economy_questions = []\n",
    "start = 347\n",
    "for i in range(start, start + 40,5):\n",
    "    economy_questions.append(ques.questions[i])\n",
    "\n",
    "    \n",
    "# Irac questions\n",
    "irac_questions = []\n",
    "start = 419\n",
    "for i in range(start, start + 40,5):\n",
    "    irac_questions.append(ques.questions[i])\n",
    "\n",
    "\n",
    "# Russia questions\n",
    "russia_questions = []\n",
    "start = 491\n",
    "for i in range(start, start + 40,5):\n",
    "    russia_questions.append(ques.questions[i])\n",
    "\n",
    "\n",
    "# General Political Knowledge\n",
    "general_political_questions = [ques.questions[564]]\n",
    "start = 568\n",
    "for i in range(start, start + 70,5):\n",
    "    general_political_questions.append(ques.questions[i])\n",
    "\n",
    "    \n",
    "# Financial Literacy\n",
    "financial_questions = []\n",
    "for num in [697, 702, 707, 713, 717]:\n",
    "    financial_questions.append(ques.questions[num])"
   ]
  },
  {
   "cell_type": "code",
   "execution_count": 21,
   "metadata": {},
   "outputs": [],
   "source": [
    "all_questions_present = year_3_4_multiple + china_questions + economy_questions +\\\n",
    "                irac_questions + russia_questions +\\\n",
    "                general_political_questions + financial_questions +\\\n",
    "                year_1_items.to_list() + year_2_items.to_list() + year_3_items.to_list()\n",
    "\n",
    "all_questions_present = pd.DataFrame(all_questions_present, columns=['questions'])\n",
    "all_questions_present.questions = all_questions_present.questions.apply(lambda q: cut_question(q))"
   ]
  },
  {
   "cell_type": "markdown",
   "metadata": {},
   "source": [
    "**Оъединим вопросы про будущее и про понимание**"
   ]
  },
  {
   "cell_type": "code",
   "execution_count": 24,
   "metadata": {},
   "outputs": [
    {
     "data": {
      "text/html": [
       "<div>\n",
       "<style scoped>\n",
       "    .dataframe tbody tr th:only-of-type {\n",
       "        vertical-align: middle;\n",
       "    }\n",
       "\n",
       "    .dataframe tbody tr th {\n",
       "        vertical-align: top;\n",
       "    }\n",
       "\n",
       "    .dataframe thead th {\n",
       "        text-align: right;\n",
       "    }\n",
       "</style>\n",
       "<table border=\"1\" class=\"dataframe\">\n",
       "  <thead>\n",
       "    <tr style=\"text-align: right;\">\n",
       "      <th></th>\n",
       "      <th>questions</th>\n",
       "    </tr>\n",
       "  </thead>\n",
       "  <tbody>\n",
       "    <tr>\n",
       "      <th>56</th>\n",
       "      <td>Who is the U.S. National Security Adviser?</td>\n",
       "    </tr>\n",
       "    <tr>\n",
       "      <th>105</th>\n",
       "      <td>Switzerland is a member of the European Union.</td>\n",
       "    </tr>\n",
       "    <tr>\n",
       "      <th>2</th>\n",
       "      <td>What country did Kosovo seek independence from?</td>\n",
       "    </tr>\n",
       "  </tbody>\n",
       "</table>\n",
       "</div>"
      ],
      "text/plain": [
       "                                           questions\n",
       "56        Who is the U.S. National Security Adviser?\n",
       "105  Switzerland is a member of the European Union. \n",
       "2    What country did Kosovo seek independence from?"
      ]
     },
     "execution_count": 24,
     "metadata": {},
     "output_type": "execute_result"
    }
   ],
   "source": [
    "all_questions = pd.concat([all_questions_present, all_questions_future]).reset_index(drop=True)\n",
    "all_questions.iloc[[56,105,2],:]"
   ]
  },
  {
   "cell_type": "code",
   "execution_count": 26,
   "metadata": {},
   "outputs": [
    {
     "name": "stdout",
     "output_type": "stream",
     "text": [
      "Всего вопросов доступно : 1016\n"
     ]
    }
   ],
   "source": [
    "print(f'Всего вопросов доступно : {all_questions.shape[0]}')"
   ]
  }
 ],
 "metadata": {
  "kernelspec": {
   "display_name": "Python 3",
   "language": "python",
   "name": "python3"
  },
  "language_info": {
   "codemirror_mode": {
    "name": "ipython",
    "version": 3
   },
   "file_extension": ".py",
   "mimetype": "text/x-python",
   "name": "python",
   "nbconvert_exporter": "python",
   "pygments_lexer": "ipython3",
   "version": "3.8.5"
  }
 },
 "nbformat": 4,
 "nbformat_minor": 4
}
