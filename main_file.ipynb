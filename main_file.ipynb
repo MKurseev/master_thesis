{
 "cells": [
  {
   "cell_type": "markdown",
   "id": "fbda1f25",
   "metadata": {},
   "source": [
    "### Libraries"
   ]
  },
  {
   "cell_type": "code",
   "execution_count": 1,
   "id": "544bbf77",
   "metadata": {},
   "outputs": [],
   "source": [
    "import glob\n",
    "import os\n",
    "import pandas as pd\n",
    "\n",
    "import numpy as np\n",
    "from tqdm import tqdm\n",
    "\n",
    "from sklearn.linear_model import RidgeClassifier\n",
    "from sklearn.preprocessing import StandardScaler\n",
    "\n",
    "from sklearn.linear_model import LogisticRegression\n",
    "from sklearn.metrics import brier_score_loss\n",
    "\n",
    "import matplotlib.pyplot as plt\n",
    "\n",
    "from sentence_transformers import SentenceTransformer\n",
    "\n",
    "import warnings\n",
    "warnings.filterwarnings(\"ignore\")"
   ]
  },
  {
   "cell_type": "markdown",
   "id": "14cab65c",
   "metadata": {},
   "source": [
    "___\n",
    "### Выгрузка данных "
   ]
  },
  {
   "cell_type": "code",
   "execution_count": 2,
   "id": "6965d5dd",
   "metadata": {},
   "outputs": [],
   "source": [
    "survey_fcasts = pd.DataFrame()\n",
    "\n",
    "file_type = 'csv'\n",
    "seperator =','\n",
    "\n",
    "for f in glob.glob(\"*.\" + file_type):\n",
    "    if f[:13] == 'survey_fcasts':\n",
    "        data = pd.read_csv(f, sep=seperator, low_memory=False, encoding='ISO-8859-1')\n",
    "        survey_fcasts = pd.concat([survey_fcasts, data])\n",
    "    \n",
    "\n",
    "ifps = pd.read_csv('ifps.csv', sep=seperator, encoding='ISO-8859-1')"
   ]
  },
  {
   "cell_type": "code",
   "execution_count": 3,
   "id": "a7d676f1",
   "metadata": {},
   "outputs": [
    {
     "data": {
      "text/html": [
       "<div>\n",
       "<style scoped>\n",
       "    .dataframe tbody tr th:only-of-type {\n",
       "        vertical-align: middle;\n",
       "    }\n",
       "\n",
       "    .dataframe tbody tr th {\n",
       "        vertical-align: top;\n",
       "    }\n",
       "\n",
       "    .dataframe thead th {\n",
       "        text-align: right;\n",
       "    }\n",
       "</style>\n",
       "<table border=\"1\" class=\"dataframe\">\n",
       "  <thead>\n",
       "    <tr style=\"text-align: right;\">\n",
       "      <th></th>\n",
       "      <th>ifp_id</th>\n",
       "      <th>ctt</th>\n",
       "      <th>cond</th>\n",
       "      <th>training</th>\n",
       "      <th>team</th>\n",
       "      <th>user_id</th>\n",
       "      <th>forecast_id</th>\n",
       "      <th>fcast_type</th>\n",
       "      <th>answer_option</th>\n",
       "      <th>value</th>\n",
       "      <th>fcast_date</th>\n",
       "      <th>expertise</th>\n",
       "      <th>q_status</th>\n",
       "      <th>viewtime</th>\n",
       "      <th>year</th>\n",
       "      <th>timestamp</th>\n",
       "    </tr>\n",
       "  </thead>\n",
       "  <tbody>\n",
       "    <tr>\n",
       "      <th>0</th>\n",
       "      <td>1004-0</td>\n",
       "      <td>1a</td>\n",
       "      <td>1</td>\n",
       "      <td>a</td>\n",
       "      <td>NaN</td>\n",
       "      <td>600.0</td>\n",
       "      <td>-200987.0</td>\n",
       "      <td>0</td>\n",
       "      <td>a</td>\n",
       "      <td>0.10</td>\n",
       "      <td>2011-08-31</td>\n",
       "      <td>1.0</td>\n",
       "      <td>closed</td>\n",
       "      <td>NaN</td>\n",
       "      <td>1</td>\n",
       "      <td>2011-08-31 16:17:18</td>\n",
       "    </tr>\n",
       "    <tr>\n",
       "      <th>1</th>\n",
       "      <td>1004-0</td>\n",
       "      <td>1a</td>\n",
       "      <td>1</td>\n",
       "      <td>a</td>\n",
       "      <td>NaN</td>\n",
       "      <td>600.0</td>\n",
       "      <td>-200987.0</td>\n",
       "      <td>0</td>\n",
       "      <td>b</td>\n",
       "      <td>0.90</td>\n",
       "      <td>2011-08-31</td>\n",
       "      <td>1.0</td>\n",
       "      <td>closed</td>\n",
       "      <td>NaN</td>\n",
       "      <td>1</td>\n",
       "      <td>2011-08-31 16:17:18</td>\n",
       "    </tr>\n",
       "    <tr>\n",
       "      <th>2</th>\n",
       "      <td>1008-0</td>\n",
       "      <td>1a</td>\n",
       "      <td>1</td>\n",
       "      <td>a</td>\n",
       "      <td>NaN</td>\n",
       "      <td>600.0</td>\n",
       "      <td>-200986.0</td>\n",
       "      <td>0</td>\n",
       "      <td>a</td>\n",
       "      <td>0.25</td>\n",
       "      <td>2011-08-31</td>\n",
       "      <td>2.0</td>\n",
       "      <td>closed</td>\n",
       "      <td>NaN</td>\n",
       "      <td>1</td>\n",
       "      <td>2011-08-31 16:18:27</td>\n",
       "    </tr>\n",
       "    <tr>\n",
       "      <th>3</th>\n",
       "      <td>1008-0</td>\n",
       "      <td>1a</td>\n",
       "      <td>1</td>\n",
       "      <td>a</td>\n",
       "      <td>NaN</td>\n",
       "      <td>600.0</td>\n",
       "      <td>-200986.0</td>\n",
       "      <td>0</td>\n",
       "      <td>b</td>\n",
       "      <td>0.75</td>\n",
       "      <td>2011-08-31</td>\n",
       "      <td>2.0</td>\n",
       "      <td>closed</td>\n",
       "      <td>NaN</td>\n",
       "      <td>1</td>\n",
       "      <td>2011-08-31 16:18:27</td>\n",
       "    </tr>\n",
       "    <tr>\n",
       "      <th>4</th>\n",
       "      <td>1006-0</td>\n",
       "      <td>1a</td>\n",
       "      <td>1</td>\n",
       "      <td>a</td>\n",
       "      <td>NaN</td>\n",
       "      <td>600.0</td>\n",
       "      <td>-200985.0</td>\n",
       "      <td>0</td>\n",
       "      <td>a</td>\n",
       "      <td>0.10</td>\n",
       "      <td>2011-08-31</td>\n",
       "      <td>3.0</td>\n",
       "      <td>closed</td>\n",
       "      <td>NaN</td>\n",
       "      <td>1</td>\n",
       "      <td>2011-08-31 16:18:47</td>\n",
       "    </tr>\n",
       "  </tbody>\n",
       "</table>\n",
       "</div>"
      ],
      "text/plain": [
       "   ifp_id ctt  cond training  team  user_id  forecast_id  fcast_type  \\\n",
       "0  1004-0  1a     1        a   NaN    600.0    -200987.0           0   \n",
       "1  1004-0  1a     1        a   NaN    600.0    -200987.0           0   \n",
       "2  1008-0  1a     1        a   NaN    600.0    -200986.0           0   \n",
       "3  1008-0  1a     1        a   NaN    600.0    -200986.0           0   \n",
       "4  1006-0  1a     1        a   NaN    600.0    -200985.0           0   \n",
       "\n",
       "  answer_option  value  fcast_date  expertise q_status  viewtime  year  \\\n",
       "0             a   0.10  2011-08-31        1.0   closed       NaN     1   \n",
       "1             b   0.90  2011-08-31        1.0   closed       NaN     1   \n",
       "2             a   0.25  2011-08-31        2.0   closed       NaN     1   \n",
       "3             b   0.75  2011-08-31        2.0   closed       NaN     1   \n",
       "4             a   0.10  2011-08-31        3.0   closed       NaN     1   \n",
       "\n",
       "             timestamp  \n",
       "0  2011-08-31 16:17:18  \n",
       "1  2011-08-31 16:17:18  \n",
       "2  2011-08-31 16:18:27  \n",
       "3  2011-08-31 16:18:27  \n",
       "4  2011-08-31 16:18:47  "
      ]
     },
     "execution_count": 3,
     "metadata": {},
     "output_type": "execute_result"
    }
   ],
   "source": [
    "survey_fcasts.head(5)"
   ]
  },
  {
   "cell_type": "code",
   "execution_count": 4,
   "id": "2c450716",
   "metadata": {},
   "outputs": [
    {
     "data": {
      "text/html": [
       "<div>\n",
       "<style scoped>\n",
       "    .dataframe tbody tr th:only-of-type {\n",
       "        vertical-align: middle;\n",
       "    }\n",
       "\n",
       "    .dataframe tbody tr th {\n",
       "        vertical-align: top;\n",
       "    }\n",
       "\n",
       "    .dataframe thead th {\n",
       "        text-align: right;\n",
       "    }\n",
       "</style>\n",
       "<table border=\"1\" class=\"dataframe\">\n",
       "  <thead>\n",
       "    <tr style=\"text-align: right;\">\n",
       "      <th></th>\n",
       "      <th>ifp_id</th>\n",
       "      <th>q_type</th>\n",
       "      <th>q_text</th>\n",
       "      <th>q_desc</th>\n",
       "      <th>q_status</th>\n",
       "      <th>date_start</th>\n",
       "      <th>date_suspend</th>\n",
       "      <th>date_to_close</th>\n",
       "      <th>date_closed</th>\n",
       "      <th>outcome</th>\n",
       "      <th>short_title</th>\n",
       "      <th>days_open</th>\n",
       "      <th>n_opts</th>\n",
       "      <th>options</th>\n",
       "    </tr>\n",
       "  </thead>\n",
       "  <tbody>\n",
       "    <tr>\n",
       "      <th>0</th>\n",
       "      <td>1001-0</td>\n",
       "      <td>0</td>\n",
       "      <td>Will the Six-Party talks (among the US, North ...</td>\n",
       "      <td>'In' refers to any time during the remainder o...</td>\n",
       "      <td>closed</td>\n",
       "      <td>9/1/11</td>\n",
       "      <td>12/30/11 0:00</td>\n",
       "      <td>12/31/11</td>\n",
       "      <td>1/2/12</td>\n",
       "      <td>b</td>\n",
       "      <td>Six-party talks resume</td>\n",
       "      <td>123.0</td>\n",
       "      <td>2</td>\n",
       "      <td>(a) Yes, (b) No</td>\n",
       "    </tr>\n",
       "    <tr>\n",
       "      <th>1</th>\n",
       "      <td>1002-0</td>\n",
       "      <td>0</td>\n",
       "      <td>Who will be inaugurated as President of Russia...</td>\n",
       "      <td>'In' refers to any time during the 2012 calend...</td>\n",
       "      <td>closed</td>\n",
       "      <td>9/1/11</td>\n",
       "      <td>5/14/12 0:00</td>\n",
       "      <td>5/15/12</td>\n",
       "      <td>5/6/12</td>\n",
       "      <td>b</td>\n",
       "      <td>president of Russia</td>\n",
       "      <td>248.0</td>\n",
       "      <td>3</td>\n",
       "      <td>(a) Medvedev, (b) Putin, (c) Neither</td>\n",
       "    </tr>\n",
       "    <tr>\n",
       "      <th>2</th>\n",
       "      <td>1003-0</td>\n",
       "      <td>0</td>\n",
       "      <td>Will Serbia be officially granted EU candidacy...</td>\n",
       "      <td>A 'yes' answer to this question requires not o...</td>\n",
       "      <td>closed</td>\n",
       "      <td>9/1/11</td>\n",
       "      <td>12/30/11 0:00</td>\n",
       "      <td>12/31/11</td>\n",
       "      <td>1/3/12</td>\n",
       "      <td>b</td>\n",
       "      <td>Serbia EU candidacy</td>\n",
       "      <td>124.0</td>\n",
       "      <td>2</td>\n",
       "      <td>(a) Yes, (b) No</td>\n",
       "    </tr>\n",
       "    <tr>\n",
       "      <th>3</th>\n",
       "      <td>1004-0</td>\n",
       "      <td>0</td>\n",
       "      <td>Will the United Nations General Assembly recog...</td>\n",
       "      <td>'By' means at or prior to the end of the day o...</td>\n",
       "      <td>closed</td>\n",
       "      <td>9/1/11</td>\n",
       "      <td>9/29/11 0:00</td>\n",
       "      <td>9/30/11</td>\n",
       "      <td>9/30/11</td>\n",
       "      <td>b</td>\n",
       "      <td>UN-GA recognize Palestine</td>\n",
       "      <td>29.0</td>\n",
       "      <td>2</td>\n",
       "      <td>(a) Yes, (b) No</td>\n",
       "    </tr>\n",
       "    <tr>\n",
       "      <th>4</th>\n",
       "      <td>1005-0</td>\n",
       "      <td>0</td>\n",
       "      <td>Will Daniel Ortega win another term as Preside...</td>\n",
       "      <td>If the Nicaraguan elections do not occur in la...</td>\n",
       "      <td>closed</td>\n",
       "      <td>9/1/11</td>\n",
       "      <td>11/4/11 0:00</td>\n",
       "      <td>11/5/11</td>\n",
       "      <td>11/5/11</td>\n",
       "      <td>a</td>\n",
       "      <td>Ortega win in Nicaragua</td>\n",
       "      <td>65.0</td>\n",
       "      <td>2</td>\n",
       "      <td>(a) Yes, (b) No</td>\n",
       "    </tr>\n",
       "  </tbody>\n",
       "</table>\n",
       "</div>"
      ],
      "text/plain": [
       "   ifp_id  q_type                                             q_text  \\\n",
       "0  1001-0       0  Will the Six-Party talks (among the US, North ...   \n",
       "1  1002-0       0  Who will be inaugurated as President of Russia...   \n",
       "2  1003-0       0  Will Serbia be officially granted EU candidacy...   \n",
       "3  1004-0       0  Will the United Nations General Assembly recog...   \n",
       "4  1005-0       0  Will Daniel Ortega win another term as Preside...   \n",
       "\n",
       "                                              q_desc q_status date_start  \\\n",
       "0  'In' refers to any time during the remainder o...   closed     9/1/11   \n",
       "1  'In' refers to any time during the 2012 calend...   closed     9/1/11   \n",
       "2  A 'yes' answer to this question requires not o...   closed     9/1/11   \n",
       "3  'By' means at or prior to the end of the day o...   closed     9/1/11   \n",
       "4  If the Nicaraguan elections do not occur in la...   closed     9/1/11   \n",
       "\n",
       "    date_suspend date_to_close date_closed outcome                short_title  \\\n",
       "0  12/30/11 0:00      12/31/11      1/2/12       b     Six-party talks resume   \n",
       "1   5/14/12 0:00       5/15/12      5/6/12       b        president of Russia   \n",
       "2  12/30/11 0:00      12/31/11      1/3/12       b        Serbia EU candidacy   \n",
       "3   9/29/11 0:00       9/30/11     9/30/11       b  UN-GA recognize Palestine   \n",
       "4   11/4/11 0:00       11/5/11     11/5/11       a    Ortega win in Nicaragua   \n",
       "\n",
       "   days_open  n_opts                               options  \n",
       "0      123.0       2                       (a) Yes, (b) No  \n",
       "1      248.0       3  (a) Medvedev, (b) Putin, (c) Neither  \n",
       "2      124.0       2                       (a) Yes, (b) No  \n",
       "3       29.0       2                       (a) Yes, (b) No  \n",
       "4       65.0       2                       (a) Yes, (b) No  "
      ]
     },
     "execution_count": 4,
     "metadata": {},
     "output_type": "execute_result"
    }
   ],
   "source": [
    "ifps.head(5)"
   ]
  },
  {
   "cell_type": "code",
   "execution_count": 5,
   "id": "8081b886",
   "metadata": {},
   "outputs": [
    {
     "data": {
      "text/plain": [
       "('Will the Six-Party talks (among the US, North Korea, South Korea, Russia, China, and Japan) formally resume in 2011?',\n",
       " 'Will **national military force(s) from one or more countries *intervene in Syria **before 1 December 2014?',\n",
       " 'When will Mariano Rajoy vacate the office of Prime Minister of Spain?')"
      ]
     },
     "execution_count": 5,
     "metadata": {},
     "output_type": "execute_result"
    }
   ],
   "source": [
    "q_ifps = pd.DataFrame(ifps['q_text'].unique(), columns=['questions'])\n",
    "unique_q_num = q_ifps.nunique()\n",
    "\n",
    "# show some of them\n",
    "(\n",
    "q_ifps.questions[0], \n",
    "q_ifps.questions[391], \n",
    "q_ifps.questions[200] \n",
    ")"
   ]
  },
  {
   "cell_type": "code",
   "execution_count": 6,
   "id": "3472ab04",
   "metadata": {},
   "outputs": [
    {
     "data": {
      "text/plain": [
       "'Всего вопросов : 527'"
      ]
     },
     "execution_count": 6,
     "metadata": {},
     "output_type": "execute_result"
    }
   ],
   "source": [
    "f'Всего вопросов : {unique_q_num[0]}'"
   ]
  },
  {
   "cell_type": "markdown",
   "id": "0eb2c098",
   "metadata": {},
   "source": [
    "___\n",
    "### Предсказание людей в зависимости от их ответа в прошлый год"
   ]
  },
  {
   "cell_type": "code",
   "execution_count": 7,
   "id": "1f7068cf",
   "metadata": {},
   "outputs": [],
   "source": [
    "user_answers = survey_fcasts[['ifp_id','user_id','q_status','year','answer_option','timestamp','value','fcast_type','fcast_date']]\n",
    "user_answers = user_answers[(~user_answers.user_id.isna()) & (user_answers.q_status == 'closed')].reset_index(drop=True)\n",
    "\n",
    "user_answers['ans_type'] = user_answers.ifp_id.apply(lambda x: x[5:]).astype(int)\n",
    "user_answers['question'] = user_answers.ifp_id.apply(lambda x: x[:4]).astype(int)\n",
    "\n",
    "assert user_answers.user_id.apply(lambda x: x.is_integer()).sum() == user_answers.shape[0]\n",
    "\n",
    "user_answers['user_id'] = user_answers['user_id'].astype(int)\n",
    "user_answers = user_answers.sort_values(['question','user_id'])"
   ]
  },
  {
   "cell_type": "code",
   "execution_count": 8,
   "id": "5b93c85c",
   "metadata": {},
   "outputs": [
    {
     "data": {
      "text/html": [
       "<div>\n",
       "<style scoped>\n",
       "    .dataframe tbody tr th:only-of-type {\n",
       "        vertical-align: middle;\n",
       "    }\n",
       "\n",
       "    .dataframe tbody tr th {\n",
       "        vertical-align: top;\n",
       "    }\n",
       "\n",
       "    .dataframe thead th {\n",
       "        text-align: right;\n",
       "    }\n",
       "</style>\n",
       "<table border=\"1\" class=\"dataframe\">\n",
       "  <thead>\n",
       "    <tr style=\"text-align: right;\">\n",
       "      <th></th>\n",
       "      <th>ifp_id</th>\n",
       "      <th>user_id</th>\n",
       "      <th>q_status</th>\n",
       "      <th>year</th>\n",
       "      <th>answer_option</th>\n",
       "      <th>timestamp</th>\n",
       "      <th>value</th>\n",
       "      <th>fcast_type</th>\n",
       "      <th>fcast_date</th>\n",
       "      <th>ans_type</th>\n",
       "      <th>question</th>\n",
       "    </tr>\n",
       "  </thead>\n",
       "  <tbody>\n",
       "    <tr>\n",
       "      <th>5555</th>\n",
       "      <td>1001-0</td>\n",
       "      <td>3</td>\n",
       "      <td>closed</td>\n",
       "      <td>1</td>\n",
       "      <td>a</td>\n",
       "      <td>2011-09-06 05:46:12</td>\n",
       "      <td>0.5</td>\n",
       "      <td>1</td>\n",
       "      <td>2011-09-06</td>\n",
       "      <td>0</td>\n",
       "      <td>1001</td>\n",
       "    </tr>\n",
       "    <tr>\n",
       "      <th>5556</th>\n",
       "      <td>1001-0</td>\n",
       "      <td>3</td>\n",
       "      <td>closed</td>\n",
       "      <td>1</td>\n",
       "      <td>b</td>\n",
       "      <td>2011-09-06 05:46:12</td>\n",
       "      <td>0.5</td>\n",
       "      <td>1</td>\n",
       "      <td>2011-09-06</td>\n",
       "      <td>0</td>\n",
       "      <td>1001</td>\n",
       "    </tr>\n",
       "  </tbody>\n",
       "</table>\n",
       "</div>"
      ],
      "text/plain": [
       "      ifp_id  user_id q_status  year answer_option            timestamp  \\\n",
       "5555  1001-0        3   closed     1             a  2011-09-06 05:46:12   \n",
       "5556  1001-0        3   closed     1             b  2011-09-06 05:46:12   \n",
       "\n",
       "      value  fcast_type  fcast_date  ans_type  question  \n",
       "5555    0.5           1  2011-09-06         0      1001  \n",
       "5556    0.5           1  2011-09-06         0      1001  "
      ]
     },
     "execution_count": 8,
     "metadata": {},
     "output_type": "execute_result"
    }
   ],
   "source": [
    "user_answers.head(2)"
   ]
  },
  {
   "cell_type": "code",
   "execution_count": 9,
   "id": "88fd33c7",
   "metadata": {},
   "outputs": [],
   "source": [
    "mask = (ifps.q_status == 'closed') & (ifps.n_opts == 2) & (ifps.q_type == 0)\n",
    "question_answers = ifps[mask][['ifp_id','outcome','date_closed']]\n",
    "assert question_answers.ifp_id.nunique() == question_answers.shape[0]"
   ]
  },
  {
   "cell_type": "code",
   "execution_count": 10,
   "id": "1419d132",
   "metadata": {},
   "outputs": [
    {
     "data": {
      "text/html": [
       "<div>\n",
       "<style scoped>\n",
       "    .dataframe tbody tr th:only-of-type {\n",
       "        vertical-align: middle;\n",
       "    }\n",
       "\n",
       "    .dataframe tbody tr th {\n",
       "        vertical-align: top;\n",
       "    }\n",
       "\n",
       "    .dataframe thead th {\n",
       "        text-align: right;\n",
       "    }\n",
       "</style>\n",
       "<table border=\"1\" class=\"dataframe\">\n",
       "  <thead>\n",
       "    <tr style=\"text-align: right;\">\n",
       "      <th></th>\n",
       "      <th>ifp_id</th>\n",
       "      <th>outcome</th>\n",
       "      <th>date_closed</th>\n",
       "    </tr>\n",
       "  </thead>\n",
       "  <tbody>\n",
       "    <tr>\n",
       "      <th>0</th>\n",
       "      <td>1001-0</td>\n",
       "      <td>b</td>\n",
       "      <td>1/2/12</td>\n",
       "    </tr>\n",
       "    <tr>\n",
       "      <th>2</th>\n",
       "      <td>1003-0</td>\n",
       "      <td>b</td>\n",
       "      <td>1/3/12</td>\n",
       "    </tr>\n",
       "  </tbody>\n",
       "</table>\n",
       "</div>"
      ],
      "text/plain": [
       "   ifp_id outcome date_closed\n",
       "0  1001-0       b      1/2/12\n",
       "2  1003-0       b      1/3/12"
      ]
     },
     "execution_count": 10,
     "metadata": {},
     "output_type": "execute_result"
    }
   ],
   "source": [
    "question_answers.head(2)"
   ]
  },
  {
   "cell_type": "markdown",
   "id": "6514bd69",
   "metadata": {},
   "source": [
    "### Creating final DataFrame"
   ]
  },
  {
   "cell_type": "code",
   "execution_count": 11,
   "id": "8131c962",
   "metadata": {},
   "outputs": [],
   "source": [
    "ans = question_answers.merge(user_answers, on='ifp_id', how='inner').drop(['q_status', 'ans_type', 'question'], axis=1)\n",
    "ans.timestamp = ans.timestamp.astype('datetime64[ns]')\n",
    "ans[\"outcome\"] = (ans[\"outcome\"] == \"a\").astype(int)\n",
    "ans = ans.query('answer_option == \"a\"')\n",
    "\n",
    "ans[\"date_closed\"] = pd.to_datetime(ans[\"date_closed\"]) + pd.Timedelta(days=1)\n",
    "ans.dropna(subset=[\"user_id\"], inplace = True)\n",
    "\n",
    "ans[\"user_id\"] = ans[\"user_id\"].astype(int).astype(str)\n",
    "ans[\"days_until_closure\"] = (ans[\"date_closed\"] - ans[\"timestamp\"]).dt.days\n",
    "\n",
    "master_data = ans.query(\"days_until_closure > 15\").sort_values('fcast_date').groupby(['ifp_id', 'user_id']).tail(1)"
   ]
  },
  {
   "cell_type": "code",
   "execution_count": 12,
   "id": "09d84f5d",
   "metadata": {},
   "outputs": [],
   "source": [
    "model = SentenceTransformer('sentence-transformers/all-distilroberta-v1')\n",
    "sent_embeddings = model.encode(ifps.q_text)\n",
    "embedding_df = pd.DataFrame(sent_embeddings)\n",
    "embedding_df[\"ifp_id\"] = ifps.ifp_id"
   ]
  },
  {
   "cell_type": "code",
   "execution_count": 13,
   "id": "778ccf6a",
   "metadata": {},
   "outputs": [],
   "source": [
    "event_outcomes = master_data.groupby(\"ifp_id\").outcome.max().reset_index()\n",
    "expert_inputs = master_data.pivot(index = \"ifp_id\", columns = \"user_id\", values = \"value\").fillna(0)\n",
    "final_ans = pd.merge(pd.merge(expert_inputs, event_outcomes, on=\"ifp_id\"), embedding_df, on=\"ifp_id\")"
   ]
  },
  {
   "cell_type": "code",
   "execution_count": 14,
   "id": "49fde957",
   "metadata": {},
   "outputs": [
    {
     "data": {
      "text/html": [
       "<div>\n",
       "<style scoped>\n",
       "    .dataframe tbody tr th:only-of-type {\n",
       "        vertical-align: middle;\n",
       "    }\n",
       "\n",
       "    .dataframe tbody tr th {\n",
       "        vertical-align: top;\n",
       "    }\n",
       "\n",
       "    .dataframe thead th {\n",
       "        text-align: right;\n",
       "    }\n",
       "</style>\n",
       "<table border=\"1\" class=\"dataframe\">\n",
       "  <thead>\n",
       "    <tr style=\"text-align: right;\">\n",
       "      <th></th>\n",
       "      <th>ifp_id</th>\n",
       "      <th>1000</th>\n",
       "      <th>10001</th>\n",
       "      <th>10010</th>\n",
       "      <th>10014</th>\n",
       "      <th>10016</th>\n",
       "      <th>10034</th>\n",
       "      <th>10043</th>\n",
       "      <th>10046</th>\n",
       "      <th>10049</th>\n",
       "      <th>...</th>\n",
       "      <th>758</th>\n",
       "      <th>759</th>\n",
       "      <th>760</th>\n",
       "      <th>761</th>\n",
       "      <th>762</th>\n",
       "      <th>763</th>\n",
       "      <th>764</th>\n",
       "      <th>765</th>\n",
       "      <th>766</th>\n",
       "      <th>767</th>\n",
       "    </tr>\n",
       "  </thead>\n",
       "  <tbody>\n",
       "    <tr>\n",
       "      <th>0</th>\n",
       "      <td>1001-0</td>\n",
       "      <td>0.00</td>\n",
       "      <td>0.0</td>\n",
       "      <td>0.0</td>\n",
       "      <td>0.0</td>\n",
       "      <td>0.0</td>\n",
       "      <td>0.0</td>\n",
       "      <td>0.0</td>\n",
       "      <td>0.0</td>\n",
       "      <td>0.0</td>\n",
       "      <td>...</td>\n",
       "      <td>-0.012801</td>\n",
       "      <td>0.054331</td>\n",
       "      <td>-0.003304</td>\n",
       "      <td>0.056317</td>\n",
       "      <td>-0.032626</td>\n",
       "      <td>-0.003777</td>\n",
       "      <td>-0.126869</td>\n",
       "      <td>0.005910</td>\n",
       "      <td>-0.014981</td>\n",
       "      <td>0.071226</td>\n",
       "    </tr>\n",
       "    <tr>\n",
       "      <th>1</th>\n",
       "      <td>1003-0</td>\n",
       "      <td>0.00</td>\n",
       "      <td>0.0</td>\n",
       "      <td>0.0</td>\n",
       "      <td>0.0</td>\n",
       "      <td>0.0</td>\n",
       "      <td>0.0</td>\n",
       "      <td>0.0</td>\n",
       "      <td>0.0</td>\n",
       "      <td>0.0</td>\n",
       "      <td>...</td>\n",
       "      <td>0.089883</td>\n",
       "      <td>0.073422</td>\n",
       "      <td>-0.009131</td>\n",
       "      <td>0.026745</td>\n",
       "      <td>0.032391</td>\n",
       "      <td>0.011453</td>\n",
       "      <td>-0.046191</td>\n",
       "      <td>0.044056</td>\n",
       "      <td>0.023257</td>\n",
       "      <td>0.072150</td>\n",
       "    </tr>\n",
       "    <tr>\n",
       "      <th>2</th>\n",
       "      <td>1004-0</td>\n",
       "      <td>0.75</td>\n",
       "      <td>0.0</td>\n",
       "      <td>0.0</td>\n",
       "      <td>0.0</td>\n",
       "      <td>0.0</td>\n",
       "      <td>0.0</td>\n",
       "      <td>0.0</td>\n",
       "      <td>0.0</td>\n",
       "      <td>0.0</td>\n",
       "      <td>...</td>\n",
       "      <td>-0.007930</td>\n",
       "      <td>0.043772</td>\n",
       "      <td>-0.006600</td>\n",
       "      <td>0.054891</td>\n",
       "      <td>-0.040151</td>\n",
       "      <td>0.024860</td>\n",
       "      <td>0.026045</td>\n",
       "      <td>0.057843</td>\n",
       "      <td>-0.017360</td>\n",
       "      <td>0.053682</td>\n",
       "    </tr>\n",
       "    <tr>\n",
       "      <th>3</th>\n",
       "      <td>1005-0</td>\n",
       "      <td>0.75</td>\n",
       "      <td>0.0</td>\n",
       "      <td>0.0</td>\n",
       "      <td>0.0</td>\n",
       "      <td>0.0</td>\n",
       "      <td>0.0</td>\n",
       "      <td>0.0</td>\n",
       "      <td>0.0</td>\n",
       "      <td>0.0</td>\n",
       "      <td>...</td>\n",
       "      <td>-0.009694</td>\n",
       "      <td>0.015173</td>\n",
       "      <td>-0.012122</td>\n",
       "      <td>-0.016311</td>\n",
       "      <td>-0.029741</td>\n",
       "      <td>-0.041757</td>\n",
       "      <td>-0.019839</td>\n",
       "      <td>0.061313</td>\n",
       "      <td>-0.008035</td>\n",
       "      <td>0.011067</td>\n",
       "    </tr>\n",
       "    <tr>\n",
       "      <th>4</th>\n",
       "      <td>1006-0</td>\n",
       "      <td>0.00</td>\n",
       "      <td>0.0</td>\n",
       "      <td>0.0</td>\n",
       "      <td>0.0</td>\n",
       "      <td>0.0</td>\n",
       "      <td>0.0</td>\n",
       "      <td>0.0</td>\n",
       "      <td>0.0</td>\n",
       "      <td>0.0</td>\n",
       "      <td>...</td>\n",
       "      <td>0.033361</td>\n",
       "      <td>0.051581</td>\n",
       "      <td>-0.093910</td>\n",
       "      <td>0.055607</td>\n",
       "      <td>0.062607</td>\n",
       "      <td>-0.011050</td>\n",
       "      <td>0.011645</td>\n",
       "      <td>-0.015175</td>\n",
       "      <td>0.009894</td>\n",
       "      <td>-0.036332</td>\n",
       "    </tr>\n",
       "  </tbody>\n",
       "</table>\n",
       "<p>5 rows × 9810 columns</p>\n",
       "</div>"
      ],
      "text/plain": [
       "   ifp_id  1000  10001  10010  10014  10016  10034  10043  10046  10049  ...  \\\n",
       "0  1001-0  0.00    0.0    0.0    0.0    0.0    0.0    0.0    0.0    0.0  ...   \n",
       "1  1003-0  0.00    0.0    0.0    0.0    0.0    0.0    0.0    0.0    0.0  ...   \n",
       "2  1004-0  0.75    0.0    0.0    0.0    0.0    0.0    0.0    0.0    0.0  ...   \n",
       "3  1005-0  0.75    0.0    0.0    0.0    0.0    0.0    0.0    0.0    0.0  ...   \n",
       "4  1006-0  0.00    0.0    0.0    0.0    0.0    0.0    0.0    0.0    0.0  ...   \n",
       "\n",
       "        758       759       760       761       762       763       764  \\\n",
       "0 -0.012801  0.054331 -0.003304  0.056317 -0.032626 -0.003777 -0.126869   \n",
       "1  0.089883  0.073422 -0.009131  0.026745  0.032391  0.011453 -0.046191   \n",
       "2 -0.007930  0.043772 -0.006600  0.054891 -0.040151  0.024860  0.026045   \n",
       "3 -0.009694  0.015173 -0.012122 -0.016311 -0.029741 -0.041757 -0.019839   \n",
       "4  0.033361  0.051581 -0.093910  0.055607  0.062607 -0.011050  0.011645   \n",
       "\n",
       "        765       766       767  \n",
       "0  0.005910 -0.014981  0.071226  \n",
       "1  0.044056  0.023257  0.072150  \n",
       "2  0.057843 -0.017360  0.053682  \n",
       "3  0.061313 -0.008035  0.011067  \n",
       "4 -0.015175  0.009894 -0.036332  \n",
       "\n",
       "[5 rows x 9810 columns]"
      ]
     },
     "execution_count": 14,
     "metadata": {},
     "output_type": "execute_result"
    }
   ],
   "source": [
    "final_ans.head()"
   ]
  },
  {
   "cell_type": "markdown",
   "id": "129a7b23",
   "metadata": {},
   "source": [
    "### Spliting dataframe on train and test"
   ]
  },
  {
   "cell_type": "code",
   "execution_count": 15,
   "id": "a3b1acae",
   "metadata": {},
   "outputs": [],
   "source": [
    "from sklearn.model_selection import train_test_split"
   ]
  },
  {
   "cell_type": "code",
   "execution_count": 78,
   "id": "38d019dd",
   "metadata": {},
   "outputs": [],
   "source": [
    "X = final_ans.drop(['ifp_id', 'outcome'], axis=1)\n",
    "y = final_ans['outcome']\n",
    "\n",
    "X_train, X_test, y_train, y_test = train_test_split(X, y, test_size=0.2, random_state=42)"
   ]
  },
  {
   "cell_type": "markdown",
   "id": "52351dc5",
   "metadata": {},
   "source": [
    "### Tuning hyperparameter "
   ]
  },
  {
   "cell_type": "code",
   "execution_count": 103,
   "id": "dddea9be",
   "metadata": {},
   "outputs": [
    {
     "name": "stderr",
     "output_type": "stream",
     "text": [
      "100%|██████████████████████████████████████████████████████████████████████████████████| 20/20 [00:09<00:00,  2.16it/s]\n"
     ]
    }
   ],
   "source": [
    "bs = np.zeros(20)\n",
    "different_C = np.geomspace(0.01, 5, 20)\n",
    "\n",
    "for i in tqdm(range(len(different_C))):\n",
    "    clf = LogisticRegression(penalty='l2', C=different_C[i]).fit(X_train, y_train)\n",
    "    y_prob = clf.predict_proba(X_test)[:, 1]\n",
    "    \n",
    "    bs[i] = brier_score_loss(y_test, y_prob)\n",
    "    \n",
    "bs = list(bs)\n",
    "different_C = list(different_C)"
   ]
  },
  {
   "cell_type": "code",
   "execution_count": 104,
   "id": "582d651f",
   "metadata": {},
   "outputs": [
    {
     "data": {
      "image/png": "[encoded data removed]",
      "text/plain": [
       "<Figure size 1296x432 with 1 Axes>"
      ]
     },
     "metadata": {
      "needs_background": "light"
     },
     "output_type": "display_data"
    }
   ],
   "source": [
    "plt.figure(figsize=(18,6))\n",
    "\n",
    "plt.title('Зависимость Brier Score от гиперпараметра C', fontsize=25)\n",
    "\n",
    "plt.plot(different_C, bs)\n",
    "plt.scatter(different_C[bs.index(min(bs))], min(bs), color='red', linewidths=5, alpha=1)\n",
    "\n",
    "plt.xlabel('C regularizaton parameter', fontsize=20)\n",
    "plt.ylabel('Brier Score', fontsize=20)\n",
    "plt.grid()\n",
    "plt.show()"
   ]
  },
  {
   "cell_type": "code",
   "execution_count": 106,
   "id": "a56d7c0a",
   "metadata": {},
   "outputs": [
    {
     "name": "stdout",
     "output_type": "stream",
     "text": [
      "Минимальное значение BS = 0.0352 при C = 0.7\n",
      "Simple mean BS = 0.1099\n"
     ]
    }
   ],
   "source": [
    "print(f'Минимальное значение BS = {min(bs):.4f} при C = {different_C[bs.index(min(bs))]:.1f}')\n",
    "\n",
    "simple_means = master_data.groupby(\"ifp_id\").agg({\"outcome\": \"mean\", \"value\": \"mean\"})\n",
    "print(f'Simple mean BS = {np.mean((simple_means[\"value\"] - simple_means[\"outcome\"])**2):.4f}')"
   ]
  },
  {
   "cell_type": "markdown",
   "id": "39368f3f",
   "metadata": {},
   "source": [
    "## Кросс-валидация и grid-search (для стабильности)"
   ]
  },
  {
   "cell_type": "code",
   "execution_count": 82,
   "id": "88fae60a",
   "metadata": {},
   "outputs": [],
   "source": [
    "from sklearn.model_selection import KFold, cross_val_score"
   ]
  },
  {
   "cell_type": "code",
   "execution_count": 83,
   "id": "281bb619",
   "metadata": {},
   "outputs": [],
   "source": [
    "from sklearn.model_selection import GridSearchCV"
   ]
  },
  {
   "cell_type": "code",
   "execution_count": 99,
   "id": "fa26dd87",
   "metadata": {},
   "outputs": [],
   "source": [
    "k_fold = KFold(n_splits=5)\n",
    "parameters = {'C': np.geomspace(0.01, 5, 20)}\n",
    "\n",
    "lr = LogisticRegression(penalty='l2', random_state=12)\n",
    "\n",
    "clf = GridSearchCV(lr, parameters, cv=k_fold, scoring='neg_brier_score')"
   ]
  },
  {
   "cell_type": "code",
   "execution_count": 100,
   "id": "d0d9b126",
   "metadata": {},
   "outputs": [
    {
     "data": {
      "text/html": [
       "<style>#sk-container-id-12 {color: black;background-color: white;}#sk-container-id-12 pre{padding: 0;}#sk-container-id-12 div.sk-toggleable {background-color: white;}#sk-container-id-12 label.sk-toggleable__label {cursor: pointer;display: block;width: 100%;margin-bottom: 0;padding: 0.3em;box-sizing: border-box;text-align: center;}#sk-container-id-12 label.sk-toggleable__label-arrow:before {content: \"▸\";float: left;margin-right: 0.25em;color: #696969;}#sk-container-id-12 label.sk-toggleable__label-arrow:hover:before {color: black;}#sk-container-id-12 div.sk-estimator:hover label.sk-toggleable__label-arrow:before {color: black;}#sk-container-id-12 div.sk-toggleable__content {max-height: 0;max-width: 0;overflow: hidden;text-align: left;background-color: #f0f8ff;}#sk-container-id-12 div.sk-toggleable__content pre {margin: 0.2em;color: black;border-radius: 0.25em;background-color: #f0f8ff;}#sk-container-id-12 input.sk-toggleable__control:checked~div.sk-toggleable__content {max-height: 200px;max-width: 100%;overflow: auto;}#sk-container-id-12 input.sk-toggleable__control:checked~label.sk-toggleable__label-arrow:before {content: \"▾\";}#sk-container-id-12 div.sk-estimator input.sk-toggleable__control:checked~label.sk-toggleable__label {background-color: #d4ebff;}#sk-container-id-12 div.sk-label input.sk-toggleable__control:checked~label.sk-toggleable__label {background-color: #d4ebff;}#sk-container-id-12 input.sk-hidden--visually {border: 0;clip: rect(1px 1px 1px 1px);clip: rect(1px, 1px, 1px, 1px);height: 1px;margin: -1px;overflow: hidden;padding: 0;position: absolute;width: 1px;}#sk-container-id-12 div.sk-estimator {font-family: monospace;background-color: #f0f8ff;border: 1px dotted black;border-radius: 0.25em;box-sizing: border-box;margin-bottom: 0.5em;}#sk-container-id-12 div.sk-estimator:hover {background-color: #d4ebff;}#sk-container-id-12 div.sk-parallel-item::after {content: \"\";width: 100%;border-bottom: 1px solid gray;flex-grow: 1;}#sk-container-id-12 div.sk-label:hover label.sk-toggleable__label {background-color: #d4ebff;}#sk-container-id-12 div.sk-serial::before {content: \"\";position: absolute;border-left: 1px solid gray;box-sizing: border-box;top: 0;bottom: 0;left: 50%;z-index: 0;}#sk-container-id-12 div.sk-serial {display: flex;flex-direction: column;align-items: center;background-color: white;padding-right: 0.2em;padding-left: 0.2em;position: relative;}#sk-container-id-12 div.sk-item {position: relative;z-index: 1;}#sk-container-id-12 div.sk-parallel {display: flex;align-items: stretch;justify-content: center;background-color: white;position: relative;}#sk-container-id-12 div.sk-item::before, #sk-container-id-12 div.sk-parallel-item::before {content: \"\";position: absolute;border-left: 1px solid gray;box-sizing: border-box;top: 0;bottom: 0;left: 50%;z-index: -1;}#sk-container-id-12 div.sk-parallel-item {display: flex;flex-direction: column;z-index: 1;position: relative;background-color: white;}#sk-container-id-12 div.sk-parallel-item:first-child::after {align-self: flex-end;width: 50%;}#sk-container-id-12 div.sk-parallel-item:last-child::after {align-self: flex-start;width: 50%;}#sk-container-id-12 div.sk-parallel-item:only-child::after {width: 0;}#sk-container-id-12 div.sk-dashed-wrapped {border: 1px dashed gray;margin: 0 0.4em 0.5em 0.4em;box-sizing: border-box;padding-bottom: 0.4em;background-color: white;}#sk-container-id-12 div.sk-label label {font-family: monospace;font-weight: bold;display: inline-block;line-height: 1.2em;}#sk-container-id-12 div.sk-label-container {text-align: center;}#sk-container-id-12 div.sk-container {/* jupyter's `normalize.less` sets `[hidden] { display: none; }` but bootstrap.min.css set `[hidden] { display: none !important; }` so we also need the `!important` here to be able to override the default hidden behavior on the sphinx rendered scikit-learn.org. See: https://github.com/scikit-learn/scikit-learn/issues/21755 */display: inline-block !important;position: relative;}#sk-container-id-12 div.sk-text-repr-fallback {display: none;}</style><div id=\"sk-container-id-12\" class=\"sk-top-container\"><div class=\"sk-text-repr-fallback\"><pre>LogisticRegression(C=0.3652259113562679, random_state=12)</pre><b>In a Jupyter environment, please rerun this cell to show the HTML representation or trust the notebook. <br />On GitHub, the HTML representation is unable to render, please try loading this page with nbviewer.org.</b></div><div class=\"sk-container\" hidden><div class=\"sk-item\"><div class=\"sk-estimator sk-toggleable\"><input class=\"sk-toggleable__control sk-hidden--visually\" id=\"sk-estimator-id-24\" type=\"checkbox\" checked><label for=\"sk-estimator-id-24\" class=\"sk-toggleable__label sk-toggleable__label-arrow\">LogisticRegression</label><div class=\"sk-toggleable__content\"><pre>LogisticRegression(C=0.3652259113562679, random_state=12)</pre></div></div></div></div></div>"
      ],
      "text/plain": [
       "LogisticRegression(C=0.3652259113562679, random_state=12)"
      ]
     },
     "execution_count": 100,
     "metadata": {},
     "output_type": "execute_result"
    }
   ],
   "source": [
    "clf.fit(X_train, y_train)\n",
    "\n",
    "clf.best_estimator_"
   ]
  },
  {
   "cell_type": "code",
   "execution_count": 101,
   "id": "395f71bb",
   "metadata": {},
   "outputs": [],
   "source": [
    "y_prob = clf.predict_proba(X_test)[:, 1]"
   ]
  },
  {
   "cell_type": "code",
   "execution_count": 102,
   "id": "1b474a44",
   "metadata": {},
   "outputs": [
    {
     "data": {
      "text/plain": [
       "0.03554505333986127"
      ]
     },
     "execution_count": 102,
     "metadata": {},
     "output_type": "execute_result"
    }
   ],
   "source": [
    "brier_score_loss(y_test, y_prob)"
   ]
  },
  {
   "cell_type": "code",
   "execution_count": null,
   "id": "f8397f5f",
   "metadata": {},
   "outputs": [],
   "source": []
  }
 ],
 "metadata": {
  "kernelspec": {
   "display_name": "Python 3 (ipykernel)",
   "language": "python",
   "name": "python3"
  },
  "language_info": {
   "codemirror_mode": {
    "name": "ipython",
    "version": 3
   },
   "file_extension": ".py",
   "mimetype": "text/x-python",
   "name": "python",
   "nbconvert_exporter": "python",
   "pygments_lexer": "ipython3",
   "version": "3.8.11"
  }
 },
 "nbformat": 4,
 "nbformat_minor": 5
}
