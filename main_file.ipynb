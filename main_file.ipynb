{
 "cells": [
  {
   "cell_type": "markdown",
   "id": "fbda1f25",
   "metadata": {},
   "source": [
    "### Libraries"
   ]
  },
  {
   "cell_type": "code",
   "execution_count": 1,
   "id": "544bbf77",
   "metadata": {},
   "outputs": [],
   "source": [
    "import glob\n",
    "import os\n",
    "import pandas as pd\n",
    "\n",
    "import numpy as np\n",
    "from tqdm import tqdm\n",
    "\n",
    "from sklearn.linear_model import RidgeClassifier\n",
    "from sklearn.preprocessing import StandardScaler\n",
    "\n",
    "from sklearn.linear_model import LogisticRegression\n",
    "from sklearn.metrics import brier_score_loss\n",
    "\n",
    "import matplotlib.pyplot as plt\n",
    "\n",
    "from sentence_transformers import SentenceTransformer\n",
    "\n",
    "import warnings\n",
    "warnings.filterwarnings(\"ignore\")"
   ]
  },
  {
   "cell_type": "markdown",
   "id": "14cab65c",
   "metadata": {},
   "source": [
    "___\n",
    "### Выгрузка данных "
   ]
  },
  {
   "cell_type": "code",
   "execution_count": 2,
   "id": "6965d5dd",
   "metadata": {},
   "outputs": [],
   "source": [
    "survey_fcasts = pd.DataFrame()\n",
    "\n",
    "file_type = 'csv'\n",
    "seperator =','\n",
    "\n",
    "for f in glob.glob(\"*.\" + file_type):\n",
    "    if f[:13] == 'survey_fcasts':\n",
    "        data = pd.read_csv(f, sep=seperator, low_memory=False, encoding='ISO-8859-1')\n",
    "        survey_fcasts = pd.concat([survey_fcasts, data])\n",
    "    \n",
    "\n",
    "ifps = pd.read_csv('ifps.csv', sep=seperator, encoding='ISO-8859-1')"
   ]
  },
  {
   "cell_type": "code",
   "execution_count": 3,
   "id": "a7d676f1",
   "metadata": {},
   "outputs": [
    {
     "data": {
      "text/html": [
       "<div>\n",
       "<style scoped>\n",
       "    .dataframe tbody tr th:only-of-type {\n",
       "        vertical-align: middle;\n",
       "    }\n",
       "\n",
       "    .dataframe tbody tr th {\n",
       "        vertical-align: top;\n",
       "    }\n",
       "\n",
       "    .dataframe thead th {\n",
       "        text-align: right;\n",
       "    }\n",
       "</style>\n",
       "<table border=\"1\" class=\"dataframe\">\n",
       "  <thead>\n",
       "    <tr style=\"text-align: right;\">\n",
       "      <th></th>\n",
       "      <th>ifp_id</th>\n",
       "      <th>ctt</th>\n",
       "      <th>cond</th>\n",
       "      <th>training</th>\n",
       "      <th>team</th>\n",
       "      <th>user_id</th>\n",
       "      <th>forecast_id</th>\n",
       "      <th>fcast_type</th>\n",
       "      <th>answer_option</th>\n",
       "      <th>value</th>\n",
       "      <th>fcast_date</th>\n",
       "      <th>expertise</th>\n",
       "      <th>q_status</th>\n",
       "      <th>viewtime</th>\n",
       "      <th>year</th>\n",
       "      <th>timestamp</th>\n",
       "    </tr>\n",
       "  </thead>\n",
       "  <tbody>\n",
       "    <tr>\n",
       "      <th>0</th>\n",
       "      <td>1004-0</td>\n",
       "      <td>1a</td>\n",
       "      <td>1</td>\n",
       "      <td>a</td>\n",
       "      <td>NaN</td>\n",
       "      <td>600.0</td>\n",
       "      <td>-200987.0</td>\n",
       "      <td>0</td>\n",
       "      <td>a</td>\n",
       "      <td>0.10</td>\n",
       "      <td>2011-08-31</td>\n",
       "      <td>1.0</td>\n",
       "      <td>closed</td>\n",
       "      <td>NaN</td>\n",
       "      <td>1</td>\n",
       "      <td>2011-08-31 16:17:18</td>\n",
       "    </tr>\n",
       "    <tr>\n",
       "      <th>1</th>\n",
       "      <td>1004-0</td>\n",
       "      <td>1a</td>\n",
       "      <td>1</td>\n",
       "      <td>a</td>\n",
       "      <td>NaN</td>\n",
       "      <td>600.0</td>\n",
       "      <td>-200987.0</td>\n",
       "      <td>0</td>\n",
       "      <td>b</td>\n",
       "      <td>0.90</td>\n",
       "      <td>2011-08-31</td>\n",
       "      <td>1.0</td>\n",
       "      <td>closed</td>\n",
       "      <td>NaN</td>\n",
       "      <td>1</td>\n",
       "      <td>2011-08-31 16:17:18</td>\n",
       "    </tr>\n",
       "    <tr>\n",
       "      <th>2</th>\n",
       "      <td>1008-0</td>\n",
       "      <td>1a</td>\n",
       "      <td>1</td>\n",
       "      <td>a</td>\n",
       "      <td>NaN</td>\n",
       "      <td>600.0</td>\n",
       "      <td>-200986.0</td>\n",
       "      <td>0</td>\n",
       "      <td>a</td>\n",
       "      <td>0.25</td>\n",
       "      <td>2011-08-31</td>\n",
       "      <td>2.0</td>\n",
       "      <td>closed</td>\n",
       "      <td>NaN</td>\n",
       "      <td>1</td>\n",
       "      <td>2011-08-31 16:18:27</td>\n",
       "    </tr>\n",
       "    <tr>\n",
       "      <th>3</th>\n",
       "      <td>1008-0</td>\n",
       "      <td>1a</td>\n",
       "      <td>1</td>\n",
       "      <td>a</td>\n",
       "      <td>NaN</td>\n",
       "      <td>600.0</td>\n",
       "      <td>-200986.0</td>\n",
       "      <td>0</td>\n",
       "      <td>b</td>\n",
       "      <td>0.75</td>\n",
       "      <td>2011-08-31</td>\n",
       "      <td>2.0</td>\n",
       "      <td>closed</td>\n",
       "      <td>NaN</td>\n",
       "      <td>1</td>\n",
       "      <td>2011-08-31 16:18:27</td>\n",
       "    </tr>\n",
       "    <tr>\n",
       "      <th>4</th>\n",
       "      <td>1006-0</td>\n",
       "      <td>1a</td>\n",
       "      <td>1</td>\n",
       "      <td>a</td>\n",
       "      <td>NaN</td>\n",
       "      <td>600.0</td>\n",
       "      <td>-200985.0</td>\n",
       "      <td>0</td>\n",
       "      <td>a</td>\n",
       "      <td>0.10</td>\n",
       "      <td>2011-08-31</td>\n",
       "      <td>3.0</td>\n",
       "      <td>closed</td>\n",
       "      <td>NaN</td>\n",
       "      <td>1</td>\n",
       "      <td>2011-08-31 16:18:47</td>\n",
       "    </tr>\n",
       "  </tbody>\n",
       "</table>\n",
       "</div>"
      ],
      "text/plain": [
       "   ifp_id ctt  cond training  team  user_id  forecast_id  fcast_type  \\\n",
       "0  1004-0  1a     1        a   NaN    600.0    -200987.0           0   \n",
       "1  1004-0  1a     1        a   NaN    600.0    -200987.0           0   \n",
       "2  1008-0  1a     1        a   NaN    600.0    -200986.0           0   \n",
       "3  1008-0  1a     1        a   NaN    600.0    -200986.0           0   \n",
       "4  1006-0  1a     1        a   NaN    600.0    -200985.0           0   \n",
       "\n",
       "  answer_option  value  fcast_date  expertise q_status  viewtime  year  \\\n",
       "0             a   0.10  2011-08-31        1.0   closed       NaN     1   \n",
       "1             b   0.90  2011-08-31        1.0   closed       NaN     1   \n",
       "2             a   0.25  2011-08-31        2.0   closed       NaN     1   \n",
       "3             b   0.75  2011-08-31        2.0   closed       NaN     1   \n",
       "4             a   0.10  2011-08-31        3.0   closed       NaN     1   \n",
       "\n",
       "             timestamp  \n",
       "0  2011-08-31 16:17:18  \n",
       "1  2011-08-31 16:17:18  \n",
       "2  2011-08-31 16:18:27  \n",
       "3  2011-08-31 16:18:27  \n",
       "4  2011-08-31 16:18:47  "
      ]
     },
     "execution_count": 3,
     "metadata": {},
     "output_type": "execute_result"
    }
   ],
   "source": [
    "survey_fcasts.head(5)"
   ]
  },
  {
   "cell_type": "code",
   "execution_count": 4,
   "id": "2c450716",
   "metadata": {},
   "outputs": [
    {
     "data": {
      "text/html": [
       "<div>\n",
       "<style scoped>\n",
       "    .dataframe tbody tr th:only-of-type {\n",
       "        vertical-align: middle;\n",
       "    }\n",
       "\n",
       "    .dataframe tbody tr th {\n",
       "        vertical-align: top;\n",
       "    }\n",
       "\n",
       "    .dataframe thead th {\n",
       "        text-align: right;\n",
       "    }\n",
       "</style>\n",
       "<table border=\"1\" class=\"dataframe\">\n",
       "  <thead>\n",
       "    <tr style=\"text-align: right;\">\n",
       "      <th></th>\n",
       "      <th>ifp_id</th>\n",
       "      <th>q_type</th>\n",
       "      <th>q_text</th>\n",
       "      <th>q_desc</th>\n",
       "      <th>q_status</th>\n",
       "      <th>date_start</th>\n",
       "      <th>date_suspend</th>\n",
       "      <th>date_to_close</th>\n",
       "      <th>date_closed</th>\n",
       "      <th>outcome</th>\n",
       "      <th>short_title</th>\n",
       "      <th>days_open</th>\n",
       "      <th>n_opts</th>\n",
       "      <th>options</th>\n",
       "    </tr>\n",
       "  </thead>\n",
       "  <tbody>\n",
       "    <tr>\n",
       "      <th>0</th>\n",
       "      <td>1001-0</td>\n",
       "      <td>0</td>\n",
       "      <td>Will the Six-Party talks (among the US, North ...</td>\n",
       "      <td>'In' refers to any time during the remainder o...</td>\n",
       "      <td>closed</td>\n",
       "      <td>9/1/11</td>\n",
       "      <td>12/30/11 0:00</td>\n",
       "      <td>12/31/11</td>\n",
       "      <td>1/2/12</td>\n",
       "      <td>b</td>\n",
       "      <td>Six-party talks resume</td>\n",
       "      <td>123.0</td>\n",
       "      <td>2</td>\n",
       "      <td>(a) Yes, (b) No</td>\n",
       "    </tr>\n",
       "    <tr>\n",
       "      <th>1</th>\n",
       "      <td>1002-0</td>\n",
       "      <td>0</td>\n",
       "      <td>Who will be inaugurated as President of Russia...</td>\n",
       "      <td>'In' refers to any time during the 2012 calend...</td>\n",
       "      <td>closed</td>\n",
       "      <td>9/1/11</td>\n",
       "      <td>5/14/12 0:00</td>\n",
       "      <td>5/15/12</td>\n",
       "      <td>5/6/12</td>\n",
       "      <td>b</td>\n",
       "      <td>president of Russia</td>\n",
       "      <td>248.0</td>\n",
       "      <td>3</td>\n",
       "      <td>(a) Medvedev, (b) Putin, (c) Neither</td>\n",
       "    </tr>\n",
       "    <tr>\n",
       "      <th>2</th>\n",
       "      <td>1003-0</td>\n",
       "      <td>0</td>\n",
       "      <td>Will Serbia be officially granted EU candidacy...</td>\n",
       "      <td>A 'yes' answer to this question requires not o...</td>\n",
       "      <td>closed</td>\n",
       "      <td>9/1/11</td>\n",
       "      <td>12/30/11 0:00</td>\n",
       "      <td>12/31/11</td>\n",
       "      <td>1/3/12</td>\n",
       "      <td>b</td>\n",
       "      <td>Serbia EU candidacy</td>\n",
       "      <td>124.0</td>\n",
       "      <td>2</td>\n",
       "      <td>(a) Yes, (b) No</td>\n",
       "    </tr>\n",
       "    <tr>\n",
       "      <th>3</th>\n",
       "      <td>1004-0</td>\n",
       "      <td>0</td>\n",
       "      <td>Will the United Nations General Assembly recog...</td>\n",
       "      <td>'By' means at or prior to the end of the day o...</td>\n",
       "      <td>closed</td>\n",
       "      <td>9/1/11</td>\n",
       "      <td>9/29/11 0:00</td>\n",
       "      <td>9/30/11</td>\n",
       "      <td>9/30/11</td>\n",
       "      <td>b</td>\n",
       "      <td>UN-GA recognize Palestine</td>\n",
       "      <td>29.0</td>\n",
       "      <td>2</td>\n",
       "      <td>(a) Yes, (b) No</td>\n",
       "    </tr>\n",
       "    <tr>\n",
       "      <th>4</th>\n",
       "      <td>1005-0</td>\n",
       "      <td>0</td>\n",
       "      <td>Will Daniel Ortega win another term as Preside...</td>\n",
       "      <td>If the Nicaraguan elections do not occur in la...</td>\n",
       "      <td>closed</td>\n",
       "      <td>9/1/11</td>\n",
       "      <td>11/4/11 0:00</td>\n",
       "      <td>11/5/11</td>\n",
       "      <td>11/5/11</td>\n",
       "      <td>a</td>\n",
       "      <td>Ortega win in Nicaragua</td>\n",
       "      <td>65.0</td>\n",
       "      <td>2</td>\n",
       "      <td>(a) Yes, (b) No</td>\n",
       "    </tr>\n",
       "  </tbody>\n",
       "</table>\n",
       "</div>"
      ],
      "text/plain": [
       "   ifp_id  q_type                                             q_text  \\\n",
       "0  1001-0       0  Will the Six-Party talks (among the US, North ...   \n",
       "1  1002-0       0  Who will be inaugurated as President of Russia...   \n",
       "2  1003-0       0  Will Serbia be officially granted EU candidacy...   \n",
       "3  1004-0       0  Will the United Nations General Assembly recog...   \n",
       "4  1005-0       0  Will Daniel Ortega win another term as Preside...   \n",
       "\n",
       "                                              q_desc q_status date_start  \\\n",
       "0  'In' refers to any time during the remainder o...   closed     9/1/11   \n",
       "1  'In' refers to any time during the 2012 calend...   closed     9/1/11   \n",
       "2  A 'yes' answer to this question requires not o...   closed     9/1/11   \n",
       "3  'By' means at or prior to the end of the day o...   closed     9/1/11   \n",
       "4  If the Nicaraguan elections do not occur in la...   closed     9/1/11   \n",
       "\n",
       "    date_suspend date_to_close date_closed outcome                short_title  \\\n",
       "0  12/30/11 0:00      12/31/11      1/2/12       b     Six-party talks resume   \n",
       "1   5/14/12 0:00       5/15/12      5/6/12       b        president of Russia   \n",
       "2  12/30/11 0:00      12/31/11      1/3/12       b        Serbia EU candidacy   \n",
       "3   9/29/11 0:00       9/30/11     9/30/11       b  UN-GA recognize Palestine   \n",
       "4   11/4/11 0:00       11/5/11     11/5/11       a    Ortega win in Nicaragua   \n",
       "\n",
       "   days_open  n_opts                               options  \n",
       "0      123.0       2                       (a) Yes, (b) No  \n",
       "1      248.0       3  (a) Medvedev, (b) Putin, (c) Neither  \n",
       "2      124.0       2                       (a) Yes, (b) No  \n",
       "3       29.0       2                       (a) Yes, (b) No  \n",
       "4       65.0       2                       (a) Yes, (b) No  "
      ]
     },
     "execution_count": 4,
     "metadata": {},
     "output_type": "execute_result"
    }
   ],
   "source": [
    "ifps.head(5)"
   ]
  },
  {
   "cell_type": "code",
   "execution_count": 5,
   "id": "8081b886",
   "metadata": {},
   "outputs": [
    {
     "data": {
      "text/plain": [
       "('Will the Six-Party talks (among the US, North Korea, South Korea, Russia, China, and Japan) formally resume in 2011?',\n",
       " 'Will **national military force(s) from one or more countries *intervene in Syria **before 1 December 2014?',\n",
       " 'When will Mariano Rajoy vacate the office of Prime Minister of Spain?')"
      ]
     },
     "execution_count": 5,
     "metadata": {},
     "output_type": "execute_result"
    }
   ],
   "source": [
    "q_ifps = pd.DataFrame(ifps['q_text'].unique(), columns=['questions'])\n",
    "unique_q_num = q_ifps.nunique()\n",
    "\n",
    "# show some of them\n",
    "(\n",
    "q_ifps.questions[0], \n",
    "q_ifps.questions[391], \n",
    "q_ifps.questions[200] \n",
    ")"
   ]
  },
  {
   "cell_type": "code",
   "execution_count": 6,
   "id": "3472ab04",
   "metadata": {},
   "outputs": [
    {
     "data": {
      "text/plain": [
       "'Всего вопросов : 527'"
      ]
     },
     "execution_count": 6,
     "metadata": {},
     "output_type": "execute_result"
    }
   ],
   "source": [
    "f'Всего вопросов : {unique_q_num[0]}'"
   ]
  },
  {
   "cell_type": "markdown",
   "id": "0eb2c098",
   "metadata": {},
   "source": [
    "___\n",
    "### Предсказание людей в зависимости от их ответа в прошлый год"
   ]
  },
  {
   "cell_type": "code",
   "execution_count": 7,
   "id": "1f7068cf",
   "metadata": {},
   "outputs": [],
   "source": [
    "user_answers = survey_fcasts[['ifp_id','user_id','q_status','year','answer_option','timestamp','value','fcast_type','fcast_date']]\n",
    "user_answers = user_answers[(~user_answers.user_id.isna()) & (user_answers.q_status == 'closed')].reset_index(drop=True)\n",
    "\n",
    "user_answers['ans_type'] = user_answers.ifp_id.apply(lambda x: x[5:]).astype(int)\n",
    "user_answers['question'] = user_answers.ifp_id.apply(lambda x: x[:4]).astype(int)\n",
    "\n",
    "assert user_answers.user_id.apply(lambda x: x.is_integer()).sum() == user_answers.shape[0]\n",
    "\n",
    "user_answers['user_id'] = user_answers['user_id'].astype(int)\n",
    "user_answers = user_answers.sort_values(['question','user_id'])"
   ]
  },
  {
   "cell_type": "code",
   "execution_count": 8,
   "id": "5b93c85c",
   "metadata": {},
   "outputs": [
    {
     "data": {
      "text/html": [
       "<div>\n",
       "<style scoped>\n",
       "    .dataframe tbody tr th:only-of-type {\n",
       "        vertical-align: middle;\n",
       "    }\n",
       "\n",
       "    .dataframe tbody tr th {\n",
       "        vertical-align: top;\n",
       "    }\n",
       "\n",
       "    .dataframe thead th {\n",
       "        text-align: right;\n",
       "    }\n",
       "</style>\n",
       "<table border=\"1\" class=\"dataframe\">\n",
       "  <thead>\n",
       "    <tr style=\"text-align: right;\">\n",
       "      <th></th>\n",
       "      <th>ifp_id</th>\n",
       "      <th>user_id</th>\n",
       "      <th>q_status</th>\n",
       "      <th>year</th>\n",
       "      <th>answer_option</th>\n",
       "      <th>timestamp</th>\n",
       "      <th>value</th>\n",
       "      <th>fcast_type</th>\n",
       "      <th>fcast_date</th>\n",
       "      <th>ans_type</th>\n",
       "      <th>question</th>\n",
       "    </tr>\n",
       "  </thead>\n",
       "  <tbody>\n",
       "    <tr>\n",
       "      <th>5555</th>\n",
       "      <td>1001-0</td>\n",
       "      <td>3</td>\n",
       "      <td>closed</td>\n",
       "      <td>1</td>\n",
       "      <td>a</td>\n",
       "      <td>2011-09-06 05:46:12</td>\n",
       "      <td>0.5</td>\n",
       "      <td>1</td>\n",
       "      <td>2011-09-06</td>\n",
       "      <td>0</td>\n",
       "      <td>1001</td>\n",
       "    </tr>\n",
       "    <tr>\n",
       "      <th>5556</th>\n",
       "      <td>1001-0</td>\n",
       "      <td>3</td>\n",
       "      <td>closed</td>\n",
       "      <td>1</td>\n",
       "      <td>b</td>\n",
       "      <td>2011-09-06 05:46:12</td>\n",
       "      <td>0.5</td>\n",
       "      <td>1</td>\n",
       "      <td>2011-09-06</td>\n",
       "      <td>0</td>\n",
       "      <td>1001</td>\n",
       "    </tr>\n",
       "  </tbody>\n",
       "</table>\n",
       "</div>"
      ],
      "text/plain": [
       "      ifp_id  user_id q_status  year answer_option            timestamp  \\\n",
       "5555  1001-0        3   closed     1             a  2011-09-06 05:46:12   \n",
       "5556  1001-0        3   closed     1             b  2011-09-06 05:46:12   \n",
       "\n",
       "      value  fcast_type  fcast_date  ans_type  question  \n",
       "5555    0.5           1  2011-09-06         0      1001  \n",
       "5556    0.5           1  2011-09-06         0      1001  "
      ]
     },
     "execution_count": 8,
     "metadata": {},
     "output_type": "execute_result"
    }
   ],
   "source": [
    "user_answers.head(2)"
   ]
  },
  {
   "cell_type": "code",
   "execution_count": 9,
   "id": "88fd33c7",
   "metadata": {},
   "outputs": [],
   "source": [
    "mask = (ifps.q_status == 'closed') & (ifps.n_opts == 2) & (ifps.q_type == 0)\n",
    "question_answers = ifps[mask][['ifp_id','outcome','date_closed']]\n",
    "assert question_answers.ifp_id.nunique() == question_answers.shape[0]"
   ]
  },
  {
   "cell_type": "code",
   "execution_count": 10,
   "id": "1419d132",
   "metadata": {},
   "outputs": [
    {
     "data": {
      "text/html": [
       "<div>\n",
       "<style scoped>\n",
       "    .dataframe tbody tr th:only-of-type {\n",
       "        vertical-align: middle;\n",
       "    }\n",
       "\n",
       "    .dataframe tbody tr th {\n",
       "        vertical-align: top;\n",
       "    }\n",
       "\n",
       "    .dataframe thead th {\n",
       "        text-align: right;\n",
       "    }\n",
       "</style>\n",
       "<table border=\"1\" class=\"dataframe\">\n",
       "  <thead>\n",
       "    <tr style=\"text-align: right;\">\n",
       "      <th></th>\n",
       "      <th>ifp_id</th>\n",
       "      <th>outcome</th>\n",
       "      <th>date_closed</th>\n",
       "    </tr>\n",
       "  </thead>\n",
       "  <tbody>\n",
       "    <tr>\n",
       "      <th>0</th>\n",
       "      <td>1001-0</td>\n",
       "      <td>b</td>\n",
       "      <td>1/2/12</td>\n",
       "    </tr>\n",
       "    <tr>\n",
       "      <th>2</th>\n",
       "      <td>1003-0</td>\n",
       "      <td>b</td>\n",
       "      <td>1/3/12</td>\n",
       "    </tr>\n",
       "  </tbody>\n",
       "</table>\n",
       "</div>"
      ],
      "text/plain": [
       "   ifp_id outcome date_closed\n",
       "0  1001-0       b      1/2/12\n",
       "2  1003-0       b      1/3/12"
      ]
     },
     "execution_count": 10,
     "metadata": {},
     "output_type": "execute_result"
    }
   ],
   "source": [
    "question_answers.head(2)"
   ]
  },
  {
   "cell_type": "markdown",
   "id": "6514bd69",
   "metadata": {},
   "source": [
    "### Creating final DataFrame"
   ]
  },
  {
   "cell_type": "code",
   "execution_count": 11,
   "id": "8131c962",
   "metadata": {},
   "outputs": [],
   "source": [
    "ans = question_answers.merge(user_answers, on='ifp_id', how='inner').drop(['q_status', 'ans_type', 'question'], axis=1)\n",
    "ans.timestamp = ans.timestamp.astype('datetime64[ns]')\n",
    "ans[\"outcome\"] = (ans[\"outcome\"] == \"a\").astype(int)\n",
    "ans = ans.query('answer_option == \"a\"')\n",
    "\n",
    "ans[\"date_closed\"] = pd.to_datetime(ans[\"date_closed\"]) + pd.Timedelta(days=1)\n",
    "ans.dropna(subset=[\"user_id\"], inplace = True)\n",
    "\n",
    "ans[\"user_id\"] = ans[\"user_id\"].astype(int).astype(str)\n",
    "ans[\"days_until_closure\"] = (ans[\"date_closed\"] - ans[\"timestamp\"]).dt.days\n",
    "\n",
    "master_data = ans.query(\"days_until_closure > 15\").sort_values('fcast_date').groupby(['ifp_id', 'user_id']).tail(1)"
   ]
  },
  {
   "cell_type": "code",
   "execution_count": 12,
   "id": "09d84f5d",
   "metadata": {},
   "outputs": [],
   "source": [
    "model = SentenceTransformer('sentence-transformers/all-distilroberta-v1')\n",
    "sent_embeddings = model.encode(ifps.q_text)\n",
    "embedding_df = pd.DataFrame(sent_embeddings)\n",
    "embedding_df[\"ifp_id\"] = ifps.ifp_id"
   ]
  },
  {
   "cell_type": "markdown",
   "id": "8f3c01dd",
   "metadata": {},
   "source": [
    "---\n",
    "# Fitting models with features related to questions text"
   ]
  },
  {
   "cell_type": "code",
   "execution_count": 13,
   "id": "778ccf6a",
   "metadata": {},
   "outputs": [],
   "source": [
    "event_outcomes = master_data.groupby(\"ifp_id\").outcome.max().reset_index()\n",
    "expert_inputs = master_data.pivot(index = \"ifp_id\", columns = \"user_id\", values = \"value\").fillna(0)\n",
    "final_ans = pd.merge(pd.merge(expert_inputs, event_outcomes, on=\"ifp_id\"), embedding_df, on=\"ifp_id\")"
   ]
  },
  {
   "cell_type": "code",
   "execution_count": 170,
   "id": "49fde957",
   "metadata": {},
   "outputs": [
    {
     "data": {
      "text/html": [
       "<div>\n",
       "<style scoped>\n",
       "    .dataframe tbody tr th:only-of-type {\n",
       "        vertical-align: middle;\n",
       "    }\n",
       "\n",
       "    .dataframe tbody tr th {\n",
       "        vertical-align: top;\n",
       "    }\n",
       "\n",
       "    .dataframe thead th {\n",
       "        text-align: right;\n",
       "    }\n",
       "</style>\n",
       "<table border=\"1\" class=\"dataframe\">\n",
       "  <thead>\n",
       "    <tr style=\"text-align: right;\">\n",
       "      <th></th>\n",
       "      <th>ifp_id</th>\n",
       "      <th>1000</th>\n",
       "      <th>10001</th>\n",
       "      <th>10010</th>\n",
       "      <th>10014</th>\n",
       "      <th>10016</th>\n",
       "      <th>10034</th>\n",
       "      <th>10043</th>\n",
       "      <th>10046</th>\n",
       "      <th>10049</th>\n",
       "      <th>...</th>\n",
       "      <th>758</th>\n",
       "      <th>759</th>\n",
       "      <th>760</th>\n",
       "      <th>761</th>\n",
       "      <th>762</th>\n",
       "      <th>763</th>\n",
       "      <th>764</th>\n",
       "      <th>765</th>\n",
       "      <th>766</th>\n",
       "      <th>767</th>\n",
       "    </tr>\n",
       "  </thead>\n",
       "  <tbody>\n",
       "    <tr>\n",
       "      <th>0</th>\n",
       "      <td>1001-0</td>\n",
       "      <td>0.0</td>\n",
       "      <td>0.0</td>\n",
       "      <td>0.0</td>\n",
       "      <td>0.0</td>\n",
       "      <td>0.0</td>\n",
       "      <td>0.0</td>\n",
       "      <td>0.0</td>\n",
       "      <td>0.0</td>\n",
       "      <td>0.0</td>\n",
       "      <td>...</td>\n",
       "      <td>-0.012801</td>\n",
       "      <td>0.054331</td>\n",
       "      <td>-0.003304</td>\n",
       "      <td>0.056317</td>\n",
       "      <td>-0.032626</td>\n",
       "      <td>-0.003777</td>\n",
       "      <td>-0.126869</td>\n",
       "      <td>0.005910</td>\n",
       "      <td>-0.014981</td>\n",
       "      <td>0.071226</td>\n",
       "    </tr>\n",
       "    <tr>\n",
       "      <th>1</th>\n",
       "      <td>1003-0</td>\n",
       "      <td>0.0</td>\n",
       "      <td>0.0</td>\n",
       "      <td>0.0</td>\n",
       "      <td>0.0</td>\n",
       "      <td>0.0</td>\n",
       "      <td>0.0</td>\n",
       "      <td>0.0</td>\n",
       "      <td>0.0</td>\n",
       "      <td>0.0</td>\n",
       "      <td>...</td>\n",
       "      <td>0.089883</td>\n",
       "      <td>0.073422</td>\n",
       "      <td>-0.009131</td>\n",
       "      <td>0.026745</td>\n",
       "      <td>0.032391</td>\n",
       "      <td>0.011453</td>\n",
       "      <td>-0.046191</td>\n",
       "      <td>0.044056</td>\n",
       "      <td>0.023257</td>\n",
       "      <td>0.072150</td>\n",
       "    </tr>\n",
       "  </tbody>\n",
       "</table>\n",
       "<p>2 rows × 9810 columns</p>\n",
       "</div>"
      ],
      "text/plain": [
       "   ifp_id  1000  10001  10010  10014  10016  10034  10043  10046  10049  ...  \\\n",
       "0  1001-0   0.0    0.0    0.0    0.0    0.0    0.0    0.0    0.0    0.0  ...   \n",
       "1  1003-0   0.0    0.0    0.0    0.0    0.0    0.0    0.0    0.0    0.0  ...   \n",
       "\n",
       "        758       759       760       761       762       763       764  \\\n",
       "0 -0.012801  0.054331 -0.003304  0.056317 -0.032626 -0.003777 -0.126869   \n",
       "1  0.089883  0.073422 -0.009131  0.026745  0.032391  0.011453 -0.046191   \n",
       "\n",
       "        765       766       767  \n",
       "0  0.005910 -0.014981  0.071226  \n",
       "1  0.044056  0.023257  0.072150  \n",
       "\n",
       "[2 rows x 9810 columns]"
      ]
     },
     "execution_count": 170,
     "metadata": {},
     "output_type": "execute_result"
    }
   ],
   "source": [
    "final_ans.head(2)"
   ]
  },
  {
   "cell_type": "markdown",
   "id": "129a7b23",
   "metadata": {},
   "source": [
    "### Spliting dataframe on train and test"
   ]
  },
  {
   "cell_type": "code",
   "execution_count": 22,
   "id": "a3b1acae",
   "metadata": {},
   "outputs": [],
   "source": [
    "from sklearn.model_selection import train_test_split"
   ]
  },
  {
   "cell_type": "code",
   "execution_count": 52,
   "id": "38d019dd",
   "metadata": {},
   "outputs": [],
   "source": [
    "X = final_ans.drop(['ifp_id', 'outcome'], axis=1)\n",
    "y = final_ans['outcome']\n",
    "\n",
    "X_train, X_test, y_train, y_test = train_test_split(X, y, test_size=0.2, random_state=42)"
   ]
  },
  {
   "cell_type": "markdown",
   "id": "39368f3f",
   "metadata": {},
   "source": [
    "## Кросс-валидация и grid-search (для стабильности)"
   ]
  },
  {
   "cell_type": "markdown",
   "id": "b60ec9f1",
   "metadata": {},
   "source": [
    "$$ \n",
    "ElasticNetMSE = MSE(y, y_{pred}) + С \\cdot (1 - L_{1}Ratio) \\sum_{i=1}^{m} \\lvert{\\theta_{i}}\\rvert +  С \\cdot (1 - L_{1}Ratio)\\sum_{i=1}^{m} \\lvert{\\theta_{i}}\\rvert ,\n",
    "$$\n",
    "\n",
    "Where hyperparameters:\n",
    "\n",
    "* `C` -  This parameter signifies strength of the regularization and takes a positive float value.\n",
    "* `l1_ratio` -  the penalty will be a combination of l1 & l2, l1_ratio fraction will define the weight of l1 in the mix.\n",
    "* `penalty` - elasticnet : penalty only supported by: saga solver.\n",
    "* `solver` - Saga is a variant of Sag and it can be used with l1 Regularization. It’s a quite time-efficient solver and usually the go-to solver with very large datasets.\n",
    "\n"
   ]
  },
  {
   "cell_type": "code",
   "execution_count": 27,
   "id": "88fae60a",
   "metadata": {},
   "outputs": [],
   "source": [
    "from sklearn.model_selection import KFold, cross_val_score\n",
    "from sklearn.model_selection import GridSearchCV"
   ]
  },
  {
   "cell_type": "code",
   "execution_count": null,
   "id": "c5843bfb",
   "metadata": {},
   "outputs": [],
   "source": [
    "k_fold = KFold(n_splits=4)\n",
    "parameters = {\n",
    "    'C'         : np.geomspace(0.01, 5, 20),\n",
    "    'penalty'   : ['elasticnet'], \n",
    "    'solver'    : ['saga'],    \n",
    "}"
   ]
  },
  {
   "cell_type": "code",
   "execution_count": 79,
   "id": "fa26dd87",
   "metadata": {},
   "outputs": [
    {
     "name": "stdout",
     "output_type": "stream",
     "text": [
      "Wall time: 9min 4s\n"
     ]
    },
    {
     "data": {
      "text/html": [
       "<style>#sk-container-id-2 {color: black;background-color: white;}#sk-container-id-2 pre{padding: 0;}#sk-container-id-2 div.sk-toggleable {background-color: white;}#sk-container-id-2 label.sk-toggleable__label {cursor: pointer;display: block;width: 100%;margin-bottom: 0;padding: 0.3em;box-sizing: border-box;text-align: center;}#sk-container-id-2 label.sk-toggleable__label-arrow:before {content: \"▸\";float: left;margin-right: 0.25em;color: #696969;}#sk-container-id-2 label.sk-toggleable__label-arrow:hover:before {color: black;}#sk-container-id-2 div.sk-estimator:hover label.sk-toggleable__label-arrow:before {color: black;}#sk-container-id-2 div.sk-toggleable__content {max-height: 0;max-width: 0;overflow: hidden;text-align: left;background-color: #f0f8ff;}#sk-container-id-2 div.sk-toggleable__content pre {margin: 0.2em;color: black;border-radius: 0.25em;background-color: #f0f8ff;}#sk-container-id-2 input.sk-toggleable__control:checked~div.sk-toggleable__content {max-height: 200px;max-width: 100%;overflow: auto;}#sk-container-id-2 input.sk-toggleable__control:checked~label.sk-toggleable__label-arrow:before {content: \"▾\";}#sk-container-id-2 div.sk-estimator input.sk-toggleable__control:checked~label.sk-toggleable__label {background-color: #d4ebff;}#sk-container-id-2 div.sk-label input.sk-toggleable__control:checked~label.sk-toggleable__label {background-color: #d4ebff;}#sk-container-id-2 input.sk-hidden--visually {border: 0;clip: rect(1px 1px 1px 1px);clip: rect(1px, 1px, 1px, 1px);height: 1px;margin: -1px;overflow: hidden;padding: 0;position: absolute;width: 1px;}#sk-container-id-2 div.sk-estimator {font-family: monospace;background-color: #f0f8ff;border: 1px dotted black;border-radius: 0.25em;box-sizing: border-box;margin-bottom: 0.5em;}#sk-container-id-2 div.sk-estimator:hover {background-color: #d4ebff;}#sk-container-id-2 div.sk-parallel-item::after {content: \"\";width: 100%;border-bottom: 1px solid gray;flex-grow: 1;}#sk-container-id-2 div.sk-label:hover label.sk-toggleable__label {background-color: #d4ebff;}#sk-container-id-2 div.sk-serial::before {content: \"\";position: absolute;border-left: 1px solid gray;box-sizing: border-box;top: 0;bottom: 0;left: 50%;z-index: 0;}#sk-container-id-2 div.sk-serial {display: flex;flex-direction: column;align-items: center;background-color: white;padding-right: 0.2em;padding-left: 0.2em;position: relative;}#sk-container-id-2 div.sk-item {position: relative;z-index: 1;}#sk-container-id-2 div.sk-parallel {display: flex;align-items: stretch;justify-content: center;background-color: white;position: relative;}#sk-container-id-2 div.sk-item::before, #sk-container-id-2 div.sk-parallel-item::before {content: \"\";position: absolute;border-left: 1px solid gray;box-sizing: border-box;top: 0;bottom: 0;left: 50%;z-index: -1;}#sk-container-id-2 div.sk-parallel-item {display: flex;flex-direction: column;z-index: 1;position: relative;background-color: white;}#sk-container-id-2 div.sk-parallel-item:first-child::after {align-self: flex-end;width: 50%;}#sk-container-id-2 div.sk-parallel-item:last-child::after {align-self: flex-start;width: 50%;}#sk-container-id-2 div.sk-parallel-item:only-child::after {width: 0;}#sk-container-id-2 div.sk-dashed-wrapped {border: 1px dashed gray;margin: 0 0.4em 0.5em 0.4em;box-sizing: border-box;padding-bottom: 0.4em;background-color: white;}#sk-container-id-2 div.sk-label label {font-family: monospace;font-weight: bold;display: inline-block;line-height: 1.2em;}#sk-container-id-2 div.sk-label-container {text-align: center;}#sk-container-id-2 div.sk-container {/* jupyter's `normalize.less` sets `[hidden] { display: none; }` but bootstrap.min.css set `[hidden] { display: none !important; }` so we also need the `!important` here to be able to override the default hidden behavior on the sphinx rendered scikit-learn.org. See: https://github.com/scikit-learn/scikit-learn/issues/21755 */display: inline-block !important;position: relative;}#sk-container-id-2 div.sk-text-repr-fallback {display: none;}</style><div id=\"sk-container-id-2\" class=\"sk-top-container\"><div class=\"sk-text-repr-fallback\"><pre>LogisticRegression(C=0.3652259113562679, l1_ratio=0, max_iter=350, n_jobs=-1,\n",
       "                   penalty=&#x27;elasticnet&#x27;, random_state=12, solver=&#x27;saga&#x27;)</pre><b>In a Jupyter environment, please rerun this cell to show the HTML representation or trust the notebook. <br />On GitHub, the HTML representation is unable to render, please try loading this page with nbviewer.org.</b></div><div class=\"sk-container\" hidden><div class=\"sk-item\"><div class=\"sk-estimator sk-toggleable\"><input class=\"sk-toggleable__control sk-hidden--visually\" id=\"sk-estimator-id-2\" type=\"checkbox\" checked><label for=\"sk-estimator-id-2\" class=\"sk-toggleable__label sk-toggleable__label-arrow\">LogisticRegression</label><div class=\"sk-toggleable__content\"><pre>LogisticRegression(C=0.3652259113562679, l1_ratio=0, max_iter=350, n_jobs=-1,\n",
       "                   penalty=&#x27;elasticnet&#x27;, random_state=12, solver=&#x27;saga&#x27;)</pre></div></div></div></div></div>"
      ],
      "text/plain": [
       "LogisticRegression(C=0.3652259113562679, l1_ratio=0, max_iter=350, n_jobs=-1,\n",
       "                   penalty='elasticnet', random_state=12, solver='saga')"
      ]
     },
     "execution_count": 79,
     "metadata": {},
     "output_type": "execute_result"
    }
   ],
   "source": [
    "%%time\n",
    "lr = LogisticRegression(max_iter= 350, l1_ratio=0,  random_state=12, n_jobs=-1)\n",
    "clf_0 = GridSearchCV(lr, parameters, cv=k_fold, scoring='neg_brier_score')\n",
    "\n",
    "clf_0.fit(X_train, y_train)\n",
    "clf_0.best_estimator_"
   ]
  },
  {
   "cell_type": "code",
   "execution_count": 80,
   "id": "16126a47",
   "metadata": {},
   "outputs": [
    {
     "name": "stdout",
     "output_type": "stream",
     "text": [
      "Wall time: 10min 6s\n"
     ]
    },
    {
     "data": {
      "text/html": [
       "<style>#sk-container-id-3 {color: black;background-color: white;}#sk-container-id-3 pre{padding: 0;}#sk-container-id-3 div.sk-toggleable {background-color: white;}#sk-container-id-3 label.sk-toggleable__label {cursor: pointer;display: block;width: 100%;margin-bottom: 0;padding: 0.3em;box-sizing: border-box;text-align: center;}#sk-container-id-3 label.sk-toggleable__label-arrow:before {content: \"▸\";float: left;margin-right: 0.25em;color: #696969;}#sk-container-id-3 label.sk-toggleable__label-arrow:hover:before {color: black;}#sk-container-id-3 div.sk-estimator:hover label.sk-toggleable__label-arrow:before {color: black;}#sk-container-id-3 div.sk-toggleable__content {max-height: 0;max-width: 0;overflow: hidden;text-align: left;background-color: #f0f8ff;}#sk-container-id-3 div.sk-toggleable__content pre {margin: 0.2em;color: black;border-radius: 0.25em;background-color: #f0f8ff;}#sk-container-id-3 input.sk-toggleable__control:checked~div.sk-toggleable__content {max-height: 200px;max-width: 100%;overflow: auto;}#sk-container-id-3 input.sk-toggleable__control:checked~label.sk-toggleable__label-arrow:before {content: \"▾\";}#sk-container-id-3 div.sk-estimator input.sk-toggleable__control:checked~label.sk-toggleable__label {background-color: #d4ebff;}#sk-container-id-3 div.sk-label input.sk-toggleable__control:checked~label.sk-toggleable__label {background-color: #d4ebff;}#sk-container-id-3 input.sk-hidden--visually {border: 0;clip: rect(1px 1px 1px 1px);clip: rect(1px, 1px, 1px, 1px);height: 1px;margin: -1px;overflow: hidden;padding: 0;position: absolute;width: 1px;}#sk-container-id-3 div.sk-estimator {font-family: monospace;background-color: #f0f8ff;border: 1px dotted black;border-radius: 0.25em;box-sizing: border-box;margin-bottom: 0.5em;}#sk-container-id-3 div.sk-estimator:hover {background-color: #d4ebff;}#sk-container-id-3 div.sk-parallel-item::after {content: \"\";width: 100%;border-bottom: 1px solid gray;flex-grow: 1;}#sk-container-id-3 div.sk-label:hover label.sk-toggleable__label {background-color: #d4ebff;}#sk-container-id-3 div.sk-serial::before {content: \"\";position: absolute;border-left: 1px solid gray;box-sizing: border-box;top: 0;bottom: 0;left: 50%;z-index: 0;}#sk-container-id-3 div.sk-serial {display: flex;flex-direction: column;align-items: center;background-color: white;padding-right: 0.2em;padding-left: 0.2em;position: relative;}#sk-container-id-3 div.sk-item {position: relative;z-index: 1;}#sk-container-id-3 div.sk-parallel {display: flex;align-items: stretch;justify-content: center;background-color: white;position: relative;}#sk-container-id-3 div.sk-item::before, #sk-container-id-3 div.sk-parallel-item::before {content: \"\";position: absolute;border-left: 1px solid gray;box-sizing: border-box;top: 0;bottom: 0;left: 50%;z-index: -1;}#sk-container-id-3 div.sk-parallel-item {display: flex;flex-direction: column;z-index: 1;position: relative;background-color: white;}#sk-container-id-3 div.sk-parallel-item:first-child::after {align-self: flex-end;width: 50%;}#sk-container-id-3 div.sk-parallel-item:last-child::after {align-self: flex-start;width: 50%;}#sk-container-id-3 div.sk-parallel-item:only-child::after {width: 0;}#sk-container-id-3 div.sk-dashed-wrapped {border: 1px dashed gray;margin: 0 0.4em 0.5em 0.4em;box-sizing: border-box;padding-bottom: 0.4em;background-color: white;}#sk-container-id-3 div.sk-label label {font-family: monospace;font-weight: bold;display: inline-block;line-height: 1.2em;}#sk-container-id-3 div.sk-label-container {text-align: center;}#sk-container-id-3 div.sk-container {/* jupyter's `normalize.less` sets `[hidden] { display: none; }` but bootstrap.min.css set `[hidden] { display: none !important; }` so we also need the `!important` here to be able to override the default hidden behavior on the sphinx rendered scikit-learn.org. See: https://github.com/scikit-learn/scikit-learn/issues/21755 */display: inline-block !important;position: relative;}#sk-container-id-3 div.sk-text-repr-fallback {display: none;}</style><div id=\"sk-container-id-3\" class=\"sk-top-container\"><div class=\"sk-text-repr-fallback\"><pre>LogisticRegression(C=0.5065387033533725, l1_ratio=0.33, max_iter=350, n_jobs=-1,\n",
       "                   penalty=&#x27;elasticnet&#x27;, random_state=12, solver=&#x27;saga&#x27;)</pre><b>In a Jupyter environment, please rerun this cell to show the HTML representation or trust the notebook. <br />On GitHub, the HTML representation is unable to render, please try loading this page with nbviewer.org.</b></div><div class=\"sk-container\" hidden><div class=\"sk-item\"><div class=\"sk-estimator sk-toggleable\"><input class=\"sk-toggleable__control sk-hidden--visually\" id=\"sk-estimator-id-3\" type=\"checkbox\" checked><label for=\"sk-estimator-id-3\" class=\"sk-toggleable__label sk-toggleable__label-arrow\">LogisticRegression</label><div class=\"sk-toggleable__content\"><pre>LogisticRegression(C=0.5065387033533725, l1_ratio=0.33, max_iter=350, n_jobs=-1,\n",
       "                   penalty=&#x27;elasticnet&#x27;, random_state=12, solver=&#x27;saga&#x27;)</pre></div></div></div></div></div>"
      ],
      "text/plain": [
       "LogisticRegression(C=0.5065387033533725, l1_ratio=0.33, max_iter=350, n_jobs=-1,\n",
       "                   penalty='elasticnet', random_state=12, solver='saga')"
      ]
     },
     "execution_count": 80,
     "metadata": {},
     "output_type": "execute_result"
    }
   ],
   "source": [
    "%%time\n",
    "lr = LogisticRegression(max_iter= 350, l1_ratio=0.33,  random_state=12, n_jobs=-1)\n",
    "clf_33 = GridSearchCV(lr, parameters, cv=k_fold, scoring='neg_brier_score')\n",
    "\n",
    "clf_33.fit(X_train, y_train)\n",
    "clf_33.best_estimator_"
   ]
  },
  {
   "cell_type": "code",
   "execution_count": 81,
   "id": "ee929c8d",
   "metadata": {},
   "outputs": [
    {
     "name": "stdout",
     "output_type": "stream",
     "text": [
      "Wall time: 9min 1s\n"
     ]
    },
    {
     "data": {
      "text/html": [
       "<style>#sk-container-id-4 {color: black;background-color: white;}#sk-container-id-4 pre{padding: 0;}#sk-container-id-4 div.sk-toggleable {background-color: white;}#sk-container-id-4 label.sk-toggleable__label {cursor: pointer;display: block;width: 100%;margin-bottom: 0;padding: 0.3em;box-sizing: border-box;text-align: center;}#sk-container-id-4 label.sk-toggleable__label-arrow:before {content: \"▸\";float: left;margin-right: 0.25em;color: #696969;}#sk-container-id-4 label.sk-toggleable__label-arrow:hover:before {color: black;}#sk-container-id-4 div.sk-estimator:hover label.sk-toggleable__label-arrow:before {color: black;}#sk-container-id-4 div.sk-toggleable__content {max-height: 0;max-width: 0;overflow: hidden;text-align: left;background-color: #f0f8ff;}#sk-container-id-4 div.sk-toggleable__content pre {margin: 0.2em;color: black;border-radius: 0.25em;background-color: #f0f8ff;}#sk-container-id-4 input.sk-toggleable__control:checked~div.sk-toggleable__content {max-height: 200px;max-width: 100%;overflow: auto;}#sk-container-id-4 input.sk-toggleable__control:checked~label.sk-toggleable__label-arrow:before {content: \"▾\";}#sk-container-id-4 div.sk-estimator input.sk-toggleable__control:checked~label.sk-toggleable__label {background-color: #d4ebff;}#sk-container-id-4 div.sk-label input.sk-toggleable__control:checked~label.sk-toggleable__label {background-color: #d4ebff;}#sk-container-id-4 input.sk-hidden--visually {border: 0;clip: rect(1px 1px 1px 1px);clip: rect(1px, 1px, 1px, 1px);height: 1px;margin: -1px;overflow: hidden;padding: 0;position: absolute;width: 1px;}#sk-container-id-4 div.sk-estimator {font-family: monospace;background-color: #f0f8ff;border: 1px dotted black;border-radius: 0.25em;box-sizing: border-box;margin-bottom: 0.5em;}#sk-container-id-4 div.sk-estimator:hover {background-color: #d4ebff;}#sk-container-id-4 div.sk-parallel-item::after {content: \"\";width: 100%;border-bottom: 1px solid gray;flex-grow: 1;}#sk-container-id-4 div.sk-label:hover label.sk-toggleable__label {background-color: #d4ebff;}#sk-container-id-4 div.sk-serial::before {content: \"\";position: absolute;border-left: 1px solid gray;box-sizing: border-box;top: 0;bottom: 0;left: 50%;z-index: 0;}#sk-container-id-4 div.sk-serial {display: flex;flex-direction: column;align-items: center;background-color: white;padding-right: 0.2em;padding-left: 0.2em;position: relative;}#sk-container-id-4 div.sk-item {position: relative;z-index: 1;}#sk-container-id-4 div.sk-parallel {display: flex;align-items: stretch;justify-content: center;background-color: white;position: relative;}#sk-container-id-4 div.sk-item::before, #sk-container-id-4 div.sk-parallel-item::before {content: \"\";position: absolute;border-left: 1px solid gray;box-sizing: border-box;top: 0;bottom: 0;left: 50%;z-index: -1;}#sk-container-id-4 div.sk-parallel-item {display: flex;flex-direction: column;z-index: 1;position: relative;background-color: white;}#sk-container-id-4 div.sk-parallel-item:first-child::after {align-self: flex-end;width: 50%;}#sk-container-id-4 div.sk-parallel-item:last-child::after {align-self: flex-start;width: 50%;}#sk-container-id-4 div.sk-parallel-item:only-child::after {width: 0;}#sk-container-id-4 div.sk-dashed-wrapped {border: 1px dashed gray;margin: 0 0.4em 0.5em 0.4em;box-sizing: border-box;padding-bottom: 0.4em;background-color: white;}#sk-container-id-4 div.sk-label label {font-family: monospace;font-weight: bold;display: inline-block;line-height: 1.2em;}#sk-container-id-4 div.sk-label-container {text-align: center;}#sk-container-id-4 div.sk-container {/* jupyter's `normalize.less` sets `[hidden] { display: none; }` but bootstrap.min.css set `[hidden] { display: none !important; }` so we also need the `!important` here to be able to override the default hidden behavior on the sphinx rendered scikit-learn.org. See: https://github.com/scikit-learn/scikit-learn/issues/21755 */display: inline-block !important;position: relative;}#sk-container-id-4 div.sk-text-repr-fallback {display: none;}</style><div id=\"sk-container-id-4\" class=\"sk-top-container\"><div class=\"sk-text-repr-fallback\"><pre>LogisticRegression(C=0.9743494403440248, l1_ratio=0.66, max_iter=350, n_jobs=-1,\n",
       "                   penalty=&#x27;elasticnet&#x27;, random_state=12, solver=&#x27;saga&#x27;)</pre><b>In a Jupyter environment, please rerun this cell to show the HTML representation or trust the notebook. <br />On GitHub, the HTML representation is unable to render, please try loading this page with nbviewer.org.</b></div><div class=\"sk-container\" hidden><div class=\"sk-item\"><div class=\"sk-estimator sk-toggleable\"><input class=\"sk-toggleable__control sk-hidden--visually\" id=\"sk-estimator-id-4\" type=\"checkbox\" checked><label for=\"sk-estimator-id-4\" class=\"sk-toggleable__label sk-toggleable__label-arrow\">LogisticRegression</label><div class=\"sk-toggleable__content\"><pre>LogisticRegression(C=0.9743494403440248, l1_ratio=0.66, max_iter=350, n_jobs=-1,\n",
       "                   penalty=&#x27;elasticnet&#x27;, random_state=12, solver=&#x27;saga&#x27;)</pre></div></div></div></div></div>"
      ],
      "text/plain": [
       "LogisticRegression(C=0.9743494403440248, l1_ratio=0.66, max_iter=350, n_jobs=-1,\n",
       "                   penalty='elasticnet', random_state=12, solver='saga')"
      ]
     },
     "execution_count": 81,
     "metadata": {},
     "output_type": "execute_result"
    }
   ],
   "source": [
    "%%time\n",
    "lr = LogisticRegression(max_iter= 350, l1_ratio=0.66,  random_state=12, n_jobs=-1)\n",
    "clf_66 = GridSearchCV(lr, parameters, cv=k_fold, scoring='neg_brier_score')\n",
    "\n",
    "clf_66.fit(X_train, y_train)\n",
    "clf_66.best_estimator_"
   ]
  },
  {
   "cell_type": "code",
   "execution_count": 82,
   "id": "92fa7f03",
   "metadata": {},
   "outputs": [
    {
     "name": "stdout",
     "output_type": "stream",
     "text": [
      "Wall time: 23min 39s\n"
     ]
    },
    {
     "data": {
      "text/html": [
       "<style>#sk-container-id-5 {color: black;background-color: white;}#sk-container-id-5 pre{padding: 0;}#sk-container-id-5 div.sk-toggleable {background-color: white;}#sk-container-id-5 label.sk-toggleable__label {cursor: pointer;display: block;width: 100%;margin-bottom: 0;padding: 0.3em;box-sizing: border-box;text-align: center;}#sk-container-id-5 label.sk-toggleable__label-arrow:before {content: \"▸\";float: left;margin-right: 0.25em;color: #696969;}#sk-container-id-5 label.sk-toggleable__label-arrow:hover:before {color: black;}#sk-container-id-5 div.sk-estimator:hover label.sk-toggleable__label-arrow:before {color: black;}#sk-container-id-5 div.sk-toggleable__content {max-height: 0;max-width: 0;overflow: hidden;text-align: left;background-color: #f0f8ff;}#sk-container-id-5 div.sk-toggleable__content pre {margin: 0.2em;color: black;border-radius: 0.25em;background-color: #f0f8ff;}#sk-container-id-5 input.sk-toggleable__control:checked~div.sk-toggleable__content {max-height: 200px;max-width: 100%;overflow: auto;}#sk-container-id-5 input.sk-toggleable__control:checked~label.sk-toggleable__label-arrow:before {content: \"▾\";}#sk-container-id-5 div.sk-estimator input.sk-toggleable__control:checked~label.sk-toggleable__label {background-color: #d4ebff;}#sk-container-id-5 div.sk-label input.sk-toggleable__control:checked~label.sk-toggleable__label {background-color: #d4ebff;}#sk-container-id-5 input.sk-hidden--visually {border: 0;clip: rect(1px 1px 1px 1px);clip: rect(1px, 1px, 1px, 1px);height: 1px;margin: -1px;overflow: hidden;padding: 0;position: absolute;width: 1px;}#sk-container-id-5 div.sk-estimator {font-family: monospace;background-color: #f0f8ff;border: 1px dotted black;border-radius: 0.25em;box-sizing: border-box;margin-bottom: 0.5em;}#sk-container-id-5 div.sk-estimator:hover {background-color: #d4ebff;}#sk-container-id-5 div.sk-parallel-item::after {content: \"\";width: 100%;border-bottom: 1px solid gray;flex-grow: 1;}#sk-container-id-5 div.sk-label:hover label.sk-toggleable__label {background-color: #d4ebff;}#sk-container-id-5 div.sk-serial::before {content: \"\";position: absolute;border-left: 1px solid gray;box-sizing: border-box;top: 0;bottom: 0;left: 50%;z-index: 0;}#sk-container-id-5 div.sk-serial {display: flex;flex-direction: column;align-items: center;background-color: white;padding-right: 0.2em;padding-left: 0.2em;position: relative;}#sk-container-id-5 div.sk-item {position: relative;z-index: 1;}#sk-container-id-5 div.sk-parallel {display: flex;align-items: stretch;justify-content: center;background-color: white;position: relative;}#sk-container-id-5 div.sk-item::before, #sk-container-id-5 div.sk-parallel-item::before {content: \"\";position: absolute;border-left: 1px solid gray;box-sizing: border-box;top: 0;bottom: 0;left: 50%;z-index: -1;}#sk-container-id-5 div.sk-parallel-item {display: flex;flex-direction: column;z-index: 1;position: relative;background-color: white;}#sk-container-id-5 div.sk-parallel-item:first-child::after {align-self: flex-end;width: 50%;}#sk-container-id-5 div.sk-parallel-item:last-child::after {align-self: flex-start;width: 50%;}#sk-container-id-5 div.sk-parallel-item:only-child::after {width: 0;}#sk-container-id-5 div.sk-dashed-wrapped {border: 1px dashed gray;margin: 0 0.4em 0.5em 0.4em;box-sizing: border-box;padding-bottom: 0.4em;background-color: white;}#sk-container-id-5 div.sk-label label {font-family: monospace;font-weight: bold;display: inline-block;line-height: 1.2em;}#sk-container-id-5 div.sk-label-container {text-align: center;}#sk-container-id-5 div.sk-container {/* jupyter's `normalize.less` sets `[hidden] { display: none; }` but bootstrap.min.css set `[hidden] { display: none !important; }` so we also need the `!important` here to be able to override the default hidden behavior on the sphinx rendered scikit-learn.org. See: https://github.com/scikit-learn/scikit-learn/issues/21755 */display: inline-block !important;position: relative;}#sk-container-id-5 div.sk-text-repr-fallback {display: none;}</style><div id=\"sk-container-id-5\" class=\"sk-top-container\"><div class=\"sk-text-repr-fallback\"><pre>LogisticRegression(C=1.8742039366662617, l1_ratio=1, max_iter=350, n_jobs=-1,\n",
       "                   penalty=&#x27;elasticnet&#x27;, random_state=12, solver=&#x27;saga&#x27;)</pre><b>In a Jupyter environment, please rerun this cell to show the HTML representation or trust the notebook. <br />On GitHub, the HTML representation is unable to render, please try loading this page with nbviewer.org.</b></div><div class=\"sk-container\" hidden><div class=\"sk-item\"><div class=\"sk-estimator sk-toggleable\"><input class=\"sk-toggleable__control sk-hidden--visually\" id=\"sk-estimator-id-5\" type=\"checkbox\" checked><label for=\"sk-estimator-id-5\" class=\"sk-toggleable__label sk-toggleable__label-arrow\">LogisticRegression</label><div class=\"sk-toggleable__content\"><pre>LogisticRegression(C=1.8742039366662617, l1_ratio=1, max_iter=350, n_jobs=-1,\n",
       "                   penalty=&#x27;elasticnet&#x27;, random_state=12, solver=&#x27;saga&#x27;)</pre></div></div></div></div></div>"
      ],
      "text/plain": [
       "LogisticRegression(C=1.8742039366662617, l1_ratio=1, max_iter=350, n_jobs=-1,\n",
       "                   penalty='elasticnet', random_state=12, solver='saga')"
      ]
     },
     "execution_count": 82,
     "metadata": {},
     "output_type": "execute_result"
    }
   ],
   "source": [
    "%%time\n",
    "lr = LogisticRegression(max_iter= 350, l1_ratio=1,  random_state=12, n_jobs=-1)\n",
    "clf_1 = GridSearchCV(lr, parameters, cv=k_fold, scoring='neg_brier_score')\n",
    "\n",
    "clf_1.fit(X_train, y_train)\n",
    "clf_1.best_estimator_"
   ]
  },
  {
   "cell_type": "code",
   "execution_count": 117,
   "id": "912b22f6",
   "metadata": {},
   "outputs": [],
   "source": [
    "clf_l1_diff = [clf_0, clf_33, clf_66, clf_1]\n",
    "plot_names = [\n",
    "    'L1_ration = 0 (L2 regularization)',\n",
    "    'L1_ratio = 0.33',\n",
    "    'L1_ratio = 0.66',\n",
    "    'L1_ration = 1 (L1 regularization)',\n",
    "]"
   ]
  },
  {
   "cell_type": "code",
   "execution_count": 137,
   "id": "e8412168",
   "metadata": {},
   "outputs": [],
   "source": [
    "def plot_res(\n",
    "    plot_data : pd.DataFrame, \n",
    "    name      : 'str',\n",
    "    ax,\n",
    ") -> None:\n",
    "    plot_res = pd.DataFrame(plot_data.cv_results_)\n",
    "\n",
    "    plt.title(name, fontsize=16, loc='left')\n",
    "\n",
    "    plt.plot(plot_res['param_C'], -plot_res['mean_test_score'])\n",
    "    plt.scatter(plot_data.best_params_['C'], -plot_data.best_score_, color='red', linewidths=5, alpha=1)\n",
    "\n",
    "    plt.xlabel('C regularizaton parameter', fontsize=14)\n",
    "    plt.ylabel('Brier Score', fontsize=14)\n",
    "    plt.grid()"
   ]
  },
  {
   "cell_type": "code",
   "execution_count": 138,
   "id": "ee21f576",
   "metadata": {},
   "outputs": [
    {
     "data": {
      "image/png": "[encoded data removed]",
      "text/plain": [
       "<Figure size 1728x864 with 4 Axes>"
      ]
     },
     "metadata": {
      "needs_background": "light"
     },
     "output_type": "display_data"
    }
   ],
   "source": [
    "fig = plt.figure(figsize=(24, 12))\n",
    "\n",
    "for i in [0, 1, 2, 3]:\n",
    "    plot_res(clf_l1_diff[i], plot_names[i], ax= plt.subplot(2, 2, i+1))"
   ]
  },
  {
   "cell_type": "markdown",
   "id": "d41c4b0c",
   "metadata": {},
   "source": [
    "---\n",
    "#### Prediction in Test sample"
   ]
  },
  {
   "cell_type": "code",
   "execution_count": 166,
   "id": "5ec27ef1",
   "metadata": {},
   "outputs": [
    {
     "data": {
      "text/html": [
       "<div>\n",
       "<style scoped>\n",
       "    .dataframe tbody tr th:only-of-type {\n",
       "        vertical-align: middle;\n",
       "    }\n",
       "\n",
       "    .dataframe tbody tr th {\n",
       "        vertical-align: top;\n",
       "    }\n",
       "\n",
       "    .dataframe thead th {\n",
       "        text-align: right;\n",
       "    }\n",
       "</style>\n",
       "<table border=\"1\" class=\"dataframe\">\n",
       "  <thead>\n",
       "    <tr style=\"text-align: right;\">\n",
       "      <th></th>\n",
       "      <th>l1_ratio</th>\n",
       "      <th>brier_score</th>\n",
       "    </tr>\n",
       "  </thead>\n",
       "  <tbody>\n",
       "    <tr>\n",
       "      <th>0</th>\n",
       "      <td>0.00</td>\n",
       "      <td>0.046598</td>\n",
       "    </tr>\n",
       "    <tr>\n",
       "      <th>1</th>\n",
       "      <td>0.33</td>\n",
       "      <td>0.048822</td>\n",
       "    </tr>\n",
       "    <tr>\n",
       "      <th>2</th>\n",
       "      <td>0.66</td>\n",
       "      <td>0.051017</td>\n",
       "    </tr>\n",
       "    <tr>\n",
       "      <th>3</th>\n",
       "      <td>1.00</td>\n",
       "      <td>0.053569</td>\n",
       "    </tr>\n",
       "  </tbody>\n",
       "</table>\n",
       "</div>"
      ],
      "text/plain": [
       "   l1_ratio  brier_score\n",
       "0      0.00     0.046598\n",
       "1      0.33     0.048822\n",
       "2      0.66     0.051017\n",
       "3      1.00     0.053569"
      ]
     },
     "execution_count": 166,
     "metadata": {},
     "output_type": "execute_result"
    }
   ],
   "source": [
    "row_names = [0, 0.33, 0.66, 1]\n",
    "bss = [0, 0, 0, 0]\n",
    "\n",
    "for i in [0, 1, 2, 3]:\n",
    "    y_prob = clf_l1_diff[i].predict_proba(X_test)[:, 1]\n",
    "    bss[i] = brier_score_loss(y_test, y_prob)\n",
    "    \n",
    "pd.DataFrame({'l1_ratio':row_names, 'brier_score':bss})"
   ]
  },
  {
   "cell_type": "markdown",
   "id": "05bc7476",
   "metadata": {},
   "source": [
    "---\n",
    "# Model fitting without features related to questions text"
   ]
  },
  {
   "cell_type": "code",
   "execution_count": 167,
   "id": "9ab56f85",
   "metadata": {},
   "outputs": [],
   "source": [
    "final_ans_no_words = pd.merge(expert_inputs, event_outcomes, on=\"ifp_id\")"
   ]
  },
  {
   "cell_type": "code",
   "execution_count": 169,
   "id": "85dcc7ca",
   "metadata": {},
   "outputs": [],
   "source": [
    "X = final_ans_no_words.drop(['ifp_id', 'outcome'], axis=1)\n",
    "y = final_ans_no_words['outcome']\n",
    "\n",
    "X_train, X_test, y_train, y_test = train_test_split(X, y, test_size=0.2, random_state=31)"
   ]
  },
  {
   "cell_type": "code",
   "execution_count": 172,
   "id": "4ae2c76d",
   "metadata": {},
   "outputs": [
    {
     "data": {
      "text/html": [
       "<style>#sk-container-id-9 {color: black;background-color: white;}#sk-container-id-9 pre{padding: 0;}#sk-container-id-9 div.sk-toggleable {background-color: white;}#sk-container-id-9 label.sk-toggleable__label {cursor: pointer;display: block;width: 100%;margin-bottom: 0;padding: 0.3em;box-sizing: border-box;text-align: center;}#sk-container-id-9 label.sk-toggleable__label-arrow:before {content: \"▸\";float: left;margin-right: 0.25em;color: #696969;}#sk-container-id-9 label.sk-toggleable__label-arrow:hover:before {color: black;}#sk-container-id-9 div.sk-estimator:hover label.sk-toggleable__label-arrow:before {color: black;}#sk-container-id-9 div.sk-toggleable__content {max-height: 0;max-width: 0;overflow: hidden;text-align: left;background-color: #f0f8ff;}#sk-container-id-9 div.sk-toggleable__content pre {margin: 0.2em;color: black;border-radius: 0.25em;background-color: #f0f8ff;}#sk-container-id-9 input.sk-toggleable__control:checked~div.sk-toggleable__content {max-height: 200px;max-width: 100%;overflow: auto;}#sk-container-id-9 input.sk-toggleable__control:checked~label.sk-toggleable__label-arrow:before {content: \"▾\";}#sk-container-id-9 div.sk-estimator input.sk-toggleable__control:checked~label.sk-toggleable__label {background-color: #d4ebff;}#sk-container-id-9 div.sk-label input.sk-toggleable__control:checked~label.sk-toggleable__label {background-color: #d4ebff;}#sk-container-id-9 input.sk-hidden--visually {border: 0;clip: rect(1px 1px 1px 1px);clip: rect(1px, 1px, 1px, 1px);height: 1px;margin: -1px;overflow: hidden;padding: 0;position: absolute;width: 1px;}#sk-container-id-9 div.sk-estimator {font-family: monospace;background-color: #f0f8ff;border: 1px dotted black;border-radius: 0.25em;box-sizing: border-box;margin-bottom: 0.5em;}#sk-container-id-9 div.sk-estimator:hover {background-color: #d4ebff;}#sk-container-id-9 div.sk-parallel-item::after {content: \"\";width: 100%;border-bottom: 1px solid gray;flex-grow: 1;}#sk-container-id-9 div.sk-label:hover label.sk-toggleable__label {background-color: #d4ebff;}#sk-container-id-9 div.sk-serial::before {content: \"\";position: absolute;border-left: 1px solid gray;box-sizing: border-box;top: 0;bottom: 0;left: 50%;z-index: 0;}#sk-container-id-9 div.sk-serial {display: flex;flex-direction: column;align-items: center;background-color: white;padding-right: 0.2em;padding-left: 0.2em;position: relative;}#sk-container-id-9 div.sk-item {position: relative;z-index: 1;}#sk-container-id-9 div.sk-parallel {display: flex;align-items: stretch;justify-content: center;background-color: white;position: relative;}#sk-container-id-9 div.sk-item::before, #sk-container-id-9 div.sk-parallel-item::before {content: \"\";position: absolute;border-left: 1px solid gray;box-sizing: border-box;top: 0;bottom: 0;left: 50%;z-index: -1;}#sk-container-id-9 div.sk-parallel-item {display: flex;flex-direction: column;z-index: 1;position: relative;background-color: white;}#sk-container-id-9 div.sk-parallel-item:first-child::after {align-self: flex-end;width: 50%;}#sk-container-id-9 div.sk-parallel-item:last-child::after {align-self: flex-start;width: 50%;}#sk-container-id-9 div.sk-parallel-item:only-child::after {width: 0;}#sk-container-id-9 div.sk-dashed-wrapped {border: 1px dashed gray;margin: 0 0.4em 0.5em 0.4em;box-sizing: border-box;padding-bottom: 0.4em;background-color: white;}#sk-container-id-9 div.sk-label label {font-family: monospace;font-weight: bold;display: inline-block;line-height: 1.2em;}#sk-container-id-9 div.sk-label-container {text-align: center;}#sk-container-id-9 div.sk-container {/* jupyter's `normalize.less` sets `[hidden] { display: none; }` but bootstrap.min.css set `[hidden] { display: none !important; }` so we also need the `!important` here to be able to override the default hidden behavior on the sphinx rendered scikit-learn.org. See: https://github.com/scikit-learn/scikit-learn/issues/21755 */display: inline-block !important;position: relative;}#sk-container-id-9 div.sk-text-repr-fallback {display: none;}</style><div id=\"sk-container-id-9\" class=\"sk-top-container\"><div class=\"sk-text-repr-fallback\"><pre>GridSearchCV(cv=KFold(n_splits=4, random_state=None, shuffle=False),\n",
       "             estimator=LogisticRegression(l1_ratio=1, max_iter=350, n_jobs=-1,\n",
       "                                          random_state=12),\n",
       "             param_grid={&#x27;C&#x27;: array([0.01      , 0.01386919, 0.01923544, 0.02667799, 0.03700021,\n",
       "       0.05131629, 0.07117153, 0.09870914, 0.13690157, 0.18987137,\n",
       "       0.26333618, 0.36522591, 0.5065387 , 0.70252808, 0.97434944,\n",
       "       1.35134361, 1.87420394, 2.59936878, 3.60511358, 5.        ]),\n",
       "                         &#x27;penalty&#x27;: [&#x27;elasticnet&#x27;], &#x27;solver&#x27;: [&#x27;saga&#x27;]},\n",
       "             scoring=&#x27;neg_brier_score&#x27;)</pre><b>In a Jupyter environment, please rerun this cell to show the HTML representation or trust the notebook. <br />On GitHub, the HTML representation is unable to render, please try loading this page with nbviewer.org.</b></div><div class=\"sk-container\" hidden><div class=\"sk-item sk-dashed-wrapped\"><div class=\"sk-label-container\"><div class=\"sk-label sk-toggleable\"><input class=\"sk-toggleable__control sk-hidden--visually\" id=\"sk-estimator-id-11\" type=\"checkbox\" ><label for=\"sk-estimator-id-11\" class=\"sk-toggleable__label sk-toggleable__label-arrow\">GridSearchCV</label><div class=\"sk-toggleable__content\"><pre>GridSearchCV(cv=KFold(n_splits=4, random_state=None, shuffle=False),\n",
       "             estimator=LogisticRegression(l1_ratio=1, max_iter=350, n_jobs=-1,\n",
       "                                          random_state=12),\n",
       "             param_grid={&#x27;C&#x27;: array([0.01      , 0.01386919, 0.01923544, 0.02667799, 0.03700021,\n",
       "       0.05131629, 0.07117153, 0.09870914, 0.13690157, 0.18987137,\n",
       "       0.26333618, 0.36522591, 0.5065387 , 0.70252808, 0.97434944,\n",
       "       1.35134361, 1.87420394, 2.59936878, 3.60511358, 5.        ]),\n",
       "                         &#x27;penalty&#x27;: [&#x27;elasticnet&#x27;], &#x27;solver&#x27;: [&#x27;saga&#x27;]},\n",
       "             scoring=&#x27;neg_brier_score&#x27;)</pre></div></div></div><div class=\"sk-parallel\"><div class=\"sk-parallel-item\"><div class=\"sk-item\"><div class=\"sk-label-container\"><div class=\"sk-label sk-toggleable\"><input class=\"sk-toggleable__control sk-hidden--visually\" id=\"sk-estimator-id-12\" type=\"checkbox\" ><label for=\"sk-estimator-id-12\" class=\"sk-toggleable__label sk-toggleable__label-arrow\">estimator: LogisticRegression</label><div class=\"sk-toggleable__content\"><pre>LogisticRegression(l1_ratio=1, max_iter=350, n_jobs=-1, random_state=12)</pre></div></div></div><div class=\"sk-serial\"><div class=\"sk-item\"><div class=\"sk-estimator sk-toggleable\"><input class=\"sk-toggleable__control sk-hidden--visually\" id=\"sk-estimator-id-13\" type=\"checkbox\" ><label for=\"sk-estimator-id-13\" class=\"sk-toggleable__label sk-toggleable__label-arrow\">LogisticRegression</label><div class=\"sk-toggleable__content\"><pre>LogisticRegression(l1_ratio=1, max_iter=350, n_jobs=-1, random_state=12)</pre></div></div></div></div></div></div></div></div></div></div>"
      ],
      "text/plain": [
       "GridSearchCV(cv=KFold(n_splits=4, random_state=None, shuffle=False),\n",
       "             estimator=LogisticRegression(l1_ratio=1, max_iter=350, n_jobs=-1,\n",
       "                                          random_state=12),\n",
       "             param_grid={'C': array([0.01      , 0.01386919, 0.01923544, 0.02667799, 0.03700021,\n",
       "       0.05131629, 0.07117153, 0.09870914, 0.13690157, 0.18987137,\n",
       "       0.26333618, 0.36522591, 0.5065387 , 0.70252808, 0.97434944,\n",
       "       1.35134361, 1.87420394, 2.59936878, 3.60511358, 5.        ]),\n",
       "                         'penalty': ['elasticnet'], 'solver': ['saga']},\n",
       "             scoring='neg_brier_score')"
      ]
     },
     "execution_count": 172,
     "metadata": {},
     "output_type": "execute_result"
    }
   ],
   "source": [
    "k_fold = KFold(n_splits=4)\n",
    "parameters = {\n",
    "    'C'         : np.geomspace(0.01, 5, 20),\n",
    "    'penalty'   : ['elasticnet'], \n",
    "    'solver'    : ['saga'],    \n",
    "}\n",
    "\n",
    "###############\n",
    "\n",
    "lr = LogisticRegression(max_iter= 350, l1_ratio=0,  random_state=12, n_jobs=-1)\n",
    "clf_0 = GridSearchCV(lr, parameters, cv=k_fold, scoring='neg_brier_score')\n",
    "clf_0.fit(X_train, y_train)\n",
    "\n",
    "###############\n",
    "\n",
    "lr = LogisticRegression(max_iter= 350, l1_ratio=0.33,  random_state=12, n_jobs=-1)\n",
    "clf_33 = GridSearchCV(lr, parameters, cv=k_fold, scoring='neg_brier_score')\n",
    "clf_33.fit(X_train, y_train)\n",
    "\n",
    "###############\n",
    "\n",
    "lr = LogisticRegression(max_iter= 350, l1_ratio=0.66,  random_state=12, n_jobs=-1)\n",
    "clf_66 = GridSearchCV(lr, parameters, cv=k_fold, scoring='neg_brier_score')\n",
    "clf_66.fit(X_train, y_train)\n",
    "\n",
    "###############\n",
    "lr = LogisticRegression(max_iter= 350, l1_ratio=1,  random_state=12, n_jobs=-1)\n",
    "clf_1 = GridSearchCV(lr, parameters, cv=k_fold, scoring='neg_brier_score')\n",
    "clf_1.fit(X_train, y_train)"
   ]
  },
  {
   "cell_type": "code",
   "execution_count": 173,
   "id": "bfecd9b3",
   "metadata": {},
   "outputs": [
    {
     "data": {
      "image/png": "[encoded data removed]",
      "text/plain": [
       "<Figure size 1728x864 with 4 Axes>"
      ]
     },
     "metadata": {
      "needs_background": "light"
     },
     "output_type": "display_data"
    }
   ],
   "source": [
    "clf_l1_diff = [clf_0, clf_33, clf_66, clf_1]\n",
    "\n",
    "plot_names = [\n",
    "    'L1_ration = 0 (L2 regularization) no word features',\n",
    "    'L1_ratio = 0.33 no word features',\n",
    "    'L1_ratio = 0.66 no word features',\n",
    "    'L1_ration = 1 (L1 regularization) no word features',\n",
    "]\n",
    "\n",
    "fig = plt.figure(figsize=(24, 12))\n",
    "\n",
    "for i in [0, 1, 2, 3]:\n",
    "    plot_res(clf_l1_diff[i], plot_names[i], ax= plt.subplot(2, 2, i+1))"
   ]
  },
  {
   "cell_type": "markdown",
   "id": "d7ad3f3b",
   "metadata": {},
   "source": [
    "---\n",
    "#### Prediction in Test sample"
   ]
  },
  {
   "cell_type": "code",
   "execution_count": 174,
   "id": "d39945eb",
   "metadata": {},
   "outputs": [
    {
     "data": {
      "text/html": [
       "<div>\n",
       "<style scoped>\n",
       "    .dataframe tbody tr th:only-of-type {\n",
       "        vertical-align: middle;\n",
       "    }\n",
       "\n",
       "    .dataframe tbody tr th {\n",
       "        vertical-align: top;\n",
       "    }\n",
       "\n",
       "    .dataframe thead th {\n",
       "        text-align: right;\n",
       "    }\n",
       "</style>\n",
       "<table border=\"1\" class=\"dataframe\">\n",
       "  <thead>\n",
       "    <tr style=\"text-align: right;\">\n",
       "      <th></th>\n",
       "      <th>l1_ratio</th>\n",
       "      <th>brier_score</th>\n",
       "    </tr>\n",
       "  </thead>\n",
       "  <tbody>\n",
       "    <tr>\n",
       "      <th>0</th>\n",
       "      <td>0.00</td>\n",
       "      <td>0.037447</td>\n",
       "    </tr>\n",
       "    <tr>\n",
       "      <th>1</th>\n",
       "      <td>0.33</td>\n",
       "      <td>0.035167</td>\n",
       "    </tr>\n",
       "    <tr>\n",
       "      <th>2</th>\n",
       "      <td>0.66</td>\n",
       "      <td>0.034673</td>\n",
       "    </tr>\n",
       "    <tr>\n",
       "      <th>3</th>\n",
       "      <td>1.00</td>\n",
       "      <td>0.035026</td>\n",
       "    </tr>\n",
       "  </tbody>\n",
       "</table>\n",
       "</div>"
      ],
      "text/plain": [
       "   l1_ratio  brier_score\n",
       "0      0.00     0.037447\n",
       "1      0.33     0.035167\n",
       "2      0.66     0.034673\n",
       "3      1.00     0.035026"
      ]
     },
     "execution_count": 174,
     "metadata": {},
     "output_type": "execute_result"
    }
   ],
   "source": [
    "row_names = [0, 0.33, 0.66, 1]\n",
    "bss = [0, 0, 0, 0]\n",
    "\n",
    "for i in [0, 1, 2, 3]:\n",
    "    y_prob = clf_l1_diff[i].predict_proba(X_test)[:, 1]\n",
    "    bss[i] = brier_score_loss(y_test, y_prob)\n",
    "    \n",
    "pd.DataFrame({'l1_ratio':row_names, 'brier_score':bss})"
   ]
  },
  {
   "cell_type": "code",
   "execution_count": null,
   "id": "b76c1d12",
   "metadata": {},
   "outputs": [],
   "source": []
  }
 ],
 "metadata": {
  "kernelspec": {
   "display_name": "Python 3 (ipykernel)",
   "language": "python",
   "name": "python3"
  },
  "language_info": {
   "codemirror_mode": {
    "name": "ipython",
    "version": 3
   },
   "file_extension": ".py",
   "mimetype": "text/x-python",
   "name": "python",
   "nbconvert_exporter": "python",
   "pygments_lexer": "ipython3",
   "version": "3.8.11"
  }
 },
 "nbformat": 4,
 "nbformat_minor": 5
}
