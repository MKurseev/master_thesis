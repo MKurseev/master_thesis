{
 "cells": [
  {
   "cell_type": "markdown",
   "id": "fbda1f25",
   "metadata": {},
   "source": [
    "### Libraries"
   ]
  },
  {
   "cell_type": "code",
   "execution_count": 1,
   "id": "544bbf77",
   "metadata": {},
   "outputs": [],
   "source": [
    "import glob\n",
    "import os\n",
    "import pandas as pd\n",
    "\n",
    "import numpy as np\n",
    "from tqdm import tqdm\n",
    "\n",
    "from sklearn.linear_model import RidgeClassifier\n",
    "from sklearn.preprocessing import StandardScaler\n",
    "\n",
    "from sklearn.linear_model import LogisticRegression\n",
    "from sklearn.metrics import brier_score_loss\n",
    "\n",
    "import matplotlib.pyplot as plt"
   ]
  },
  {
   "cell_type": "markdown",
   "id": "14cab65c",
   "metadata": {},
   "source": [
    "___\n",
    "### Выгрузка данных "
   ]
  },
  {
   "cell_type": "code",
   "execution_count": 2,
   "id": "6965d5dd",
   "metadata": {},
   "outputs": [],
   "source": [
    "survey_fcasts = pd.DataFrame()\n",
    "\n",
    "file_type = 'csv'\n",
    "seperator =','\n",
    "\n",
    "for f in glob.glob(\"*.\" + file_type):\n",
    "    if f[:13] == 'survey_fcasts':\n",
    "        data = pd.read_csv(f, sep=seperator, low_memory=False, encoding='ISO-8859-1')\n",
    "        survey_fcasts = pd.concat([survey_fcasts, data])\n",
    "    \n",
    "\n",
    "ifps = pd.read_csv('ifps.csv', sep=seperator, encoding='ISO-8859-1')"
   ]
  },
  {
   "cell_type": "code",
   "execution_count": 3,
   "id": "a7d676f1",
   "metadata": {},
   "outputs": [
    {
     "data": {
      "text/html": [
       "<div>\n",
       "<style scoped>\n",
       "    .dataframe tbody tr th:only-of-type {\n",
       "        vertical-align: middle;\n",
       "    }\n",
       "\n",
       "    .dataframe tbody tr th {\n",
       "        vertical-align: top;\n",
       "    }\n",
       "\n",
       "    .dataframe thead th {\n",
       "        text-align: right;\n",
       "    }\n",
       "</style>\n",
       "<table border=\"1\" class=\"dataframe\">\n",
       "  <thead>\n",
       "    <tr style=\"text-align: right;\">\n",
       "      <th></th>\n",
       "      <th>ifp_id</th>\n",
       "      <th>ctt</th>\n",
       "      <th>cond</th>\n",
       "      <th>training</th>\n",
       "      <th>team</th>\n",
       "      <th>user_id</th>\n",
       "      <th>forecast_id</th>\n",
       "      <th>fcast_type</th>\n",
       "      <th>answer_option</th>\n",
       "      <th>value</th>\n",
       "      <th>fcast_date</th>\n",
       "      <th>expertise</th>\n",
       "      <th>q_status</th>\n",
       "      <th>viewtime</th>\n",
       "      <th>year</th>\n",
       "      <th>timestamp</th>\n",
       "    </tr>\n",
       "  </thead>\n",
       "  <tbody>\n",
       "    <tr>\n",
       "      <th>0</th>\n",
       "      <td>1004-0</td>\n",
       "      <td>1a</td>\n",
       "      <td>1</td>\n",
       "      <td>a</td>\n",
       "      <td>NaN</td>\n",
       "      <td>600.0</td>\n",
       "      <td>-200987.0</td>\n",
       "      <td>0</td>\n",
       "      <td>a</td>\n",
       "      <td>0.10</td>\n",
       "      <td>2011-08-31</td>\n",
       "      <td>1.0</td>\n",
       "      <td>closed</td>\n",
       "      <td>NaN</td>\n",
       "      <td>1</td>\n",
       "      <td>2011-08-31 16:17:18</td>\n",
       "    </tr>\n",
       "    <tr>\n",
       "      <th>1</th>\n",
       "      <td>1004-0</td>\n",
       "      <td>1a</td>\n",
       "      <td>1</td>\n",
       "      <td>a</td>\n",
       "      <td>NaN</td>\n",
       "      <td>600.0</td>\n",
       "      <td>-200987.0</td>\n",
       "      <td>0</td>\n",
       "      <td>b</td>\n",
       "      <td>0.90</td>\n",
       "      <td>2011-08-31</td>\n",
       "      <td>1.0</td>\n",
       "      <td>closed</td>\n",
       "      <td>NaN</td>\n",
       "      <td>1</td>\n",
       "      <td>2011-08-31 16:17:18</td>\n",
       "    </tr>\n",
       "    <tr>\n",
       "      <th>2</th>\n",
       "      <td>1008-0</td>\n",
       "      <td>1a</td>\n",
       "      <td>1</td>\n",
       "      <td>a</td>\n",
       "      <td>NaN</td>\n",
       "      <td>600.0</td>\n",
       "      <td>-200986.0</td>\n",
       "      <td>0</td>\n",
       "      <td>a</td>\n",
       "      <td>0.25</td>\n",
       "      <td>2011-08-31</td>\n",
       "      <td>2.0</td>\n",
       "      <td>closed</td>\n",
       "      <td>NaN</td>\n",
       "      <td>1</td>\n",
       "      <td>2011-08-31 16:18:27</td>\n",
       "    </tr>\n",
       "    <tr>\n",
       "      <th>3</th>\n",
       "      <td>1008-0</td>\n",
       "      <td>1a</td>\n",
       "      <td>1</td>\n",
       "      <td>a</td>\n",
       "      <td>NaN</td>\n",
       "      <td>600.0</td>\n",
       "      <td>-200986.0</td>\n",
       "      <td>0</td>\n",
       "      <td>b</td>\n",
       "      <td>0.75</td>\n",
       "      <td>2011-08-31</td>\n",
       "      <td>2.0</td>\n",
       "      <td>closed</td>\n",
       "      <td>NaN</td>\n",
       "      <td>1</td>\n",
       "      <td>2011-08-31 16:18:27</td>\n",
       "    </tr>\n",
       "    <tr>\n",
       "      <th>4</th>\n",
       "      <td>1006-0</td>\n",
       "      <td>1a</td>\n",
       "      <td>1</td>\n",
       "      <td>a</td>\n",
       "      <td>NaN</td>\n",
       "      <td>600.0</td>\n",
       "      <td>-200985.0</td>\n",
       "      <td>0</td>\n",
       "      <td>a</td>\n",
       "      <td>0.10</td>\n",
       "      <td>2011-08-31</td>\n",
       "      <td>3.0</td>\n",
       "      <td>closed</td>\n",
       "      <td>NaN</td>\n",
       "      <td>1</td>\n",
       "      <td>2011-08-31 16:18:47</td>\n",
       "    </tr>\n",
       "  </tbody>\n",
       "</table>\n",
       "</div>"
      ],
      "text/plain": [
       "   ifp_id ctt  cond training  team  user_id  forecast_id  fcast_type  \\\n",
       "0  1004-0  1a     1        a   NaN    600.0    -200987.0           0   \n",
       "1  1004-0  1a     1        a   NaN    600.0    -200987.0           0   \n",
       "2  1008-0  1a     1        a   NaN    600.0    -200986.0           0   \n",
       "3  1008-0  1a     1        a   NaN    600.0    -200986.0           0   \n",
       "4  1006-0  1a     1        a   NaN    600.0    -200985.0           0   \n",
       "\n",
       "  answer_option  value  fcast_date  expertise q_status  viewtime  year  \\\n",
       "0             a   0.10  2011-08-31        1.0   closed       NaN     1   \n",
       "1             b   0.90  2011-08-31        1.0   closed       NaN     1   \n",
       "2             a   0.25  2011-08-31        2.0   closed       NaN     1   \n",
       "3             b   0.75  2011-08-31        2.0   closed       NaN     1   \n",
       "4             a   0.10  2011-08-31        3.0   closed       NaN     1   \n",
       "\n",
       "             timestamp  \n",
       "0  2011-08-31 16:17:18  \n",
       "1  2011-08-31 16:17:18  \n",
       "2  2011-08-31 16:18:27  \n",
       "3  2011-08-31 16:18:27  \n",
       "4  2011-08-31 16:18:47  "
      ]
     },
     "execution_count": 3,
     "metadata": {},
     "output_type": "execute_result"
    }
   ],
   "source": [
    "survey_fcasts.head(5)"
   ]
  },
  {
   "cell_type": "code",
   "execution_count": 4,
   "id": "2c450716",
   "metadata": {},
   "outputs": [
    {
     "data": {
      "text/html": [
       "<div>\n",
       "<style scoped>\n",
       "    .dataframe tbody tr th:only-of-type {\n",
       "        vertical-align: middle;\n",
       "    }\n",
       "\n",
       "    .dataframe tbody tr th {\n",
       "        vertical-align: top;\n",
       "    }\n",
       "\n",
       "    .dataframe thead th {\n",
       "        text-align: right;\n",
       "    }\n",
       "</style>\n",
       "<table border=\"1\" class=\"dataframe\">\n",
       "  <thead>\n",
       "    <tr style=\"text-align: right;\">\n",
       "      <th></th>\n",
       "      <th>ifp_id</th>\n",
       "      <th>q_type</th>\n",
       "      <th>q_text</th>\n",
       "      <th>q_desc</th>\n",
       "      <th>q_status</th>\n",
       "      <th>date_start</th>\n",
       "      <th>date_suspend</th>\n",
       "      <th>date_to_close</th>\n",
       "      <th>date_closed</th>\n",
       "      <th>outcome</th>\n",
       "      <th>short_title</th>\n",
       "      <th>days_open</th>\n",
       "      <th>n_opts</th>\n",
       "      <th>options</th>\n",
       "    </tr>\n",
       "  </thead>\n",
       "  <tbody>\n",
       "    <tr>\n",
       "      <th>0</th>\n",
       "      <td>1001-0</td>\n",
       "      <td>0</td>\n",
       "      <td>Will the Six-Party talks (among the US, North ...</td>\n",
       "      <td>'In' refers to any time during the remainder o...</td>\n",
       "      <td>closed</td>\n",
       "      <td>9/1/11</td>\n",
       "      <td>12/30/11 0:00</td>\n",
       "      <td>12/31/11</td>\n",
       "      <td>1/2/12</td>\n",
       "      <td>b</td>\n",
       "      <td>Six-party talks resume</td>\n",
       "      <td>123.0</td>\n",
       "      <td>2</td>\n",
       "      <td>(a) Yes, (b) No</td>\n",
       "    </tr>\n",
       "    <tr>\n",
       "      <th>1</th>\n",
       "      <td>1002-0</td>\n",
       "      <td>0</td>\n",
       "      <td>Who will be inaugurated as President of Russia...</td>\n",
       "      <td>'In' refers to any time during the 2012 calend...</td>\n",
       "      <td>closed</td>\n",
       "      <td>9/1/11</td>\n",
       "      <td>5/14/12 0:00</td>\n",
       "      <td>5/15/12</td>\n",
       "      <td>5/6/12</td>\n",
       "      <td>b</td>\n",
       "      <td>president of Russia</td>\n",
       "      <td>248.0</td>\n",
       "      <td>3</td>\n",
       "      <td>(a) Medvedev, (b) Putin, (c) Neither</td>\n",
       "    </tr>\n",
       "    <tr>\n",
       "      <th>2</th>\n",
       "      <td>1003-0</td>\n",
       "      <td>0</td>\n",
       "      <td>Will Serbia be officially granted EU candidacy...</td>\n",
       "      <td>A 'yes' answer to this question requires not o...</td>\n",
       "      <td>closed</td>\n",
       "      <td>9/1/11</td>\n",
       "      <td>12/30/11 0:00</td>\n",
       "      <td>12/31/11</td>\n",
       "      <td>1/3/12</td>\n",
       "      <td>b</td>\n",
       "      <td>Serbia EU candidacy</td>\n",
       "      <td>124.0</td>\n",
       "      <td>2</td>\n",
       "      <td>(a) Yes, (b) No</td>\n",
       "    </tr>\n",
       "    <tr>\n",
       "      <th>3</th>\n",
       "      <td>1004-0</td>\n",
       "      <td>0</td>\n",
       "      <td>Will the United Nations General Assembly recog...</td>\n",
       "      <td>'By' means at or prior to the end of the day o...</td>\n",
       "      <td>closed</td>\n",
       "      <td>9/1/11</td>\n",
       "      <td>9/29/11 0:00</td>\n",
       "      <td>9/30/11</td>\n",
       "      <td>9/30/11</td>\n",
       "      <td>b</td>\n",
       "      <td>UN-GA recognize Palestine</td>\n",
       "      <td>29.0</td>\n",
       "      <td>2</td>\n",
       "      <td>(a) Yes, (b) No</td>\n",
       "    </tr>\n",
       "    <tr>\n",
       "      <th>4</th>\n",
       "      <td>1005-0</td>\n",
       "      <td>0</td>\n",
       "      <td>Will Daniel Ortega win another term as Preside...</td>\n",
       "      <td>If the Nicaraguan elections do not occur in la...</td>\n",
       "      <td>closed</td>\n",
       "      <td>9/1/11</td>\n",
       "      <td>11/4/11 0:00</td>\n",
       "      <td>11/5/11</td>\n",
       "      <td>11/5/11</td>\n",
       "      <td>a</td>\n",
       "      <td>Ortega win in Nicaragua</td>\n",
       "      <td>65.0</td>\n",
       "      <td>2</td>\n",
       "      <td>(a) Yes, (b) No</td>\n",
       "    </tr>\n",
       "  </tbody>\n",
       "</table>\n",
       "</div>"
      ],
      "text/plain": [
       "   ifp_id  q_type                                             q_text  \\\n",
       "0  1001-0       0  Will the Six-Party talks (among the US, North ...   \n",
       "1  1002-0       0  Who will be inaugurated as President of Russia...   \n",
       "2  1003-0       0  Will Serbia be officially granted EU candidacy...   \n",
       "3  1004-0       0  Will the United Nations General Assembly recog...   \n",
       "4  1005-0       0  Will Daniel Ortega win another term as Preside...   \n",
       "\n",
       "                                              q_desc q_status date_start  \\\n",
       "0  'In' refers to any time during the remainder o...   closed     9/1/11   \n",
       "1  'In' refers to any time during the 2012 calend...   closed     9/1/11   \n",
       "2  A 'yes' answer to this question requires not o...   closed     9/1/11   \n",
       "3  'By' means at or prior to the end of the day o...   closed     9/1/11   \n",
       "4  If the Nicaraguan elections do not occur in la...   closed     9/1/11   \n",
       "\n",
       "    date_suspend date_to_close date_closed outcome                short_title  \\\n",
       "0  12/30/11 0:00      12/31/11      1/2/12       b     Six-party talks resume   \n",
       "1   5/14/12 0:00       5/15/12      5/6/12       b        president of Russia   \n",
       "2  12/30/11 0:00      12/31/11      1/3/12       b        Serbia EU candidacy   \n",
       "3   9/29/11 0:00       9/30/11     9/30/11       b  UN-GA recognize Palestine   \n",
       "4   11/4/11 0:00       11/5/11     11/5/11       a    Ortega win in Nicaragua   \n",
       "\n",
       "   days_open  n_opts                               options  \n",
       "0      123.0       2                       (a) Yes, (b) No  \n",
       "1      248.0       3  (a) Medvedev, (b) Putin, (c) Neither  \n",
       "2      124.0       2                       (a) Yes, (b) No  \n",
       "3       29.0       2                       (a) Yes, (b) No  \n",
       "4       65.0       2                       (a) Yes, (b) No  "
      ]
     },
     "execution_count": 4,
     "metadata": {},
     "output_type": "execute_result"
    }
   ],
   "source": [
    "ifps.head(5)"
   ]
  },
  {
   "cell_type": "code",
   "execution_count": 5,
   "id": "8081b886",
   "metadata": {},
   "outputs": [
    {
     "data": {
      "text/plain": [
       "('Will the Six-Party talks (among the US, North Korea, South Korea, Russia, China, and Japan) formally resume in 2011?',\n",
       " 'Will **national military force(s) from one or more countries *intervene in Syria **before 1 December 2014?',\n",
       " 'When will Mariano Rajoy vacate the office of Prime Minister of Spain?')"
      ]
     },
     "execution_count": 5,
     "metadata": {},
     "output_type": "execute_result"
    }
   ],
   "source": [
    "q_ifps = pd.DataFrame(ifps['q_text'].unique(), columns=['questions'])\n",
    "unique_q_num = q_ifps.nunique()\n",
    "\n",
    "# show some of them\n",
    "(\n",
    "q_ifps.questions[0], \n",
    "q_ifps.questions[391], \n",
    "q_ifps.questions[200] \n",
    ")"
   ]
  },
  {
   "cell_type": "code",
   "execution_count": 6,
   "id": "3472ab04",
   "metadata": {},
   "outputs": [
    {
     "data": {
      "text/plain": [
       "'Всего вопросов : 527'"
      ]
     },
     "execution_count": 6,
     "metadata": {},
     "output_type": "execute_result"
    }
   ],
   "source": [
    "f'Всего вопросов : {unique_q_num[0]}'"
   ]
  },
  {
   "cell_type": "markdown",
   "id": "0eb2c098",
   "metadata": {},
   "source": [
    "___\n",
    "### Предсказание людей в зависимости от их ответа в прошлый год"
   ]
  },
  {
   "cell_type": "code",
   "execution_count": 7,
   "id": "1f7068cf",
   "metadata": {},
   "outputs": [],
   "source": [
    "user_answers = survey_fcasts[['ifp_id','user_id','q_status','year','answer_option','timestamp','value','fcast_type']]\n",
    "user_answers = user_answers[(~user_answers.user_id.isna()) & (user_answers.q_status == 'closed')].reset_index(drop=True)\n",
    "\n",
    "user_answers['ans_type'] = user_answers.ifp_id.apply(lambda x: x[5:]).astype(int)\n",
    "user_answers['question'] = user_answers.ifp_id.apply(lambda x: x[:4]).astype(int)\n",
    "\n",
    "assert user_answers.user_id.apply(lambda x: x.is_integer()).sum() == user_answers.shape[0]\n",
    "\n",
    "user_answers['user_id'] = user_answers['user_id'].astype(int)\n",
    "user_answers = user_answers.sort_values(['question','user_id'])"
   ]
  },
  {
   "cell_type": "code",
   "execution_count": 8,
   "id": "5b93c85c",
   "metadata": {},
   "outputs": [
    {
     "data": {
      "text/html": [
       "<div>\n",
       "<style scoped>\n",
       "    .dataframe tbody tr th:only-of-type {\n",
       "        vertical-align: middle;\n",
       "    }\n",
       "\n",
       "    .dataframe tbody tr th {\n",
       "        vertical-align: top;\n",
       "    }\n",
       "\n",
       "    .dataframe thead th {\n",
       "        text-align: right;\n",
       "    }\n",
       "</style>\n",
       "<table border=\"1\" class=\"dataframe\">\n",
       "  <thead>\n",
       "    <tr style=\"text-align: right;\">\n",
       "      <th></th>\n",
       "      <th>ifp_id</th>\n",
       "      <th>user_id</th>\n",
       "      <th>q_status</th>\n",
       "      <th>year</th>\n",
       "      <th>answer_option</th>\n",
       "      <th>timestamp</th>\n",
       "      <th>value</th>\n",
       "      <th>fcast_type</th>\n",
       "      <th>ans_type</th>\n",
       "      <th>question</th>\n",
       "    </tr>\n",
       "  </thead>\n",
       "  <tbody>\n",
       "    <tr>\n",
       "      <th>5555</th>\n",
       "      <td>1001-0</td>\n",
       "      <td>3</td>\n",
       "      <td>closed</td>\n",
       "      <td>1</td>\n",
       "      <td>a</td>\n",
       "      <td>2011-09-06 05:46:12</td>\n",
       "      <td>0.5</td>\n",
       "      <td>1</td>\n",
       "      <td>0</td>\n",
       "      <td>1001</td>\n",
       "    </tr>\n",
       "    <tr>\n",
       "      <th>5556</th>\n",
       "      <td>1001-0</td>\n",
       "      <td>3</td>\n",
       "      <td>closed</td>\n",
       "      <td>1</td>\n",
       "      <td>b</td>\n",
       "      <td>2011-09-06 05:46:12</td>\n",
       "      <td>0.5</td>\n",
       "      <td>1</td>\n",
       "      <td>0</td>\n",
       "      <td>1001</td>\n",
       "    </tr>\n",
       "  </tbody>\n",
       "</table>\n",
       "</div>"
      ],
      "text/plain": [
       "      ifp_id  user_id q_status  year answer_option            timestamp  \\\n",
       "5555  1001-0        3   closed     1             a  2011-09-06 05:46:12   \n",
       "5556  1001-0        3   closed     1             b  2011-09-06 05:46:12   \n",
       "\n",
       "      value  fcast_type  ans_type  question  \n",
       "5555    0.5           1         0      1001  \n",
       "5556    0.5           1         0      1001  "
      ]
     },
     "execution_count": 8,
     "metadata": {},
     "output_type": "execute_result"
    }
   ],
   "source": [
    "user_answers.head(2)"
   ]
  },
  {
   "cell_type": "code",
   "execution_count": 9,
   "id": "88fd33c7",
   "metadata": {},
   "outputs": [],
   "source": [
    "mask = (ifps.q_status == 'closed') & (ifps.n_opts == 2)\n",
    "question_answers = ifps[mask][['ifp_id','outcome']]\n",
    "assert question_answers.ifp_id.nunique() == question_answers.shape[0]"
   ]
  },
  {
   "cell_type": "code",
   "execution_count": 10,
   "id": "1419d132",
   "metadata": {},
   "outputs": [
    {
     "data": {
      "text/html": [
       "<div>\n",
       "<style scoped>\n",
       "    .dataframe tbody tr th:only-of-type {\n",
       "        vertical-align: middle;\n",
       "    }\n",
       "\n",
       "    .dataframe tbody tr th {\n",
       "        vertical-align: top;\n",
       "    }\n",
       "\n",
       "    .dataframe thead th {\n",
       "        text-align: right;\n",
       "    }\n",
       "</style>\n",
       "<table border=\"1\" class=\"dataframe\">\n",
       "  <thead>\n",
       "    <tr style=\"text-align: right;\">\n",
       "      <th></th>\n",
       "      <th>ifp_id</th>\n",
       "      <th>outcome</th>\n",
       "    </tr>\n",
       "  </thead>\n",
       "  <tbody>\n",
       "    <tr>\n",
       "      <th>0</th>\n",
       "      <td>1001-0</td>\n",
       "      <td>b</td>\n",
       "    </tr>\n",
       "    <tr>\n",
       "      <th>2</th>\n",
       "      <td>1003-0</td>\n",
       "      <td>b</td>\n",
       "    </tr>\n",
       "  </tbody>\n",
       "</table>\n",
       "</div>"
      ],
      "text/plain": [
       "   ifp_id outcome\n",
       "0  1001-0       b\n",
       "2  1003-0       b"
      ]
     },
     "execution_count": 10,
     "metadata": {},
     "output_type": "execute_result"
    }
   ],
   "source": [
    "question_answers.head(2)"
   ]
  },
  {
   "cell_type": "code",
   "execution_count": 11,
   "id": "8131c962",
   "metadata": {},
   "outputs": [],
   "source": [
    "ans = question_answers.merge(user_answers, on='ifp_id', how='left').drop(['q_status', 'ans_type', 'question','fcast_type'], axis=1)\n",
    "ans.timestamp = ans.timestamp.astype('datetime64[ns]')\n",
    "\n",
    "temp = ans.groupby(['ifp_id','user_id']).timestamp.max().reset_index()\n",
    "ans = temp.merge(ans, how='left', on=['user_id','ifp_id','timestamp'])"
   ]
  },
  {
   "cell_type": "code",
   "execution_count": 12,
   "id": "6ef7229d",
   "metadata": {
    "scrolled": true
   },
   "outputs": [],
   "source": [
    "#ans[(ans.ifp_id == '1047-0') & (ans.user_id == 5085)]"
   ]
  },
  {
   "cell_type": "code",
   "execution_count": 13,
   "id": "4d56d81f",
   "metadata": {},
   "outputs": [],
   "source": [
    "## иначе на одну дату много вариантов ответов\n",
    "ans = ans.drop_duplicates()\n",
    "\n",
    "## единственный пример где больше двух вариантов после всех упрощений \n",
    "#ans_new[(ans_new.ifp_id == '1047-0') & (ans_new.user_id == 5085)]\n",
    "\n",
    "temp = ans.groupby(['ifp_id','user_id']).value.max().reset_index()\n",
    "ans = temp.merge(ans, how='left', on=['user_id','ifp_id','value'])"
   ]
  },
  {
   "cell_type": "code",
   "execution_count": 14,
   "id": "86d23a23",
   "metadata": {},
   "outputs": [],
   "source": [
    "#ans[(ans.user_id == 3) & (ans.ifp_id == '1001-0')]"
   ]
  },
  {
   "cell_type": "markdown",
   "id": "65bffd11",
   "metadata": {},
   "source": [
    "### Creating features"
   ]
  },
  {
   "cell_type": "code",
   "execution_count": 15,
   "id": "b6a0898e",
   "metadata": {},
   "outputs": [],
   "source": [
    "## чтобы выбрать один вариант где 50% вероятность ответа\n",
    "final_ans = ans.drop_duplicates(['ifp_id','user_id','value']).drop(['timestamp'], axis=1)\n",
    "\n",
    "\n",
    "## оставим только тех кто больше чем в 1 год отвечал\n",
    "temp = final_ans.groupby('user_id').year.nunique().reset_index()\n",
    "ids_more_1_y = temp[temp.year > 1].user_id.unique()\n",
    "\n",
    "final_ans = final_ans[final_ans.user_id.isin(ids_more_1_y)]\n",
    "\n",
    "final_ans['outcome']       = final_ans['outcome'].replace({'a':1, 'b':0})\n",
    "final_ans['answer_option'] = final_ans['answer_option'].replace({'a':1, 'b':0})\n",
    "\n",
    "\n",
    "final_ans = pd.get_dummies(final_ans, columns=['user_id'])\n",
    "\n",
    "final_ans['const'] = 1"
   ]
  },
  {
   "cell_type": "code",
   "execution_count": 16,
   "id": "8ff5d7f2",
   "metadata": {},
   "outputs": [
    {
     "name": "stderr",
     "output_type": "stream",
     "text": [
      "100%|██████████████████████████████████████████████████████████████████████████████| 1311/1311 [01:11<00:00, 18.24it/s]\n"
     ]
    }
   ],
   "source": [
    "for col in tqdm(final_ans.columns):\n",
    "    \n",
    "    if col[:4] == 'user':\n",
    "        final_ans[col] = final_ans['value'] * final_ans[col]\n",
    "        \n",
    "# to reduce memory\n",
    "final_ans.iloc[:,5:-1] = final_ans.iloc[:,5:-1].astype('float32')"
   ]
  },
  {
   "cell_type": "code",
   "execution_count": 18,
   "id": "939213b3",
   "metadata": {
    "scrolled": false
   },
   "outputs": [
    {
     "data": {
      "text/html": [
       "<div>\n",
       "<style scoped>\n",
       "    .dataframe tbody tr th:only-of-type {\n",
       "        vertical-align: middle;\n",
       "    }\n",
       "\n",
       "    .dataframe tbody tr th {\n",
       "        vertical-align: top;\n",
       "    }\n",
       "\n",
       "    .dataframe thead th {\n",
       "        text-align: right;\n",
       "    }\n",
       "</style>\n",
       "<table border=\"1\" class=\"dataframe\">\n",
       "  <thead>\n",
       "    <tr style=\"text-align: right;\">\n",
       "      <th></th>\n",
       "      <th>ifp_id</th>\n",
       "      <th>value</th>\n",
       "      <th>outcome</th>\n",
       "      <th>year</th>\n",
       "      <th>answer_option</th>\n",
       "      <th>user_id_6</th>\n",
       "      <th>user_id_35</th>\n",
       "      <th>user_id_47</th>\n",
       "      <th>user_id_51</th>\n",
       "      <th>user_id_52</th>\n",
       "      <th>...</th>\n",
       "      <th>user_id_15725</th>\n",
       "      <th>user_id_15736</th>\n",
       "      <th>user_id_15755</th>\n",
       "      <th>user_id_15808</th>\n",
       "      <th>user_id_15828</th>\n",
       "      <th>user_id_15830</th>\n",
       "      <th>user_id_15836</th>\n",
       "      <th>user_id_15840</th>\n",
       "      <th>user_id_15863</th>\n",
       "      <th>const</th>\n",
       "    </tr>\n",
       "  </thead>\n",
       "  <tbody>\n",
       "    <tr>\n",
       "      <th>2</th>\n",
       "      <td>1001-0</td>\n",
       "      <td>1.0</td>\n",
       "      <td>0</td>\n",
       "      <td>1</td>\n",
       "      <td>0</td>\n",
       "      <td>1.0</td>\n",
       "      <td>0.0</td>\n",
       "      <td>0.0</td>\n",
       "      <td>0.0</td>\n",
       "      <td>0.0</td>\n",
       "      <td>...</td>\n",
       "      <td>0.0</td>\n",
       "      <td>0.0</td>\n",
       "      <td>0.0</td>\n",
       "      <td>0.0</td>\n",
       "      <td>0.0</td>\n",
       "      <td>0.0</td>\n",
       "      <td>0.0</td>\n",
       "      <td>0.0</td>\n",
       "      <td>0.0</td>\n",
       "      <td>1</td>\n",
       "    </tr>\n",
       "    <tr>\n",
       "      <th>8</th>\n",
       "      <td>1001-0</td>\n",
       "      <td>0.5</td>\n",
       "      <td>0</td>\n",
       "      <td>1</td>\n",
       "      <td>1</td>\n",
       "      <td>0.0</td>\n",
       "      <td>0.5</td>\n",
       "      <td>0.0</td>\n",
       "      <td>0.0</td>\n",
       "      <td>0.0</td>\n",
       "      <td>...</td>\n",
       "      <td>0.0</td>\n",
       "      <td>0.0</td>\n",
       "      <td>0.0</td>\n",
       "      <td>0.0</td>\n",
       "      <td>0.0</td>\n",
       "      <td>0.0</td>\n",
       "      <td>0.0</td>\n",
       "      <td>0.0</td>\n",
       "      <td>0.0</td>\n",
       "      <td>1</td>\n",
       "    </tr>\n",
       "    <tr>\n",
       "      <th>14</th>\n",
       "      <td>1001-0</td>\n",
       "      <td>1.0</td>\n",
       "      <td>0</td>\n",
       "      <td>1</td>\n",
       "      <td>0</td>\n",
       "      <td>0.0</td>\n",
       "      <td>0.0</td>\n",
       "      <td>1.0</td>\n",
       "      <td>0.0</td>\n",
       "      <td>0.0</td>\n",
       "      <td>...</td>\n",
       "      <td>0.0</td>\n",
       "      <td>0.0</td>\n",
       "      <td>0.0</td>\n",
       "      <td>0.0</td>\n",
       "      <td>0.0</td>\n",
       "      <td>0.0</td>\n",
       "      <td>0.0</td>\n",
       "      <td>0.0</td>\n",
       "      <td>0.0</td>\n",
       "      <td>1</td>\n",
       "    </tr>\n",
       "  </tbody>\n",
       "</table>\n",
       "<p>3 rows × 1317 columns</p>\n",
       "</div>"
      ],
      "text/plain": [
       "    ifp_id  value  outcome  year  answer_option  user_id_6  user_id_35  \\\n",
       "2   1001-0    1.0        0     1              0        1.0         0.0   \n",
       "8   1001-0    0.5        0     1              1        0.0         0.5   \n",
       "14  1001-0    1.0        0     1              0        0.0         0.0   \n",
       "\n",
       "    user_id_47  user_id_51  user_id_52  ...  user_id_15725  user_id_15736  \\\n",
       "2          0.0         0.0         0.0  ...            0.0            0.0   \n",
       "8          0.0         0.0         0.0  ...            0.0            0.0   \n",
       "14         1.0         0.0         0.0  ...            0.0            0.0   \n",
       "\n",
       "    user_id_15755  user_id_15808  user_id_15828  user_id_15830  user_id_15836  \\\n",
       "2             0.0            0.0            0.0            0.0            0.0   \n",
       "8             0.0            0.0            0.0            0.0            0.0   \n",
       "14            0.0            0.0            0.0            0.0            0.0   \n",
       "\n",
       "    user_id_15840  user_id_15863  const  \n",
       "2             0.0            0.0      1  \n",
       "8             0.0            0.0      1  \n",
       "14            0.0            0.0      1  \n",
       "\n",
       "[3 rows x 1317 columns]"
      ]
     },
     "execution_count": 18,
     "metadata": {},
     "output_type": "execute_result"
    }
   ],
   "source": [
    "final_ans.head(3)"
   ]
  },
  {
   "cell_type": "markdown",
   "id": "129a7b23",
   "metadata": {},
   "source": [
    "### Spliting dataframe on train and test"
   ]
  },
  {
   "cell_type": "code",
   "execution_count": 19,
   "id": "9ef0214d",
   "metadata": {},
   "outputs": [],
   "source": [
    "train_set = final_ans[final_ans.year.isin([1,2])]\n",
    "test_set = final_ans[final_ans.year.isin([3,4])]\n",
    "\n",
    "X_train, y_train = train_set.drop(['ifp_id', 'value', 'outcome', 'year', 'answer_option'], axis=1), train_set['outcome']\n",
    "X_test, y_test   = test_set.drop(['ifp_id', 'value', 'outcome', 'year', 'answer_option'], axis=1), test_set['outcome']"
   ]
  },
  {
   "cell_type": "markdown",
   "id": "3bc5b5c6",
   "metadata": {},
   "source": [
    "### Scaling data"
   ]
  },
  {
   "cell_type": "code",
   "execution_count": 20,
   "id": "fd1a980b",
   "metadata": {},
   "outputs": [],
   "source": [
    "sc = StandardScaler()\n",
    "X_train_norm = sc.fit_transform(X_train)\n",
    "X_test_norm = sc.transform(X_test)"
   ]
  },
  {
   "cell_type": "markdown",
   "id": "52351dc5",
   "metadata": {},
   "source": [
    "### Fitting model and finding best hyperparameter "
   ]
  },
  {
   "cell_type": "code",
   "execution_count": 22,
   "id": "dddea9be",
   "metadata": {},
   "outputs": [
    {
     "name": "stderr",
     "output_type": "stream",
     "text": [
      "100%|██████████████████████████████████████████████████████████████████████████████████| 20/20 [00:58<00:00,  2.92s/it]\n"
     ]
    }
   ],
   "source": [
    "bs = np.zeros(20)\n",
    "different_C = np.geomspace(0.0000001, 0.0001, 20)\n",
    "\n",
    "for i in tqdm(range(len(different_C))):\n",
    "    clf = LogisticRegression(penalty='l2', C=different_C[i]).fit(X_train_norm, y_train)\n",
    "    y_prob = clf.predict_proba(X_test_norm)[:, 1]\n",
    "    \n",
    "    bs[i] = brier_score_loss(y_test, y_prob)\n",
    "    \n",
    "bs = list(bs)\n",
    "different_C = list(different_C)"
   ]
  },
  {
   "cell_type": "code",
   "execution_count": 23,
   "id": "582d651f",
   "metadata": {},
   "outputs": [
    {
     "data": {
      "image/png": "[encoded data removed]",
      "text/plain": [
       "<Figure size 1296x432 with 1 Axes>"
      ]
     },
     "metadata": {
      "needs_background": "light"
     },
     "output_type": "display_data"
    }
   ],
   "source": [
    "plt.figure(figsize=(18,6))\n",
    "\n",
    "plt.title('Зависимость Brier Score от гиперпараметра C', fontsize=25)\n",
    "\n",
    "plt.plot(different_C, bs)\n",
    "plt.scatter(different_C[bs.index(min(bs))], min(bs), color='red', linewidths=5, alpha=1)\n",
    "\n",
    "plt.xlabel('C regularizaton parameter', fontsize=20)\n",
    "plt.ylabel('Brier Score', fontsize=20)\n",
    "plt.grid()\n",
    "plt.show()"
   ]
  },
  {
   "cell_type": "code",
   "execution_count": 24,
   "id": "a56d7c0a",
   "metadata": {},
   "outputs": [
    {
     "name": "stdout",
     "output_type": "stream",
     "text": [
      "Минимальное значение BS = 0.169 при C = 0.000016\n"
     ]
    }
   ],
   "source": [
    "print(f'Минимальное значение BS = {min(bs):.4f} при C = {different_C[bs.index(min(bs))]:.6f}')"
   ]
  }
 ],
 "metadata": {
  "kernelspec": {
   "display_name": "Python 3 (ipykernel)",
   "language": "python",
   "name": "python3"
  },
  "language_info": {
   "codemirror_mode": {
    "name": "ipython",
    "version": 3
   },
   "file_extension": ".py",
   "mimetype": "text/x-python",
   "name": "python",
   "nbconvert_exporter": "python",
   "pygments_lexer": "ipython3",
   "version": "3.8.11"
  }
 },
 "nbformat": 4,
 "nbformat_minor": 5
}
