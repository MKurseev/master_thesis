{
  "cells": [
    {
      "cell_type": "markdown",
      "metadata": {
        "id": "view-in-github",
        "colab_type": "text"
      },
      "source": [
        "<a href=\"https://colab.research.google.com/github/MKurseev/master_thesis/blob/main/main_file.ipynb\" target=\"_parent\"><img src=\"https://colab.research.google.com/assets/colab-badge.svg\" alt=\"Open In Colab\"/></a>"
      ]
    },
    {
      "cell_type": "markdown",
      "id": "fbda1f25",
      "metadata": {
        "id": "fbda1f25"
      },
      "source": [
        "### Libraries"
      ]
    },
    {
      "cell_type": "code",
      "source": [
        "!pip3 install sentence_transformers"
      ],
      "metadata": {
        "id": "oqvbj3Qc6LdT"
      },
      "id": "oqvbj3Qc6LdT",
      "execution_count": null,
      "outputs": []
    },
    {
      "cell_type": "code",
      "execution_count": 2,
      "id": "544bbf77",
      "metadata": {
        "id": "544bbf77"
      },
      "outputs": [],
      "source": [
        "import glob\n",
        "import os\n",
        "import pandas as pd\n",
        "\n",
        "import numpy as np\n",
        "from tqdm import tqdm\n",
        "\n",
        "from sklearn.linear_model import RidgeClassifier\n",
        "from sklearn.preprocessing import StandardScaler\n",
        "\n",
        "from sklearn.linear_model import LogisticRegression\n",
        "from sklearn.metrics import brier_score_loss\n",
        "\n",
        "import matplotlib.pyplot as plt\n",
        "\n",
        "from sentence_transformers import SentenceTransformer\n",
        "\n",
        "from sklearn.decomposition import PCA\n",
        "from sklearn import preprocessing\n",
        "\n",
        "import warnings\n",
        "warnings.filterwarnings(\"ignore\")"
      ]
    },
    {
      "cell_type": "code",
      "source": [
        "import os\n",
        "from google.colab import drive\n",
        "\n",
        "drive.mount('/content/gdrive/', force_remount=True)\n",
        "os.chdir('/content/gdrive/MyDrive/Colab Notebooks/master_thesis/')"
      ],
      "metadata": {
        "colab": {
          "base_uri": "https://localhost:8080/"
        },
        "id": "DDjGg5VX4Nqn",
        "outputId": "18750843-6b71-4bd4-e129-b2f3501d0fec"
      },
      "id": "DDjGg5VX4Nqn",
      "execution_count": 3,
      "outputs": [
        {
          "output_type": "stream",
          "name": "stdout",
          "text": [
            "Mounted at /content/gdrive/\n"
          ]
        }
      ]
    },
    {
      "cell_type": "markdown",
      "id": "14cab65c",
      "metadata": {
        "id": "14cab65c"
      },
      "source": [
        "___\n",
        "### Выгрузка данных "
      ]
    },
    {
      "cell_type": "code",
      "execution_count": 4,
      "id": "6965d5dd",
      "metadata": {
        "id": "6965d5dd"
      },
      "outputs": [],
      "source": [
        "survey_fcasts = pd.DataFrame()\n",
        "\n",
        "file_type = 'csv'\n",
        "seperator =','\n",
        "\n",
        "for f in glob.glob(\"*.\" + file_type):\n",
        "    if f[:13] == 'survey_fcasts':\n",
        "        data = pd.read_csv(f, sep=seperator, low_memory=False, encoding='ISO-8859-1')\n",
        "        survey_fcasts = pd.concat([survey_fcasts, data])\n",
        "    \n",
        "\n",
        "ifps = pd.read_csv('ifps.csv', sep=seperator, encoding='ISO-8859-1')"
      ]
    },
    {
      "cell_type": "code",
      "execution_count": 5,
      "id": "a7d676f1",
      "metadata": {
        "colab": {
          "base_uri": "https://localhost:8080/",
          "height": 250
        },
        "id": "a7d676f1",
        "outputId": "b4cd7c8d-4f87-484d-dcb5-3cdc6e8010aa"
      },
      "outputs": [
        {
          "output_type": "execute_result",
          "data": {
            "text/plain": [
              "   ifp_id ctt  cond training  team  user_id  forecast_id  fcast_type  \\\n",
              "0  1004-0  1a     1        a   NaN    600.0    -200987.0           0   \n",
              "1  1004-0  1a     1        a   NaN    600.0    -200987.0           0   \n",
              "2  1008-0  1a     1        a   NaN    600.0    -200986.0           0   \n",
              "3  1008-0  1a     1        a   NaN    600.0    -200986.0           0   \n",
              "4  1006-0  1a     1        a   NaN    600.0    -200985.0           0   \n",
              "\n",
              "  answer_option  value  fcast_date  expertise q_status  viewtime  year  \\\n",
              "0             a   0.10  2011-08-31        1.0   closed       NaN     1   \n",
              "1             b   0.90  2011-08-31        1.0   closed       NaN     1   \n",
              "2             a   0.25  2011-08-31        2.0   closed       NaN     1   \n",
              "3             b   0.75  2011-08-31        2.0   closed       NaN     1   \n",
              "4             a   0.10  2011-08-31        3.0   closed       NaN     1   \n",
              "\n",
              "             timestamp  \n",
              "0  2011-08-31 16:17:18  \n",
              "1  2011-08-31 16:17:18  \n",
              "2  2011-08-31 16:18:27  \n",
              "3  2011-08-31 16:18:27  \n",
              "4  2011-08-31 16:18:47  "
            ],
            "text/html": [
              "\n",
              "  <div id=\"df-355edcd5-2d3c-4235-a269-52743810269a\">\n",
              "    <div class=\"colab-df-container\">\n",
              "      <div>\n",
              "<style scoped>\n",
              "    .dataframe tbody tr th:only-of-type {\n",
              "        vertical-align: middle;\n",
              "    }\n",
              "\n",
              "    .dataframe tbody tr th {\n",
              "        vertical-align: top;\n",
              "    }\n",
              "\n",
              "    .dataframe thead th {\n",
              "        text-align: right;\n",
              "    }\n",
              "</style>\n",
              "<table border=\"1\" class=\"dataframe\">\n",
              "  <thead>\n",
              "    <tr style=\"text-align: right;\">\n",
              "      <th></th>\n",
              "      <th>ifp_id</th>\n",
              "      <th>ctt</th>\n",
              "      <th>cond</th>\n",
              "      <th>training</th>\n",
              "      <th>team</th>\n",
              "      <th>user_id</th>\n",
              "      <th>forecast_id</th>\n",
              "      <th>fcast_type</th>\n",
              "      <th>answer_option</th>\n",
              "      <th>value</th>\n",
              "      <th>fcast_date</th>\n",
              "      <th>expertise</th>\n",
              "      <th>q_status</th>\n",
              "      <th>viewtime</th>\n",
              "      <th>year</th>\n",
              "      <th>timestamp</th>\n",
              "    </tr>\n",
              "  </thead>\n",
              "  <tbody>\n",
              "    <tr>\n",
              "      <th>0</th>\n",
              "      <td>1004-0</td>\n",
              "      <td>1a</td>\n",
              "      <td>1</td>\n",
              "      <td>a</td>\n",
              "      <td>NaN</td>\n",
              "      <td>600.0</td>\n",
              "      <td>-200987.0</td>\n",
              "      <td>0</td>\n",
              "      <td>a</td>\n",
              "      <td>0.10</td>\n",
              "      <td>2011-08-31</td>\n",
              "      <td>1.0</td>\n",
              "      <td>closed</td>\n",
              "      <td>NaN</td>\n",
              "      <td>1</td>\n",
              "      <td>2011-08-31 16:17:18</td>\n",
              "    </tr>\n",
              "    <tr>\n",
              "      <th>1</th>\n",
              "      <td>1004-0</td>\n",
              "      <td>1a</td>\n",
              "      <td>1</td>\n",
              "      <td>a</td>\n",
              "      <td>NaN</td>\n",
              "      <td>600.0</td>\n",
              "      <td>-200987.0</td>\n",
              "      <td>0</td>\n",
              "      <td>b</td>\n",
              "      <td>0.90</td>\n",
              "      <td>2011-08-31</td>\n",
              "      <td>1.0</td>\n",
              "      <td>closed</td>\n",
              "      <td>NaN</td>\n",
              "      <td>1</td>\n",
              "      <td>2011-08-31 16:17:18</td>\n",
              "    </tr>\n",
              "    <tr>\n",
              "      <th>2</th>\n",
              "      <td>1008-0</td>\n",
              "      <td>1a</td>\n",
              "      <td>1</td>\n",
              "      <td>a</td>\n",
              "      <td>NaN</td>\n",
              "      <td>600.0</td>\n",
              "      <td>-200986.0</td>\n",
              "      <td>0</td>\n",
              "      <td>a</td>\n",
              "      <td>0.25</td>\n",
              "      <td>2011-08-31</td>\n",
              "      <td>2.0</td>\n",
              "      <td>closed</td>\n",
              "      <td>NaN</td>\n",
              "      <td>1</td>\n",
              "      <td>2011-08-31 16:18:27</td>\n",
              "    </tr>\n",
              "    <tr>\n",
              "      <th>3</th>\n",
              "      <td>1008-0</td>\n",
              "      <td>1a</td>\n",
              "      <td>1</td>\n",
              "      <td>a</td>\n",
              "      <td>NaN</td>\n",
              "      <td>600.0</td>\n",
              "      <td>-200986.0</td>\n",
              "      <td>0</td>\n",
              "      <td>b</td>\n",
              "      <td>0.75</td>\n",
              "      <td>2011-08-31</td>\n",
              "      <td>2.0</td>\n",
              "      <td>closed</td>\n",
              "      <td>NaN</td>\n",
              "      <td>1</td>\n",
              "      <td>2011-08-31 16:18:27</td>\n",
              "    </tr>\n",
              "    <tr>\n",
              "      <th>4</th>\n",
              "      <td>1006-0</td>\n",
              "      <td>1a</td>\n",
              "      <td>1</td>\n",
              "      <td>a</td>\n",
              "      <td>NaN</td>\n",
              "      <td>600.0</td>\n",
              "      <td>-200985.0</td>\n",
              "      <td>0</td>\n",
              "      <td>a</td>\n",
              "      <td>0.10</td>\n",
              "      <td>2011-08-31</td>\n",
              "      <td>3.0</td>\n",
              "      <td>closed</td>\n",
              "      <td>NaN</td>\n",
              "      <td>1</td>\n",
              "      <td>2011-08-31 16:18:47</td>\n",
              "    </tr>\n",
              "  </tbody>\n",
              "</table>\n",
              "</div>\n",
              "      <button class=\"colab-df-convert\" onclick=\"convertToInteractive('df-355edcd5-2d3c-4235-a269-52743810269a')\"\n",
              "              title=\"Convert this dataframe to an interactive table.\"\n",
              "              style=\"display:none;\">\n",
              "        \n",
              "  <svg xmlns=\"http://www.w3.org/2000/svg\" height=\"24px\"viewBox=\"0 0 24 24\"\n",
              "       width=\"24px\">\n",
              "    <path d=\"M0 0h24v24H0V0z\" fill=\"none\"/>\n",
              "    <path d=\"M18.56 5.44l.94 2.06.94-2.06 2.06-.94-2.06-.94-.94-2.06-.94 2.06-2.06.94zm-11 1L8.5 8.5l.94-2.06 2.06-.94-2.06-.94L8.5 2.5l-.94 2.06-2.06.94zm10 10l.94 2.06.94-2.06 2.06-.94-2.06-.94-.94-2.06-.94 2.06-2.06.94z\"/><path d=\"M17.41 7.96l-1.37-1.37c-.4-.4-.92-.59-1.43-.59-.52 0-1.04.2-1.43.59L10.3 9.45l-7.72 7.72c-.78.78-.78 2.05 0 2.83L4 21.41c.39.39.9.59 1.41.59.51 0 1.02-.2 1.41-.59l7.78-7.78 2.81-2.81c.8-.78.8-2.07 0-2.86zM5.41 20L4 18.59l7.72-7.72 1.47 1.35L5.41 20z\"/>\n",
              "  </svg>\n",
              "      </button>\n",
              "      \n",
              "  <style>\n",
              "    .colab-df-container {\n",
              "      display:flex;\n",
              "      flex-wrap:wrap;\n",
              "      gap: 12px;\n",
              "    }\n",
              "\n",
              "    .colab-df-convert {\n",
              "      background-color: #E8F0FE;\n",
              "      border: none;\n",
              "      border-radius: 50%;\n",
              "      cursor: pointer;\n",
              "      display: none;\n",
              "      fill: #1967D2;\n",
              "      height: 32px;\n",
              "      padding: 0 0 0 0;\n",
              "      width: 32px;\n",
              "    }\n",
              "\n",
              "    .colab-df-convert:hover {\n",
              "      background-color: #E2EBFA;\n",
              "      box-shadow: 0px 1px 2px rgba(60, 64, 67, 0.3), 0px 1px 3px 1px rgba(60, 64, 67, 0.15);\n",
              "      fill: #174EA6;\n",
              "    }\n",
              "\n",
              "    [theme=dark] .colab-df-convert {\n",
              "      background-color: #3B4455;\n",
              "      fill: #D2E3FC;\n",
              "    }\n",
              "\n",
              "    [theme=dark] .colab-df-convert:hover {\n",
              "      background-color: #434B5C;\n",
              "      box-shadow: 0px 1px 3px 1px rgba(0, 0, 0, 0.15);\n",
              "      filter: drop-shadow(0px 1px 2px rgba(0, 0, 0, 0.3));\n",
              "      fill: #FFFFFF;\n",
              "    }\n",
              "  </style>\n",
              "\n",
              "      <script>\n",
              "        const buttonEl =\n",
              "          document.querySelector('#df-355edcd5-2d3c-4235-a269-52743810269a button.colab-df-convert');\n",
              "        buttonEl.style.display =\n",
              "          google.colab.kernel.accessAllowed ? 'block' : 'none';\n",
              "\n",
              "        async function convertToInteractive(key) {\n",
              "          const element = document.querySelector('#df-355edcd5-2d3c-4235-a269-52743810269a');\n",
              "          const dataTable =\n",
              "            await google.colab.kernel.invokeFunction('convertToInteractive',\n",
              "                                                     [key], {});\n",
              "          if (!dataTable) return;\n",
              "\n",
              "          const docLinkHtml = 'Like what you see? Visit the ' +\n",
              "            '<a target=\"_blank\" href=https://colab.research.google.com/notebooks/data_table.ipynb>data table notebook</a>'\n",
              "            + ' to learn more about interactive tables.';\n",
              "          element.innerHTML = '';\n",
              "          dataTable['output_type'] = 'display_data';\n",
              "          await google.colab.output.renderOutput(dataTable, element);\n",
              "          const docLink = document.createElement('div');\n",
              "          docLink.innerHTML = docLinkHtml;\n",
              "          element.appendChild(docLink);\n",
              "        }\n",
              "      </script>\n",
              "    </div>\n",
              "  </div>\n",
              "  "
            ]
          },
          "metadata": {},
          "execution_count": 5
        }
      ],
      "source": [
        "survey_fcasts.head(5)"
      ]
    },
    {
      "cell_type": "code",
      "execution_count": 6,
      "id": "2c450716",
      "metadata": {
        "colab": {
          "base_uri": "https://localhost:8080/",
          "height": 563
        },
        "id": "2c450716",
        "outputId": "ebc28064-494e-4eff-b47c-97163d143be6"
      },
      "outputs": [
        {
          "output_type": "execute_result",
          "data": {
            "text/plain": [
              "   ifp_id  q_type                                             q_text  \\\n",
              "0  1001-0       0  Will the Six-Party talks (among the US, North ...   \n",
              "1  1002-0       0  Who will be inaugurated as President of Russia...   \n",
              "2  1003-0       0  Will Serbia be officially granted EU candidacy...   \n",
              "3  1004-0       0  Will the United Nations General Assembly recog...   \n",
              "4  1005-0       0  Will Daniel Ortega win another term as Preside...   \n",
              "\n",
              "                                              q_desc q_status date_start  \\\n",
              "0  'In' refers to any time during the remainder o...   closed     9/1/11   \n",
              "1  'In' refers to any time during the 2012 calend...   closed     9/1/11   \n",
              "2  A 'yes' answer to this question requires not o...   closed     9/1/11   \n",
              "3  'By' means at or prior to the end of the day o...   closed     9/1/11   \n",
              "4  If the Nicaraguan elections do not occur in la...   closed     9/1/11   \n",
              "\n",
              "    date_suspend date_to_close date_closed outcome                short_title  \\\n",
              "0  12/30/11 0:00      12/31/11      1/2/12       b     Six-party talks resume   \n",
              "1   5/14/12 0:00       5/15/12      5/6/12       b        president of Russia   \n",
              "2  12/30/11 0:00      12/31/11      1/3/12       b        Serbia EU candidacy   \n",
              "3   9/29/11 0:00       9/30/11     9/30/11       b  UN-GA recognize Palestine   \n",
              "4   11/4/11 0:00       11/5/11     11/5/11       a    Ortega win in Nicaragua   \n",
              "\n",
              "   days_open  n_opts                               options  \n",
              "0      123.0       2                       (a) Yes, (b) No  \n",
              "1      248.0       3  (a) Medvedev, (b) Putin, (c) Neither  \n",
              "2      124.0       2                       (a) Yes, (b) No  \n",
              "3       29.0       2                       (a) Yes, (b) No  \n",
              "4       65.0       2                       (a) Yes, (b) No  "
            ],
            "text/html": [
              "\n",
              "  <div id=\"df-5b2926a7-155c-4ca4-9e26-690da53ba51a\">\n",
              "    <div class=\"colab-df-container\">\n",
              "      <div>\n",
              "<style scoped>\n",
              "    .dataframe tbody tr th:only-of-type {\n",
              "        vertical-align: middle;\n",
              "    }\n",
              "\n",
              "    .dataframe tbody tr th {\n",
              "        vertical-align: top;\n",
              "    }\n",
              "\n",
              "    .dataframe thead th {\n",
              "        text-align: right;\n",
              "    }\n",
              "</style>\n",
              "<table border=\"1\" class=\"dataframe\">\n",
              "  <thead>\n",
              "    <tr style=\"text-align: right;\">\n",
              "      <th></th>\n",
              "      <th>ifp_id</th>\n",
              "      <th>q_type</th>\n",
              "      <th>q_text</th>\n",
              "      <th>q_desc</th>\n",
              "      <th>q_status</th>\n",
              "      <th>date_start</th>\n",
              "      <th>date_suspend</th>\n",
              "      <th>date_to_close</th>\n",
              "      <th>date_closed</th>\n",
              "      <th>outcome</th>\n",
              "      <th>short_title</th>\n",
              "      <th>days_open</th>\n",
              "      <th>n_opts</th>\n",
              "      <th>options</th>\n",
              "    </tr>\n",
              "  </thead>\n",
              "  <tbody>\n",
              "    <tr>\n",
              "      <th>0</th>\n",
              "      <td>1001-0</td>\n",
              "      <td>0</td>\n",
              "      <td>Will the Six-Party talks (among the US, North ...</td>\n",
              "      <td>'In' refers to any time during the remainder o...</td>\n",
              "      <td>closed</td>\n",
              "      <td>9/1/11</td>\n",
              "      <td>12/30/11 0:00</td>\n",
              "      <td>12/31/11</td>\n",
              "      <td>1/2/12</td>\n",
              "      <td>b</td>\n",
              "      <td>Six-party talks resume</td>\n",
              "      <td>123.0</td>\n",
              "      <td>2</td>\n",
              "      <td>(a) Yes, (b) No</td>\n",
              "    </tr>\n",
              "    <tr>\n",
              "      <th>1</th>\n",
              "      <td>1002-0</td>\n",
              "      <td>0</td>\n",
              "      <td>Who will be inaugurated as President of Russia...</td>\n",
              "      <td>'In' refers to any time during the 2012 calend...</td>\n",
              "      <td>closed</td>\n",
              "      <td>9/1/11</td>\n",
              "      <td>5/14/12 0:00</td>\n",
              "      <td>5/15/12</td>\n",
              "      <td>5/6/12</td>\n",
              "      <td>b</td>\n",
              "      <td>president of Russia</td>\n",
              "      <td>248.0</td>\n",
              "      <td>3</td>\n",
              "      <td>(a) Medvedev, (b) Putin, (c) Neither</td>\n",
              "    </tr>\n",
              "    <tr>\n",
              "      <th>2</th>\n",
              "      <td>1003-0</td>\n",
              "      <td>0</td>\n",
              "      <td>Will Serbia be officially granted EU candidacy...</td>\n",
              "      <td>A 'yes' answer to this question requires not o...</td>\n",
              "      <td>closed</td>\n",
              "      <td>9/1/11</td>\n",
              "      <td>12/30/11 0:00</td>\n",
              "      <td>12/31/11</td>\n",
              "      <td>1/3/12</td>\n",
              "      <td>b</td>\n",
              "      <td>Serbia EU candidacy</td>\n",
              "      <td>124.0</td>\n",
              "      <td>2</td>\n",
              "      <td>(a) Yes, (b) No</td>\n",
              "    </tr>\n",
              "    <tr>\n",
              "      <th>3</th>\n",
              "      <td>1004-0</td>\n",
              "      <td>0</td>\n",
              "      <td>Will the United Nations General Assembly recog...</td>\n",
              "      <td>'By' means at or prior to the end of the day o...</td>\n",
              "      <td>closed</td>\n",
              "      <td>9/1/11</td>\n",
              "      <td>9/29/11 0:00</td>\n",
              "      <td>9/30/11</td>\n",
              "      <td>9/30/11</td>\n",
              "      <td>b</td>\n",
              "      <td>UN-GA recognize Palestine</td>\n",
              "      <td>29.0</td>\n",
              "      <td>2</td>\n",
              "      <td>(a) Yes, (b) No</td>\n",
              "    </tr>\n",
              "    <tr>\n",
              "      <th>4</th>\n",
              "      <td>1005-0</td>\n",
              "      <td>0</td>\n",
              "      <td>Will Daniel Ortega win another term as Preside...</td>\n",
              "      <td>If the Nicaraguan elections do not occur in la...</td>\n",
              "      <td>closed</td>\n",
              "      <td>9/1/11</td>\n",
              "      <td>11/4/11 0:00</td>\n",
              "      <td>11/5/11</td>\n",
              "      <td>11/5/11</td>\n",
              "      <td>a</td>\n",
              "      <td>Ortega win in Nicaragua</td>\n",
              "      <td>65.0</td>\n",
              "      <td>2</td>\n",
              "      <td>(a) Yes, (b) No</td>\n",
              "    </tr>\n",
              "  </tbody>\n",
              "</table>\n",
              "</div>\n",
              "      <button class=\"colab-df-convert\" onclick=\"convertToInteractive('df-5b2926a7-155c-4ca4-9e26-690da53ba51a')\"\n",
              "              title=\"Convert this dataframe to an interactive table.\"\n",
              "              style=\"display:none;\">\n",
              "        \n",
              "  <svg xmlns=\"http://www.w3.org/2000/svg\" height=\"24px\"viewBox=\"0 0 24 24\"\n",
              "       width=\"24px\">\n",
              "    <path d=\"M0 0h24v24H0V0z\" fill=\"none\"/>\n",
              "    <path d=\"M18.56 5.44l.94 2.06.94-2.06 2.06-.94-2.06-.94-.94-2.06-.94 2.06-2.06.94zm-11 1L8.5 8.5l.94-2.06 2.06-.94-2.06-.94L8.5 2.5l-.94 2.06-2.06.94zm10 10l.94 2.06.94-2.06 2.06-.94-2.06-.94-.94-2.06-.94 2.06-2.06.94z\"/><path d=\"M17.41 7.96l-1.37-1.37c-.4-.4-.92-.59-1.43-.59-.52 0-1.04.2-1.43.59L10.3 9.45l-7.72 7.72c-.78.78-.78 2.05 0 2.83L4 21.41c.39.39.9.59 1.41.59.51 0 1.02-.2 1.41-.59l7.78-7.78 2.81-2.81c.8-.78.8-2.07 0-2.86zM5.41 20L4 18.59l7.72-7.72 1.47 1.35L5.41 20z\"/>\n",
              "  </svg>\n",
              "      </button>\n",
              "      \n",
              "  <style>\n",
              "    .colab-df-container {\n",
              "      display:flex;\n",
              "      flex-wrap:wrap;\n",
              "      gap: 12px;\n",
              "    }\n",
              "\n",
              "    .colab-df-convert {\n",
              "      background-color: #E8F0FE;\n",
              "      border: none;\n",
              "      border-radius: 50%;\n",
              "      cursor: pointer;\n",
              "      display: none;\n",
              "      fill: #1967D2;\n",
              "      height: 32px;\n",
              "      padding: 0 0 0 0;\n",
              "      width: 32px;\n",
              "    }\n",
              "\n",
              "    .colab-df-convert:hover {\n",
              "      background-color: #E2EBFA;\n",
              "      box-shadow: 0px 1px 2px rgba(60, 64, 67, 0.3), 0px 1px 3px 1px rgba(60, 64, 67, 0.15);\n",
              "      fill: #174EA6;\n",
              "    }\n",
              "\n",
              "    [theme=dark] .colab-df-convert {\n",
              "      background-color: #3B4455;\n",
              "      fill: #D2E3FC;\n",
              "    }\n",
              "\n",
              "    [theme=dark] .colab-df-convert:hover {\n",
              "      background-color: #434B5C;\n",
              "      box-shadow: 0px 1px 3px 1px rgba(0, 0, 0, 0.15);\n",
              "      filter: drop-shadow(0px 1px 2px rgba(0, 0, 0, 0.3));\n",
              "      fill: #FFFFFF;\n",
              "    }\n",
              "  </style>\n",
              "\n",
              "      <script>\n",
              "        const buttonEl =\n",
              "          document.querySelector('#df-5b2926a7-155c-4ca4-9e26-690da53ba51a button.colab-df-convert');\n",
              "        buttonEl.style.display =\n",
              "          google.colab.kernel.accessAllowed ? 'block' : 'none';\n",
              "\n",
              "        async function convertToInteractive(key) {\n",
              "          const element = document.querySelector('#df-5b2926a7-155c-4ca4-9e26-690da53ba51a');\n",
              "          const dataTable =\n",
              "            await google.colab.kernel.invokeFunction('convertToInteractive',\n",
              "                                                     [key], {});\n",
              "          if (!dataTable) return;\n",
              "\n",
              "          const docLinkHtml = 'Like what you see? Visit the ' +\n",
              "            '<a target=\"_blank\" href=https://colab.research.google.com/notebooks/data_table.ipynb>data table notebook</a>'\n",
              "            + ' to learn more about interactive tables.';\n",
              "          element.innerHTML = '';\n",
              "          dataTable['output_type'] = 'display_data';\n",
              "          await google.colab.output.renderOutput(dataTable, element);\n",
              "          const docLink = document.createElement('div');\n",
              "          docLink.innerHTML = docLinkHtml;\n",
              "          element.appendChild(docLink);\n",
              "        }\n",
              "      </script>\n",
              "    </div>\n",
              "  </div>\n",
              "  "
            ]
          },
          "metadata": {},
          "execution_count": 6
        }
      ],
      "source": [
        "ifps.head(2)"
      ]
    },
    {
      "cell_type": "code",
      "execution_count": 7,
      "id": "8081b886",
      "metadata": {
        "colab": {
          "base_uri": "https://localhost:8080/"
        },
        "id": "8081b886",
        "outputId": "7fb7f40b-4d60-4bbb-cf89-c249d62eb86a"
      },
      "outputs": [
        {
          "output_type": "execute_result",
          "data": {
            "text/plain": [
              "('Will the Six-Party talks (among the US, North Korea, South Korea, Russia, China, and Japan) formally resume in 2011?',\n",
              " 'Will **national military force(s) from one or more countries *intervene in Syria **before 1 December 2014?',\n",
              " 'When will Mariano Rajoy vacate the office of Prime Minister of Spain?')"
            ]
          },
          "metadata": {},
          "execution_count": 7
        }
      ],
      "source": [
        "q_ifps = pd.DataFrame(ifps['q_text'].unique(), columns=['questions'])\n",
        "unique_q_num = q_ifps.nunique()\n",
        "\n",
        "# show some of them\n",
        "(\n",
        "q_ifps.questions[0], \n",
        "q_ifps.questions[391], \n",
        "q_ifps.questions[200] \n",
        ")"
      ]
    },
    {
      "cell_type": "code",
      "execution_count": 8,
      "id": "3472ab04",
      "metadata": {
        "colab": {
          "base_uri": "https://localhost:8080/",
          "height": 36
        },
        "id": "3472ab04",
        "outputId": "234f44ef-c013-4394-b14f-440b49517895"
      },
      "outputs": [
        {
          "output_type": "execute_result",
          "data": {
            "text/plain": [
              "'Всего вопросов : 527'"
            ],
            "application/vnd.google.colaboratory.intrinsic+json": {
              "type": "string"
            }
          },
          "metadata": {},
          "execution_count": 8
        }
      ],
      "source": [
        "f'Всего вопросов : {unique_q_num[0]}'"
      ]
    },
    {
      "cell_type": "markdown",
      "id": "0eb2c098",
      "metadata": {
        "id": "0eb2c098"
      },
      "source": [
        "___\n",
        "### Предсказание людей в зависимости от их ответа в прошлый год"
      ]
    },
    {
      "cell_type": "code",
      "execution_count": 9,
      "id": "1f7068cf",
      "metadata": {
        "id": "1f7068cf"
      },
      "outputs": [],
      "source": [
        "user_answers = survey_fcasts[['ifp_id','user_id','q_status','year','answer_option','timestamp','value','fcast_type','fcast_date']]\n",
        "user_answers = user_answers[(~user_answers.user_id.isna()) & (user_answers.q_status == 'closed')].reset_index(drop=True)\n",
        "\n",
        "user_answers['ans_type'] = user_answers.ifp_id.apply(lambda x: x[5:]).astype(int)\n",
        "user_answers['question'] = user_answers.ifp_id.apply(lambda x: x[:4]).astype(int)\n",
        "\n",
        "assert user_answers.user_id.apply(lambda x: x.is_integer()).sum() == user_answers.shape[0]\n",
        "\n",
        "user_answers['user_id'] = user_answers['user_id'].astype(int)\n",
        "user_answers = user_answers.sort_values(['question','user_id'])"
      ]
    },
    {
      "cell_type": "code",
      "execution_count": 10,
      "id": "5b93c85c",
      "metadata": {
        "colab": {
          "base_uri": "https://localhost:8080/",
          "height": 112
        },
        "id": "5b93c85c",
        "outputId": "7e1b7ff7-9cb7-46dc-f628-ef67a4ef97b3"
      },
      "outputs": [
        {
          "output_type": "execute_result",
          "data": {
            "text/plain": [
              "      ifp_id  user_id q_status  year answer_option            timestamp  \\\n",
              "5555  1001-0        3   closed     1             a  2011-09-06 05:46:12   \n",
              "5556  1001-0        3   closed     1             b  2011-09-06 05:46:12   \n",
              "\n",
              "      value  fcast_type  fcast_date  ans_type  question  \n",
              "5555    0.5           1  2011-09-06         0      1001  \n",
              "5556    0.5           1  2011-09-06         0      1001  "
            ],
            "text/html": [
              "\n",
              "  <div id=\"df-5c5c771f-b924-498d-9dc4-d3485ff7c84e\">\n",
              "    <div class=\"colab-df-container\">\n",
              "      <div>\n",
              "<style scoped>\n",
              "    .dataframe tbody tr th:only-of-type {\n",
              "        vertical-align: middle;\n",
              "    }\n",
              "\n",
              "    .dataframe tbody tr th {\n",
              "        vertical-align: top;\n",
              "    }\n",
              "\n",
              "    .dataframe thead th {\n",
              "        text-align: right;\n",
              "    }\n",
              "</style>\n",
              "<table border=\"1\" class=\"dataframe\">\n",
              "  <thead>\n",
              "    <tr style=\"text-align: right;\">\n",
              "      <th></th>\n",
              "      <th>ifp_id</th>\n",
              "      <th>user_id</th>\n",
              "      <th>q_status</th>\n",
              "      <th>year</th>\n",
              "      <th>answer_option</th>\n",
              "      <th>timestamp</th>\n",
              "      <th>value</th>\n",
              "      <th>fcast_type</th>\n",
              "      <th>fcast_date</th>\n",
              "      <th>ans_type</th>\n",
              "      <th>question</th>\n",
              "    </tr>\n",
              "  </thead>\n",
              "  <tbody>\n",
              "    <tr>\n",
              "      <th>5555</th>\n",
              "      <td>1001-0</td>\n",
              "      <td>3</td>\n",
              "      <td>closed</td>\n",
              "      <td>1</td>\n",
              "      <td>a</td>\n",
              "      <td>2011-09-06 05:46:12</td>\n",
              "      <td>0.5</td>\n",
              "      <td>1</td>\n",
              "      <td>2011-09-06</td>\n",
              "      <td>0</td>\n",
              "      <td>1001</td>\n",
              "    </tr>\n",
              "    <tr>\n",
              "      <th>5556</th>\n",
              "      <td>1001-0</td>\n",
              "      <td>3</td>\n",
              "      <td>closed</td>\n",
              "      <td>1</td>\n",
              "      <td>b</td>\n",
              "      <td>2011-09-06 05:46:12</td>\n",
              "      <td>0.5</td>\n",
              "      <td>1</td>\n",
              "      <td>2011-09-06</td>\n",
              "      <td>0</td>\n",
              "      <td>1001</td>\n",
              "    </tr>\n",
              "  </tbody>\n",
              "</table>\n",
              "</div>\n",
              "      <button class=\"colab-df-convert\" onclick=\"convertToInteractive('df-5c5c771f-b924-498d-9dc4-d3485ff7c84e')\"\n",
              "              title=\"Convert this dataframe to an interactive table.\"\n",
              "              style=\"display:none;\">\n",
              "        \n",
              "  <svg xmlns=\"http://www.w3.org/2000/svg\" height=\"24px\"viewBox=\"0 0 24 24\"\n",
              "       width=\"24px\">\n",
              "    <path d=\"M0 0h24v24H0V0z\" fill=\"none\"/>\n",
              "    <path d=\"M18.56 5.44l.94 2.06.94-2.06 2.06-.94-2.06-.94-.94-2.06-.94 2.06-2.06.94zm-11 1L8.5 8.5l.94-2.06 2.06-.94-2.06-.94L8.5 2.5l-.94 2.06-2.06.94zm10 10l.94 2.06.94-2.06 2.06-.94-2.06-.94-.94-2.06-.94 2.06-2.06.94z\"/><path d=\"M17.41 7.96l-1.37-1.37c-.4-.4-.92-.59-1.43-.59-.52 0-1.04.2-1.43.59L10.3 9.45l-7.72 7.72c-.78.78-.78 2.05 0 2.83L4 21.41c.39.39.9.59 1.41.59.51 0 1.02-.2 1.41-.59l7.78-7.78 2.81-2.81c.8-.78.8-2.07 0-2.86zM5.41 20L4 18.59l7.72-7.72 1.47 1.35L5.41 20z\"/>\n",
              "  </svg>\n",
              "      </button>\n",
              "      \n",
              "  <style>\n",
              "    .colab-df-container {\n",
              "      display:flex;\n",
              "      flex-wrap:wrap;\n",
              "      gap: 12px;\n",
              "    }\n",
              "\n",
              "    .colab-df-convert {\n",
              "      background-color: #E8F0FE;\n",
              "      border: none;\n",
              "      border-radius: 50%;\n",
              "      cursor: pointer;\n",
              "      display: none;\n",
              "      fill: #1967D2;\n",
              "      height: 32px;\n",
              "      padding: 0 0 0 0;\n",
              "      width: 32px;\n",
              "    }\n",
              "\n",
              "    .colab-df-convert:hover {\n",
              "      background-color: #E2EBFA;\n",
              "      box-shadow: 0px 1px 2px rgba(60, 64, 67, 0.3), 0px 1px 3px 1px rgba(60, 64, 67, 0.15);\n",
              "      fill: #174EA6;\n",
              "    }\n",
              "\n",
              "    [theme=dark] .colab-df-convert {\n",
              "      background-color: #3B4455;\n",
              "      fill: #D2E3FC;\n",
              "    }\n",
              "\n",
              "    [theme=dark] .colab-df-convert:hover {\n",
              "      background-color: #434B5C;\n",
              "      box-shadow: 0px 1px 3px 1px rgba(0, 0, 0, 0.15);\n",
              "      filter: drop-shadow(0px 1px 2px rgba(0, 0, 0, 0.3));\n",
              "      fill: #FFFFFF;\n",
              "    }\n",
              "  </style>\n",
              "\n",
              "      <script>\n",
              "        const buttonEl =\n",
              "          document.querySelector('#df-5c5c771f-b924-498d-9dc4-d3485ff7c84e button.colab-df-convert');\n",
              "        buttonEl.style.display =\n",
              "          google.colab.kernel.accessAllowed ? 'block' : 'none';\n",
              "\n",
              "        async function convertToInteractive(key) {\n",
              "          const element = document.querySelector('#df-5c5c771f-b924-498d-9dc4-d3485ff7c84e');\n",
              "          const dataTable =\n",
              "            await google.colab.kernel.invokeFunction('convertToInteractive',\n",
              "                                                     [key], {});\n",
              "          if (!dataTable) return;\n",
              "\n",
              "          const docLinkHtml = 'Like what you see? Visit the ' +\n",
              "            '<a target=\"_blank\" href=https://colab.research.google.com/notebooks/data_table.ipynb>data table notebook</a>'\n",
              "            + ' to learn more about interactive tables.';\n",
              "          element.innerHTML = '';\n",
              "          dataTable['output_type'] = 'display_data';\n",
              "          await google.colab.output.renderOutput(dataTable, element);\n",
              "          const docLink = document.createElement('div');\n",
              "          docLink.innerHTML = docLinkHtml;\n",
              "          element.appendChild(docLink);\n",
              "        }\n",
              "      </script>\n",
              "    </div>\n",
              "  </div>\n",
              "  "
            ]
          },
          "metadata": {},
          "execution_count": 10
        }
      ],
      "source": [
        "user_answers.head(2)"
      ]
    },
    {
      "cell_type": "code",
      "execution_count": 11,
      "id": "88fd33c7",
      "metadata": {
        "id": "88fd33c7"
      },
      "outputs": [],
      "source": [
        "mask = (ifps.q_status == 'closed') & (ifps.n_opts == 2) & (ifps.q_type == 0)\n",
        "question_answers = ifps[mask][['ifp_id','outcome','date_closed']]\n",
        "assert question_answers.ifp_id.nunique() == question_answers.shape[0]"
      ]
    },
    {
      "cell_type": "code",
      "execution_count": 12,
      "id": "1419d132",
      "metadata": {
        "colab": {
          "base_uri": "https://localhost:8080/",
          "height": 112
        },
        "id": "1419d132",
        "outputId": "2b1a15f0-6a2c-4759-83fc-72f215272a81"
      },
      "outputs": [
        {
          "output_type": "execute_result",
          "data": {
            "text/plain": [
              "   ifp_id outcome date_closed\n",
              "0  1001-0       b      1/2/12\n",
              "2  1003-0       b      1/3/12"
            ],
            "text/html": [
              "\n",
              "  <div id=\"df-61991ad6-289a-44bc-a459-5561f75ec6c0\">\n",
              "    <div class=\"colab-df-container\">\n",
              "      <div>\n",
              "<style scoped>\n",
              "    .dataframe tbody tr th:only-of-type {\n",
              "        vertical-align: middle;\n",
              "    }\n",
              "\n",
              "    .dataframe tbody tr th {\n",
              "        vertical-align: top;\n",
              "    }\n",
              "\n",
              "    .dataframe thead th {\n",
              "        text-align: right;\n",
              "    }\n",
              "</style>\n",
              "<table border=\"1\" class=\"dataframe\">\n",
              "  <thead>\n",
              "    <tr style=\"text-align: right;\">\n",
              "      <th></th>\n",
              "      <th>ifp_id</th>\n",
              "      <th>outcome</th>\n",
              "      <th>date_closed</th>\n",
              "    </tr>\n",
              "  </thead>\n",
              "  <tbody>\n",
              "    <tr>\n",
              "      <th>0</th>\n",
              "      <td>1001-0</td>\n",
              "      <td>b</td>\n",
              "      <td>1/2/12</td>\n",
              "    </tr>\n",
              "    <tr>\n",
              "      <th>2</th>\n",
              "      <td>1003-0</td>\n",
              "      <td>b</td>\n",
              "      <td>1/3/12</td>\n",
              "    </tr>\n",
              "  </tbody>\n",
              "</table>\n",
              "</div>\n",
              "      <button class=\"colab-df-convert\" onclick=\"convertToInteractive('df-61991ad6-289a-44bc-a459-5561f75ec6c0')\"\n",
              "              title=\"Convert this dataframe to an interactive table.\"\n",
              "              style=\"display:none;\">\n",
              "        \n",
              "  <svg xmlns=\"http://www.w3.org/2000/svg\" height=\"24px\"viewBox=\"0 0 24 24\"\n",
              "       width=\"24px\">\n",
              "    <path d=\"M0 0h24v24H0V0z\" fill=\"none\"/>\n",
              "    <path d=\"M18.56 5.44l.94 2.06.94-2.06 2.06-.94-2.06-.94-.94-2.06-.94 2.06-2.06.94zm-11 1L8.5 8.5l.94-2.06 2.06-.94-2.06-.94L8.5 2.5l-.94 2.06-2.06.94zm10 10l.94 2.06.94-2.06 2.06-.94-2.06-.94-.94-2.06-.94 2.06-2.06.94z\"/><path d=\"M17.41 7.96l-1.37-1.37c-.4-.4-.92-.59-1.43-.59-.52 0-1.04.2-1.43.59L10.3 9.45l-7.72 7.72c-.78.78-.78 2.05 0 2.83L4 21.41c.39.39.9.59 1.41.59.51 0 1.02-.2 1.41-.59l7.78-7.78 2.81-2.81c.8-.78.8-2.07 0-2.86zM5.41 20L4 18.59l7.72-7.72 1.47 1.35L5.41 20z\"/>\n",
              "  </svg>\n",
              "      </button>\n",
              "      \n",
              "  <style>\n",
              "    .colab-df-container {\n",
              "      display:flex;\n",
              "      flex-wrap:wrap;\n",
              "      gap: 12px;\n",
              "    }\n",
              "\n",
              "    .colab-df-convert {\n",
              "      background-color: #E8F0FE;\n",
              "      border: none;\n",
              "      border-radius: 50%;\n",
              "      cursor: pointer;\n",
              "      display: none;\n",
              "      fill: #1967D2;\n",
              "      height: 32px;\n",
              "      padding: 0 0 0 0;\n",
              "      width: 32px;\n",
              "    }\n",
              "\n",
              "    .colab-df-convert:hover {\n",
              "      background-color: #E2EBFA;\n",
              "      box-shadow: 0px 1px 2px rgba(60, 64, 67, 0.3), 0px 1px 3px 1px rgba(60, 64, 67, 0.15);\n",
              "      fill: #174EA6;\n",
              "    }\n",
              "\n",
              "    [theme=dark] .colab-df-convert {\n",
              "      background-color: #3B4455;\n",
              "      fill: #D2E3FC;\n",
              "    }\n",
              "\n",
              "    [theme=dark] .colab-df-convert:hover {\n",
              "      background-color: #434B5C;\n",
              "      box-shadow: 0px 1px 3px 1px rgba(0, 0, 0, 0.15);\n",
              "      filter: drop-shadow(0px 1px 2px rgba(0, 0, 0, 0.3));\n",
              "      fill: #FFFFFF;\n",
              "    }\n",
              "  </style>\n",
              "\n",
              "      <script>\n",
              "        const buttonEl =\n",
              "          document.querySelector('#df-61991ad6-289a-44bc-a459-5561f75ec6c0 button.colab-df-convert');\n",
              "        buttonEl.style.display =\n",
              "          google.colab.kernel.accessAllowed ? 'block' : 'none';\n",
              "\n",
              "        async function convertToInteractive(key) {\n",
              "          const element = document.querySelector('#df-61991ad6-289a-44bc-a459-5561f75ec6c0');\n",
              "          const dataTable =\n",
              "            await google.colab.kernel.invokeFunction('convertToInteractive',\n",
              "                                                     [key], {});\n",
              "          if (!dataTable) return;\n",
              "\n",
              "          const docLinkHtml = 'Like what you see? Visit the ' +\n",
              "            '<a target=\"_blank\" href=https://colab.research.google.com/notebooks/data_table.ipynb>data table notebook</a>'\n",
              "            + ' to learn more about interactive tables.';\n",
              "          element.innerHTML = '';\n",
              "          dataTable['output_type'] = 'display_data';\n",
              "          await google.colab.output.renderOutput(dataTable, element);\n",
              "          const docLink = document.createElement('div');\n",
              "          docLink.innerHTML = docLinkHtml;\n",
              "          element.appendChild(docLink);\n",
              "        }\n",
              "      </script>\n",
              "    </div>\n",
              "  </div>\n",
              "  "
            ]
          },
          "metadata": {},
          "execution_count": 12
        }
      ],
      "source": [
        "question_answers.head(2)"
      ]
    },
    {
      "cell_type": "markdown",
      "id": "6514bd69",
      "metadata": {
        "id": "6514bd69"
      },
      "source": [
        "### Creating final DataFrame"
      ]
    },
    {
      "cell_type": "code",
      "execution_count": 13,
      "id": "8131c962",
      "metadata": {
        "id": "8131c962"
      },
      "outputs": [],
      "source": [
        "ans = question_answers.merge(user_answers, on='ifp_id', how='inner').drop(['q_status', 'ans_type', 'question'], axis=1)\n",
        "ans.timestamp = ans.timestamp.astype('datetime64[ns]')\n",
        "ans[\"outcome\"] = (ans[\"outcome\"] == \"a\").astype(int)\n",
        "ans = ans.query('answer_option == \"a\"')\n",
        "\n",
        "ans[\"date_closed\"] = pd.to_datetime(ans[\"date_closed\"]) + pd.Timedelta(days=1)\n",
        "ans.dropna(subset=[\"user_id\"], inplace = True)\n",
        "\n",
        "ans[\"user_id\"] = ans[\"user_id\"].astype(int).astype(str)\n",
        "ans[\"days_until_closure\"] = (ans[\"date_closed\"] - ans[\"timestamp\"]).dt.days\n",
        "\n",
        "master_data = ans.query(\"days_until_closure > 15\").sort_values('fcast_date').groupby(['ifp_id', 'user_id']).tail(1)"
      ]
    },
    {
      "cell_type": "code",
      "execution_count": null,
      "id": "09d84f5d",
      "metadata": {
        "id": "09d84f5d"
      },
      "outputs": [],
      "source": [
        "model = SentenceTransformer('sentence-transformers/all-distilroberta-v1')\n",
        "sent_embeddings = model.encode(ifps.q_text)\n",
        "embedding_df = pd.DataFrame(sent_embeddings)\n",
        "\n",
        "############\n",
        "n_topics = 16\n",
        "############\n",
        "\n",
        "embedding_pca = preprocessing.StandardScaler().fit_transform(PCA(n_components=n_topics).fit_transform(embedding_df))\n",
        "embedding_pca_df = pd.DataFrame(embedding_pca)\n",
        "\n",
        "\n",
        "embedding_df[\"ifp_id\"] = ifps.ifp_id\n",
        "embedding_pca_df[\"ifp_id\"] = ifps.ifp_id"
      ]
    },
    {
      "cell_type": "code",
      "execution_count": 15,
      "id": "1c8cb452",
      "metadata": {
        "colab": {
          "base_uri": "https://localhost:8080/"
        },
        "id": "1c8cb452",
        "outputId": "366509cd-b3ca-443a-fed1-88b313d50cef"
      },
      "outputs": [
        {
          "output_type": "execute_result",
          "data": {
            "text/plain": [
              "((617, 769), (617, 17))"
            ]
          },
          "metadata": {},
          "execution_count": 15
        }
      ],
      "source": [
        "embedding_df.shape, embedding_pca_df.shape"
      ]
    },
    {
      "cell_type": "markdown",
      "source": [
        "768 признаков сократили до 16 "
      ],
      "metadata": {
        "id": "p12E6-bOfsVN"
      },
      "id": "p12E6-bOfsVN"
    },
    {
      "cell_type": "code",
      "execution_count": 16,
      "id": "a42adc40",
      "metadata": {
        "id": "a42adc40"
      },
      "outputs": [],
      "source": [
        "event_outcomes = master_data.groupby(\"ifp_id\").outcome.max().reset_index()\n",
        "expert_inputs = master_data.pivot(index = \"ifp_id\", columns = \"user_id\", values = \"value\").fillna(0)"
      ]
    },
    {
      "cell_type": "code",
      "source": [
        "master_data['user_id'].nunique()"
      ],
      "metadata": {
        "colab": {
          "base_uri": "https://localhost:8080/"
        },
        "id": "BCxe11Ofdjs4",
        "outputId": "acb45125-b77a-4319-84b7-d0924a3ae35f"
      },
      "id": "BCxe11Ofdjs4",
      "execution_count": 17,
      "outputs": [
        {
          "output_type": "execute_result",
          "data": {
            "text/plain": [
              "9040"
            ]
          },
          "metadata": {},
          "execution_count": 17
        }
      ]
    },
    {
      "cell_type": "markdown",
      "source": [
        "Всего у нас 9040 людей, отвечавших на вопросы. Чтобы матрица была не такой разряженной, оставим только ремпондентов, ответивших больше чем на 50 вопросов"
      ],
      "metadata": {
        "id": "tLse8LS5d8uE"
      },
      "id": "tLse8LS5d8uE"
    },
    {
      "cell_type": "code",
      "source": [
        "temp = master_data.groupby('user_id',as_index=False).ifp_id.count()\n",
        "ids_more_50_q = temp.query('ifp_id > 50')[['user_id']]\n",
        "\n",
        "expert_inputs = master_data.merge(ids_more_50_q).pivot(index = \"ifp_id\", columns = \"user_id\", values = \"value\").fillna(0)"
      ],
      "metadata": {
        "id": "PJEUChN1cbnF"
      },
      "id": "PJEUChN1cbnF",
      "execution_count": 18,
      "outputs": []
    },
    {
      "cell_type": "code",
      "source": [
        "len(expert_inputs.columns)"
      ],
      "metadata": {
        "colab": {
          "base_uri": "https://localhost:8080/"
        },
        "id": "0IRwZ2nIeOod",
        "outputId": "e19e73c8-417c-4956-8a3e-d20f1890b64f"
      },
      "id": "0IRwZ2nIeOod",
      "execution_count": 19,
      "outputs": [
        {
          "output_type": "execute_result",
          "data": {
            "text/plain": [
              "1367"
            ]
          },
          "metadata": {},
          "execution_count": 19
        }
      ]
    },
    {
      "cell_type": "markdown",
      "source": [
        "Осталось всего 1367 респондентов"
      ],
      "metadata": {
        "id": "9ZsZHcjqemTX"
      },
      "id": "9ZsZHcjqemTX"
    },
    {
      "cell_type": "markdown",
      "id": "c645abbd",
      "metadata": {
        "id": "c645abbd"
      },
      "source": [
        "## Сравнение двух моделей :\n",
        "1. **Without text features** - в качестве фичей только предсказания респондентов\n",
        "2. **With text features** - к фичам предсказаний респондетов еще добавляются кроссы с ембендингами текстов самих вопросов"
      ]
    },
    {
      "cell_type": "code",
      "execution_count": 20,
      "id": "ae905305",
      "metadata": {
        "id": "ae905305"
      },
      "outputs": [],
      "source": [
        "final_ans_wo_text = pd.merge(expert_inputs, event_outcomes, on=\"ifp_id\")\n",
        "\n",
        "embedding_pca_df_ = embedding_pca_df.merge(event_outcomes[['ifp_id']], on='ifp_id', how='inner')\n",
        "final_ans_with_text = pd.DataFrame(expert_inputs.values)\n",
        "\n",
        "cross_cols = embedding_pca_df_.drop('ifp_id', axis=1).shape[1]\n",
        "for i in range(cross_cols):\n",
        "    temp = pd.DataFrame(expert_inputs.reset_index().drop('ifp_id', axis=1).T.values * embedding_pca_df_[i].values).T\n",
        "    final_ans_with_text = pd.concat([final_ans_with_text, temp],axis=1)\n",
        "    \n",
        "final_ans_with_text['ifp_id'] = event_outcomes['ifp_id']\n",
        "final_ans_with_text = pd.merge(final_ans_with_text, event_outcomes, on=\"ifp_id\")\n",
        "\n",
        "\n",
        "q_year = user_answers[['ifp_id', 'year']].drop_duplicates('ifp_id')\n",
        "\n",
        "final_ans_wo_text = final_ans_wo_text.merge(q_year, on='ifp_id', how='inner')\n",
        "final_ans_with_text = final_ans_with_text.merge(q_year, on='ifp_id', how='inner')"
      ]
    },
    {
      "cell_type": "code",
      "execution_count": 21,
      "id": "54151257",
      "metadata": {
        "id": "54151257",
        "colab": {
          "base_uri": "https://localhost:8080/",
          "height": 192
        },
        "outputId": "264b2309-207c-4d1f-bbde-89032ff0467c"
      },
      "outputs": [
        {
          "output_type": "stream",
          "name": "stdout",
          "text": [
            "(278, 1370)\n"
          ]
        },
        {
          "output_type": "execute_result",
          "data": {
            "text/plain": [
              "   ifp_id  1000  10043  10049  1009  10151  10208  10212  10256  1034  ...  \\\n",
              "0  1001-0  0.00    0.0    0.0  0.25    0.0    0.0    0.0    0.0  0.01  ...   \n",
              "1  1003-0  0.00    0.0    0.0  0.10    0.0    0.0    0.0    0.0  0.01  ...   \n",
              "2  1004-0  0.75    0.0    0.0  0.40    0.0    0.0    0.0    0.0  0.25  ...   \n",
              "\n",
              "   9748  9765  9772  9791  9847  9857  9869   991  outcome  year  \n",
              "0   0.0   0.0   0.0   0.0   0.0   0.0   0.0  0.25        0     1  \n",
              "1   0.0   0.0   0.0   0.0   0.0   0.0   0.0  0.25        0     1  \n",
              "2   0.0   0.0   0.0   0.0   0.0   0.0   0.0  0.15        0     1  \n",
              "\n",
              "[3 rows x 1370 columns]"
            ],
            "text/html": [
              "\n",
              "  <div id=\"df-a84b54f8-1682-4581-8eca-9bdde768c614\">\n",
              "    <div class=\"colab-df-container\">\n",
              "      <div>\n",
              "<style scoped>\n",
              "    .dataframe tbody tr th:only-of-type {\n",
              "        vertical-align: middle;\n",
              "    }\n",
              "\n",
              "    .dataframe tbody tr th {\n",
              "        vertical-align: top;\n",
              "    }\n",
              "\n",
              "    .dataframe thead th {\n",
              "        text-align: right;\n",
              "    }\n",
              "</style>\n",
              "<table border=\"1\" class=\"dataframe\">\n",
              "  <thead>\n",
              "    <tr style=\"text-align: right;\">\n",
              "      <th></th>\n",
              "      <th>ifp_id</th>\n",
              "      <th>1000</th>\n",
              "      <th>10043</th>\n",
              "      <th>10049</th>\n",
              "      <th>1009</th>\n",
              "      <th>10151</th>\n",
              "      <th>10208</th>\n",
              "      <th>10212</th>\n",
              "      <th>10256</th>\n",
              "      <th>1034</th>\n",
              "      <th>...</th>\n",
              "      <th>9748</th>\n",
              "      <th>9765</th>\n",
              "      <th>9772</th>\n",
              "      <th>9791</th>\n",
              "      <th>9847</th>\n",
              "      <th>9857</th>\n",
              "      <th>9869</th>\n",
              "      <th>991</th>\n",
              "      <th>outcome</th>\n",
              "      <th>year</th>\n",
              "    </tr>\n",
              "  </thead>\n",
              "  <tbody>\n",
              "    <tr>\n",
              "      <th>0</th>\n",
              "      <td>1001-0</td>\n",
              "      <td>0.00</td>\n",
              "      <td>0.0</td>\n",
              "      <td>0.0</td>\n",
              "      <td>0.25</td>\n",
              "      <td>0.0</td>\n",
              "      <td>0.0</td>\n",
              "      <td>0.0</td>\n",
              "      <td>0.0</td>\n",
              "      <td>0.01</td>\n",
              "      <td>...</td>\n",
              "      <td>0.0</td>\n",
              "      <td>0.0</td>\n",
              "      <td>0.0</td>\n",
              "      <td>0.0</td>\n",
              "      <td>0.0</td>\n",
              "      <td>0.0</td>\n",
              "      <td>0.0</td>\n",
              "      <td>0.25</td>\n",
              "      <td>0</td>\n",
              "      <td>1</td>\n",
              "    </tr>\n",
              "    <tr>\n",
              "      <th>1</th>\n",
              "      <td>1003-0</td>\n",
              "      <td>0.00</td>\n",
              "      <td>0.0</td>\n",
              "      <td>0.0</td>\n",
              "      <td>0.10</td>\n",
              "      <td>0.0</td>\n",
              "      <td>0.0</td>\n",
              "      <td>0.0</td>\n",
              "      <td>0.0</td>\n",
              "      <td>0.01</td>\n",
              "      <td>...</td>\n",
              "      <td>0.0</td>\n",
              "      <td>0.0</td>\n",
              "      <td>0.0</td>\n",
              "      <td>0.0</td>\n",
              "      <td>0.0</td>\n",
              "      <td>0.0</td>\n",
              "      <td>0.0</td>\n",
              "      <td>0.25</td>\n",
              "      <td>0</td>\n",
              "      <td>1</td>\n",
              "    </tr>\n",
              "    <tr>\n",
              "      <th>2</th>\n",
              "      <td>1004-0</td>\n",
              "      <td>0.75</td>\n",
              "      <td>0.0</td>\n",
              "      <td>0.0</td>\n",
              "      <td>0.40</td>\n",
              "      <td>0.0</td>\n",
              "      <td>0.0</td>\n",
              "      <td>0.0</td>\n",
              "      <td>0.0</td>\n",
              "      <td>0.25</td>\n",
              "      <td>...</td>\n",
              "      <td>0.0</td>\n",
              "      <td>0.0</td>\n",
              "      <td>0.0</td>\n",
              "      <td>0.0</td>\n",
              "      <td>0.0</td>\n",
              "      <td>0.0</td>\n",
              "      <td>0.0</td>\n",
              "      <td>0.15</td>\n",
              "      <td>0</td>\n",
              "      <td>1</td>\n",
              "    </tr>\n",
              "  </tbody>\n",
              "</table>\n",
              "<p>3 rows × 1370 columns</p>\n",
              "</div>\n",
              "      <button class=\"colab-df-convert\" onclick=\"convertToInteractive('df-a84b54f8-1682-4581-8eca-9bdde768c614')\"\n",
              "              title=\"Convert this dataframe to an interactive table.\"\n",
              "              style=\"display:none;\">\n",
              "        \n",
              "  <svg xmlns=\"http://www.w3.org/2000/svg\" height=\"24px\"viewBox=\"0 0 24 24\"\n",
              "       width=\"24px\">\n",
              "    <path d=\"M0 0h24v24H0V0z\" fill=\"none\"/>\n",
              "    <path d=\"M18.56 5.44l.94 2.06.94-2.06 2.06-.94-2.06-.94-.94-2.06-.94 2.06-2.06.94zm-11 1L8.5 8.5l.94-2.06 2.06-.94-2.06-.94L8.5 2.5l-.94 2.06-2.06.94zm10 10l.94 2.06.94-2.06 2.06-.94-2.06-.94-.94-2.06-.94 2.06-2.06.94z\"/><path d=\"M17.41 7.96l-1.37-1.37c-.4-.4-.92-.59-1.43-.59-.52 0-1.04.2-1.43.59L10.3 9.45l-7.72 7.72c-.78.78-.78 2.05 0 2.83L4 21.41c.39.39.9.59 1.41.59.51 0 1.02-.2 1.41-.59l7.78-7.78 2.81-2.81c.8-.78.8-2.07 0-2.86zM5.41 20L4 18.59l7.72-7.72 1.47 1.35L5.41 20z\"/>\n",
              "  </svg>\n",
              "      </button>\n",
              "      \n",
              "  <style>\n",
              "    .colab-df-container {\n",
              "      display:flex;\n",
              "      flex-wrap:wrap;\n",
              "      gap: 12px;\n",
              "    }\n",
              "\n",
              "    .colab-df-convert {\n",
              "      background-color: #E8F0FE;\n",
              "      border: none;\n",
              "      border-radius: 50%;\n",
              "      cursor: pointer;\n",
              "      display: none;\n",
              "      fill: #1967D2;\n",
              "      height: 32px;\n",
              "      padding: 0 0 0 0;\n",
              "      width: 32px;\n",
              "    }\n",
              "\n",
              "    .colab-df-convert:hover {\n",
              "      background-color: #E2EBFA;\n",
              "      box-shadow: 0px 1px 2px rgba(60, 64, 67, 0.3), 0px 1px 3px 1px rgba(60, 64, 67, 0.15);\n",
              "      fill: #174EA6;\n",
              "    }\n",
              "\n",
              "    [theme=dark] .colab-df-convert {\n",
              "      background-color: #3B4455;\n",
              "      fill: #D2E3FC;\n",
              "    }\n",
              "\n",
              "    [theme=dark] .colab-df-convert:hover {\n",
              "      background-color: #434B5C;\n",
              "      box-shadow: 0px 1px 3px 1px rgba(0, 0, 0, 0.15);\n",
              "      filter: drop-shadow(0px 1px 2px rgba(0, 0, 0, 0.3));\n",
              "      fill: #FFFFFF;\n",
              "    }\n",
              "  </style>\n",
              "\n",
              "      <script>\n",
              "        const buttonEl =\n",
              "          document.querySelector('#df-a84b54f8-1682-4581-8eca-9bdde768c614 button.colab-df-convert');\n",
              "        buttonEl.style.display =\n",
              "          google.colab.kernel.accessAllowed ? 'block' : 'none';\n",
              "\n",
              "        async function convertToInteractive(key) {\n",
              "          const element = document.querySelector('#df-a84b54f8-1682-4581-8eca-9bdde768c614');\n",
              "          const dataTable =\n",
              "            await google.colab.kernel.invokeFunction('convertToInteractive',\n",
              "                                                     [key], {});\n",
              "          if (!dataTable) return;\n",
              "\n",
              "          const docLinkHtml = 'Like what you see? Visit the ' +\n",
              "            '<a target=\"_blank\" href=https://colab.research.google.com/notebooks/data_table.ipynb>data table notebook</a>'\n",
              "            + ' to learn more about interactive tables.';\n",
              "          element.innerHTML = '';\n",
              "          dataTable['output_type'] = 'display_data';\n",
              "          await google.colab.output.renderOutput(dataTable, element);\n",
              "          const docLink = document.createElement('div');\n",
              "          docLink.innerHTML = docLinkHtml;\n",
              "          element.appendChild(docLink);\n",
              "        }\n",
              "      </script>\n",
              "    </div>\n",
              "  </div>\n",
              "  "
            ]
          },
          "metadata": {},
          "execution_count": 21
        }
      ],
      "source": [
        "print(final_ans_wo_text.shape)\n",
        "final_ans_wo_text.head(3)"
      ]
    },
    {
      "cell_type": "code",
      "execution_count": 22,
      "id": "cf13fca0",
      "metadata": {
        "id": "cf13fca0",
        "outputId": "0e935aca-c92c-47a1-b41c-9f2daca73273",
        "colab": {
          "base_uri": "https://localhost:8080/",
          "height": 192
        }
      },
      "outputs": [
        {
          "output_type": "stream",
          "name": "stdout",
          "text": [
            "(278, 23242)\n"
          ]
        },
        {
          "output_type": "execute_result",
          "data": {
            "text/plain": [
              "      0    1    2     3    4    5    6    7     8     9  ...  1360  1361  \\\n",
              "0  0.00  0.0  0.0  0.25  0.0  0.0  0.0  0.0  0.01  0.10  ...  -0.0  -0.0   \n",
              "1  0.00  0.0  0.0  0.10  0.0  0.0  0.0  0.0  0.01  0.25  ...  -0.0  -0.0   \n",
              "2  0.75  0.0  0.0  0.40  0.0  0.0  0.0  0.0  0.25  0.20  ...  -0.0  -0.0   \n",
              "\n",
              "   1362  1363  1364  1365      1366  ifp_id  outcome  year  \n",
              "0  -0.0  -0.0  -0.0  -0.0 -0.081991  1001-0        0     1  \n",
              "1  -0.0  -0.0  -0.0  -0.0 -0.177425  1003-0        0     1  \n",
              "2  -0.0  -0.0  -0.0  -0.0 -0.050025  1004-0        0     1  \n",
              "\n",
              "[3 rows x 23242 columns]"
            ],
            "text/html": [
              "\n",
              "  <div id=\"df-f546023b-dc28-46b7-8680-c3b90957809f\">\n",
              "    <div class=\"colab-df-container\">\n",
              "      <div>\n",
              "<style scoped>\n",
              "    .dataframe tbody tr th:only-of-type {\n",
              "        vertical-align: middle;\n",
              "    }\n",
              "\n",
              "    .dataframe tbody tr th {\n",
              "        vertical-align: top;\n",
              "    }\n",
              "\n",
              "    .dataframe thead th {\n",
              "        text-align: right;\n",
              "    }\n",
              "</style>\n",
              "<table border=\"1\" class=\"dataframe\">\n",
              "  <thead>\n",
              "    <tr style=\"text-align: right;\">\n",
              "      <th></th>\n",
              "      <th>0</th>\n",
              "      <th>1</th>\n",
              "      <th>2</th>\n",
              "      <th>3</th>\n",
              "      <th>4</th>\n",
              "      <th>5</th>\n",
              "      <th>6</th>\n",
              "      <th>7</th>\n",
              "      <th>8</th>\n",
              "      <th>9</th>\n",
              "      <th>...</th>\n",
              "      <th>1360</th>\n",
              "      <th>1361</th>\n",
              "      <th>1362</th>\n",
              "      <th>1363</th>\n",
              "      <th>1364</th>\n",
              "      <th>1365</th>\n",
              "      <th>1366</th>\n",
              "      <th>ifp_id</th>\n",
              "      <th>outcome</th>\n",
              "      <th>year</th>\n",
              "    </tr>\n",
              "  </thead>\n",
              "  <tbody>\n",
              "    <tr>\n",
              "      <th>0</th>\n",
              "      <td>0.00</td>\n",
              "      <td>0.0</td>\n",
              "      <td>0.0</td>\n",
              "      <td>0.25</td>\n",
              "      <td>0.0</td>\n",
              "      <td>0.0</td>\n",
              "      <td>0.0</td>\n",
              "      <td>0.0</td>\n",
              "      <td>0.01</td>\n",
              "      <td>0.10</td>\n",
              "      <td>...</td>\n",
              "      <td>-0.0</td>\n",
              "      <td>-0.0</td>\n",
              "      <td>-0.0</td>\n",
              "      <td>-0.0</td>\n",
              "      <td>-0.0</td>\n",
              "      <td>-0.0</td>\n",
              "      <td>-0.081991</td>\n",
              "      <td>1001-0</td>\n",
              "      <td>0</td>\n",
              "      <td>1</td>\n",
              "    </tr>\n",
              "    <tr>\n",
              "      <th>1</th>\n",
              "      <td>0.00</td>\n",
              "      <td>0.0</td>\n",
              "      <td>0.0</td>\n",
              "      <td>0.10</td>\n",
              "      <td>0.0</td>\n",
              "      <td>0.0</td>\n",
              "      <td>0.0</td>\n",
              "      <td>0.0</td>\n",
              "      <td>0.01</td>\n",
              "      <td>0.25</td>\n",
              "      <td>...</td>\n",
              "      <td>-0.0</td>\n",
              "      <td>-0.0</td>\n",
              "      <td>-0.0</td>\n",
              "      <td>-0.0</td>\n",
              "      <td>-0.0</td>\n",
              "      <td>-0.0</td>\n",
              "      <td>-0.177425</td>\n",
              "      <td>1003-0</td>\n",
              "      <td>0</td>\n",
              "      <td>1</td>\n",
              "    </tr>\n",
              "    <tr>\n",
              "      <th>2</th>\n",
              "      <td>0.75</td>\n",
              "      <td>0.0</td>\n",
              "      <td>0.0</td>\n",
              "      <td>0.40</td>\n",
              "      <td>0.0</td>\n",
              "      <td>0.0</td>\n",
              "      <td>0.0</td>\n",
              "      <td>0.0</td>\n",
              "      <td>0.25</td>\n",
              "      <td>0.20</td>\n",
              "      <td>...</td>\n",
              "      <td>-0.0</td>\n",
              "      <td>-0.0</td>\n",
              "      <td>-0.0</td>\n",
              "      <td>-0.0</td>\n",
              "      <td>-0.0</td>\n",
              "      <td>-0.0</td>\n",
              "      <td>-0.050025</td>\n",
              "      <td>1004-0</td>\n",
              "      <td>0</td>\n",
              "      <td>1</td>\n",
              "    </tr>\n",
              "  </tbody>\n",
              "</table>\n",
              "<p>3 rows × 23242 columns</p>\n",
              "</div>\n",
              "      <button class=\"colab-df-convert\" onclick=\"convertToInteractive('df-f546023b-dc28-46b7-8680-c3b90957809f')\"\n",
              "              title=\"Convert this dataframe to an interactive table.\"\n",
              "              style=\"display:none;\">\n",
              "        \n",
              "  <svg xmlns=\"http://www.w3.org/2000/svg\" height=\"24px\"viewBox=\"0 0 24 24\"\n",
              "       width=\"24px\">\n",
              "    <path d=\"M0 0h24v24H0V0z\" fill=\"none\"/>\n",
              "    <path d=\"M18.56 5.44l.94 2.06.94-2.06 2.06-.94-2.06-.94-.94-2.06-.94 2.06-2.06.94zm-11 1L8.5 8.5l.94-2.06 2.06-.94-2.06-.94L8.5 2.5l-.94 2.06-2.06.94zm10 10l.94 2.06.94-2.06 2.06-.94-2.06-.94-.94-2.06-.94 2.06-2.06.94z\"/><path d=\"M17.41 7.96l-1.37-1.37c-.4-.4-.92-.59-1.43-.59-.52 0-1.04.2-1.43.59L10.3 9.45l-7.72 7.72c-.78.78-.78 2.05 0 2.83L4 21.41c.39.39.9.59 1.41.59.51 0 1.02-.2 1.41-.59l7.78-7.78 2.81-2.81c.8-.78.8-2.07 0-2.86zM5.41 20L4 18.59l7.72-7.72 1.47 1.35L5.41 20z\"/>\n",
              "  </svg>\n",
              "      </button>\n",
              "      \n",
              "  <style>\n",
              "    .colab-df-container {\n",
              "      display:flex;\n",
              "      flex-wrap:wrap;\n",
              "      gap: 12px;\n",
              "    }\n",
              "\n",
              "    .colab-df-convert {\n",
              "      background-color: #E8F0FE;\n",
              "      border: none;\n",
              "      border-radius: 50%;\n",
              "      cursor: pointer;\n",
              "      display: none;\n",
              "      fill: #1967D2;\n",
              "      height: 32px;\n",
              "      padding: 0 0 0 0;\n",
              "      width: 32px;\n",
              "    }\n",
              "\n",
              "    .colab-df-convert:hover {\n",
              "      background-color: #E2EBFA;\n",
              "      box-shadow: 0px 1px 2px rgba(60, 64, 67, 0.3), 0px 1px 3px 1px rgba(60, 64, 67, 0.15);\n",
              "      fill: #174EA6;\n",
              "    }\n",
              "\n",
              "    [theme=dark] .colab-df-convert {\n",
              "      background-color: #3B4455;\n",
              "      fill: #D2E3FC;\n",
              "    }\n",
              "\n",
              "    [theme=dark] .colab-df-convert:hover {\n",
              "      background-color: #434B5C;\n",
              "      box-shadow: 0px 1px 3px 1px rgba(0, 0, 0, 0.15);\n",
              "      filter: drop-shadow(0px 1px 2px rgba(0, 0, 0, 0.3));\n",
              "      fill: #FFFFFF;\n",
              "    }\n",
              "  </style>\n",
              "\n",
              "      <script>\n",
              "        const buttonEl =\n",
              "          document.querySelector('#df-f546023b-dc28-46b7-8680-c3b90957809f button.colab-df-convert');\n",
              "        buttonEl.style.display =\n",
              "          google.colab.kernel.accessAllowed ? 'block' : 'none';\n",
              "\n",
              "        async function convertToInteractive(key) {\n",
              "          const element = document.querySelector('#df-f546023b-dc28-46b7-8680-c3b90957809f');\n",
              "          const dataTable =\n",
              "            await google.colab.kernel.invokeFunction('convertToInteractive',\n",
              "                                                     [key], {});\n",
              "          if (!dataTable) return;\n",
              "\n",
              "          const docLinkHtml = 'Like what you see? Visit the ' +\n",
              "            '<a target=\"_blank\" href=https://colab.research.google.com/notebooks/data_table.ipynb>data table notebook</a>'\n",
              "            + ' to learn more about interactive tables.';\n",
              "          element.innerHTML = '';\n",
              "          dataTable['output_type'] = 'display_data';\n",
              "          await google.colab.output.renderOutput(dataTable, element);\n",
              "          const docLink = document.createElement('div');\n",
              "          docLink.innerHTML = docLinkHtml;\n",
              "          element.appendChild(docLink);\n",
              "        }\n",
              "      </script>\n",
              "    </div>\n",
              "  </div>\n",
              "  "
            ]
          },
          "metadata": {},
          "execution_count": 22
        }
      ],
      "source": [
        "print(final_ans_with_text.shape)\n",
        "final_ans_with_text.head(3)"
      ]
    },
    {
      "cell_type": "markdown",
      "source": [
        "1367 + 1367 * 16  = 23239 признаков"
      ],
      "metadata": {
        "id": "puID0TZhgQFn"
      },
      "id": "puID0TZhgQFn"
    },
    {
      "cell_type": "markdown",
      "id": "54167c65",
      "metadata": {
        "id": "54167c65"
      },
      "source": [
        "## Обучение моделей с Кросс-валидацией и grid-search (для стабильности)\n",
        "\n",
        "$$ \n",
        "ElasticNetMSE = MSE(y, y_{pred}) + С \\cdot (1 - L_{1}Ratio) \\sum_{i=1}^{m} \\lvert{\\theta_{i}}\\rvert +  С \\cdot (1 - L_{1}Ratio)\\sum_{i=1}^{m} \\lvert{\\theta_{i}}\\rvert ,\n",
        "$$\n",
        "\n",
        "Where hyperparameters:\n",
        "\n",
        "* `C` -  This parameter signifies strength of the regularization and takes a positive float value.\n",
        "* `l1_ratio` -  the penalty will be a combination of l1 & l2, l1_ratio fraction will define the weight of l1 in the mix.\n",
        "* `penalty` - elasticnet : penalty only supported by: saga solver.\n",
        "* `solver` - Saga is a variant of Sag and it can be used with l1 Regularization. It’s a quite time-efficient solver and usually the go-to solver with very large datasets.\n",
        "\n"
      ]
    },
    {
      "cell_type": "code",
      "execution_count": 23,
      "id": "b4ab3a6d",
      "metadata": {
        "id": "b4ab3a6d"
      },
      "outputs": [],
      "source": [
        "from sklearn.model_selection import train_test_split\n",
        "\n",
        "from sklearn.model_selection import KFold, cross_val_score, StratifiedKFold\n",
        "from sklearn.model_selection import GridSearchCV\n",
        "\n",
        "from sklearn.preprocessing import StandardScaler"
      ]
    },
    {
      "cell_type": "code",
      "source": [
        "X_train_wo_text = final_ans_wo_text.query('year != 4').drop(['ifp_id', 'outcome', 'year'], axis=1)\n",
        "X_test_wo_text = final_ans_wo_text.query('year == 4').drop(['ifp_id', 'outcome', 'year'], axis=1)\n",
        "\n",
        "y_train_wo_text = final_ans_wo_text.query('year != 4')['outcome']\n",
        "y_test_wo_text = final_ans_wo_text.query('year == 4')['outcome']"
      ],
      "metadata": {
        "id": "ReEEUh4Wi5AU"
      },
      "id": "ReEEUh4Wi5AU",
      "execution_count": 24,
      "outputs": []
    },
    {
      "cell_type": "code",
      "source": [
        "X_train_with_text = final_ans_with_text.query('year != 4').drop(['ifp_id', 'outcome', 'year'], axis=1)\n",
        "X_test_with_text = final_ans_with_text.query('year == 4').drop(['ifp_id', 'outcome', 'year'], axis=1)\n",
        "\n",
        "y_train_with_text = final_ans_with_text.query('year != 4')['outcome']\n",
        "y_test_with_text = final_ans_with_text.query('year == 4')['outcome']"
      ],
      "metadata": {
        "id": "SPtQFydkLbTX"
      },
      "id": "SPtQFydkLbTX",
      "execution_count": 25,
      "outputs": []
    },
    {
      "cell_type": "code",
      "source": [
        "scaler = StandardScaler()\n",
        "scaler.fit(X_train_with_text)\n",
        "\n",
        "X_train_with_text_sc = scaler.transform(X_train_with_text)\n",
        "X_test_with_text_sc = scaler.transform(X_test_with_text)"
      ],
      "metadata": {
        "id": "0e8KbB3IBXH9"
      },
      "id": "0e8KbB3IBXH9",
      "execution_count": 26,
      "outputs": []
    },
    {
      "cell_type": "code",
      "source": [
        "## проверка что целевая переменная одна и та же \n",
        "assert any(y_test_with_text == y_test_wo_text) and any(y_train_wo_text == y_train_with_text)"
      ],
      "metadata": {
        "id": "ypU1jxx7k0Sp"
      },
      "id": "ypU1jxx7k0Sp",
      "execution_count": 27,
      "outputs": []
    },
    {
      "cell_type": "code",
      "source": [
        "(y_test_wo_text.count(), y_test_wo_text.mean()), (y_train_wo_text.count(), y_train_wo_text.mean())"
      ],
      "metadata": {
        "colab": {
          "base_uri": "https://localhost:8080/"
        },
        "id": "jsEHSVwRi5Lm",
        "outputId": "d41753e4-a0c3-457d-8d3b-77b112dbb08d"
      },
      "id": "jsEHSVwRi5Lm",
      "execution_count": 28,
      "outputs": [
        {
          "output_type": "execute_result",
          "data": {
            "text/plain": [
              "((82, 0.21951219512195122), (196, 0.2193877551020408))"
            ]
          },
          "metadata": {},
          "execution_count": 28
        }
      ]
    },
    {
      "cell_type": "markdown",
      "source": [
        "В обучающей выборке 196 вопросов, из них 22% имеют ответ yes (outcome = 1) и 78% ответ No (outcome = 0)\n",
        "\n",
        "В тестовой выборке 82 вопроса, из них 22% имеют ответ yes (outcome = 1) и 78% ответ No (outcome = 0)\n",
        "\n",
        "---\n",
        "Выборки стратифицированны и мы имеем задачу бинарной классификации с дисбалансом классов!"
      ],
      "metadata": {
        "id": "luHJwTp2jzfr"
      },
      "id": "luHJwTp2jzfr"
    },
    {
      "cell_type": "code",
      "execution_count": 29,
      "id": "c5843bfb",
      "metadata": {
        "id": "c5843bfb"
      },
      "outputs": [],
      "source": [
        "skf = StratifiedKFold(n_splits=4)\n",
        "k_fold = KFold(n_splits=4)\n",
        "\n",
        "parameters_wo_t = {\n",
        "    'C'         : np.geomspace(0.005, 1, 10),\n",
        "    'penalty'   : ['elasticnet'], \n",
        "    'solver'    : ['saga'],    \n",
        "    'l1_ratio'  : [0.33, 0.66],\n",
        "}\n",
        "\n",
        "parameters_with_t = {\n",
        "    'C'         : np.geomspace(0.01, 0.15, 10),\n",
        "    'penalty'   : ['elasticnet'], \n",
        "    'solver'    : ['saga'],    \n",
        "    'l1_ratio'  : [0.33, 0.66],\n",
        "}"
      ]
    },
    {
      "cell_type": "code",
      "execution_count": 30,
      "id": "16126a47",
      "metadata": {
        "id": "16126a47",
        "colab": {
          "base_uri": "https://localhost:8080/"
        },
        "outputId": "79d44cd2-5861-4541-9160-0f38ea1a6b2b"
      },
      "outputs": [
        {
          "output_type": "stream",
          "name": "stdout",
          "text": [
            "CPU times: user 31.6 s, sys: 18.6 s, total: 50.3 s\n",
            "Wall time: 16min 6s\n"
          ]
        },
        {
          "output_type": "execute_result",
          "data": {
            "text/plain": [
              "GridSearchCV(cv=StratifiedKFold(n_splits=4, random_state=None, shuffle=False),\n",
              "             estimator=LogisticRegression(class_weight='balanced', max_iter=200,\n",
              "                                          n_jobs=-1, random_state=12),\n",
              "             param_grid={'C': array([0.01      , 0.01351067, 0.01825381, 0.02466212, 0.03332017,\n",
              "       0.04501778, 0.06082202, 0.08217461, 0.11102338, 0.15      ]),\n",
              "                         'l1_ratio': [0.33, 0.66], 'penalty': ['elasticnet'],\n",
              "                         'solver': ['saga']},\n",
              "             scoring='neg_brier_score')"
            ]
          },
          "metadata": {},
          "execution_count": 30
        }
      ],
      "source": [
        "%%time\n",
        "lr = LogisticRegression(max_iter= 200, \n",
        "                        random_state=12, \n",
        "                        n_jobs=-1, \n",
        "                        class_weight='balanced',\n",
        "                        )\n",
        "\n",
        "clf_wo_text = GridSearchCV(lr, parameters_wo_t, cv=skf, scoring='neg_brier_score')\n",
        "clf_with_text = GridSearchCV(lr, parameters_with_t, cv=skf, scoring='neg_brier_score')\n",
        "\n",
        "clf_wo_text.fit(X_train_wo_text, y_train_wo_text)\n",
        "clf_with_text.fit(X_train_with_text_sc, y_train_with_text)"
      ]
    },
    {
      "cell_type": "code",
      "execution_count": 31,
      "id": "e8412168",
      "metadata": {
        "id": "e8412168"
      },
      "outputs": [],
      "source": [
        "def plot_res(\n",
        "    \n",
        "    plot_data : pd.DataFrame, \n",
        "    name      : 'str',\n",
        "    ax,\n",
        "\n",
        ") -> None:\n",
        "    plot_res = pd.DataFrame(plot_data.cv_results_)\n",
        "    l_1 = plot_res.param_l1_ratio.unique().tolist()\n",
        "\n",
        "    plt.title(f'{name}', fontsize=16, loc='left')\n",
        "\n",
        "    for l1 in l_1:\n",
        "      plt.plot(\n",
        "          plot_res.query('param_l1_ratio == @l1')['param_C'],\n",
        "          -plot_res.query('param_l1_ratio == @l1')['mean_test_score'],\n",
        "          label = f'l1 ratio = {l1}',\n",
        "          )\n",
        "\n",
        "    plt.scatter(plot_data.best_params_['C'], -plot_data.best_score_, color='red', linewidths=5, alpha=1)\n",
        "\n",
        "    plt.xlabel('C regularizaton parameter', fontsize=14)\n",
        "    plt.ylabel('Brier Score', fontsize=14)\n",
        "    plt.grid()\n",
        "    plt.legend()"
      ]
    },
    {
      "cell_type": "code",
      "execution_count": 32,
      "id": "ee21f576",
      "metadata": {
        "id": "ee21f576",
        "colab": {
          "base_uri": "https://localhost:8080/",
          "height": 385
        },
        "outputId": "7a1a7da8-bf1f-4933-e498-ca1492485e58"
      },
      "outputs": [
        {
          "output_type": "display_data",
          "data": {
            "text/plain": [
              "<Figure size 1728x432 with 2 Axes>"
            ],
            "image/png": "[encoded data removed]"
          },
          "metadata": {
            "needs_background": "light"
          }
        }
      ],
      "source": [
        "fig = plt.figure(figsize=(24, 6))\n",
        "\n",
        "for i in [0, 1]:\n",
        "    plot_res((clf_wo_text, clf_with_text)[i], ('W/O Text Features', 'With Text Features')[i], ax= plt.subplot(1, 2, i+1))"
      ]
    },
    {
      "cell_type": "markdown",
      "id": "d41c4b0c",
      "metadata": {
        "id": "d41c4b0c"
      },
      "source": [
        "---\n",
        "#### Prediction in Test sample"
      ]
    },
    {
      "cell_type": "code",
      "source": [
        "y_prob = clf_wo_text.predict_proba(X_test_wo_text)[:,1]\n",
        "brier_score_loss(y_test_wo_text, y_prob)"
      ],
      "metadata": {
        "colab": {
          "base_uri": "https://localhost:8080/"
        },
        "id": "reR9-t98yrqn",
        "outputId": "8dd8de45-fd1c-4e64-9348-390efae3044d"
      },
      "id": "reR9-t98yrqn",
      "execution_count": 33,
      "outputs": [
        {
          "output_type": "execute_result",
          "data": {
            "text/plain": [
              "0.054400455789512296"
            ]
          },
          "metadata": {},
          "execution_count": 33
        }
      ]
    },
    {
      "cell_type": "code",
      "source": [
        "y_prob = clf_with_text.predict_proba(X_test_with_text_sc)[:,1]\n",
        "brier_score_loss(y_test_with_text, y_prob)"
      ],
      "metadata": {
        "colab": {
          "base_uri": "https://localhost:8080/"
        },
        "id": "LGPQ4fKny4HG",
        "outputId": "9f54a997-00e7-4e42-a49c-15b61765cb08"
      },
      "id": "LGPQ4fKny4HG",
      "execution_count": 34,
      "outputs": [
        {
          "output_type": "execute_result",
          "data": {
            "text/plain": [
              "0.08757878374632663"
            ]
          },
          "metadata": {},
          "execution_count": 34
        }
      ]
    }
  ],
  "metadata": {
    "kernelspec": {
      "display_name": "Python 3 (ipykernel)",
      "language": "python",
      "name": "python3"
    },
    "language_info": {
      "codemirror_mode": {
        "name": "ipython",
        "version": 3
      },
      "file_extension": ".py",
      "mimetype": "text/x-python",
      "name": "python",
      "nbconvert_exporter": "python",
      "pygments_lexer": "ipython3",
      "version": "3.8.11"
    },
    "colab": {
      "provenance": [],
      "collapsed_sections": [
        "d7ad3f3b"
      ],
      "include_colab_link": true
    }
  },
  "nbformat": 4,
  "nbformat_minor": 5
}