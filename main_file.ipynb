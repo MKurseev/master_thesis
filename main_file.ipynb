{
 "cells": [
  {
   "cell_type": "markdown",
   "id": "fbda1f25",
   "metadata": {},
   "source": [
    "### Libraries"
   ]
  },
  {
   "cell_type": "code",
   "execution_count": 1,
   "id": "544bbf77",
   "metadata": {},
   "outputs": [],
   "source": [
    "import glob\n",
    "import os\n",
    "import pandas as pd\n",
    "\n",
    "import numpy as np\n",
    "from tqdm import tqdm\n",
    "\n",
    "from sklearn.linear_model import RidgeClassifier\n",
    "from sklearn.preprocessing import StandardScaler\n",
    "\n",
    "from sklearn.linear_model import LogisticRegression\n",
    "from sklearn.metrics import brier_score_loss\n",
    "\n",
    "import matplotlib.pyplot as plt\n",
    "\n",
    "from sentence_transformers import SentenceTransformer\n",
    "\n",
    "from sklearn.decomposition import PCA\n",
    "from sklearn import preprocessing\n",
    "\n",
    "import warnings\n",
    "warnings.filterwarnings(\"ignore\")"
   ]
  },
  {
   "cell_type": "markdown",
   "id": "14cab65c",
   "metadata": {},
   "source": [
    "___\n",
    "### Выгрузка данных "
   ]
  },
  {
   "cell_type": "code",
   "execution_count": 2,
   "id": "6965d5dd",
   "metadata": {},
   "outputs": [],
   "source": [
    "survey_fcasts = pd.DataFrame()\n",
    "\n",
    "file_type = 'csv'\n",
    "seperator =','\n",
    "\n",
    "for f in glob.glob(\"*.\" + file_type):\n",
    "    if f[:13] == 'survey_fcasts':\n",
    "        data = pd.read_csv(f, sep=seperator, low_memory=False, encoding='ISO-8859-1')\n",
    "        survey_fcasts = pd.concat([survey_fcasts, data])\n",
    "    \n",
    "\n",
    "ifps = pd.read_csv('ifps.csv', sep=seperator, encoding='ISO-8859-1')"
   ]
  },
  {
   "cell_type": "code",
   "execution_count": 3,
   "id": "a7d676f1",
   "metadata": {},
   "outputs": [
    {
     "data": {
      "text/html": [
       "<div>\n",
       "<style scoped>\n",
       "    .dataframe tbody tr th:only-of-type {\n",
       "        vertical-align: middle;\n",
       "    }\n",
       "\n",
       "    .dataframe tbody tr th {\n",
       "        vertical-align: top;\n",
       "    }\n",
       "\n",
       "    .dataframe thead th {\n",
       "        text-align: right;\n",
       "    }\n",
       "</style>\n",
       "<table border=\"1\" class=\"dataframe\">\n",
       "  <thead>\n",
       "    <tr style=\"text-align: right;\">\n",
       "      <th></th>\n",
       "      <th>ifp_id</th>\n",
       "      <th>ctt</th>\n",
       "      <th>cond</th>\n",
       "      <th>training</th>\n",
       "      <th>team</th>\n",
       "      <th>user_id</th>\n",
       "      <th>forecast_id</th>\n",
       "      <th>fcast_type</th>\n",
       "      <th>answer_option</th>\n",
       "      <th>value</th>\n",
       "      <th>fcast_date</th>\n",
       "      <th>expertise</th>\n",
       "      <th>q_status</th>\n",
       "      <th>viewtime</th>\n",
       "      <th>year</th>\n",
       "      <th>timestamp</th>\n",
       "    </tr>\n",
       "  </thead>\n",
       "  <tbody>\n",
       "    <tr>\n",
       "      <th>0</th>\n",
       "      <td>1004-0</td>\n",
       "      <td>1a</td>\n",
       "      <td>1</td>\n",
       "      <td>a</td>\n",
       "      <td>NaN</td>\n",
       "      <td>600.0</td>\n",
       "      <td>-200987.0</td>\n",
       "      <td>0</td>\n",
       "      <td>a</td>\n",
       "      <td>0.10</td>\n",
       "      <td>2011-08-31</td>\n",
       "      <td>1.0</td>\n",
       "      <td>closed</td>\n",
       "      <td>NaN</td>\n",
       "      <td>1</td>\n",
       "      <td>2011-08-31 16:17:18</td>\n",
       "    </tr>\n",
       "    <tr>\n",
       "      <th>1</th>\n",
       "      <td>1004-0</td>\n",
       "      <td>1a</td>\n",
       "      <td>1</td>\n",
       "      <td>a</td>\n",
       "      <td>NaN</td>\n",
       "      <td>600.0</td>\n",
       "      <td>-200987.0</td>\n",
       "      <td>0</td>\n",
       "      <td>b</td>\n",
       "      <td>0.90</td>\n",
       "      <td>2011-08-31</td>\n",
       "      <td>1.0</td>\n",
       "      <td>closed</td>\n",
       "      <td>NaN</td>\n",
       "      <td>1</td>\n",
       "      <td>2011-08-31 16:17:18</td>\n",
       "    </tr>\n",
       "    <tr>\n",
       "      <th>2</th>\n",
       "      <td>1008-0</td>\n",
       "      <td>1a</td>\n",
       "      <td>1</td>\n",
       "      <td>a</td>\n",
       "      <td>NaN</td>\n",
       "      <td>600.0</td>\n",
       "      <td>-200986.0</td>\n",
       "      <td>0</td>\n",
       "      <td>a</td>\n",
       "      <td>0.25</td>\n",
       "      <td>2011-08-31</td>\n",
       "      <td>2.0</td>\n",
       "      <td>closed</td>\n",
       "      <td>NaN</td>\n",
       "      <td>1</td>\n",
       "      <td>2011-08-31 16:18:27</td>\n",
       "    </tr>\n",
       "    <tr>\n",
       "      <th>3</th>\n",
       "      <td>1008-0</td>\n",
       "      <td>1a</td>\n",
       "      <td>1</td>\n",
       "      <td>a</td>\n",
       "      <td>NaN</td>\n",
       "      <td>600.0</td>\n",
       "      <td>-200986.0</td>\n",
       "      <td>0</td>\n",
       "      <td>b</td>\n",
       "      <td>0.75</td>\n",
       "      <td>2011-08-31</td>\n",
       "      <td>2.0</td>\n",
       "      <td>closed</td>\n",
       "      <td>NaN</td>\n",
       "      <td>1</td>\n",
       "      <td>2011-08-31 16:18:27</td>\n",
       "    </tr>\n",
       "    <tr>\n",
       "      <th>4</th>\n",
       "      <td>1006-0</td>\n",
       "      <td>1a</td>\n",
       "      <td>1</td>\n",
       "      <td>a</td>\n",
       "      <td>NaN</td>\n",
       "      <td>600.0</td>\n",
       "      <td>-200985.0</td>\n",
       "      <td>0</td>\n",
       "      <td>a</td>\n",
       "      <td>0.10</td>\n",
       "      <td>2011-08-31</td>\n",
       "      <td>3.0</td>\n",
       "      <td>closed</td>\n",
       "      <td>NaN</td>\n",
       "      <td>1</td>\n",
       "      <td>2011-08-31 16:18:47</td>\n",
       "    </tr>\n",
       "  </tbody>\n",
       "</table>\n",
       "</div>"
      ],
      "text/plain": [
       "   ifp_id ctt  cond training  team  user_id  forecast_id  fcast_type  \\\n",
       "0  1004-0  1a     1        a   NaN    600.0    -200987.0           0   \n",
       "1  1004-0  1a     1        a   NaN    600.0    -200987.0           0   \n",
       "2  1008-0  1a     1        a   NaN    600.0    -200986.0           0   \n",
       "3  1008-0  1a     1        a   NaN    600.0    -200986.0           0   \n",
       "4  1006-0  1a     1        a   NaN    600.0    -200985.0           0   \n",
       "\n",
       "  answer_option  value  fcast_date  expertise q_status  viewtime  year  \\\n",
       "0             a   0.10  2011-08-31        1.0   closed       NaN     1   \n",
       "1             b   0.90  2011-08-31        1.0   closed       NaN     1   \n",
       "2             a   0.25  2011-08-31        2.0   closed       NaN     1   \n",
       "3             b   0.75  2011-08-31        2.0   closed       NaN     1   \n",
       "4             a   0.10  2011-08-31        3.0   closed       NaN     1   \n",
       "\n",
       "             timestamp  \n",
       "0  2011-08-31 16:17:18  \n",
       "1  2011-08-31 16:17:18  \n",
       "2  2011-08-31 16:18:27  \n",
       "3  2011-08-31 16:18:27  \n",
       "4  2011-08-31 16:18:47  "
      ]
     },
     "execution_count": 3,
     "metadata": {},
     "output_type": "execute_result"
    }
   ],
   "source": [
    "survey_fcasts.head(5)"
   ]
  },
  {
   "cell_type": "code",
   "execution_count": 4,
   "id": "2c450716",
   "metadata": {},
   "outputs": [
    {
     "data": {
      "text/html": [
       "<div>\n",
       "<style scoped>\n",
       "    .dataframe tbody tr th:only-of-type {\n",
       "        vertical-align: middle;\n",
       "    }\n",
       "\n",
       "    .dataframe tbody tr th {\n",
       "        vertical-align: top;\n",
       "    }\n",
       "\n",
       "    .dataframe thead th {\n",
       "        text-align: right;\n",
       "    }\n",
       "</style>\n",
       "<table border=\"1\" class=\"dataframe\">\n",
       "  <thead>\n",
       "    <tr style=\"text-align: right;\">\n",
       "      <th></th>\n",
       "      <th>ifp_id</th>\n",
       "      <th>q_type</th>\n",
       "      <th>q_text</th>\n",
       "      <th>q_desc</th>\n",
       "      <th>q_status</th>\n",
       "      <th>date_start</th>\n",
       "      <th>date_suspend</th>\n",
       "      <th>date_to_close</th>\n",
       "      <th>date_closed</th>\n",
       "      <th>outcome</th>\n",
       "      <th>short_title</th>\n",
       "      <th>days_open</th>\n",
       "      <th>n_opts</th>\n",
       "      <th>options</th>\n",
       "    </tr>\n",
       "  </thead>\n",
       "  <tbody>\n",
       "    <tr>\n",
       "      <th>0</th>\n",
       "      <td>1001-0</td>\n",
       "      <td>0</td>\n",
       "      <td>Will the Six-Party talks (among the US, North ...</td>\n",
       "      <td>'In' refers to any time during the remainder o...</td>\n",
       "      <td>closed</td>\n",
       "      <td>9/1/11</td>\n",
       "      <td>12/30/11 0:00</td>\n",
       "      <td>12/31/11</td>\n",
       "      <td>1/2/12</td>\n",
       "      <td>b</td>\n",
       "      <td>Six-party talks resume</td>\n",
       "      <td>123.0</td>\n",
       "      <td>2</td>\n",
       "      <td>(a) Yes, (b) No</td>\n",
       "    </tr>\n",
       "    <tr>\n",
       "      <th>1</th>\n",
       "      <td>1002-0</td>\n",
       "      <td>0</td>\n",
       "      <td>Who will be inaugurated as President of Russia...</td>\n",
       "      <td>'In' refers to any time during the 2012 calend...</td>\n",
       "      <td>closed</td>\n",
       "      <td>9/1/11</td>\n",
       "      <td>5/14/12 0:00</td>\n",
       "      <td>5/15/12</td>\n",
       "      <td>5/6/12</td>\n",
       "      <td>b</td>\n",
       "      <td>president of Russia</td>\n",
       "      <td>248.0</td>\n",
       "      <td>3</td>\n",
       "      <td>(a) Medvedev, (b) Putin, (c) Neither</td>\n",
       "    </tr>\n",
       "    <tr>\n",
       "      <th>2</th>\n",
       "      <td>1003-0</td>\n",
       "      <td>0</td>\n",
       "      <td>Will Serbia be officially granted EU candidacy...</td>\n",
       "      <td>A 'yes' answer to this question requires not o...</td>\n",
       "      <td>closed</td>\n",
       "      <td>9/1/11</td>\n",
       "      <td>12/30/11 0:00</td>\n",
       "      <td>12/31/11</td>\n",
       "      <td>1/3/12</td>\n",
       "      <td>b</td>\n",
       "      <td>Serbia EU candidacy</td>\n",
       "      <td>124.0</td>\n",
       "      <td>2</td>\n",
       "      <td>(a) Yes, (b) No</td>\n",
       "    </tr>\n",
       "    <tr>\n",
       "      <th>3</th>\n",
       "      <td>1004-0</td>\n",
       "      <td>0</td>\n",
       "      <td>Will the United Nations General Assembly recog...</td>\n",
       "      <td>'By' means at or prior to the end of the day o...</td>\n",
       "      <td>closed</td>\n",
       "      <td>9/1/11</td>\n",
       "      <td>9/29/11 0:00</td>\n",
       "      <td>9/30/11</td>\n",
       "      <td>9/30/11</td>\n",
       "      <td>b</td>\n",
       "      <td>UN-GA recognize Palestine</td>\n",
       "      <td>29.0</td>\n",
       "      <td>2</td>\n",
       "      <td>(a) Yes, (b) No</td>\n",
       "    </tr>\n",
       "    <tr>\n",
       "      <th>4</th>\n",
       "      <td>1005-0</td>\n",
       "      <td>0</td>\n",
       "      <td>Will Daniel Ortega win another term as Preside...</td>\n",
       "      <td>If the Nicaraguan elections do not occur in la...</td>\n",
       "      <td>closed</td>\n",
       "      <td>9/1/11</td>\n",
       "      <td>11/4/11 0:00</td>\n",
       "      <td>11/5/11</td>\n",
       "      <td>11/5/11</td>\n",
       "      <td>a</td>\n",
       "      <td>Ortega win in Nicaragua</td>\n",
       "      <td>65.0</td>\n",
       "      <td>2</td>\n",
       "      <td>(a) Yes, (b) No</td>\n",
       "    </tr>\n",
       "  </tbody>\n",
       "</table>\n",
       "</div>"
      ],
      "text/plain": [
       "   ifp_id  q_type                                             q_text  \\\n",
       "0  1001-0       0  Will the Six-Party talks (among the US, North ...   \n",
       "1  1002-0       0  Who will be inaugurated as President of Russia...   \n",
       "2  1003-0       0  Will Serbia be officially granted EU candidacy...   \n",
       "3  1004-0       0  Will the United Nations General Assembly recog...   \n",
       "4  1005-0       0  Will Daniel Ortega win another term as Preside...   \n",
       "\n",
       "                                              q_desc q_status date_start  \\\n",
       "0  'In' refers to any time during the remainder o...   closed     9/1/11   \n",
       "1  'In' refers to any time during the 2012 calend...   closed     9/1/11   \n",
       "2  A 'yes' answer to this question requires not o...   closed     9/1/11   \n",
       "3  'By' means at or prior to the end of the day o...   closed     9/1/11   \n",
       "4  If the Nicaraguan elections do not occur in la...   closed     9/1/11   \n",
       "\n",
       "    date_suspend date_to_close date_closed outcome                short_title  \\\n",
       "0  12/30/11 0:00      12/31/11      1/2/12       b     Six-party talks resume   \n",
       "1   5/14/12 0:00       5/15/12      5/6/12       b        president of Russia   \n",
       "2  12/30/11 0:00      12/31/11      1/3/12       b        Serbia EU candidacy   \n",
       "3   9/29/11 0:00       9/30/11     9/30/11       b  UN-GA recognize Palestine   \n",
       "4   11/4/11 0:00       11/5/11     11/5/11       a    Ortega win in Nicaragua   \n",
       "\n",
       "   days_open  n_opts                               options  \n",
       "0      123.0       2                       (a) Yes, (b) No  \n",
       "1      248.0       3  (a) Medvedev, (b) Putin, (c) Neither  \n",
       "2      124.0       2                       (a) Yes, (b) No  \n",
       "3       29.0       2                       (a) Yes, (b) No  \n",
       "4       65.0       2                       (a) Yes, (b) No  "
      ]
     },
     "execution_count": 4,
     "metadata": {},
     "output_type": "execute_result"
    }
   ],
   "source": [
    "ifps.head(5)"
   ]
  },
  {
   "cell_type": "code",
   "execution_count": 5,
   "id": "8081b886",
   "metadata": {},
   "outputs": [
    {
     "data": {
      "text/plain": [
       "('Will the Six-Party talks (among the US, North Korea, South Korea, Russia, China, and Japan) formally resume in 2011?',\n",
       " 'Will **national military force(s) from one or more countries *intervene in Syria **before 1 December 2014?',\n",
       " 'When will Mariano Rajoy vacate the office of Prime Minister of Spain?')"
      ]
     },
     "execution_count": 5,
     "metadata": {},
     "output_type": "execute_result"
    }
   ],
   "source": [
    "q_ifps = pd.DataFrame(ifps['q_text'].unique(), columns=['questions'])\n",
    "unique_q_num = q_ifps.nunique()\n",
    "\n",
    "# show some of them\n",
    "(\n",
    "q_ifps.questions[0], \n",
    "q_ifps.questions[391], \n",
    "q_ifps.questions[200] \n",
    ")"
   ]
  },
  {
   "cell_type": "code",
   "execution_count": 6,
   "id": "3472ab04",
   "metadata": {},
   "outputs": [
    {
     "data": {
      "text/plain": [
       "'Всего вопросов : 527'"
      ]
     },
     "execution_count": 6,
     "metadata": {},
     "output_type": "execute_result"
    }
   ],
   "source": [
    "f'Всего вопросов : {unique_q_num[0]}'"
   ]
  },
  {
   "cell_type": "markdown",
   "id": "0eb2c098",
   "metadata": {},
   "source": [
    "___\n",
    "### Предсказание людей в зависимости от их ответа в прошлый год"
   ]
  },
  {
   "cell_type": "code",
   "execution_count": 7,
   "id": "1f7068cf",
   "metadata": {},
   "outputs": [],
   "source": [
    "user_answers = survey_fcasts[['ifp_id','user_id','q_status','year','answer_option','timestamp','value','fcast_type','fcast_date']]\n",
    "user_answers = user_answers[(~user_answers.user_id.isna()) & (user_answers.q_status == 'closed')].reset_index(drop=True)\n",
    "\n",
    "user_answers['ans_type'] = user_answers.ifp_id.apply(lambda x: x[5:]).astype(int)\n",
    "user_answers['question'] = user_answers.ifp_id.apply(lambda x: x[:4]).astype(int)\n",
    "\n",
    "assert user_answers.user_id.apply(lambda x: x.is_integer()).sum() == user_answers.shape[0]\n",
    "\n",
    "user_answers['user_id'] = user_answers['user_id'].astype(int)\n",
    "user_answers = user_answers.sort_values(['question','user_id'])"
   ]
  },
  {
   "cell_type": "code",
   "execution_count": 8,
   "id": "5b93c85c",
   "metadata": {},
   "outputs": [
    {
     "data": {
      "text/html": [
       "<div>\n",
       "<style scoped>\n",
       "    .dataframe tbody tr th:only-of-type {\n",
       "        vertical-align: middle;\n",
       "    }\n",
       "\n",
       "    .dataframe tbody tr th {\n",
       "        vertical-align: top;\n",
       "    }\n",
       "\n",
       "    .dataframe thead th {\n",
       "        text-align: right;\n",
       "    }\n",
       "</style>\n",
       "<table border=\"1\" class=\"dataframe\">\n",
       "  <thead>\n",
       "    <tr style=\"text-align: right;\">\n",
       "      <th></th>\n",
       "      <th>ifp_id</th>\n",
       "      <th>user_id</th>\n",
       "      <th>q_status</th>\n",
       "      <th>year</th>\n",
       "      <th>answer_option</th>\n",
       "      <th>timestamp</th>\n",
       "      <th>value</th>\n",
       "      <th>fcast_type</th>\n",
       "      <th>fcast_date</th>\n",
       "      <th>ans_type</th>\n",
       "      <th>question</th>\n",
       "    </tr>\n",
       "  </thead>\n",
       "  <tbody>\n",
       "    <tr>\n",
       "      <th>5555</th>\n",
       "      <td>1001-0</td>\n",
       "      <td>3</td>\n",
       "      <td>closed</td>\n",
       "      <td>1</td>\n",
       "      <td>a</td>\n",
       "      <td>2011-09-06 05:46:12</td>\n",
       "      <td>0.5</td>\n",
       "      <td>1</td>\n",
       "      <td>2011-09-06</td>\n",
       "      <td>0</td>\n",
       "      <td>1001</td>\n",
       "    </tr>\n",
       "    <tr>\n",
       "      <th>5556</th>\n",
       "      <td>1001-0</td>\n",
       "      <td>3</td>\n",
       "      <td>closed</td>\n",
       "      <td>1</td>\n",
       "      <td>b</td>\n",
       "      <td>2011-09-06 05:46:12</td>\n",
       "      <td>0.5</td>\n",
       "      <td>1</td>\n",
       "      <td>2011-09-06</td>\n",
       "      <td>0</td>\n",
       "      <td>1001</td>\n",
       "    </tr>\n",
       "  </tbody>\n",
       "</table>\n",
       "</div>"
      ],
      "text/plain": [
       "      ifp_id  user_id q_status  year answer_option            timestamp  \\\n",
       "5555  1001-0        3   closed     1             a  2011-09-06 05:46:12   \n",
       "5556  1001-0        3   closed     1             b  2011-09-06 05:46:12   \n",
       "\n",
       "      value  fcast_type  fcast_date  ans_type  question  \n",
       "5555    0.5           1  2011-09-06         0      1001  \n",
       "5556    0.5           1  2011-09-06         0      1001  "
      ]
     },
     "execution_count": 8,
     "metadata": {},
     "output_type": "execute_result"
    }
   ],
   "source": [
    "user_answers.head(2)"
   ]
  },
  {
   "cell_type": "code",
   "execution_count": 9,
   "id": "88fd33c7",
   "metadata": {},
   "outputs": [],
   "source": [
    "mask = (ifps.q_status == 'closed') & (ifps.n_opts == 2) & (ifps.q_type == 0)\n",
    "question_answers = ifps[mask][['ifp_id','outcome','date_closed']]\n",
    "assert question_answers.ifp_id.nunique() == question_answers.shape[0]"
   ]
  },
  {
   "cell_type": "code",
   "execution_count": 10,
   "id": "1419d132",
   "metadata": {},
   "outputs": [
    {
     "data": {
      "text/html": [
       "<div>\n",
       "<style scoped>\n",
       "    .dataframe tbody tr th:only-of-type {\n",
       "        vertical-align: middle;\n",
       "    }\n",
       "\n",
       "    .dataframe tbody tr th {\n",
       "        vertical-align: top;\n",
       "    }\n",
       "\n",
       "    .dataframe thead th {\n",
       "        text-align: right;\n",
       "    }\n",
       "</style>\n",
       "<table border=\"1\" class=\"dataframe\">\n",
       "  <thead>\n",
       "    <tr style=\"text-align: right;\">\n",
       "      <th></th>\n",
       "      <th>ifp_id</th>\n",
       "      <th>outcome</th>\n",
       "      <th>date_closed</th>\n",
       "    </tr>\n",
       "  </thead>\n",
       "  <tbody>\n",
       "    <tr>\n",
       "      <th>0</th>\n",
       "      <td>1001-0</td>\n",
       "      <td>b</td>\n",
       "      <td>1/2/12</td>\n",
       "    </tr>\n",
       "    <tr>\n",
       "      <th>2</th>\n",
       "      <td>1003-0</td>\n",
       "      <td>b</td>\n",
       "      <td>1/3/12</td>\n",
       "    </tr>\n",
       "  </tbody>\n",
       "</table>\n",
       "</div>"
      ],
      "text/plain": [
       "   ifp_id outcome date_closed\n",
       "0  1001-0       b      1/2/12\n",
       "2  1003-0       b      1/3/12"
      ]
     },
     "execution_count": 10,
     "metadata": {},
     "output_type": "execute_result"
    }
   ],
   "source": [
    "question_answers.head(2)"
   ]
  },
  {
   "cell_type": "markdown",
   "id": "6514bd69",
   "metadata": {},
   "source": [
    "### Creating final DataFrame"
   ]
  },
  {
   "cell_type": "code",
   "execution_count": 11,
   "id": "8131c962",
   "metadata": {},
   "outputs": [],
   "source": [
    "ans = question_answers.merge(user_answers, on='ifp_id', how='inner').drop(['q_status', 'ans_type', 'question'], axis=1)\n",
    "ans.timestamp = ans.timestamp.astype('datetime64[ns]')\n",
    "ans[\"outcome\"] = (ans[\"outcome\"] == \"a\").astype(int)\n",
    "ans = ans.query('answer_option == \"a\"')\n",
    "\n",
    "ans[\"date_closed\"] = pd.to_datetime(ans[\"date_closed\"]) + pd.Timedelta(days=1)\n",
    "ans.dropna(subset=[\"user_id\"], inplace = True)\n",
    "\n",
    "ans[\"user_id\"] = ans[\"user_id\"].astype(int).astype(str)\n",
    "ans[\"days_until_closure\"] = (ans[\"date_closed\"] - ans[\"timestamp\"]).dt.days\n",
    "\n",
    "master_data = ans.query(\"days_until_closure > 15\").sort_values('fcast_date').groupby(['ifp_id', 'user_id']).tail(1)"
   ]
  },
  {
   "cell_type": "code",
   "execution_count": 12,
   "id": "09d84f5d",
   "metadata": {},
   "outputs": [],
   "source": [
    "model = SentenceTransformer('sentence-transformers/all-distilroberta-v1')\n",
    "sent_embeddings = model.encode(ifps.q_text)\n",
    "embedding_df = pd.DataFrame(sent_embeddings)\n",
    "\n",
    "############\n",
    "n_topics = 16\n",
    "############\n",
    "\n",
    "embedding_pca = preprocessing.StandardScaler().fit_transform(PCA(n_components=n_topics).fit_transform(embedding_df))\n",
    "embedding_pca_df = pd.DataFrame(embedding_pca)\n",
    "\n",
    "\n",
    "embedding_df[\"ifp_id\"] = ifps.ifp_id\n",
    "embedding_pca_df[\"ifp_id\"] = ifps.ifp_id"
   ]
  },
  {
   "cell_type": "code",
   "execution_count": 13,
   "id": "ea8db5bb",
   "metadata": {},
   "outputs": [
    {
     "data": {
      "text/plain": [
       "((617, 769), (617, 17))"
      ]
     },
     "execution_count": 13,
     "metadata": {},
     "output_type": "execute_result"
    }
   ],
   "source": [
    "embedding_df.shape, embedding_pca_df.shape"
   ]
  },
  {
   "cell_type": "code",
   "execution_count": 14,
   "id": "5569dd66",
   "metadata": {},
   "outputs": [],
   "source": [
    "event_outcomes = master_data.groupby(\"ifp_id\").outcome.max().reset_index()\n",
    "expert_inputs = master_data.pivot(index = \"ifp_id\", columns = \"user_id\", values = \"value\").fillna(0)"
   ]
  },
  {
   "cell_type": "markdown",
   "id": "2e4c45a1",
   "metadata": {},
   "source": [
    "**Without text features**"
   ]
  },
  {
   "cell_type": "code",
   "execution_count": 15,
   "id": "db8474b5",
   "metadata": {},
   "outputs": [],
   "source": [
    "final_ans_no_text = pd.merge(expert_inputs, event_outcomes, on=\"ifp_id\")"
   ]
  },
  {
   "cell_type": "code",
   "execution_count": 16,
   "id": "4314b8f7",
   "metadata": {},
   "outputs": [
    {
     "data": {
      "text/plain": [
       "(278, 9042)"
      ]
     },
     "execution_count": 16,
     "metadata": {},
     "output_type": "execute_result"
    }
   ],
   "source": [
    "final_ans_no_text.shape"
   ]
  },
  {
   "cell_type": "code",
   "execution_count": 17,
   "id": "b66a03c6",
   "metadata": {},
   "outputs": [
    {
     "data": {
      "text/html": [
       "<div>\n",
       "<style scoped>\n",
       "    .dataframe tbody tr th:only-of-type {\n",
       "        vertical-align: middle;\n",
       "    }\n",
       "\n",
       "    .dataframe tbody tr th {\n",
       "        vertical-align: top;\n",
       "    }\n",
       "\n",
       "    .dataframe thead th {\n",
       "        text-align: right;\n",
       "    }\n",
       "</style>\n",
       "<table border=\"1\" class=\"dataframe\">\n",
       "  <thead>\n",
       "    <tr style=\"text-align: right;\">\n",
       "      <th></th>\n",
       "      <th>ifp_id</th>\n",
       "      <th>1000</th>\n",
       "      <th>10001</th>\n",
       "      <th>10010</th>\n",
       "      <th>10014</th>\n",
       "      <th>10016</th>\n",
       "      <th>10034</th>\n",
       "      <th>10043</th>\n",
       "      <th>10046</th>\n",
       "      <th>10049</th>\n",
       "      <th>...</th>\n",
       "      <th>9866</th>\n",
       "      <th>9868</th>\n",
       "      <th>9869</th>\n",
       "      <th>9871</th>\n",
       "      <th>9877</th>\n",
       "      <th>9887</th>\n",
       "      <th>989</th>\n",
       "      <th>9903</th>\n",
       "      <th>991</th>\n",
       "      <th>outcome</th>\n",
       "    </tr>\n",
       "  </thead>\n",
       "  <tbody>\n",
       "    <tr>\n",
       "      <th>0</th>\n",
       "      <td>1001-0</td>\n",
       "      <td>0.00</td>\n",
       "      <td>0.0</td>\n",
       "      <td>0.0</td>\n",
       "      <td>0.0</td>\n",
       "      <td>0.0</td>\n",
       "      <td>0.0</td>\n",
       "      <td>0.0</td>\n",
       "      <td>0.0</td>\n",
       "      <td>0.0</td>\n",
       "      <td>...</td>\n",
       "      <td>0.0</td>\n",
       "      <td>0.0</td>\n",
       "      <td>0.0</td>\n",
       "      <td>0.0</td>\n",
       "      <td>0.0</td>\n",
       "      <td>0.0</td>\n",
       "      <td>0.2</td>\n",
       "      <td>0.0</td>\n",
       "      <td>0.25</td>\n",
       "      <td>0</td>\n",
       "    </tr>\n",
       "    <tr>\n",
       "      <th>1</th>\n",
       "      <td>1003-0</td>\n",
       "      <td>0.00</td>\n",
       "      <td>0.0</td>\n",
       "      <td>0.0</td>\n",
       "      <td>0.0</td>\n",
       "      <td>0.0</td>\n",
       "      <td>0.0</td>\n",
       "      <td>0.0</td>\n",
       "      <td>0.0</td>\n",
       "      <td>0.0</td>\n",
       "      <td>...</td>\n",
       "      <td>0.0</td>\n",
       "      <td>0.0</td>\n",
       "      <td>0.0</td>\n",
       "      <td>0.0</td>\n",
       "      <td>0.0</td>\n",
       "      <td>0.0</td>\n",
       "      <td>0.1</td>\n",
       "      <td>0.0</td>\n",
       "      <td>0.25</td>\n",
       "      <td>0</td>\n",
       "    </tr>\n",
       "    <tr>\n",
       "      <th>2</th>\n",
       "      <td>1004-0</td>\n",
       "      <td>0.75</td>\n",
       "      <td>0.0</td>\n",
       "      <td>0.0</td>\n",
       "      <td>0.0</td>\n",
       "      <td>0.0</td>\n",
       "      <td>0.0</td>\n",
       "      <td>0.0</td>\n",
       "      <td>0.0</td>\n",
       "      <td>0.0</td>\n",
       "      <td>...</td>\n",
       "      <td>0.0</td>\n",
       "      <td>0.0</td>\n",
       "      <td>0.0</td>\n",
       "      <td>0.0</td>\n",
       "      <td>0.0</td>\n",
       "      <td>0.0</td>\n",
       "      <td>0.0</td>\n",
       "      <td>0.0</td>\n",
       "      <td>0.15</td>\n",
       "      <td>0</td>\n",
       "    </tr>\n",
       "  </tbody>\n",
       "</table>\n",
       "<p>3 rows × 9042 columns</p>\n",
       "</div>"
      ],
      "text/plain": [
       "   ifp_id  1000  10001  10010  10014  10016  10034  10043  10046  10049  ...  \\\n",
       "0  1001-0  0.00    0.0    0.0    0.0    0.0    0.0    0.0    0.0    0.0  ...   \n",
       "1  1003-0  0.00    0.0    0.0    0.0    0.0    0.0    0.0    0.0    0.0  ...   \n",
       "2  1004-0  0.75    0.0    0.0    0.0    0.0    0.0    0.0    0.0    0.0  ...   \n",
       "\n",
       "   9866  9868  9869  9871  9877  9887  989  9903   991  outcome  \n",
       "0   0.0   0.0   0.0   0.0   0.0   0.0  0.2   0.0  0.25        0  \n",
       "1   0.0   0.0   0.0   0.0   0.0   0.0  0.1   0.0  0.25        0  \n",
       "2   0.0   0.0   0.0   0.0   0.0   0.0  0.0   0.0  0.15        0  \n",
       "\n",
       "[3 rows x 9042 columns]"
      ]
     },
     "execution_count": 17,
     "metadata": {},
     "output_type": "execute_result"
    }
   ],
   "source": [
    "final_ans_no_text.head(3)"
   ]
  },
  {
   "cell_type": "markdown",
   "id": "ccf51c34",
   "metadata": {},
   "source": [
    "**9042 users and 16 topics features - cross**"
   ]
  },
  {
   "cell_type": "code",
   "execution_count": 18,
   "id": "4079e885",
   "metadata": {},
   "outputs": [],
   "source": [
    "embedding_pca_df = embedding_pca_df.merge(event_outcomes[['ifp_id']], on='ifp_id', how='inner')\n",
    "\n",
    "final_ans_all_users = pd.DataFrame()\n",
    "\n",
    "cross_cols = embedding_pca_df.drop('ifp_id', axis=1).shape[1]\n",
    "for i in range(cross_cols):\n",
    "    temp = pd.DataFrame(expert_inputs.reset_index().drop('ifp_id', axis=1).T.values * embedding_pca_df[i].values).T\n",
    "    final_ans_all_users = pd.concat([final_ans_all_users, temp],axis=1)\n",
    "    \n",
    "final_ans_all_users['ifp_id'] = event_outcomes['ifp_id']\n",
    "final_ans_all_users = pd.merge(final_ans_all_users, event_outcomes, on=\"ifp_id\")"
   ]
  },
  {
   "cell_type": "code",
   "execution_count": 19,
   "id": "b45abc4f",
   "metadata": {},
   "outputs": [
    {
     "data": {
      "text/plain": [
       "(278, 144642)"
      ]
     },
     "execution_count": 19,
     "metadata": {},
     "output_type": "execute_result"
    }
   ],
   "source": [
    "final_ans_all_users.shape"
   ]
  },
  {
   "cell_type": "code",
   "execution_count": 20,
   "id": "aad3b5aa",
   "metadata": {},
   "outputs": [
    {
     "data": {
      "text/html": [
       "<div>\n",
       "<style scoped>\n",
       "    .dataframe tbody tr th:only-of-type {\n",
       "        vertical-align: middle;\n",
       "    }\n",
       "\n",
       "    .dataframe tbody tr th {\n",
       "        vertical-align: top;\n",
       "    }\n",
       "\n",
       "    .dataframe thead th {\n",
       "        text-align: right;\n",
       "    }\n",
       "</style>\n",
       "<table border=\"1\" class=\"dataframe\">\n",
       "  <thead>\n",
       "    <tr style=\"text-align: right;\">\n",
       "      <th></th>\n",
       "      <th>0</th>\n",
       "      <th>1</th>\n",
       "      <th>2</th>\n",
       "      <th>3</th>\n",
       "      <th>4</th>\n",
       "      <th>5</th>\n",
       "      <th>6</th>\n",
       "      <th>7</th>\n",
       "      <th>8</th>\n",
       "      <th>9</th>\n",
       "      <th>...</th>\n",
       "      <th>9032</th>\n",
       "      <th>9033</th>\n",
       "      <th>9034</th>\n",
       "      <th>9035</th>\n",
       "      <th>9036</th>\n",
       "      <th>9037</th>\n",
       "      <th>9038</th>\n",
       "      <th>9039</th>\n",
       "      <th>ifp_id</th>\n",
       "      <th>outcome</th>\n",
       "    </tr>\n",
       "  </thead>\n",
       "  <tbody>\n",
       "    <tr>\n",
       "      <th>0</th>\n",
       "      <td>-0.000000</td>\n",
       "      <td>-0.0</td>\n",
       "      <td>-0.0</td>\n",
       "      <td>-0.0</td>\n",
       "      <td>-0.0</td>\n",
       "      <td>-0.0</td>\n",
       "      <td>-0.0</td>\n",
       "      <td>-0.0</td>\n",
       "      <td>-0.0</td>\n",
       "      <td>-0.0</td>\n",
       "      <td>...</td>\n",
       "      <td>-0.0</td>\n",
       "      <td>-0.0</td>\n",
       "      <td>-0.0</td>\n",
       "      <td>-0.0</td>\n",
       "      <td>-0.0</td>\n",
       "      <td>-0.056014</td>\n",
       "      <td>-0.0</td>\n",
       "      <td>-0.070017</td>\n",
       "      <td>1001-0</td>\n",
       "      <td>0</td>\n",
       "    </tr>\n",
       "    <tr>\n",
       "      <th>1</th>\n",
       "      <td>0.000000</td>\n",
       "      <td>0.0</td>\n",
       "      <td>0.0</td>\n",
       "      <td>0.0</td>\n",
       "      <td>0.0</td>\n",
       "      <td>0.0</td>\n",
       "      <td>0.0</td>\n",
       "      <td>0.0</td>\n",
       "      <td>0.0</td>\n",
       "      <td>0.0</td>\n",
       "      <td>...</td>\n",
       "      <td>-0.0</td>\n",
       "      <td>-0.0</td>\n",
       "      <td>-0.0</td>\n",
       "      <td>-0.0</td>\n",
       "      <td>-0.0</td>\n",
       "      <td>-0.068438</td>\n",
       "      <td>-0.0</td>\n",
       "      <td>-0.171095</td>\n",
       "      <td>1003-0</td>\n",
       "      <td>0</td>\n",
       "    </tr>\n",
       "    <tr>\n",
       "      <th>2</th>\n",
       "      <td>0.133197</td>\n",
       "      <td>0.0</td>\n",
       "      <td>0.0</td>\n",
       "      <td>0.0</td>\n",
       "      <td>0.0</td>\n",
       "      <td>0.0</td>\n",
       "      <td>0.0</td>\n",
       "      <td>0.0</td>\n",
       "      <td>0.0</td>\n",
       "      <td>0.0</td>\n",
       "      <td>...</td>\n",
       "      <td>-0.0</td>\n",
       "      <td>-0.0</td>\n",
       "      <td>-0.0</td>\n",
       "      <td>-0.0</td>\n",
       "      <td>-0.0</td>\n",
       "      <td>-0.000000</td>\n",
       "      <td>-0.0</td>\n",
       "      <td>-0.049223</td>\n",
       "      <td>1004-0</td>\n",
       "      <td>0</td>\n",
       "    </tr>\n",
       "  </tbody>\n",
       "</table>\n",
       "<p>3 rows × 144642 columns</p>\n",
       "</div>"
      ],
      "text/plain": [
       "          0    1    2    3    4    5    6    7    8    9  ...  9032  9033  \\\n",
       "0 -0.000000 -0.0 -0.0 -0.0 -0.0 -0.0 -0.0 -0.0 -0.0 -0.0  ...  -0.0  -0.0   \n",
       "1  0.000000  0.0  0.0  0.0  0.0  0.0  0.0  0.0  0.0  0.0  ...  -0.0  -0.0   \n",
       "2  0.133197  0.0  0.0  0.0  0.0  0.0  0.0  0.0  0.0  0.0  ...  -0.0  -0.0   \n",
       "\n",
       "   9034  9035  9036      9037  9038      9039  ifp_id  outcome  \n",
       "0  -0.0  -0.0  -0.0 -0.056014  -0.0 -0.070017  1001-0        0  \n",
       "1  -0.0  -0.0  -0.0 -0.068438  -0.0 -0.171095  1003-0        0  \n",
       "2  -0.0  -0.0  -0.0 -0.000000  -0.0 -0.049223  1004-0        0  \n",
       "\n",
       "[3 rows x 144642 columns]"
      ]
     },
     "execution_count": 20,
     "metadata": {},
     "output_type": "execute_result"
    }
   ],
   "source": [
    "final_ans_all_users.head(3)"
   ]
  },
  {
   "cell_type": "markdown",
   "id": "c2325cf3",
   "metadata": {},
   "source": [
    "**Users with more than 10 questions and 16 topics features - cross**"
   ]
  },
  {
   "cell_type": "code",
   "execution_count": 21,
   "id": "9addff46",
   "metadata": {},
   "outputs": [],
   "source": [
    "temp = master_data.groupby('user_id',as_index=False).ifp_id.count()\n",
    "ids_more_10_q = temp.query('ifp_id > 10')[['user_id']]\n",
    "\n",
    "expert_inputs = master_data.merge(ids_more_10_q).pivot(index = \"ifp_id\", columns = \"user_id\", values = \"value\").fillna(0)"
   ]
  },
  {
   "cell_type": "code",
   "execution_count": 22,
   "id": "0953b8db",
   "metadata": {},
   "outputs": [],
   "source": [
    "final_ans_users_10_q = pd.DataFrame()\n",
    "\n",
    "for i in range(cross_cols):\n",
    "    temp = pd.DataFrame(expert_inputs.reset_index().drop('ifp_id', axis=1).T.values * embedding_pca_df[i].values).T\n",
    "    final_ans_users_10_q = pd.concat([final_ans_users_10_q, temp],axis=1)\n",
    "    \n",
    "final_ans_users_10_q['ifp_id'] = event_outcomes['ifp_id']\n",
    "final_ans_users_10_q = pd.merge(final_ans_users_10_q, event_outcomes, on=\"ifp_id\")"
   ]
  },
  {
   "cell_type": "code",
   "execution_count": 23,
   "id": "5f3bf012",
   "metadata": {},
   "outputs": [
    {
     "data": {
      "text/plain": [
       "(278, 72690)"
      ]
     },
     "execution_count": 23,
     "metadata": {},
     "output_type": "execute_result"
    }
   ],
   "source": [
    "final_ans_users_10_q.shape"
   ]
  },
  {
   "cell_type": "code",
   "execution_count": 24,
   "id": "25fededa",
   "metadata": {},
   "outputs": [
    {
     "data": {
      "text/html": [
       "<div>\n",
       "<style scoped>\n",
       "    .dataframe tbody tr th:only-of-type {\n",
       "        vertical-align: middle;\n",
       "    }\n",
       "\n",
       "    .dataframe tbody tr th {\n",
       "        vertical-align: top;\n",
       "    }\n",
       "\n",
       "    .dataframe thead th {\n",
       "        text-align: right;\n",
       "    }\n",
       "</style>\n",
       "<table border=\"1\" class=\"dataframe\">\n",
       "  <thead>\n",
       "    <tr style=\"text-align: right;\">\n",
       "      <th></th>\n",
       "      <th>0</th>\n",
       "      <th>1</th>\n",
       "      <th>2</th>\n",
       "      <th>3</th>\n",
       "      <th>4</th>\n",
       "      <th>5</th>\n",
       "      <th>6</th>\n",
       "      <th>7</th>\n",
       "      <th>8</th>\n",
       "      <th>9</th>\n",
       "      <th>...</th>\n",
       "      <th>4535</th>\n",
       "      <th>4536</th>\n",
       "      <th>4537</th>\n",
       "      <th>4538</th>\n",
       "      <th>4539</th>\n",
       "      <th>4540</th>\n",
       "      <th>4541</th>\n",
       "      <th>4542</th>\n",
       "      <th>ifp_id</th>\n",
       "      <th>outcome</th>\n",
       "    </tr>\n",
       "  </thead>\n",
       "  <tbody>\n",
       "    <tr>\n",
       "      <th>0</th>\n",
       "      <td>-0.000000</td>\n",
       "      <td>-0.0</td>\n",
       "      <td>-0.0</td>\n",
       "      <td>-0.0</td>\n",
       "      <td>-0.0</td>\n",
       "      <td>-0.0</td>\n",
       "      <td>-0.0</td>\n",
       "      <td>-0.0</td>\n",
       "      <td>-0.0</td>\n",
       "      <td>-0.175427</td>\n",
       "      <td>...</td>\n",
       "      <td>-0.056014</td>\n",
       "      <td>-0.0</td>\n",
       "      <td>-0.0</td>\n",
       "      <td>-0.0</td>\n",
       "      <td>-0.0</td>\n",
       "      <td>-0.0</td>\n",
       "      <td>-0.0</td>\n",
       "      <td>-0.070017</td>\n",
       "      <td>1001-0</td>\n",
       "      <td>0</td>\n",
       "    </tr>\n",
       "    <tr>\n",
       "      <th>1</th>\n",
       "      <td>0.000000</td>\n",
       "      <td>0.0</td>\n",
       "      <td>0.0</td>\n",
       "      <td>0.0</td>\n",
       "      <td>0.0</td>\n",
       "      <td>0.0</td>\n",
       "      <td>0.0</td>\n",
       "      <td>0.0</td>\n",
       "      <td>0.0</td>\n",
       "      <td>0.070403</td>\n",
       "      <td>...</td>\n",
       "      <td>-0.068438</td>\n",
       "      <td>-0.0</td>\n",
       "      <td>-0.0</td>\n",
       "      <td>-0.0</td>\n",
       "      <td>-0.0</td>\n",
       "      <td>-0.0</td>\n",
       "      <td>-0.0</td>\n",
       "      <td>-0.171095</td>\n",
       "      <td>1003-0</td>\n",
       "      <td>0</td>\n",
       "    </tr>\n",
       "    <tr>\n",
       "      <th>2</th>\n",
       "      <td>0.133197</td>\n",
       "      <td>0.0</td>\n",
       "      <td>0.0</td>\n",
       "      <td>0.0</td>\n",
       "      <td>0.0</td>\n",
       "      <td>0.0</td>\n",
       "      <td>0.0</td>\n",
       "      <td>0.0</td>\n",
       "      <td>0.0</td>\n",
       "      <td>0.071039</td>\n",
       "      <td>...</td>\n",
       "      <td>-0.000000</td>\n",
       "      <td>-0.0</td>\n",
       "      <td>-0.0</td>\n",
       "      <td>-0.0</td>\n",
       "      <td>-0.0</td>\n",
       "      <td>-0.0</td>\n",
       "      <td>-0.0</td>\n",
       "      <td>-0.049223</td>\n",
       "      <td>1004-0</td>\n",
       "      <td>0</td>\n",
       "    </tr>\n",
       "  </tbody>\n",
       "</table>\n",
       "<p>3 rows × 72690 columns</p>\n",
       "</div>"
      ],
      "text/plain": [
       "          0    1    2    3    4    5    6    7    8         9  ...      4535  \\\n",
       "0 -0.000000 -0.0 -0.0 -0.0 -0.0 -0.0 -0.0 -0.0 -0.0 -0.175427  ... -0.056014   \n",
       "1  0.000000  0.0  0.0  0.0  0.0  0.0  0.0  0.0  0.0  0.070403  ... -0.068438   \n",
       "2  0.133197  0.0  0.0  0.0  0.0  0.0  0.0  0.0  0.0  0.071039  ... -0.000000   \n",
       "\n",
       "   4536  4537  4538  4539  4540  4541      4542  ifp_id  outcome  \n",
       "0  -0.0  -0.0  -0.0  -0.0  -0.0  -0.0 -0.070017  1001-0        0  \n",
       "1  -0.0  -0.0  -0.0  -0.0  -0.0  -0.0 -0.171095  1003-0        0  \n",
       "2  -0.0  -0.0  -0.0  -0.0  -0.0  -0.0 -0.049223  1004-0        0  \n",
       "\n",
       "[3 rows x 72690 columns]"
      ]
     },
     "execution_count": 24,
     "metadata": {},
     "output_type": "execute_result"
    }
   ],
   "source": [
    "final_ans_users_10_q.head(3)"
   ]
  },
  {
   "cell_type": "markdown",
   "id": "28738918",
   "metadata": {},
   "source": [
    "## Кросс-валидация и grid-search (для стабильности)\n",
    "\n",
    "$$ \n",
    "ElasticNetMSE = MSE(y, y_{pred}) + С \\cdot (1 - L_{1}Ratio) \\sum_{i=1}^{m} \\lvert{\\theta_{i}}\\rvert +  С \\cdot (1 - L_{1}Ratio)\\sum_{i=1}^{m} \\lvert{\\theta_{i}}\\rvert ,\n",
    "$$\n",
    "\n",
    "Where hyperparameters:\n",
    "\n",
    "* `C` -  This parameter signifies strength of the regularization and takes a positive float value.\n",
    "* `l1_ratio` -  the penalty will be a combination of l1 & l2, l1_ratio fraction will define the weight of l1 in the mix.\n",
    "* `penalty` - elasticnet : penalty only supported by: saga solver.\n",
    "* `solver` - Saga is a variant of Sag and it can be used with l1 Regularization. It’s a quite time-efficient solver and usually the go-to solver with very large datasets.\n",
    "\n"
   ]
  },
  {
   "cell_type": "code",
   "execution_count": 25,
   "id": "094c90bc",
   "metadata": {},
   "outputs": [],
   "source": [
    "from sklearn.model_selection import train_test_split\n",
    "\n",
    "from sklearn.model_selection import KFold, cross_val_score\n",
    "from sklearn.model_selection import GridSearchCV"
   ]
  },
  {
   "cell_type": "markdown",
   "id": "8f3c01dd",
   "metadata": {},
   "source": [
    "---\n",
    "# Model fitting without features related to questions text"
   ]
  },
  {
   "cell_type": "code",
   "execution_count": 26,
   "id": "38d019dd",
   "metadata": {},
   "outputs": [],
   "source": [
    "X = final_ans_no_text.drop(['ifp_id', 'outcome'], axis=1)\n",
    "y = final_ans_no_text['outcome']\n",
    "\n",
    "X_train, X_test, y_train, y_test = train_test_split(X, y, test_size=0.2, random_state=42)"
   ]
  },
  {
   "cell_type": "code",
   "execution_count": 27,
   "id": "c5843bfb",
   "metadata": {},
   "outputs": [],
   "source": [
    "k_fold = KFold(n_splits=4)\n",
    "parameters = {\n",
    "    'C'         : np.geomspace(0.01, 3, 10),\n",
    "    'penalty'   : ['elasticnet'], \n",
    "    'solver'    : ['saga'],    \n",
    "}"
   ]
  },
  {
   "cell_type": "code",
   "execution_count": null,
   "id": "fa26dd87",
   "metadata": {},
   "outputs": [],
   "source": [
    "%%time\n",
    "lr = LogisticRegression(max_iter= 300, l1_ratio=0,  random_state=12, n_jobs=-1)\n",
    "clf_0 = GridSearchCV(lr, parameters, cv=k_fold, scoring='neg_brier_score')\n",
    "\n",
    "clf_0.fit(X_train, y_train)\n",
    "clf_0.best_estimator_"
   ]
  },
  {
   "cell_type": "code",
   "execution_count": 28,
   "id": "16126a47",
   "metadata": {},
   "outputs": [
    {
     "ename": "KeyboardInterrupt",
     "evalue": "",
     "output_type": "error",
     "traceback": [
      "\u001b[1;31m---------------------------------------------------------------------------\u001b[0m",
      "\u001b[1;31mKeyboardInterrupt\u001b[0m                         Traceback (most recent call last)",
      "\u001b[1;32m<timed exec>\u001b[0m in \u001b[0;36m<module>\u001b[1;34m\u001b[0m\n",
      "\u001b[1;32m~\\AppData\\Roaming\\Python\\Python38\\site-packages\\sklearn\\model_selection\\_search.py\u001b[0m in \u001b[0;36mfit\u001b[1;34m(self, X, y, groups, **fit_params)\u001b[0m\n\u001b[0;32m    873\u001b[0m                 \u001b[1;32mreturn\u001b[0m \u001b[0mresults\u001b[0m\u001b[1;33m\u001b[0m\u001b[1;33m\u001b[0m\u001b[0m\n\u001b[0;32m    874\u001b[0m \u001b[1;33m\u001b[0m\u001b[0m\n\u001b[1;32m--> 875\u001b[1;33m             \u001b[0mself\u001b[0m\u001b[1;33m.\u001b[0m\u001b[0m_run_search\u001b[0m\u001b[1;33m(\u001b[0m\u001b[0mevaluate_candidates\u001b[0m\u001b[1;33m)\u001b[0m\u001b[1;33m\u001b[0m\u001b[1;33m\u001b[0m\u001b[0m\n\u001b[0m\u001b[0;32m    876\u001b[0m \u001b[1;33m\u001b[0m\u001b[0m\n\u001b[0;32m    877\u001b[0m             \u001b[1;31m# multimetric is determined here because in the case of a callable\u001b[0m\u001b[1;33m\u001b[0m\u001b[1;33m\u001b[0m\u001b[1;33m\u001b[0m\u001b[0m\n",
      "\u001b[1;32m~\\AppData\\Roaming\\Python\\Python38\\site-packages\\sklearn\\model_selection\\_search.py\u001b[0m in \u001b[0;36m_run_search\u001b[1;34m(self, evaluate_candidates)\u001b[0m\n\u001b[0;32m   1373\u001b[0m     \u001b[1;32mdef\u001b[0m \u001b[0m_run_search\u001b[0m\u001b[1;33m(\u001b[0m\u001b[0mself\u001b[0m\u001b[1;33m,\u001b[0m \u001b[0mevaluate_candidates\u001b[0m\u001b[1;33m)\u001b[0m\u001b[1;33m:\u001b[0m\u001b[1;33m\u001b[0m\u001b[1;33m\u001b[0m\u001b[0m\n\u001b[0;32m   1374\u001b[0m         \u001b[1;34m\"\"\"Search all candidates in param_grid\"\"\"\u001b[0m\u001b[1;33m\u001b[0m\u001b[1;33m\u001b[0m\u001b[0m\n\u001b[1;32m-> 1375\u001b[1;33m         \u001b[0mevaluate_candidates\u001b[0m\u001b[1;33m(\u001b[0m\u001b[0mParameterGrid\u001b[0m\u001b[1;33m(\u001b[0m\u001b[0mself\u001b[0m\u001b[1;33m.\u001b[0m\u001b[0mparam_grid\u001b[0m\u001b[1;33m)\u001b[0m\u001b[1;33m)\u001b[0m\u001b[1;33m\u001b[0m\u001b[1;33m\u001b[0m\u001b[0m\n\u001b[0m\u001b[0;32m   1376\u001b[0m \u001b[1;33m\u001b[0m\u001b[0m\n\u001b[0;32m   1377\u001b[0m \u001b[1;33m\u001b[0m\u001b[0m\n",
      "\u001b[1;32m~\\AppData\\Roaming\\Python\\Python38\\site-packages\\sklearn\\model_selection\\_search.py\u001b[0m in \u001b[0;36mevaluate_candidates\u001b[1;34m(candidate_params, cv, more_results)\u001b[0m\n\u001b[0;32m    820\u001b[0m                     )\n\u001b[0;32m    821\u001b[0m \u001b[1;33m\u001b[0m\u001b[0m\n\u001b[1;32m--> 822\u001b[1;33m                 out = parallel(\n\u001b[0m\u001b[0;32m    823\u001b[0m                     delayed(_fit_and_score)(\n\u001b[0;32m    824\u001b[0m                         \u001b[0mclone\u001b[0m\u001b[1;33m(\u001b[0m\u001b[0mbase_estimator\u001b[0m\u001b[1;33m)\u001b[0m\u001b[1;33m,\u001b[0m\u001b[1;33m\u001b[0m\u001b[1;33m\u001b[0m\u001b[0m\n",
      "\u001b[1;32m~\\anaconda3\\lib\\site-packages\\joblib\\parallel.py\u001b[0m in \u001b[0;36m__call__\u001b[1;34m(self, iterable)\u001b[0m\n\u001b[0;32m   1042\u001b[0m                 \u001b[0mself\u001b[0m\u001b[1;33m.\u001b[0m\u001b[0m_iterating\u001b[0m \u001b[1;33m=\u001b[0m \u001b[0mself\u001b[0m\u001b[1;33m.\u001b[0m\u001b[0m_original_iterator\u001b[0m \u001b[1;32mis\u001b[0m \u001b[1;32mnot\u001b[0m \u001b[1;32mNone\u001b[0m\u001b[1;33m\u001b[0m\u001b[1;33m\u001b[0m\u001b[0m\n\u001b[0;32m   1043\u001b[0m \u001b[1;33m\u001b[0m\u001b[0m\n\u001b[1;32m-> 1044\u001b[1;33m             \u001b[1;32mwhile\u001b[0m \u001b[0mself\u001b[0m\u001b[1;33m.\u001b[0m\u001b[0mdispatch_one_batch\u001b[0m\u001b[1;33m(\u001b[0m\u001b[0miterator\u001b[0m\u001b[1;33m)\u001b[0m\u001b[1;33m:\u001b[0m\u001b[1;33m\u001b[0m\u001b[1;33m\u001b[0m\u001b[0m\n\u001b[0m\u001b[0;32m   1045\u001b[0m                 \u001b[1;32mpass\u001b[0m\u001b[1;33m\u001b[0m\u001b[1;33m\u001b[0m\u001b[0m\n\u001b[0;32m   1046\u001b[0m \u001b[1;33m\u001b[0m\u001b[0m\n",
      "\u001b[1;32m~\\anaconda3\\lib\\site-packages\\joblib\\parallel.py\u001b[0m in \u001b[0;36mdispatch_one_batch\u001b[1;34m(self, iterator)\u001b[0m\n\u001b[0;32m    857\u001b[0m                 \u001b[1;32mreturn\u001b[0m \u001b[1;32mFalse\u001b[0m\u001b[1;33m\u001b[0m\u001b[1;33m\u001b[0m\u001b[0m\n\u001b[0;32m    858\u001b[0m             \u001b[1;32melse\u001b[0m\u001b[1;33m:\u001b[0m\u001b[1;33m\u001b[0m\u001b[1;33m\u001b[0m\u001b[0m\n\u001b[1;32m--> 859\u001b[1;33m                 \u001b[0mself\u001b[0m\u001b[1;33m.\u001b[0m\u001b[0m_dispatch\u001b[0m\u001b[1;33m(\u001b[0m\u001b[0mtasks\u001b[0m\u001b[1;33m)\u001b[0m\u001b[1;33m\u001b[0m\u001b[1;33m\u001b[0m\u001b[0m\n\u001b[0m\u001b[0;32m    860\u001b[0m                 \u001b[1;32mreturn\u001b[0m \u001b[1;32mTrue\u001b[0m\u001b[1;33m\u001b[0m\u001b[1;33m\u001b[0m\u001b[0m\n\u001b[0;32m    861\u001b[0m \u001b[1;33m\u001b[0m\u001b[0m\n",
      "\u001b[1;32m~\\anaconda3\\lib\\site-packages\\joblib\\parallel.py\u001b[0m in \u001b[0;36m_dispatch\u001b[1;34m(self, batch)\u001b[0m\n\u001b[0;32m    775\u001b[0m         \u001b[1;32mwith\u001b[0m \u001b[0mself\u001b[0m\u001b[1;33m.\u001b[0m\u001b[0m_lock\u001b[0m\u001b[1;33m:\u001b[0m\u001b[1;33m\u001b[0m\u001b[1;33m\u001b[0m\u001b[0m\n\u001b[0;32m    776\u001b[0m             \u001b[0mjob_idx\u001b[0m \u001b[1;33m=\u001b[0m \u001b[0mlen\u001b[0m\u001b[1;33m(\u001b[0m\u001b[0mself\u001b[0m\u001b[1;33m.\u001b[0m\u001b[0m_jobs\u001b[0m\u001b[1;33m)\u001b[0m\u001b[1;33m\u001b[0m\u001b[1;33m\u001b[0m\u001b[0m\n\u001b[1;32m--> 777\u001b[1;33m             \u001b[0mjob\u001b[0m \u001b[1;33m=\u001b[0m \u001b[0mself\u001b[0m\u001b[1;33m.\u001b[0m\u001b[0m_backend\u001b[0m\u001b[1;33m.\u001b[0m\u001b[0mapply_async\u001b[0m\u001b[1;33m(\u001b[0m\u001b[0mbatch\u001b[0m\u001b[1;33m,\u001b[0m \u001b[0mcallback\u001b[0m\u001b[1;33m=\u001b[0m\u001b[0mcb\u001b[0m\u001b[1;33m)\u001b[0m\u001b[1;33m\u001b[0m\u001b[1;33m\u001b[0m\u001b[0m\n\u001b[0m\u001b[0;32m    778\u001b[0m             \u001b[1;31m# A job can complete so quickly than its callback is\u001b[0m\u001b[1;33m\u001b[0m\u001b[1;33m\u001b[0m\u001b[1;33m\u001b[0m\u001b[0m\n\u001b[0;32m    779\u001b[0m             \u001b[1;31m# called before we get here, causing self._jobs to\u001b[0m\u001b[1;33m\u001b[0m\u001b[1;33m\u001b[0m\u001b[1;33m\u001b[0m\u001b[0m\n",
      "\u001b[1;32m~\\anaconda3\\lib\\site-packages\\joblib\\_parallel_backends.py\u001b[0m in \u001b[0;36mapply_async\u001b[1;34m(self, func, callback)\u001b[0m\n\u001b[0;32m    206\u001b[0m     \u001b[1;32mdef\u001b[0m \u001b[0mapply_async\u001b[0m\u001b[1;33m(\u001b[0m\u001b[0mself\u001b[0m\u001b[1;33m,\u001b[0m \u001b[0mfunc\u001b[0m\u001b[1;33m,\u001b[0m \u001b[0mcallback\u001b[0m\u001b[1;33m=\u001b[0m\u001b[1;32mNone\u001b[0m\u001b[1;33m)\u001b[0m\u001b[1;33m:\u001b[0m\u001b[1;33m\u001b[0m\u001b[1;33m\u001b[0m\u001b[0m\n\u001b[0;32m    207\u001b[0m         \u001b[1;34m\"\"\"Schedule a func to be run\"\"\"\u001b[0m\u001b[1;33m\u001b[0m\u001b[1;33m\u001b[0m\u001b[0m\n\u001b[1;32m--> 208\u001b[1;33m         \u001b[0mresult\u001b[0m \u001b[1;33m=\u001b[0m \u001b[0mImmediateResult\u001b[0m\u001b[1;33m(\u001b[0m\u001b[0mfunc\u001b[0m\u001b[1;33m)\u001b[0m\u001b[1;33m\u001b[0m\u001b[1;33m\u001b[0m\u001b[0m\n\u001b[0m\u001b[0;32m    209\u001b[0m         \u001b[1;32mif\u001b[0m \u001b[0mcallback\u001b[0m\u001b[1;33m:\u001b[0m\u001b[1;33m\u001b[0m\u001b[1;33m\u001b[0m\u001b[0m\n\u001b[0;32m    210\u001b[0m             \u001b[0mcallback\u001b[0m\u001b[1;33m(\u001b[0m\u001b[0mresult\u001b[0m\u001b[1;33m)\u001b[0m\u001b[1;33m\u001b[0m\u001b[1;33m\u001b[0m\u001b[0m\n",
      "\u001b[1;32m~\\anaconda3\\lib\\site-packages\\joblib\\_parallel_backends.py\u001b[0m in \u001b[0;36m__init__\u001b[1;34m(self, batch)\u001b[0m\n\u001b[0;32m    570\u001b[0m         \u001b[1;31m# Don't delay the application, to avoid keeping the input\u001b[0m\u001b[1;33m\u001b[0m\u001b[1;33m\u001b[0m\u001b[1;33m\u001b[0m\u001b[0m\n\u001b[0;32m    571\u001b[0m         \u001b[1;31m# arguments in memory\u001b[0m\u001b[1;33m\u001b[0m\u001b[1;33m\u001b[0m\u001b[1;33m\u001b[0m\u001b[0m\n\u001b[1;32m--> 572\u001b[1;33m         \u001b[0mself\u001b[0m\u001b[1;33m.\u001b[0m\u001b[0mresults\u001b[0m \u001b[1;33m=\u001b[0m \u001b[0mbatch\u001b[0m\u001b[1;33m(\u001b[0m\u001b[1;33m)\u001b[0m\u001b[1;33m\u001b[0m\u001b[1;33m\u001b[0m\u001b[0m\n\u001b[0m\u001b[0;32m    573\u001b[0m \u001b[1;33m\u001b[0m\u001b[0m\n\u001b[0;32m    574\u001b[0m     \u001b[1;32mdef\u001b[0m \u001b[0mget\u001b[0m\u001b[1;33m(\u001b[0m\u001b[0mself\u001b[0m\u001b[1;33m)\u001b[0m\u001b[1;33m:\u001b[0m\u001b[1;33m\u001b[0m\u001b[1;33m\u001b[0m\u001b[0m\n",
      "\u001b[1;32m~\\anaconda3\\lib\\site-packages\\joblib\\parallel.py\u001b[0m in \u001b[0;36m__call__\u001b[1;34m(self)\u001b[0m\n\u001b[0;32m    260\u001b[0m         \u001b[1;31m# change the default number of processes to -1\u001b[0m\u001b[1;33m\u001b[0m\u001b[1;33m\u001b[0m\u001b[1;33m\u001b[0m\u001b[0m\n\u001b[0;32m    261\u001b[0m         \u001b[1;32mwith\u001b[0m \u001b[0mparallel_backend\u001b[0m\u001b[1;33m(\u001b[0m\u001b[0mself\u001b[0m\u001b[1;33m.\u001b[0m\u001b[0m_backend\u001b[0m\u001b[1;33m,\u001b[0m \u001b[0mn_jobs\u001b[0m\u001b[1;33m=\u001b[0m\u001b[0mself\u001b[0m\u001b[1;33m.\u001b[0m\u001b[0m_n_jobs\u001b[0m\u001b[1;33m)\u001b[0m\u001b[1;33m:\u001b[0m\u001b[1;33m\u001b[0m\u001b[1;33m\u001b[0m\u001b[0m\n\u001b[1;32m--> 262\u001b[1;33m             return [func(*args, **kwargs)\n\u001b[0m\u001b[0;32m    263\u001b[0m                     for func, args, kwargs in self.items]\n\u001b[0;32m    264\u001b[0m \u001b[1;33m\u001b[0m\u001b[0m\n",
      "\u001b[1;32m~\\anaconda3\\lib\\site-packages\\joblib\\parallel.py\u001b[0m in \u001b[0;36m<listcomp>\u001b[1;34m(.0)\u001b[0m\n\u001b[0;32m    260\u001b[0m         \u001b[1;31m# change the default number of processes to -1\u001b[0m\u001b[1;33m\u001b[0m\u001b[1;33m\u001b[0m\u001b[1;33m\u001b[0m\u001b[0m\n\u001b[0;32m    261\u001b[0m         \u001b[1;32mwith\u001b[0m \u001b[0mparallel_backend\u001b[0m\u001b[1;33m(\u001b[0m\u001b[0mself\u001b[0m\u001b[1;33m.\u001b[0m\u001b[0m_backend\u001b[0m\u001b[1;33m,\u001b[0m \u001b[0mn_jobs\u001b[0m\u001b[1;33m=\u001b[0m\u001b[0mself\u001b[0m\u001b[1;33m.\u001b[0m\u001b[0m_n_jobs\u001b[0m\u001b[1;33m)\u001b[0m\u001b[1;33m:\u001b[0m\u001b[1;33m\u001b[0m\u001b[1;33m\u001b[0m\u001b[0m\n\u001b[1;32m--> 262\u001b[1;33m             return [func(*args, **kwargs)\n\u001b[0m\u001b[0;32m    263\u001b[0m                     for func, args, kwargs in self.items]\n\u001b[0;32m    264\u001b[0m \u001b[1;33m\u001b[0m\u001b[0m\n",
      "\u001b[1;32m~\\AppData\\Roaming\\Python\\Python38\\site-packages\\sklearn\\utils\\fixes.py\u001b[0m in \u001b[0;36m__call__\u001b[1;34m(self, *args, **kwargs)\u001b[0m\n\u001b[0;32m    115\u001b[0m     \u001b[1;32mdef\u001b[0m \u001b[0m__call__\u001b[0m\u001b[1;33m(\u001b[0m\u001b[0mself\u001b[0m\u001b[1;33m,\u001b[0m \u001b[1;33m*\u001b[0m\u001b[0margs\u001b[0m\u001b[1;33m,\u001b[0m \u001b[1;33m**\u001b[0m\u001b[0mkwargs\u001b[0m\u001b[1;33m)\u001b[0m\u001b[1;33m:\u001b[0m\u001b[1;33m\u001b[0m\u001b[1;33m\u001b[0m\u001b[0m\n\u001b[0;32m    116\u001b[0m         \u001b[1;32mwith\u001b[0m \u001b[0mconfig_context\u001b[0m\u001b[1;33m(\u001b[0m\u001b[1;33m**\u001b[0m\u001b[0mself\u001b[0m\u001b[1;33m.\u001b[0m\u001b[0mconfig\u001b[0m\u001b[1;33m)\u001b[0m\u001b[1;33m:\u001b[0m\u001b[1;33m\u001b[0m\u001b[1;33m\u001b[0m\u001b[0m\n\u001b[1;32m--> 117\u001b[1;33m             \u001b[1;32mreturn\u001b[0m \u001b[0mself\u001b[0m\u001b[1;33m.\u001b[0m\u001b[0mfunction\u001b[0m\u001b[1;33m(\u001b[0m\u001b[1;33m*\u001b[0m\u001b[0margs\u001b[0m\u001b[1;33m,\u001b[0m \u001b[1;33m**\u001b[0m\u001b[0mkwargs\u001b[0m\u001b[1;33m)\u001b[0m\u001b[1;33m\u001b[0m\u001b[1;33m\u001b[0m\u001b[0m\n\u001b[0m\u001b[0;32m    118\u001b[0m \u001b[1;33m\u001b[0m\u001b[0m\n\u001b[0;32m    119\u001b[0m \u001b[1;33m\u001b[0m\u001b[0m\n",
      "\u001b[1;32m~\\AppData\\Roaming\\Python\\Python38\\site-packages\\sklearn\\model_selection\\_validation.py\u001b[0m in \u001b[0;36m_fit_and_score\u001b[1;34m(estimator, X, y, scorer, train, test, verbose, parameters, fit_params, return_train_score, return_parameters, return_n_test_samples, return_times, return_estimator, split_progress, candidate_progress, error_score)\u001b[0m\n\u001b[0;32m    684\u001b[0m             \u001b[0mestimator\u001b[0m\u001b[1;33m.\u001b[0m\u001b[0mfit\u001b[0m\u001b[1;33m(\u001b[0m\u001b[0mX_train\u001b[0m\u001b[1;33m,\u001b[0m \u001b[1;33m**\u001b[0m\u001b[0mfit_params\u001b[0m\u001b[1;33m)\u001b[0m\u001b[1;33m\u001b[0m\u001b[1;33m\u001b[0m\u001b[0m\n\u001b[0;32m    685\u001b[0m         \u001b[1;32melse\u001b[0m\u001b[1;33m:\u001b[0m\u001b[1;33m\u001b[0m\u001b[1;33m\u001b[0m\u001b[0m\n\u001b[1;32m--> 686\u001b[1;33m             \u001b[0mestimator\u001b[0m\u001b[1;33m.\u001b[0m\u001b[0mfit\u001b[0m\u001b[1;33m(\u001b[0m\u001b[0mX_train\u001b[0m\u001b[1;33m,\u001b[0m \u001b[0my_train\u001b[0m\u001b[1;33m,\u001b[0m \u001b[1;33m**\u001b[0m\u001b[0mfit_params\u001b[0m\u001b[1;33m)\u001b[0m\u001b[1;33m\u001b[0m\u001b[1;33m\u001b[0m\u001b[0m\n\u001b[0m\u001b[0;32m    687\u001b[0m \u001b[1;33m\u001b[0m\u001b[0m\n\u001b[0;32m    688\u001b[0m     \u001b[1;32mexcept\u001b[0m \u001b[0mException\u001b[0m\u001b[1;33m:\u001b[0m\u001b[1;33m\u001b[0m\u001b[1;33m\u001b[0m\u001b[0m\n",
      "\u001b[1;32m~\\AppData\\Roaming\\Python\\Python38\\site-packages\\sklearn\\linear_model\\_logistic.py\u001b[0m in \u001b[0;36mfit\u001b[1;34m(self, X, y, sample_weight)\u001b[0m\n\u001b[0;32m   1234\u001b[0m             \u001b[0mn_threads\u001b[0m \u001b[1;33m=\u001b[0m \u001b[1;36m1\u001b[0m\u001b[1;33m\u001b[0m\u001b[1;33m\u001b[0m\u001b[0m\n\u001b[0;32m   1235\u001b[0m \u001b[1;33m\u001b[0m\u001b[0m\n\u001b[1;32m-> 1236\u001b[1;33m         fold_coefs_ = Parallel(n_jobs=self.n_jobs, verbose=self.verbose, prefer=prefer)(\n\u001b[0m\u001b[0;32m   1237\u001b[0m             path_func(\n\u001b[0;32m   1238\u001b[0m                 \u001b[0mX\u001b[0m\u001b[1;33m,\u001b[0m\u001b[1;33m\u001b[0m\u001b[1;33m\u001b[0m\u001b[0m\n",
      "\u001b[1;32m~\\anaconda3\\lib\\site-packages\\joblib\\parallel.py\u001b[0m in \u001b[0;36m__call__\u001b[1;34m(self, iterable)\u001b[0m\n\u001b[0;32m   1052\u001b[0m \u001b[1;33m\u001b[0m\u001b[0m\n\u001b[0;32m   1053\u001b[0m             \u001b[1;32mwith\u001b[0m \u001b[0mself\u001b[0m\u001b[1;33m.\u001b[0m\u001b[0m_backend\u001b[0m\u001b[1;33m.\u001b[0m\u001b[0mretrieval_context\u001b[0m\u001b[1;33m(\u001b[0m\u001b[1;33m)\u001b[0m\u001b[1;33m:\u001b[0m\u001b[1;33m\u001b[0m\u001b[1;33m\u001b[0m\u001b[0m\n\u001b[1;32m-> 1054\u001b[1;33m                 \u001b[0mself\u001b[0m\u001b[1;33m.\u001b[0m\u001b[0mretrieve\u001b[0m\u001b[1;33m(\u001b[0m\u001b[1;33m)\u001b[0m\u001b[1;33m\u001b[0m\u001b[1;33m\u001b[0m\u001b[0m\n\u001b[0m\u001b[0;32m   1055\u001b[0m             \u001b[1;31m# Make sure that we get a last message telling us we are done\u001b[0m\u001b[1;33m\u001b[0m\u001b[1;33m\u001b[0m\u001b[1;33m\u001b[0m\u001b[0m\n\u001b[0;32m   1056\u001b[0m             \u001b[0melapsed_time\u001b[0m \u001b[1;33m=\u001b[0m \u001b[0mtime\u001b[0m\u001b[1;33m.\u001b[0m\u001b[0mtime\u001b[0m\u001b[1;33m(\u001b[0m\u001b[1;33m)\u001b[0m \u001b[1;33m-\u001b[0m \u001b[0mself\u001b[0m\u001b[1;33m.\u001b[0m\u001b[0m_start_time\u001b[0m\u001b[1;33m\u001b[0m\u001b[1;33m\u001b[0m\u001b[0m\n",
      "\u001b[1;32m~\\anaconda3\\lib\\site-packages\\joblib\\parallel.py\u001b[0m in \u001b[0;36mretrieve\u001b[1;34m(self)\u001b[0m\n\u001b[0;32m    931\u001b[0m             \u001b[1;32mtry\u001b[0m\u001b[1;33m:\u001b[0m\u001b[1;33m\u001b[0m\u001b[1;33m\u001b[0m\u001b[0m\n\u001b[0;32m    932\u001b[0m                 \u001b[1;32mif\u001b[0m \u001b[0mgetattr\u001b[0m\u001b[1;33m(\u001b[0m\u001b[0mself\u001b[0m\u001b[1;33m.\u001b[0m\u001b[0m_backend\u001b[0m\u001b[1;33m,\u001b[0m \u001b[1;34m'supports_timeout'\u001b[0m\u001b[1;33m,\u001b[0m \u001b[1;32mFalse\u001b[0m\u001b[1;33m)\u001b[0m\u001b[1;33m:\u001b[0m\u001b[1;33m\u001b[0m\u001b[1;33m\u001b[0m\u001b[0m\n\u001b[1;32m--> 933\u001b[1;33m                     \u001b[0mself\u001b[0m\u001b[1;33m.\u001b[0m\u001b[0m_output\u001b[0m\u001b[1;33m.\u001b[0m\u001b[0mextend\u001b[0m\u001b[1;33m(\u001b[0m\u001b[0mjob\u001b[0m\u001b[1;33m.\u001b[0m\u001b[0mget\u001b[0m\u001b[1;33m(\u001b[0m\u001b[0mtimeout\u001b[0m\u001b[1;33m=\u001b[0m\u001b[0mself\u001b[0m\u001b[1;33m.\u001b[0m\u001b[0mtimeout\u001b[0m\u001b[1;33m)\u001b[0m\u001b[1;33m)\u001b[0m\u001b[1;33m\u001b[0m\u001b[1;33m\u001b[0m\u001b[0m\n\u001b[0m\u001b[0;32m    934\u001b[0m                 \u001b[1;32melse\u001b[0m\u001b[1;33m:\u001b[0m\u001b[1;33m\u001b[0m\u001b[1;33m\u001b[0m\u001b[0m\n\u001b[0;32m    935\u001b[0m                     \u001b[0mself\u001b[0m\u001b[1;33m.\u001b[0m\u001b[0m_output\u001b[0m\u001b[1;33m.\u001b[0m\u001b[0mextend\u001b[0m\u001b[1;33m(\u001b[0m\u001b[0mjob\u001b[0m\u001b[1;33m.\u001b[0m\u001b[0mget\u001b[0m\u001b[1;33m(\u001b[0m\u001b[1;33m)\u001b[0m\u001b[1;33m)\u001b[0m\u001b[1;33m\u001b[0m\u001b[1;33m\u001b[0m\u001b[0m\n",
      "\u001b[1;32m~\\anaconda3\\lib\\site-packages\\joblib\\_parallel_backends.py\u001b[0m in \u001b[0;36mwrap_future_result\u001b[1;34m(future, timeout)\u001b[0m\n\u001b[0;32m    540\u001b[0m         AsyncResults.get from multiprocessing.\"\"\"\n\u001b[0;32m    541\u001b[0m         \u001b[1;32mtry\u001b[0m\u001b[1;33m:\u001b[0m\u001b[1;33m\u001b[0m\u001b[1;33m\u001b[0m\u001b[0m\n\u001b[1;32m--> 542\u001b[1;33m             \u001b[1;32mreturn\u001b[0m \u001b[0mfuture\u001b[0m\u001b[1;33m.\u001b[0m\u001b[0mresult\u001b[0m\u001b[1;33m(\u001b[0m\u001b[0mtimeout\u001b[0m\u001b[1;33m=\u001b[0m\u001b[0mtimeout\u001b[0m\u001b[1;33m)\u001b[0m\u001b[1;33m\u001b[0m\u001b[1;33m\u001b[0m\u001b[0m\n\u001b[0m\u001b[0;32m    543\u001b[0m         \u001b[1;32mexcept\u001b[0m \u001b[0mCfTimeoutError\u001b[0m \u001b[1;32mas\u001b[0m \u001b[0me\u001b[0m\u001b[1;33m:\u001b[0m\u001b[1;33m\u001b[0m\u001b[1;33m\u001b[0m\u001b[0m\n\u001b[0;32m    544\u001b[0m             \u001b[1;32mraise\u001b[0m \u001b[0mTimeoutError\u001b[0m \u001b[1;32mfrom\u001b[0m \u001b[0me\u001b[0m\u001b[1;33m\u001b[0m\u001b[1;33m\u001b[0m\u001b[0m\n",
      "\u001b[1;32m~\\anaconda3\\lib\\concurrent\\futures\\_base.py\u001b[0m in \u001b[0;36mresult\u001b[1;34m(self, timeout)\u001b[0m\n\u001b[0;32m    437\u001b[0m                     \u001b[1;32mreturn\u001b[0m \u001b[0mself\u001b[0m\u001b[1;33m.\u001b[0m\u001b[0m__get_result\u001b[0m\u001b[1;33m(\u001b[0m\u001b[1;33m)\u001b[0m\u001b[1;33m\u001b[0m\u001b[1;33m\u001b[0m\u001b[0m\n\u001b[0;32m    438\u001b[0m \u001b[1;33m\u001b[0m\u001b[0m\n\u001b[1;32m--> 439\u001b[1;33m                 \u001b[0mself\u001b[0m\u001b[1;33m.\u001b[0m\u001b[0m_condition\u001b[0m\u001b[1;33m.\u001b[0m\u001b[0mwait\u001b[0m\u001b[1;33m(\u001b[0m\u001b[0mtimeout\u001b[0m\u001b[1;33m)\u001b[0m\u001b[1;33m\u001b[0m\u001b[1;33m\u001b[0m\u001b[0m\n\u001b[0m\u001b[0;32m    440\u001b[0m \u001b[1;33m\u001b[0m\u001b[0m\n\u001b[0;32m    441\u001b[0m                 \u001b[1;32mif\u001b[0m \u001b[0mself\u001b[0m\u001b[1;33m.\u001b[0m\u001b[0m_state\u001b[0m \u001b[1;32min\u001b[0m \u001b[1;33m[\u001b[0m\u001b[0mCANCELLED\u001b[0m\u001b[1;33m,\u001b[0m \u001b[0mCANCELLED_AND_NOTIFIED\u001b[0m\u001b[1;33m]\u001b[0m\u001b[1;33m:\u001b[0m\u001b[1;33m\u001b[0m\u001b[1;33m\u001b[0m\u001b[0m\n",
      "\u001b[1;32m~\\anaconda3\\lib\\threading.py\u001b[0m in \u001b[0;36mwait\u001b[1;34m(self, timeout)\u001b[0m\n\u001b[0;32m    300\u001b[0m         \u001b[1;32mtry\u001b[0m\u001b[1;33m:\u001b[0m    \u001b[1;31m# restore state no matter what (e.g., KeyboardInterrupt)\u001b[0m\u001b[1;33m\u001b[0m\u001b[1;33m\u001b[0m\u001b[0m\n\u001b[0;32m    301\u001b[0m             \u001b[1;32mif\u001b[0m \u001b[0mtimeout\u001b[0m \u001b[1;32mis\u001b[0m \u001b[1;32mNone\u001b[0m\u001b[1;33m:\u001b[0m\u001b[1;33m\u001b[0m\u001b[1;33m\u001b[0m\u001b[0m\n\u001b[1;32m--> 302\u001b[1;33m                 \u001b[0mwaiter\u001b[0m\u001b[1;33m.\u001b[0m\u001b[0macquire\u001b[0m\u001b[1;33m(\u001b[0m\u001b[1;33m)\u001b[0m\u001b[1;33m\u001b[0m\u001b[1;33m\u001b[0m\u001b[0m\n\u001b[0m\u001b[0;32m    303\u001b[0m                 \u001b[0mgotit\u001b[0m \u001b[1;33m=\u001b[0m \u001b[1;32mTrue\u001b[0m\u001b[1;33m\u001b[0m\u001b[1;33m\u001b[0m\u001b[0m\n\u001b[0;32m    304\u001b[0m             \u001b[1;32melse\u001b[0m\u001b[1;33m:\u001b[0m\u001b[1;33m\u001b[0m\u001b[1;33m\u001b[0m\u001b[0m\n",
      "\u001b[1;31mKeyboardInterrupt\u001b[0m: "
     ]
    }
   ],
   "source": [
    "%%time\n",
    "lr = LogisticRegression(max_iter= 200, l1_ratio=0.5,  random_state=12, n_jobs=-1)\n",
    "clf_50 = GridSearchCV(lr, parameters, cv=k_fold, scoring='neg_brier_score')\n",
    "\n",
    "clf_50.fit(X_train, y_train)\n",
    "clf_50.best_estimator_"
   ]
  },
  {
   "cell_type": "code",
   "execution_count": null,
   "id": "92fa7f03",
   "metadata": {},
   "outputs": [],
   "source": [
    "%%time\n",
    "lr = LogisticRegression(max_iter= 300, l1_ratio=1,  random_state=12, n_jobs=-1)\n",
    "clf_1 = GridSearchCV(lr, parameters, cv=k_fold, scoring='neg_brier_score')\n",
    "\n",
    "clf_1.fit(X_train, y_train)\n",
    "clf_1.best_estimator_"
   ]
  },
  {
   "cell_type": "code",
   "execution_count": 29,
   "id": "912b22f6",
   "metadata": {},
   "outputs": [],
   "source": [
    "#clf_l1_diff = [clf_0, clf_50, clf_1]\n",
    "clf_l1_diff = [0, clf_50, 0]\n",
    "plot_names = [\n",
    "    'L1_ration = 0 (L2 regularization)',\n",
    "    'L1_ratio = 0.5',\n",
    "    'L1_ration = 1 (L1 regularization)',\n",
    "]"
   ]
  },
  {
   "cell_type": "code",
   "execution_count": 30,
   "id": "e8412168",
   "metadata": {},
   "outputs": [],
   "source": [
    "def plot_res(\n",
    "    plot_data : pd.DataFrame, \n",
    "    name      : 'str',\n",
    "    ax,\n",
    ") -> None:\n",
    "    plot_res = pd.DataFrame(plot_data.cv_results_)\n",
    "\n",
    "    plt.title(name, fontsize=16, loc='left')\n",
    "\n",
    "    plt.plot(plot_res['param_C'], -plot_res['mean_test_score'])\n",
    "    plt.scatter(plot_data.best_params_['C'], -plot_data.best_score_, color='red', linewidths=5, alpha=1)\n",
    "\n",
    "    plt.xlabel('C regularizaton parameter', fontsize=14)\n",
    "    plt.ylabel('Brier Score', fontsize=14)\n",
    "    plt.grid()"
   ]
  },
  {
   "cell_type": "code",
   "execution_count": 31,
   "id": "ee21f576",
   "metadata": {},
   "outputs": [
    {
     "ename": "AttributeError",
     "evalue": "'GridSearchCV' object has no attribute 'cv_results_'",
     "output_type": "error",
     "traceback": [
      "\u001b[1;31m---------------------------------------------------------------------------\u001b[0m",
      "\u001b[1;31mAttributeError\u001b[0m                            Traceback (most recent call last)",
      "\u001b[1;32m~\\AppData\\Local\\Temp/ipykernel_11460/2300414538.py\u001b[0m in \u001b[0;36m<module>\u001b[1;34m\u001b[0m\n\u001b[0;32m      3\u001b[0m \u001b[1;31m#for i in [0, 1, 2, 3]:\u001b[0m\u001b[1;33m\u001b[0m\u001b[1;33m\u001b[0m\u001b[1;33m\u001b[0m\u001b[0m\n\u001b[0;32m      4\u001b[0m \u001b[1;32mfor\u001b[0m \u001b[0mi\u001b[0m \u001b[1;32min\u001b[0m \u001b[1;33m[\u001b[0m\u001b[1;36m1\u001b[0m\u001b[1;33m]\u001b[0m\u001b[1;33m:\u001b[0m\u001b[1;33m\u001b[0m\u001b[1;33m\u001b[0m\u001b[0m\n\u001b[1;32m----> 5\u001b[1;33m     \u001b[0mplot_res\u001b[0m\u001b[1;33m(\u001b[0m\u001b[0mclf_l1_diff\u001b[0m\u001b[1;33m[\u001b[0m\u001b[0mi\u001b[0m\u001b[1;33m]\u001b[0m\u001b[1;33m,\u001b[0m \u001b[0mplot_names\u001b[0m\u001b[1;33m[\u001b[0m\u001b[0mi\u001b[0m\u001b[1;33m]\u001b[0m\u001b[1;33m,\u001b[0m \u001b[0max\u001b[0m\u001b[1;33m=\u001b[0m \u001b[0mplt\u001b[0m\u001b[1;33m.\u001b[0m\u001b[0msubplot\u001b[0m\u001b[1;33m(\u001b[0m\u001b[1;36m2\u001b[0m\u001b[1;33m,\u001b[0m \u001b[1;36m2\u001b[0m\u001b[1;33m,\u001b[0m \u001b[0mi\u001b[0m\u001b[1;33m+\u001b[0m\u001b[1;36m1\u001b[0m\u001b[1;33m)\u001b[0m\u001b[1;33m)\u001b[0m\u001b[1;33m\u001b[0m\u001b[1;33m\u001b[0m\u001b[0m\n\u001b[0m",
      "\u001b[1;32m~\\AppData\\Local\\Temp/ipykernel_11460/2963259602.py\u001b[0m in \u001b[0;36mplot_res\u001b[1;34m(plot_data, name, ax)\u001b[0m\n\u001b[0;32m      4\u001b[0m     \u001b[0max\u001b[0m\u001b[1;33m,\u001b[0m\u001b[1;33m\u001b[0m\u001b[1;33m\u001b[0m\u001b[0m\n\u001b[0;32m      5\u001b[0m ) -> None:\n\u001b[1;32m----> 6\u001b[1;33m     \u001b[0mplot_res\u001b[0m \u001b[1;33m=\u001b[0m \u001b[0mpd\u001b[0m\u001b[1;33m.\u001b[0m\u001b[0mDataFrame\u001b[0m\u001b[1;33m(\u001b[0m\u001b[0mplot_data\u001b[0m\u001b[1;33m.\u001b[0m\u001b[0mcv_results_\u001b[0m\u001b[1;33m)\u001b[0m\u001b[1;33m\u001b[0m\u001b[1;33m\u001b[0m\u001b[0m\n\u001b[0m\u001b[0;32m      7\u001b[0m \u001b[1;33m\u001b[0m\u001b[0m\n\u001b[0;32m      8\u001b[0m     \u001b[0mplt\u001b[0m\u001b[1;33m.\u001b[0m\u001b[0mtitle\u001b[0m\u001b[1;33m(\u001b[0m\u001b[0mname\u001b[0m\u001b[1;33m,\u001b[0m \u001b[0mfontsize\u001b[0m\u001b[1;33m=\u001b[0m\u001b[1;36m16\u001b[0m\u001b[1;33m,\u001b[0m \u001b[0mloc\u001b[0m\u001b[1;33m=\u001b[0m\u001b[1;34m'left'\u001b[0m\u001b[1;33m)\u001b[0m\u001b[1;33m\u001b[0m\u001b[1;33m\u001b[0m\u001b[0m\n",
      "\u001b[1;31mAttributeError\u001b[0m: 'GridSearchCV' object has no attribute 'cv_results_'"
     ]
    },
    {
     "data": {
      "image/png": "[encoded data removed]",
      "text/plain": [
       "<Figure size 1728x864 with 1 Axes>"
      ]
     },
     "metadata": {
      "needs_background": "light"
     },
     "output_type": "display_data"
    }
   ],
   "source": [
    "fig = plt.figure(figsize=(24, 12))\n",
    "\n",
    "#for i in [0, 1, 2, 3]:\n",
    "for i in [1]:\n",
    "    plot_res(clf_l1_diff[i], plot_names[i], ax= plt.subplot(2, 2, i+1))"
   ]
  },
  {
   "cell_type": "markdown",
   "id": "d41c4b0c",
   "metadata": {},
   "source": [
    "---\n",
    "#### Prediction in Test sample"
   ]
  },
  {
   "cell_type": "code",
   "execution_count": null,
   "id": "5ec27ef1",
   "metadata": {},
   "outputs": [],
   "source": [
    "row_names = [0, 0.33, 0.66, 1]\n",
    "bss = [0, 0, 0, 0]\n",
    "\n",
    "for i in [0, 1, 2, 3]:\n",
    "    y_prob = clf_l1_diff[i].predict_proba(X_test)[:, 1]\n",
    "    bss[i] = brier_score_loss(y_test, y_prob)\n",
    "    \n",
    "pd.DataFrame({'l1_ratio':row_names, 'brier_score':bss})"
   ]
  },
  {
   "cell_type": "markdown",
   "id": "05bc7476",
   "metadata": {},
   "source": [
    "---\n",
    "# Model fitting without features related to questions text"
   ]
  },
  {
   "cell_type": "code",
   "execution_count": null,
   "id": "9ab56f85",
   "metadata": {},
   "outputs": [],
   "source": [
    "final_ans_no_words = pd.merge(expert_inputs, event_outcomes, on=\"ifp_id\")"
   ]
  },
  {
   "cell_type": "code",
   "execution_count": null,
   "id": "85dcc7ca",
   "metadata": {},
   "outputs": [],
   "source": [
    "X = final_ans_no_words.drop(['ifp_id', 'outcome'], axis=1)\n",
    "y = final_ans_no_words['outcome']\n",
    "\n",
    "X_train, X_test, y_train, y_test = train_test_split(X, y, test_size=0.2, random_state=31)"
   ]
  },
  {
   "cell_type": "code",
   "execution_count": null,
   "id": "4ae2c76d",
   "metadata": {},
   "outputs": [],
   "source": [
    "k_fold = KFold(n_splits=4)\n",
    "parameters = {\n",
    "    'C'         : np.geomspace(0.01, 5, 20),\n",
    "    'penalty'   : ['elasticnet'], \n",
    "    'solver'    : ['saga'],    \n",
    "}\n",
    "\n",
    "###############\n",
    "\n",
    "lr = LogisticRegression(max_iter= 350, l1_ratio=0,  random_state=12, n_jobs=-1)\n",
    "clf_0 = GridSearchCV(lr, parameters, cv=k_fold, scoring='neg_brier_score')\n",
    "clf_0.fit(X_train, y_train)\n",
    "\n",
    "###############\n",
    "\n",
    "lr = LogisticRegression(max_iter= 350, l1_ratio=0.33,  random_state=12, n_jobs=-1)\n",
    "clf_33 = GridSearchCV(lr, parameters, cv=k_fold, scoring='neg_brier_score')\n",
    "clf_33.fit(X_train, y_train)\n",
    "\n",
    "###############\n",
    "\n",
    "lr = LogisticRegression(max_iter= 350, l1_ratio=0.66,  random_state=12, n_jobs=-1)\n",
    "clf_66 = GridSearchCV(lr, parameters, cv=k_fold, scoring='neg_brier_score')\n",
    "clf_66.fit(X_train, y_train)\n",
    "\n",
    "###############\n",
    "lr = LogisticRegression(max_iter= 350, l1_ratio=1,  random_state=12, n_jobs=-1)\n",
    "clf_1 = GridSearchCV(lr, parameters, cv=k_fold, scoring='neg_brier_score')\n",
    "clf_1.fit(X_train, y_train)"
   ]
  },
  {
   "cell_type": "code",
   "execution_count": null,
   "id": "bfecd9b3",
   "metadata": {},
   "outputs": [],
   "source": [
    "clf_l1_diff = [clf_0, clf_33, clf_66, clf_1]\n",
    "\n",
    "plot_names = [\n",
    "    'L1_ration = 0 (L2 regularization) no word features',\n",
    "    'L1_ratio = 0.33 no word features',\n",
    "    'L1_ratio = 0.66 no word features',\n",
    "    'L1_ration = 1 (L1 regularization) no word features',\n",
    "]\n",
    "\n",
    "fig = plt.figure(figsize=(24, 12))\n",
    "\n",
    "for i in [0, 1, 2, 3]:\n",
    "    plot_res(clf_l1_diff[i], plot_names[i], ax= plt.subplot(2, 2, i+1))"
   ]
  },
  {
   "cell_type": "markdown",
   "id": "d7ad3f3b",
   "metadata": {},
   "source": [
    "---\n",
    "#### Prediction in Test sample"
   ]
  },
  {
   "cell_type": "code",
   "execution_count": null,
   "id": "d39945eb",
   "metadata": {},
   "outputs": [],
   "source": [
    "row_names = [0, 0.33, 0.66, 1]\n",
    "bss = [0, 0, 0, 0]\n",
    "\n",
    "for i in [0, 1, 2, 3]:\n",
    "    y_prob = clf_l1_diff[i].predict_proba(X_test)[:, 1]\n",
    "    bss[i] = brier_score_loss(y_test, y_prob)\n",
    "    \n",
    "pd.DataFrame({'l1_ratio':row_names, 'brier_score':bss})"
   ]
  },
  {
   "cell_type": "code",
   "execution_count": null,
   "id": "b76c1d12",
   "metadata": {},
   "outputs": [],
   "source": []
  }
 ],
 "metadata": {
  "kernelspec": {
   "display_name": "Python 3 (ipykernel)",
   "language": "python",
   "name": "python3"
  },
  "language_info": {
   "codemirror_mode": {
    "name": "ipython",
    "version": 3
   },
   "file_extension": ".py",
   "mimetype": "text/x-python",
   "name": "python",
   "nbconvert_exporter": "python",
   "pygments_lexer": "ipython3",
   "version": "3.8.11"
  }
 },
 "nbformat": 4,
 "nbformat_minor": 5
}
